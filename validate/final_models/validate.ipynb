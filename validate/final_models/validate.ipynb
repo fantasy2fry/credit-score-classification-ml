{
 "cells": [
  {
   "cell_type": "markdown",
   "id": "b73efa3a",
   "metadata": {},
   "source": [
    "### VOTING CLASSIFIERS\n",
    "Note: Worth mentioning why you decided to chose that set of estimators and you are not testing other combinations of estimators or weights (maybe you tested them in your separate notebooks idk).\n",
    "- hard voting\n",
    "Accuracy 0.74 on our dataset (yours 0.70). Overall i would say better results on our dataset.\n",
    "- soft voting\n",
    "Same as with hard voting.\n",
    "Interesting that you have identical results fo soft (without weigths) and hard voting.\n",
    "- soft voting - weights\n",
    "Best from those 3 on our dataset. \n",
    "\n",
    "### STACKING\n",
    "You could try different combinations of estimators (some that performed well in previous stages of modelling). Again better results on our dataset. Accuracy 0.73, precision 0.69, recall 0.73, f1 0.65. \n",
    "\n",
    "### BAGGING \n",
    "\n"
   ]
  }
 ],
 "metadata": {
  "kernelspec": {
   "display_name": "Python 3",
   "language": "python",
   "name": "python3"
  },
  "language_info": {
   "codemirror_mode": {
    "name": "ipython",
    "version": 2
   },
   "file_extension": ".py",
   "mimetype": "text/x-python",
   "name": "python",
   "nbconvert_exporter": "python",
   "pygments_lexer": "ipython2",
   "version": "2.7.6"
  }
 },
 "nbformat": 4,
 "nbformat_minor": 5
}
