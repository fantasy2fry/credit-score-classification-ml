{
 "cells": [
  {
   "cell_type": "markdown",
   "metadata": {},
   "source": [
    "## Our sugestions\n",
    "\n",
    "- we would consider getting rid of categorical variables in correlation matrix; correlation between categorical variables might not be fully representative and the matrix would be a little bit easier to read because reading it was a struggle  :)\n",
    "\n",
    "- maybe consider using boxplots instead of scatterplots for categorical variables\n",
    "\n",
    "- we would analyze the dependencies between correlated variables more\n",
    "\n",
    "- binary variables could be examined with bar charts\n",
    "\n",
    "- very impressive bonus  :)"
   ]
  }
 ],
 "metadata": {
  "kernelspec": {
   "display_name": "Python 3",
   "language": "python",
   "name": "python3"
  },
  "language_info": {
   "name": "python",
   "version": "3.9.13"
  }
 },
 "nbformat": 4,
 "nbformat_minor": 2
}
