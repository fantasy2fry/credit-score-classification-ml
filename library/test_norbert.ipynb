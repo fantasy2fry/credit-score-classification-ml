{
 "cells": [
  {
   "cell_type": "code",
   "execution_count": 1,
   "outputs": [
    {
     "name": "stdout",
     "output_type": "stream",
     "text": [
      "4\n"
     ]
    }
   ],
   "source": [
    "print(4)"
   ],
   "metadata": {
    "collapsed": false,
    "ExecuteTime": {
     "end_time": "2024-04-18T09:06:22.072781Z",
     "start_time": "2024-04-18T09:06:22.068448Z"
    }
   },
   "id": "1536ffaedd96af09"
  },
  {
   "cell_type": "code",
   "execution_count": 21,
   "outputs": [],
   "source": [
    "#import\n",
    "import numpy as np\n",
    "import pandas as pd\n",
    "from sklearn.preprocessing import StandardScaler\n",
    "#from scipy import stats\n",
    "import seaborn as sns\n",
    "import matplotlib.pyplot as plt\n",
    "from sklearn.preprocessing import PowerTransformer\n",
    "#all metrics\n",
    "from sklearn.metrics import accuracy_score, precision_score, recall_score, f1_score, roc_auc_score, roc_curve, auc\n",
    "#random forest\n",
    "from sklearn.ensemble import RandomForestClassifier\n",
    "# import StratifiedKFold\n",
    "from sklearn.model_selection import StratifiedKFold\n",
    "\n",
    "\n",
    "\n",
    "def map_gambling(df):\n",
    "    df['CAT_GAMBLING'] = df['CAT_GAMBLING'].map({'No': 0, 'Low': 1,'High': 2})\n",
    "    return df\n",
    "\n",
    "def split_X_from_y(df, target='DEFAULT'):\n",
    "    X = df.drop(columns=[target])\n",
    "    y = df[target]\n",
    "    return X, y\n",
    "\n",
    "def get_my_metrics(model, X_train, X_val, y_train, y_val):\n",
    "    model.fit(X_train, y_train)\n",
    "    y_pred = model.predict(X_val)\n",
    "    \n",
    "    accuracy = accuracy_score(y_val, y_pred)\n",
    "    precision = precision_score(y_val, y_pred)\n",
    "    recall = recall_score(y_val, y_pred)\n",
    "    f1= f1_score(y_val, y_pred)\n",
    "    roc_auc = roc_auc_score(y_val, y_pred)\n",
    "    \n",
    "    return accuracy, precision, recall, f1, roc_auc\n",
    "\n",
    "def cox_box_transform(X_train, X_val):\n",
    "    #transform data\n",
    "    #scaler = StandardScaler()\n",
    "    cox_box_model = PowerTransformer(method='yeo-johnson')\n",
    "    X_train_transformed=cox_box_model.fit_transform(X_train)\n",
    "    X_val_transformed = cox_box_model.transform(X_val)\n",
    "    \n",
    "    #X_train_transformed = scaler.fit_transform(X_train_transformed)\n",
    "    #X_val_transformed = scaler.transform(X_val_transformed)\n",
    "    \n",
    "    return X_train_transformed, X_val_transformed\n",
    "\n",
    "\n",
    "def create_tally(X_train, X_val, y_train, y_val, models, names):\n",
    "    \n",
    "     \n",
    "    X_train_transformed, X_val_transformed = cox_box_transform(X_train, X_val)\n",
    "    model.fit(X_train_transformed, y_train)\n",
    "    y_pred = model.predict(X_val_transformed)\n",
    "    \n",
    "    f1= f1_score(y_val, y_pred)\n",
    "    \n",
    "    \n",
    "    \n",
    "    return f1\n"
   ],
   "metadata": {
    "collapsed": false,
    "ExecuteTime": {
     "end_time": "2024-04-18T13:06:46.662287Z",
     "start_time": "2024-04-18T13:06:46.141565Z"
    }
   },
   "id": "1538251c78a18da7"
  },
  {
   "cell_type": "code",
   "execution_count": 22,
   "outputs": [
    {
     "data": {
      "text/plain": "     INCOME  SAVINGS     DEBT  R_SAVINGS_INCOME  R_DEBT_INCOME  \\\n0      2783     1855        0            0.6665         0.0000   \n1    314430   445442   707468            1.4167         2.2500   \n2    161773   517674  2782496            3.2000        17.2000   \n3     16014    97685    20818            6.1000         1.3000   \n4    193225  1410542  2589215            7.3000        13.4000   \n..      ...      ...      ...               ...            ...   \n485   20007    22508   457665            1.1250        22.8752   \n486   20846   268679    23162           12.8888         1.1111   \n487   89235  1106514   160623           12.4000         1.8000   \n488  197073  1021195  1863233            5.1818         9.4545   \n489  133592    85013   680103            0.6364         5.0909   \n\n     R_DEBT_SAVINGS  T_CLOTHING_12  T_CLOTHING_6  R_CLOTHING  \\\n0            0.0000            103            74      0.7184   \n1            1.5882          35861         29157      0.8131   \n2            5.3750           3716          2533      0.6816   \n3            0.2131            637           187      0.2936   \n4            1.8356           5276          2325      0.4407   \n..              ...            ...           ...         ...   \n485         20.3334           1451           861      0.5934   \n486          0.0862           1302           533      0.4094   \n487          0.1452           2413           835      0.3460   \n488          1.8246           8416          3948      0.4691   \n489          8.0000          12476           264      0.0212   \n\n     R_CLOTHING_INCOME  ...  R_EXPENDITURE_INCOME  R_EXPENDITURE_SAVINGS  \\\n0               0.0370  ...                1.6665                 2.5003   \n1               0.1141  ...                0.8333                 0.5882   \n2               0.0230  ...                1.0000                 0.3125   \n3               0.0398  ...                1.0000                 0.1639   \n4               0.0273  ...                1.0000                 0.1370   \n..                 ...  ...                   ...                    ...   \n485             0.0725  ...                1.2500                 1.1111   \n486             0.0625  ...                1.1111                 0.0862   \n487             0.0270  ...                1.0000                 0.0806   \n488             0.0427  ...                0.9091                 0.1754   \n489             0.0934  ...                0.9091                 1.4286   \n\n     R_EXPENDITURE_DEBT  CAT_GAMBLING  CAT_DEBT  CAT_CREDIT_CARD  \\\n0                0.0000             0         0                0   \n1                0.3704             2         1                0   \n2                0.0581             0         1                1   \n3                0.7692             0         1                0   \n4                0.0746             0         1                1   \n..                  ...           ...       ...              ...   \n485              0.0546             0         1                0   \n486              1.0000             1         1                0   \n487              0.5556             0         1                0   \n488              0.0962             2         1                0   \n489              0.1786             2         1                0   \n\n     CAT_MORTGAGE  CAT_SAVINGS_ACCOUNT  CAT_DEPENDENTS  CREDIT_SCORE  \n0               0                    1               0           570  \n1               1                    1               0           691  \n2               1                    1               1           520  \n3               0                    1               0           654  \n4               0                    1               1           552  \n..            ...                  ...             ...           ...  \n485             0                    1               0           423  \n486             0                    1               0           584  \n487             0                    1               0           631  \n488             1                    1               1           572  \n489             0                    1               0           610  \n\n[490 rows x 85 columns]",
      "text/html": "<div>\n<style scoped>\n    .dataframe tbody tr th:only-of-type {\n        vertical-align: middle;\n    }\n\n    .dataframe tbody tr th {\n        vertical-align: top;\n    }\n\n    .dataframe thead th {\n        text-align: right;\n    }\n</style>\n<table border=\"1\" class=\"dataframe\">\n  <thead>\n    <tr style=\"text-align: right;\">\n      <th></th>\n      <th>INCOME</th>\n      <th>SAVINGS</th>\n      <th>DEBT</th>\n      <th>R_SAVINGS_INCOME</th>\n      <th>R_DEBT_INCOME</th>\n      <th>R_DEBT_SAVINGS</th>\n      <th>T_CLOTHING_12</th>\n      <th>T_CLOTHING_6</th>\n      <th>R_CLOTHING</th>\n      <th>R_CLOTHING_INCOME</th>\n      <th>...</th>\n      <th>R_EXPENDITURE_INCOME</th>\n      <th>R_EXPENDITURE_SAVINGS</th>\n      <th>R_EXPENDITURE_DEBT</th>\n      <th>CAT_GAMBLING</th>\n      <th>CAT_DEBT</th>\n      <th>CAT_CREDIT_CARD</th>\n      <th>CAT_MORTGAGE</th>\n      <th>CAT_SAVINGS_ACCOUNT</th>\n      <th>CAT_DEPENDENTS</th>\n      <th>CREDIT_SCORE</th>\n    </tr>\n  </thead>\n  <tbody>\n    <tr>\n      <th>0</th>\n      <td>2783</td>\n      <td>1855</td>\n      <td>0</td>\n      <td>0.6665</td>\n      <td>0.0000</td>\n      <td>0.0000</td>\n      <td>103</td>\n      <td>74</td>\n      <td>0.7184</td>\n      <td>0.0370</td>\n      <td>...</td>\n      <td>1.6665</td>\n      <td>2.5003</td>\n      <td>0.0000</td>\n      <td>0</td>\n      <td>0</td>\n      <td>0</td>\n      <td>0</td>\n      <td>1</td>\n      <td>0</td>\n      <td>570</td>\n    </tr>\n    <tr>\n      <th>1</th>\n      <td>314430</td>\n      <td>445442</td>\n      <td>707468</td>\n      <td>1.4167</td>\n      <td>2.2500</td>\n      <td>1.5882</td>\n      <td>35861</td>\n      <td>29157</td>\n      <td>0.8131</td>\n      <td>0.1141</td>\n      <td>...</td>\n      <td>0.8333</td>\n      <td>0.5882</td>\n      <td>0.3704</td>\n      <td>2</td>\n      <td>1</td>\n      <td>0</td>\n      <td>1</td>\n      <td>1</td>\n      <td>0</td>\n      <td>691</td>\n    </tr>\n    <tr>\n      <th>2</th>\n      <td>161773</td>\n      <td>517674</td>\n      <td>2782496</td>\n      <td>3.2000</td>\n      <td>17.2000</td>\n      <td>5.3750</td>\n      <td>3716</td>\n      <td>2533</td>\n      <td>0.6816</td>\n      <td>0.0230</td>\n      <td>...</td>\n      <td>1.0000</td>\n      <td>0.3125</td>\n      <td>0.0581</td>\n      <td>0</td>\n      <td>1</td>\n      <td>1</td>\n      <td>1</td>\n      <td>1</td>\n      <td>1</td>\n      <td>520</td>\n    </tr>\n    <tr>\n      <th>3</th>\n      <td>16014</td>\n      <td>97685</td>\n      <td>20818</td>\n      <td>6.1000</td>\n      <td>1.3000</td>\n      <td>0.2131</td>\n      <td>637</td>\n      <td>187</td>\n      <td>0.2936</td>\n      <td>0.0398</td>\n      <td>...</td>\n      <td>1.0000</td>\n      <td>0.1639</td>\n      <td>0.7692</td>\n      <td>0</td>\n      <td>1</td>\n      <td>0</td>\n      <td>0</td>\n      <td>1</td>\n      <td>0</td>\n      <td>654</td>\n    </tr>\n    <tr>\n      <th>4</th>\n      <td>193225</td>\n      <td>1410542</td>\n      <td>2589215</td>\n      <td>7.3000</td>\n      <td>13.4000</td>\n      <td>1.8356</td>\n      <td>5276</td>\n      <td>2325</td>\n      <td>0.4407</td>\n      <td>0.0273</td>\n      <td>...</td>\n      <td>1.0000</td>\n      <td>0.1370</td>\n      <td>0.0746</td>\n      <td>0</td>\n      <td>1</td>\n      <td>1</td>\n      <td>0</td>\n      <td>1</td>\n      <td>1</td>\n      <td>552</td>\n    </tr>\n    <tr>\n      <th>...</th>\n      <td>...</td>\n      <td>...</td>\n      <td>...</td>\n      <td>...</td>\n      <td>...</td>\n      <td>...</td>\n      <td>...</td>\n      <td>...</td>\n      <td>...</td>\n      <td>...</td>\n      <td>...</td>\n      <td>...</td>\n      <td>...</td>\n      <td>...</td>\n      <td>...</td>\n      <td>...</td>\n      <td>...</td>\n      <td>...</td>\n      <td>...</td>\n      <td>...</td>\n      <td>...</td>\n    </tr>\n    <tr>\n      <th>485</th>\n      <td>20007</td>\n      <td>22508</td>\n      <td>457665</td>\n      <td>1.1250</td>\n      <td>22.8752</td>\n      <td>20.3334</td>\n      <td>1451</td>\n      <td>861</td>\n      <td>0.5934</td>\n      <td>0.0725</td>\n      <td>...</td>\n      <td>1.2500</td>\n      <td>1.1111</td>\n      <td>0.0546</td>\n      <td>0</td>\n      <td>1</td>\n      <td>0</td>\n      <td>0</td>\n      <td>1</td>\n      <td>0</td>\n      <td>423</td>\n    </tr>\n    <tr>\n      <th>486</th>\n      <td>20846</td>\n      <td>268679</td>\n      <td>23162</td>\n      <td>12.8888</td>\n      <td>1.1111</td>\n      <td>0.0862</td>\n      <td>1302</td>\n      <td>533</td>\n      <td>0.4094</td>\n      <td>0.0625</td>\n      <td>...</td>\n      <td>1.1111</td>\n      <td>0.0862</td>\n      <td>1.0000</td>\n      <td>1</td>\n      <td>1</td>\n      <td>0</td>\n      <td>0</td>\n      <td>1</td>\n      <td>0</td>\n      <td>584</td>\n    </tr>\n    <tr>\n      <th>487</th>\n      <td>89235</td>\n      <td>1106514</td>\n      <td>160623</td>\n      <td>12.4000</td>\n      <td>1.8000</td>\n      <td>0.1452</td>\n      <td>2413</td>\n      <td>835</td>\n      <td>0.3460</td>\n      <td>0.0270</td>\n      <td>...</td>\n      <td>1.0000</td>\n      <td>0.0806</td>\n      <td>0.5556</td>\n      <td>0</td>\n      <td>1</td>\n      <td>0</td>\n      <td>0</td>\n      <td>1</td>\n      <td>0</td>\n      <td>631</td>\n    </tr>\n    <tr>\n      <th>488</th>\n      <td>197073</td>\n      <td>1021195</td>\n      <td>1863233</td>\n      <td>5.1818</td>\n      <td>9.4545</td>\n      <td>1.8246</td>\n      <td>8416</td>\n      <td>3948</td>\n      <td>0.4691</td>\n      <td>0.0427</td>\n      <td>...</td>\n      <td>0.9091</td>\n      <td>0.1754</td>\n      <td>0.0962</td>\n      <td>2</td>\n      <td>1</td>\n      <td>0</td>\n      <td>1</td>\n      <td>1</td>\n      <td>1</td>\n      <td>572</td>\n    </tr>\n    <tr>\n      <th>489</th>\n      <td>133592</td>\n      <td>85013</td>\n      <td>680103</td>\n      <td>0.6364</td>\n      <td>5.0909</td>\n      <td>8.0000</td>\n      <td>12476</td>\n      <td>264</td>\n      <td>0.0212</td>\n      <td>0.0934</td>\n      <td>...</td>\n      <td>0.9091</td>\n      <td>1.4286</td>\n      <td>0.1786</td>\n      <td>2</td>\n      <td>1</td>\n      <td>0</td>\n      <td>0</td>\n      <td>1</td>\n      <td>0</td>\n      <td>610</td>\n    </tr>\n  </tbody>\n</table>\n<p>490 rows × 85 columns</p>\n</div>"
     },
     "execution_count": 22,
     "metadata": {},
     "output_type": "execute_result"
    }
   ],
   "source": [
    "#load data\n",
    "df_train=pd.read_csv('../data/for_modelling/credit_score_train.csv')\n",
    "df_val=pd.read_csv('../data/for_modelling/credit_score_valid.csv')\n",
    "\n",
    "#map gambling\n",
    "df_train = map_gambling(df_train)\n",
    "df_val = map_gambling(df_val)\n",
    "\n",
    "X_train, y_train = split_X_from_y(df_train)\n",
    "X_val, y_val = split_X_from_y(df_val)\n",
    "\n",
    "X_train\n"
   ],
   "metadata": {
    "collapsed": false,
    "ExecuteTime": {
     "end_time": "2024-04-18T13:06:46.706786Z",
     "start_time": "2024-04-18T13:06:46.703308Z"
    }
   },
   "id": "3e855e7de143de6c"
  },
  {
   "cell_type": "code",
   "execution_count": 23,
   "outputs": [
    {
     "data": {
      "text/plain": "array([[-1.6912027 , -1.81677725, -2.15306889, ...,  0.06401844,\n        -0.46137976, -0.40263693],\n       [ 1.42847039,  0.44647737,  0.42144924, ...,  0.06401844,\n        -0.46137976,  1.99206452],\n       [ 0.61999615,  0.57745841,  1.43912406, ...,  0.06401844,\n         2.16741192, -1.1304322 ],\n       ...,\n       [ 0.04224988,  1.34006758, -0.36789948, ...,  0.06401844,\n        -0.46137976,  0.68493058],\n       [ 0.84043169,  1.25088678,  1.10658551, ...,  0.06401844,\n         2.16741192, -0.37057318],\n       [ 0.4205704 , -0.66018   ,  0.39670158, ...,  0.06401844,\n        -0.46137976,  0.28433732]])"
     },
     "execution_count": 23,
     "metadata": {},
     "output_type": "execute_result"
    }
   ],
   "source": [
    "X_train_transformed, X_val_transformed = cox_box_transform(X_train, X_val)\n",
    "\n",
    "X_train_transformed"
   ],
   "metadata": {
    "collapsed": false,
    "ExecuteTime": {
     "end_time": "2024-04-18T13:06:47.456313Z",
     "start_time": "2024-04-18T13:06:47.381994Z"
    }
   },
   "id": "d10b185fb617f52"
  },
  {
   "cell_type": "code",
   "execution_count": 24,
   "outputs": [
    {
     "data": {
      "text/plain": "0.23529411764705882"
     },
     "execution_count": 24,
     "metadata": {},
     "output_type": "execute_result"
    }
   ],
   "source": [
    "model = RandomForestClassifier( random_state=42)\n",
    "\n",
    "f1= create_tally(X_train, X_val, y_train, y_val, model)\n",
    "f1"
   ],
   "metadata": {
    "collapsed": false,
    "ExecuteTime": {
     "end_time": "2024-04-18T13:06:48.455260Z",
     "start_time": "2024-04-18T13:06:48.233533Z"
    }
   },
   "id": "c3a92bfe5a2e8680"
  },
  {
   "cell_type": "code",
   "execution_count": null,
   "outputs": [],
   "source": [],
   "metadata": {
    "collapsed": false
   },
   "id": "8eec5d6c3b30b9ae"
  }
 ],
 "metadata": {
  "kernelspec": {
   "display_name": "Python 3",
   "language": "python",
   "name": "python3"
  },
  "language_info": {
   "codemirror_mode": {
    "name": "ipython",
    "version": 2
   },
   "file_extension": ".py",
   "mimetype": "text/x-python",
   "name": "python",
   "nbconvert_exporter": "python",
   "pygments_lexer": "ipython2",
   "version": "2.7.6"
  }
 },
 "nbformat": 4,
 "nbformat_minor": 5
}
