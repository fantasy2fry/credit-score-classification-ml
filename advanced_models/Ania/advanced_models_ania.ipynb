{
 "cells": [
  {
   "cell_type": "markdown",
   "source": [
    "Przygotowanie danych tak, jak ustalilismy w poprzedniej częsci (usuwamy outliery i niektóre kolumny z high correlation)."
   ],
   "metadata": {
    "collapsed": false
   },
   "id": "477767db511288cf"
  },
  {
   "cell_type": "code",
   "execution_count": 7,
   "id": "initial_id",
   "metadata": {
    "collapsed": true,
    "ExecuteTime": {
     "end_time": "2024-04-22T09:54:42.616511Z",
     "start_time": "2024-04-22T09:54:42.606760Z"
    }
   },
   "outputs": [],
   "source": [
    "import pandas as pd\n",
    "import numpy as np\n",
    "import sklearn\n",
    "import seaborn as sns\n",
    "from sklearn.metrics import classification_report\n",
    "import matplotlib.pyplot as plt\n"
   ]
  },
  {
   "cell_type": "code",
   "outputs": [
    {
     "data": {
      "text/plain": "     INCOME  SAVINGS     DEBT  R_SAVINGS_INCOME  R_DEBT_INCOME  \\\n0      2783     1855        0            0.6665         0.0000   \n1    314430   445442   707468            1.4167         2.2500   \n2    161773   517674  2782496            3.2000        17.2000   \n3     16014    97685    20818            6.1000         1.3000   \n4    193225  1410542  2589215            7.3000        13.4000   \n..      ...      ...      ...               ...            ...   \n133  386976  1250231   654883            3.2308         1.6923   \n134   16772     8386        0            0.5000         0.0000   \n135  137509   206264   206264            1.5000         1.5000   \n136  259146  1922000  1662854            7.4167         6.4167   \n137   56657   442952    51506            7.8181         0.9091   \n\n     R_DEBT_SAVINGS  T_CLOTHING_12  T_CLOTHING_6  R_CLOTHING  \\\n0            0.0000            103            74      0.7184   \n1            1.5882          35861         29157      0.8131   \n2            5.3750           3716          2533      0.6816   \n3            0.2131            637           187      0.2936   \n4            1.8356           5276          2325      0.4407   \n..              ...            ...           ...         ...   \n133          0.5238          36665         30569      0.8337   \n134          0.0000            238           186      0.7815   \n135          1.0000          15661         10865      0.6938   \n136          0.8652          12180          8527      0.7001   \n137          0.1163           1085           289      0.2664   \n\n     R_CLOTHING_INCOME  ...  R_EXPENDITURE_SAVINGS  R_EXPENDITURE_DEBT  \\\n0               0.0370  ...                 2.5003              0.0000   \n1               0.1141  ...                 0.5882              0.3704   \n2               0.0230  ...                 0.3125              0.0581   \n3               0.0398  ...                 0.1639              0.7692   \n4               0.0273  ...                 0.1370              0.0746   \n..                 ...  ...                    ...                 ...   \n133             0.0947  ...                 0.2381              0.4545   \n134             0.0142  ...                 2.5000              0.9786   \n135             0.1139  ...                 0.6667              0.6667   \n136             0.0470  ...                 0.1124              0.1299   \n137             0.0192  ...                 0.1163              1.0000   \n\n     CAT_GAMBLING  CAT_DEBT  CAT_CREDIT_CARD  CAT_MORTGAGE  \\\n0              No         0                0             0   \n1            High         1                0             1   \n2              No         1                1             1   \n3              No         1                0             0   \n4              No         1                1             0   \n..            ...       ...              ...           ...   \n133            No         1                0             0   \n134            No         0                0             0   \n135            No         1                0             0   \n136          High         1                1             0   \n137            No         1                0             0   \n\n     CAT_SAVINGS_ACCOUNT  CAT_DEPENDENTS  CREDIT_SCORE  DEFAULT  \n0                      1               0           570        0  \n1                      1               0           691        0  \n2                      1               1           520        0  \n3                      1               0           654        0  \n4                      1               1           552        0  \n..                   ...             ...           ...      ...  \n133                    1               0           562        0  \n134                    1               0           619        0  \n135                    1               0           639        1  \n136                    1               1           587        1  \n137                    1               0           635        1  \n\n[628 rows x 86 columns]",
      "text/html": "<div>\n<style scoped>\n    .dataframe tbody tr th:only-of-type {\n        vertical-align: middle;\n    }\n\n    .dataframe tbody tr th {\n        vertical-align: top;\n    }\n\n    .dataframe thead th {\n        text-align: right;\n    }\n</style>\n<table border=\"1\" class=\"dataframe\">\n  <thead>\n    <tr style=\"text-align: right;\">\n      <th></th>\n      <th>INCOME</th>\n      <th>SAVINGS</th>\n      <th>DEBT</th>\n      <th>R_SAVINGS_INCOME</th>\n      <th>R_DEBT_INCOME</th>\n      <th>R_DEBT_SAVINGS</th>\n      <th>T_CLOTHING_12</th>\n      <th>T_CLOTHING_6</th>\n      <th>R_CLOTHING</th>\n      <th>R_CLOTHING_INCOME</th>\n      <th>...</th>\n      <th>R_EXPENDITURE_SAVINGS</th>\n      <th>R_EXPENDITURE_DEBT</th>\n      <th>CAT_GAMBLING</th>\n      <th>CAT_DEBT</th>\n      <th>CAT_CREDIT_CARD</th>\n      <th>CAT_MORTGAGE</th>\n      <th>CAT_SAVINGS_ACCOUNT</th>\n      <th>CAT_DEPENDENTS</th>\n      <th>CREDIT_SCORE</th>\n      <th>DEFAULT</th>\n    </tr>\n  </thead>\n  <tbody>\n    <tr>\n      <th>0</th>\n      <td>2783</td>\n      <td>1855</td>\n      <td>0</td>\n      <td>0.6665</td>\n      <td>0.0000</td>\n      <td>0.0000</td>\n      <td>103</td>\n      <td>74</td>\n      <td>0.7184</td>\n      <td>0.0370</td>\n      <td>...</td>\n      <td>2.5003</td>\n      <td>0.0000</td>\n      <td>No</td>\n      <td>0</td>\n      <td>0</td>\n      <td>0</td>\n      <td>1</td>\n      <td>0</td>\n      <td>570</td>\n      <td>0</td>\n    </tr>\n    <tr>\n      <th>1</th>\n      <td>314430</td>\n      <td>445442</td>\n      <td>707468</td>\n      <td>1.4167</td>\n      <td>2.2500</td>\n      <td>1.5882</td>\n      <td>35861</td>\n      <td>29157</td>\n      <td>0.8131</td>\n      <td>0.1141</td>\n      <td>...</td>\n      <td>0.5882</td>\n      <td>0.3704</td>\n      <td>High</td>\n      <td>1</td>\n      <td>0</td>\n      <td>1</td>\n      <td>1</td>\n      <td>0</td>\n      <td>691</td>\n      <td>0</td>\n    </tr>\n    <tr>\n      <th>2</th>\n      <td>161773</td>\n      <td>517674</td>\n      <td>2782496</td>\n      <td>3.2000</td>\n      <td>17.2000</td>\n      <td>5.3750</td>\n      <td>3716</td>\n      <td>2533</td>\n      <td>0.6816</td>\n      <td>0.0230</td>\n      <td>...</td>\n      <td>0.3125</td>\n      <td>0.0581</td>\n      <td>No</td>\n      <td>1</td>\n      <td>1</td>\n      <td>1</td>\n      <td>1</td>\n      <td>1</td>\n      <td>520</td>\n      <td>0</td>\n    </tr>\n    <tr>\n      <th>3</th>\n      <td>16014</td>\n      <td>97685</td>\n      <td>20818</td>\n      <td>6.1000</td>\n      <td>1.3000</td>\n      <td>0.2131</td>\n      <td>637</td>\n      <td>187</td>\n      <td>0.2936</td>\n      <td>0.0398</td>\n      <td>...</td>\n      <td>0.1639</td>\n      <td>0.7692</td>\n      <td>No</td>\n      <td>1</td>\n      <td>0</td>\n      <td>0</td>\n      <td>1</td>\n      <td>0</td>\n      <td>654</td>\n      <td>0</td>\n    </tr>\n    <tr>\n      <th>4</th>\n      <td>193225</td>\n      <td>1410542</td>\n      <td>2589215</td>\n      <td>7.3000</td>\n      <td>13.4000</td>\n      <td>1.8356</td>\n      <td>5276</td>\n      <td>2325</td>\n      <td>0.4407</td>\n      <td>0.0273</td>\n      <td>...</td>\n      <td>0.1370</td>\n      <td>0.0746</td>\n      <td>No</td>\n      <td>1</td>\n      <td>1</td>\n      <td>0</td>\n      <td>1</td>\n      <td>1</td>\n      <td>552</td>\n      <td>0</td>\n    </tr>\n    <tr>\n      <th>...</th>\n      <td>...</td>\n      <td>...</td>\n      <td>...</td>\n      <td>...</td>\n      <td>...</td>\n      <td>...</td>\n      <td>...</td>\n      <td>...</td>\n      <td>...</td>\n      <td>...</td>\n      <td>...</td>\n      <td>...</td>\n      <td>...</td>\n      <td>...</td>\n      <td>...</td>\n      <td>...</td>\n      <td>...</td>\n      <td>...</td>\n      <td>...</td>\n      <td>...</td>\n      <td>...</td>\n    </tr>\n    <tr>\n      <th>133</th>\n      <td>386976</td>\n      <td>1250231</td>\n      <td>654883</td>\n      <td>3.2308</td>\n      <td>1.6923</td>\n      <td>0.5238</td>\n      <td>36665</td>\n      <td>30569</td>\n      <td>0.8337</td>\n      <td>0.0947</td>\n      <td>...</td>\n      <td>0.2381</td>\n      <td>0.4545</td>\n      <td>No</td>\n      <td>1</td>\n      <td>0</td>\n      <td>0</td>\n      <td>1</td>\n      <td>0</td>\n      <td>562</td>\n      <td>0</td>\n    </tr>\n    <tr>\n      <th>134</th>\n      <td>16772</td>\n      <td>8386</td>\n      <td>0</td>\n      <td>0.5000</td>\n      <td>0.0000</td>\n      <td>0.0000</td>\n      <td>238</td>\n      <td>186</td>\n      <td>0.7815</td>\n      <td>0.0142</td>\n      <td>...</td>\n      <td>2.5000</td>\n      <td>0.9786</td>\n      <td>No</td>\n      <td>0</td>\n      <td>0</td>\n      <td>0</td>\n      <td>1</td>\n      <td>0</td>\n      <td>619</td>\n      <td>0</td>\n    </tr>\n    <tr>\n      <th>135</th>\n      <td>137509</td>\n      <td>206264</td>\n      <td>206264</td>\n      <td>1.5000</td>\n      <td>1.5000</td>\n      <td>1.0000</td>\n      <td>15661</td>\n      <td>10865</td>\n      <td>0.6938</td>\n      <td>0.1139</td>\n      <td>...</td>\n      <td>0.6667</td>\n      <td>0.6667</td>\n      <td>No</td>\n      <td>1</td>\n      <td>0</td>\n      <td>0</td>\n      <td>1</td>\n      <td>0</td>\n      <td>639</td>\n      <td>1</td>\n    </tr>\n    <tr>\n      <th>136</th>\n      <td>259146</td>\n      <td>1922000</td>\n      <td>1662854</td>\n      <td>7.4167</td>\n      <td>6.4167</td>\n      <td>0.8652</td>\n      <td>12180</td>\n      <td>8527</td>\n      <td>0.7001</td>\n      <td>0.0470</td>\n      <td>...</td>\n      <td>0.1124</td>\n      <td>0.1299</td>\n      <td>High</td>\n      <td>1</td>\n      <td>1</td>\n      <td>0</td>\n      <td>1</td>\n      <td>1</td>\n      <td>587</td>\n      <td>1</td>\n    </tr>\n    <tr>\n      <th>137</th>\n      <td>56657</td>\n      <td>442952</td>\n      <td>51506</td>\n      <td>7.8181</td>\n      <td>0.9091</td>\n      <td>0.1163</td>\n      <td>1085</td>\n      <td>289</td>\n      <td>0.2664</td>\n      <td>0.0192</td>\n      <td>...</td>\n      <td>0.1163</td>\n      <td>1.0000</td>\n      <td>No</td>\n      <td>1</td>\n      <td>0</td>\n      <td>0</td>\n      <td>1</td>\n      <td>0</td>\n      <td>635</td>\n      <td>1</td>\n    </tr>\n  </tbody>\n</table>\n<p>628 rows × 86 columns</p>\n</div>"
     },
     "execution_count": 8,
     "metadata": {},
     "output_type": "execute_result"
    }
   ],
   "source": [
    "df_train = pd.read_csv('../../data/for_modelling/credit_score_train.csv')\n",
    "df_val = pd.read_csv('../../data/for_modelling/credit_score_valid.csv')\n",
    "df=pd.concat([df_train, df_val])\n",
    "target='DEFAULT'\n",
    "#df=df_train.copy()\n",
    "df"
   ],
   "metadata": {
    "collapsed": false,
    "ExecuteTime": {
     "end_time": "2024-04-22T09:54:45.491115Z",
     "start_time": "2024-04-22T09:54:45.428298Z"
    }
   },
   "id": "bf5b82c529280882",
   "execution_count": 8
  },
  {
   "cell_type": "code",
   "outputs": [
    {
     "data": {
      "text/plain": "['T_CLOTHING_12',\n 'T_ENTERTAINMENT_12',\n 'T_GROCERIES_12',\n 'T_GROCERIES_6',\n 'T_HEALTH_12',\n 'T_TAX_12',\n 'T_TAX_6',\n 'T_TRAVEL_12',\n 'T_TRAVEL_6',\n 'T_UTILITIES_12',\n 'T_UTILITIES_6',\n 'T_EXPENDITURE_12',\n 'T_EXPENDITURE_6']"
     },
     "execution_count": 9,
     "metadata": {},
     "output_type": "execute_result"
    }
   ],
   "source": [
    "# columns to remove from EDA\n",
    "columns_to_remove = [\"T_CLOTHING_12\",\"T_ENTERTAINMENT_12\", \"T_GROCERIES_12\", \"T_GROCERIES_6\", \"T_HEALTH_12\", \"T_TAX_12\", \"T_TAX_6\", \"T_TRAVEL_12\", \"T_TRAVEL_6\",\"T_UTILITIES_12\", \"T_UTILITIES_6\", \"T_EXPENDITURE_12\", \"T_EXPENDITURE_6\"]\n",
    "columns_to_remove"
   ],
   "metadata": {
    "collapsed": false,
    "ExecuteTime": {
     "end_time": "2024-04-22T09:54:46.517729Z",
     "start_time": "2024-04-22T09:54:46.505692Z"
    }
   },
   "id": "afdff4867ab71282",
   "execution_count": 9
  },
  {
   "cell_type": "code",
   "outputs": [
    {
     "data": {
      "text/plain": "0    470\n1     20\nName: outliers, dtype: int64"
     },
     "execution_count": 10,
     "metadata": {},
     "output_type": "execute_result"
    }
   ],
   "source": [
    "\n",
    "# map CAT_GAMBLING (No-0, Low-1, High-2)\n",
    "df_train['CAT_GAMBLING'] = df_train['CAT_GAMBLING'].map({'No':0, 'Low':1, 'High':2})\n",
    "df_val['CAT_GAMBLING'] = df_val['CAT_GAMBLING'].map({'No':0, 'Low':1, 'High':2})\n",
    "# remove columns with high correlation\n",
    "df_train.drop(columns=columns_to_remove, inplace=True)\n",
    "df_val.drop(columns=columns_to_remove, inplace=True)\n",
    "# remove outliers\n",
    "from pyod.models.knn import KNN\n",
    "clf = KNN(contamination=0.04)\n",
    "rest_cols = [col for col in df_train.columns if col not in columns_to_remove]\n",
    "# remove DEFAULT column\n",
    "rest_cols.remove('DEFAULT')\n",
    "clf.fit(df_train[rest_cols])\n",
    "df_train['outliers'] = clf.labels_\n",
    "# sum of outliers\n",
    "df_train['outliers'].value_counts()"
   ],
   "metadata": {
    "collapsed": false,
    "ExecuteTime": {
     "end_time": "2024-04-22T09:54:47.469596Z",
     "start_time": "2024-04-22T09:54:47.384982Z"
    }
   },
   "id": "99d0799f30ebbd7e",
   "execution_count": 10
  },
  {
   "cell_type": "code",
   "outputs": [
    {
     "data": {
      "text/plain": "     INCOME  SAVINGS     DEBT  R_SAVINGS_INCOME  R_DEBT_INCOME  \\\n0      2783     1855        0            0.6665         0.0000   \n1    314430   445442   707468            1.4167         2.2500   \n2    161773   517674  2782496            3.2000        17.2000   \n3     16014    97685    20818            6.1000         1.3000   \n4    193225  1410542  2589215            7.3000        13.4000   \n..      ...      ...      ...               ...            ...   \n465   20007    22508   457665            1.1250        22.8752   \n466   20846   268679    23162           12.8888         1.1111   \n467   89235  1106514   160623           12.4000         1.8000   \n468  197073  1021195  1863233            5.1818         9.4545   \n469  133592    85013   680103            0.6364         5.0909   \n\n     R_DEBT_SAVINGS  T_CLOTHING_6  R_CLOTHING  R_CLOTHING_INCOME  \\\n0            0.0000            74      0.7184             0.0370   \n1            1.5882         29157      0.8131             0.1141   \n2            5.3750          2533      0.6816             0.0230   \n3            0.2131           187      0.2936             0.0398   \n4            1.8356          2325      0.4407             0.0273   \n..              ...           ...         ...                ...   \n465         20.3334           861      0.5934             0.0725   \n466          0.0862           533      0.4094             0.0625   \n467          0.1452           835      0.3460             0.0270   \n468          1.8246          3948      0.4691             0.0427   \n469          8.0000           264      0.0212             0.0934   \n\n     R_CLOTHING_SAVINGS  ...  R_EXPENDITURE_SAVINGS  R_EXPENDITURE_DEBT  \\\n0                0.0555  ...                 2.5003              0.0000   \n1                0.0805  ...                 0.5882              0.3704   \n2                0.0072  ...                 0.3125              0.0581   \n3                0.0065  ...                 0.1639              0.7692   \n4                0.0037  ...                 0.1370              0.0746   \n..                  ...  ...                    ...                 ...   \n465              0.0645  ...                 1.1111              0.0546   \n466              0.0048  ...                 0.0862              1.0000   \n467              0.0022  ...                 0.0806              0.5556   \n468              0.0082  ...                 0.1754              0.0962   \n469              0.1468  ...                 1.4286              0.1786   \n\n     CAT_GAMBLING  CAT_DEBT  CAT_CREDIT_CARD  CAT_MORTGAGE  \\\n0               0         0                0             0   \n1               2         1                0             1   \n2               0         1                1             1   \n3               0         1                0             0   \n4               0         1                1             0   \n..            ...       ...              ...           ...   \n465             0         1                0             0   \n466             1         1                0             0   \n467             0         1                0             0   \n468             2         1                0             1   \n469             2         1                0             0   \n\n     CAT_SAVINGS_ACCOUNT  CAT_DEPENDENTS  CREDIT_SCORE  DEFAULT  \n0                      1               0           570        0  \n1                      1               0           691        0  \n2                      1               1           520        0  \n3                      1               0           654        0  \n4                      1               1           552        0  \n..                   ...             ...           ...      ...  \n465                    1               0           423        0  \n466                    1               0           584        0  \n467                    1               0           631        0  \n468                    1               1           572        0  \n469                    1               0           610        0  \n\n[470 rows x 73 columns]",
      "text/html": "<div>\n<style scoped>\n    .dataframe tbody tr th:only-of-type {\n        vertical-align: middle;\n    }\n\n    .dataframe tbody tr th {\n        vertical-align: top;\n    }\n\n    .dataframe thead th {\n        text-align: right;\n    }\n</style>\n<table border=\"1\" class=\"dataframe\">\n  <thead>\n    <tr style=\"text-align: right;\">\n      <th></th>\n      <th>INCOME</th>\n      <th>SAVINGS</th>\n      <th>DEBT</th>\n      <th>R_SAVINGS_INCOME</th>\n      <th>R_DEBT_INCOME</th>\n      <th>R_DEBT_SAVINGS</th>\n      <th>T_CLOTHING_6</th>\n      <th>R_CLOTHING</th>\n      <th>R_CLOTHING_INCOME</th>\n      <th>R_CLOTHING_SAVINGS</th>\n      <th>...</th>\n      <th>R_EXPENDITURE_SAVINGS</th>\n      <th>R_EXPENDITURE_DEBT</th>\n      <th>CAT_GAMBLING</th>\n      <th>CAT_DEBT</th>\n      <th>CAT_CREDIT_CARD</th>\n      <th>CAT_MORTGAGE</th>\n      <th>CAT_SAVINGS_ACCOUNT</th>\n      <th>CAT_DEPENDENTS</th>\n      <th>CREDIT_SCORE</th>\n      <th>DEFAULT</th>\n    </tr>\n  </thead>\n  <tbody>\n    <tr>\n      <th>0</th>\n      <td>2783</td>\n      <td>1855</td>\n      <td>0</td>\n      <td>0.6665</td>\n      <td>0.0000</td>\n      <td>0.0000</td>\n      <td>74</td>\n      <td>0.7184</td>\n      <td>0.0370</td>\n      <td>0.0555</td>\n      <td>...</td>\n      <td>2.5003</td>\n      <td>0.0000</td>\n      <td>0</td>\n      <td>0</td>\n      <td>0</td>\n      <td>0</td>\n      <td>1</td>\n      <td>0</td>\n      <td>570</td>\n      <td>0</td>\n    </tr>\n    <tr>\n      <th>1</th>\n      <td>314430</td>\n      <td>445442</td>\n      <td>707468</td>\n      <td>1.4167</td>\n      <td>2.2500</td>\n      <td>1.5882</td>\n      <td>29157</td>\n      <td>0.8131</td>\n      <td>0.1141</td>\n      <td>0.0805</td>\n      <td>...</td>\n      <td>0.5882</td>\n      <td>0.3704</td>\n      <td>2</td>\n      <td>1</td>\n      <td>0</td>\n      <td>1</td>\n      <td>1</td>\n      <td>0</td>\n      <td>691</td>\n      <td>0</td>\n    </tr>\n    <tr>\n      <th>2</th>\n      <td>161773</td>\n      <td>517674</td>\n      <td>2782496</td>\n      <td>3.2000</td>\n      <td>17.2000</td>\n      <td>5.3750</td>\n      <td>2533</td>\n      <td>0.6816</td>\n      <td>0.0230</td>\n      <td>0.0072</td>\n      <td>...</td>\n      <td>0.3125</td>\n      <td>0.0581</td>\n      <td>0</td>\n      <td>1</td>\n      <td>1</td>\n      <td>1</td>\n      <td>1</td>\n      <td>1</td>\n      <td>520</td>\n      <td>0</td>\n    </tr>\n    <tr>\n      <th>3</th>\n      <td>16014</td>\n      <td>97685</td>\n      <td>20818</td>\n      <td>6.1000</td>\n      <td>1.3000</td>\n      <td>0.2131</td>\n      <td>187</td>\n      <td>0.2936</td>\n      <td>0.0398</td>\n      <td>0.0065</td>\n      <td>...</td>\n      <td>0.1639</td>\n      <td>0.7692</td>\n      <td>0</td>\n      <td>1</td>\n      <td>0</td>\n      <td>0</td>\n      <td>1</td>\n      <td>0</td>\n      <td>654</td>\n      <td>0</td>\n    </tr>\n    <tr>\n      <th>4</th>\n      <td>193225</td>\n      <td>1410542</td>\n      <td>2589215</td>\n      <td>7.3000</td>\n      <td>13.4000</td>\n      <td>1.8356</td>\n      <td>2325</td>\n      <td>0.4407</td>\n      <td>0.0273</td>\n      <td>0.0037</td>\n      <td>...</td>\n      <td>0.1370</td>\n      <td>0.0746</td>\n      <td>0</td>\n      <td>1</td>\n      <td>1</td>\n      <td>0</td>\n      <td>1</td>\n      <td>1</td>\n      <td>552</td>\n      <td>0</td>\n    </tr>\n    <tr>\n      <th>...</th>\n      <td>...</td>\n      <td>...</td>\n      <td>...</td>\n      <td>...</td>\n      <td>...</td>\n      <td>...</td>\n      <td>...</td>\n      <td>...</td>\n      <td>...</td>\n      <td>...</td>\n      <td>...</td>\n      <td>...</td>\n      <td>...</td>\n      <td>...</td>\n      <td>...</td>\n      <td>...</td>\n      <td>...</td>\n      <td>...</td>\n      <td>...</td>\n      <td>...</td>\n      <td>...</td>\n    </tr>\n    <tr>\n      <th>465</th>\n      <td>20007</td>\n      <td>22508</td>\n      <td>457665</td>\n      <td>1.1250</td>\n      <td>22.8752</td>\n      <td>20.3334</td>\n      <td>861</td>\n      <td>0.5934</td>\n      <td>0.0725</td>\n      <td>0.0645</td>\n      <td>...</td>\n      <td>1.1111</td>\n      <td>0.0546</td>\n      <td>0</td>\n      <td>1</td>\n      <td>0</td>\n      <td>0</td>\n      <td>1</td>\n      <td>0</td>\n      <td>423</td>\n      <td>0</td>\n    </tr>\n    <tr>\n      <th>466</th>\n      <td>20846</td>\n      <td>268679</td>\n      <td>23162</td>\n      <td>12.8888</td>\n      <td>1.1111</td>\n      <td>0.0862</td>\n      <td>533</td>\n      <td>0.4094</td>\n      <td>0.0625</td>\n      <td>0.0048</td>\n      <td>...</td>\n      <td>0.0862</td>\n      <td>1.0000</td>\n      <td>1</td>\n      <td>1</td>\n      <td>0</td>\n      <td>0</td>\n      <td>1</td>\n      <td>0</td>\n      <td>584</td>\n      <td>0</td>\n    </tr>\n    <tr>\n      <th>467</th>\n      <td>89235</td>\n      <td>1106514</td>\n      <td>160623</td>\n      <td>12.4000</td>\n      <td>1.8000</td>\n      <td>0.1452</td>\n      <td>835</td>\n      <td>0.3460</td>\n      <td>0.0270</td>\n      <td>0.0022</td>\n      <td>...</td>\n      <td>0.0806</td>\n      <td>0.5556</td>\n      <td>0</td>\n      <td>1</td>\n      <td>0</td>\n      <td>0</td>\n      <td>1</td>\n      <td>0</td>\n      <td>631</td>\n      <td>0</td>\n    </tr>\n    <tr>\n      <th>468</th>\n      <td>197073</td>\n      <td>1021195</td>\n      <td>1863233</td>\n      <td>5.1818</td>\n      <td>9.4545</td>\n      <td>1.8246</td>\n      <td>3948</td>\n      <td>0.4691</td>\n      <td>0.0427</td>\n      <td>0.0082</td>\n      <td>...</td>\n      <td>0.1754</td>\n      <td>0.0962</td>\n      <td>2</td>\n      <td>1</td>\n      <td>0</td>\n      <td>1</td>\n      <td>1</td>\n      <td>1</td>\n      <td>572</td>\n      <td>0</td>\n    </tr>\n    <tr>\n      <th>469</th>\n      <td>133592</td>\n      <td>85013</td>\n      <td>680103</td>\n      <td>0.6364</td>\n      <td>5.0909</td>\n      <td>8.0000</td>\n      <td>264</td>\n      <td>0.0212</td>\n      <td>0.0934</td>\n      <td>0.1468</td>\n      <td>...</td>\n      <td>1.4286</td>\n      <td>0.1786</td>\n      <td>2</td>\n      <td>1</td>\n      <td>0</td>\n      <td>0</td>\n      <td>1</td>\n      <td>0</td>\n      <td>610</td>\n      <td>0</td>\n    </tr>\n  </tbody>\n</table>\n<p>470 rows × 73 columns</p>\n</div>"
     },
     "execution_count": 11,
     "metadata": {},
     "output_type": "execute_result"
    }
   ],
   "source": [
    "df_train = df_train[df_train['outliers'] == 0]\n",
    "df_train.drop(columns='outliers', inplace=True)\n",
    "df_train.reset_index(drop=True, inplace=True)\n",
    "df_train"
   ],
   "metadata": {
    "collapsed": false,
    "ExecuteTime": {
     "end_time": "2024-04-22T09:54:48.088526Z",
     "start_time": "2024-04-22T09:54:48.056665Z"
    }
   },
   "id": "646949c961f47ad4",
   "execution_count": 11
  },
  {
   "cell_type": "markdown",
   "source": [
    "Dalej przygotowaujemy dane: transformacja Boxa Coxa i standaryzacja."
   ],
   "metadata": {
    "collapsed": false
   },
   "id": "98f2c7b1dd068b55"
  },
  {
   "cell_type": "code",
   "outputs": [],
   "source": [
    "from sklearn.preprocessing import StandardScaler\n",
    "scaler = StandardScaler()\n",
    "from sklearn.preprocessing import PowerTransformer\n",
    "from sklearn.metrics import accuracy_score, precision_score, recall_score, f1_score\n",
    "from scipy.stats import boxcox\n",
    "\n",
    "X=df_train.drop(target, axis=1)\n",
    "y=df_train[target]\n",
    "X=X[rest_cols]\n",
    "X_val=df_val.drop(target, axis=1)\n",
    "y_val=df_val[target]\n",
    "X_val=X_val[rest_cols]\n",
    "\n",
    "# Box Cox and standart scalling\n",
    "cox_box_model = PowerTransformer(method='yeo-johnson')\n",
    "X = cox_box_model.fit_transform(X)\n",
    "X_val = cox_box_model.transform(X_val)\n",
    "X = scaler.fit_transform(X)\n",
    "X_val = scaler.transform(X_val)\n"
   ],
   "metadata": {
    "collapsed": false,
    "ExecuteTime": {
     "end_time": "2024-04-22T09:54:49.995512Z",
     "start_time": "2024-04-22T09:54:49.540780Z"
    }
   },
   "id": "1cf5946b86cc3e90",
   "execution_count": 12
  },
  {
   "cell_type": "markdown",
   "source": [
    "Dane gotowe. Teraz sprawdzamy kilka modeli."
   ],
   "metadata": {
    "collapsed": false
   },
   "id": "da1d35b06ffb9012"
  },
  {
   "cell_type": "markdown",
   "source": [
    "# Komitety"
   ],
   "metadata": {
    "collapsed": false
   },
   "id": "e0b13994aa05376a"
  },
  {
   "cell_type": "code",
   "outputs": [],
   "source": [
    "from sklearn.tree import DecisionTreeClassifier\n",
    "from sklearn.neighbors import KNeighborsClassifier\n",
    "from sklearn.linear_model import LogisticRegression\n",
    "from sklearn.model_selection import train_test_split\n",
    "from sklearn.metrics import accuracy_score, precision_score, recall_score, f1_score\n",
    "from sklearn.svm import SVC\n",
    "from sklearn.ensemble import RandomForestClassifier, AdaBoostClassifier\n",
    "from sklearn.ensemble import GradientBoostingClassifier\n",
    "from sklearn.naive_bayes import GaussianNB\n",
    "from sklearn.neural_network import MLPClassifier\n",
    "from sklearn.discriminant_analysis import QuadraticDiscriminantAnalysis\n",
    "from sklearn.linear_model import SGDClassifier\n",
    "\n",
    "model1 = DecisionTreeClassifier(random_state=1)\n",
    "model2 = KNeighborsClassifier()\n",
    "model3 = LogisticRegression(random_state=1, max_iter=1000)\n",
    "model5 = RandomForestClassifier(random_state=1)\n",
    "model6 = GradientBoostingClassifier(random_state=1)\n",
    "model8 = GaussianNB()\n",
    "model9 = QuadraticDiscriminantAnalysis()\n",
    "model10 = SGDClassifier(random_state=42)\n",
    "\n",
    "\n",
    "estimators=[('DecisionTree', model1), ('KNN', model2), ('LR', model3),  ('RandomForest', model5),\n",
    "            ('GradientBoosting', model6),\n",
    "            ('NaiveBayes', model8), ('QDA', model9), ('SGD', model10)]"
   ],
   "metadata": {
    "collapsed": false,
    "ExecuteTime": {
     "end_time": "2024-04-22T09:54:51.397797Z",
     "start_time": "2024-04-22T09:54:51.203971Z"
    }
   },
   "id": "446e5cfa53f9ec07",
   "execution_count": 13
  },
  {
   "cell_type": "markdown",
   "source": [],
   "metadata": {
    "collapsed": false
   },
   "id": "d11f8528087ca6fb"
  },
  {
   "cell_type": "markdown",
   "source": [
    "## hard voting"
   ],
   "metadata": {
    "collapsed": false
   },
   "id": "d9ada2bcf7fd362c"
  },
  {
   "cell_type": "code",
   "outputs": [
    {
     "name": "stdout",
     "output_type": "stream",
     "text": [
      "f1 score:  0.3389830508474576\n",
      "model.score:  0.717391304347826\n",
      "              precision    recall  f1-score   support\n",
      "\n",
      "           0       0.75      0.90      0.82        99\n",
      "           1       0.50      0.26      0.34        39\n",
      "\n",
      "    accuracy                           0.72       138\n",
      "   macro avg       0.63      0.58      0.58       138\n",
      "weighted avg       0.68      0.72      0.68       138\n"
     ]
    },
    {
     "name": "stderr",
     "output_type": "stream",
     "text": [
      "C:\\Users\\Dell\\anaconda3\\Lib\\site-packages\\sklearn\\discriminant_analysis.py:935: UserWarning: Variables are collinear\n",
      "  warnings.warn(\"Variables are collinear\")\n"
     ]
    }
   ],
   "source": [
    "from sklearn.ensemble import VotingClassifier\n",
    "model_hard = VotingClassifier(estimators=estimators, voting='hard')\n",
    "model_hard.fit(X,y)\n",
    "\n",
    "y_hat = model_hard.predict(X_val)\n",
    "print('f1 score: ', f1_score(y_val, y_hat))\n",
    "\n",
    "print('model.score: ', model_hard.score(X_val,y_val))\n",
    "report = classification_report(y_val, y_hat)\n",
    "print(report)"
   ],
   "metadata": {
    "collapsed": false,
    "ExecuteTime": {
     "end_time": "2024-04-22T09:54:55.315054Z",
     "start_time": "2024-04-22T09:54:53.680298Z"
    }
   },
   "id": "bb895f9fa952817f",
   "execution_count": 14
  },
  {
   "cell_type": "markdown",
   "source": [
    "## soft voting"
   ],
   "metadata": {
    "collapsed": false
   },
   "id": "dcabb4eaf9cc6e89"
  },
  {
   "cell_type": "code",
   "outputs": [
    {
     "name": "stdout",
     "output_type": "stream",
     "text": [
      "              precision    recall  f1-score   support\n",
      "\n",
      "           0       0.76      0.70      0.73        99\n",
      "           1       0.36      0.44      0.40        39\n",
      "\n",
      "    accuracy                           0.62       138\n",
      "   macro avg       0.56      0.57      0.56       138\n",
      "weighted avg       0.65      0.62      0.63       138\n"
     ]
    },
    {
     "name": "stderr",
     "output_type": "stream",
     "text": [
      "C:\\Users\\Dell\\anaconda3\\Lib\\site-packages\\sklearn\\discriminant_analysis.py:935: UserWarning: Variables are collinear\n",
      "  warnings.warn(\"Variables are collinear\")\n"
     ]
    }
   ],
   "source": [
    "model_soft = VotingClassifier(estimators=estimators[0:7], voting='soft')\n",
    "model_soft.fit(X, y)\n",
    "\n",
    "y_hat = model_soft.predict(X_val)\n",
    "f1_score(y_val, y_hat)\n",
    "report = classification_report(y_val, y_hat)\n",
    "print(report)"
   ],
   "metadata": {
    "collapsed": false,
    "ExecuteTime": {
     "end_time": "2024-04-22T09:57:37.664345Z",
     "start_time": "2024-04-22T09:57:35.000771Z"
    }
   },
   "id": "c2f1bab4d2b4ad5a",
   "execution_count": 20
  },
  {
   "cell_type": "markdown",
   "source": [
    "## soft voting z wagami (najwieksze wagi dla estymatorow, które wyszlo nam ze sa dobre w KM2)"
   ],
   "metadata": {
    "collapsed": false
   },
   "id": "648d5dc4b4a3dc72"
  },
  {
   "cell_type": "code",
   "outputs": [
    {
     "name": "stdout",
     "output_type": "stream",
     "text": [
      "              precision    recall  f1-score   support\n",
      "\n",
      "           0       0.73      0.43      0.54        99\n",
      "           1       0.29      0.59      0.39        39\n",
      "\n",
      "    accuracy                           0.48       138\n",
      "   macro avg       0.51      0.51      0.47       138\n",
      "weighted avg       0.61      0.48      0.50       138\n"
     ]
    },
    {
     "name": "stderr",
     "output_type": "stream",
     "text": [
      "C:\\Users\\Dell\\anaconda3\\Lib\\site-packages\\sklearn\\discriminant_analysis.py:935: UserWarning: Variables are collinear\n",
      "  warnings.warn(\"Variables are collinear\")\n"
     ]
    }
   ],
   "source": [
    "from sklearn.metrics import classification_report\n",
    "model_soft = VotingClassifier(estimators=estimators[0:7], voting='soft', weights=[1,1,2,1,1,4,3])\n",
    "model_soft.fit(X, y)\n",
    "\n",
    "y_hat = model_soft.predict(X_val)\n",
    "report = classification_report(y_val, y_hat)\n",
    "print(report)"
   ],
   "metadata": {
    "collapsed": false,
    "ExecuteTime": {
     "end_time": "2024-04-22T10:06:36.537701Z",
     "start_time": "2024-04-22T10:06:34.167589Z"
    }
   },
   "id": "55e18724c8c6a96f",
   "execution_count": 25
  },
  {
   "cell_type": "markdown",
   "source": [
    "sprobujmy jeszcze troche inne wagi"
   ],
   "metadata": {
    "collapsed": false
   },
   "id": "bd9ed3c282396d69"
  },
  {
   "cell_type": "code",
   "outputs": [
    {
     "name": "stdout",
     "output_type": "stream",
     "text": [
      "              precision    recall  f1-score   support\n",
      "\n",
      "           0       0.72      0.44      0.55        99\n",
      "           1       0.29      0.56      0.38        39\n",
      "\n",
      "    accuracy                           0.48       138\n",
      "   macro avg       0.50      0.50      0.46       138\n",
      "weighted avg       0.60      0.48      0.50       138\n"
     ]
    },
    {
     "name": "stderr",
     "output_type": "stream",
     "text": [
      "C:\\Users\\Dell\\anaconda3\\Lib\\site-packages\\sklearn\\discriminant_analysis.py:935: UserWarning: Variables are collinear\n",
      "  warnings.warn(\"Variables are collinear\")\n"
     ]
    }
   ],
   "source": [
    "from sklearn.metrics import classification_report\n",
    "model_soft = VotingClassifier(estimators=estimators[0:7], voting='soft', weights=[1,1,3,1,1,3,3])\n",
    "model_soft.fit(X, y)\n",
    "\n",
    "y_hat = model_soft.predict(X_val)\n",
    "report = classification_report(y_val, y_hat)\n",
    "print(report)"
   ],
   "metadata": {
    "collapsed": false,
    "ExecuteTime": {
     "end_time": "2024-04-22T10:08:03.656176Z",
     "start_time": "2024-04-22T10:08:01.209943Z"
    }
   },
   "id": "d5270be0ae5b1054",
   "execution_count": 26
  },
  {
   "cell_type": "code",
   "outputs": [
    {
     "name": "stdout",
     "output_type": "stream",
     "text": [
      "              precision    recall  f1-score   support\n",
      "\n",
      "           0       0.80      0.39      0.53        99\n",
      "           1       0.33      0.74      0.45        39\n",
      "\n",
      "    accuracy                           0.49       138\n",
      "   macro avg       0.56      0.57      0.49       138\n",
      "weighted avg       0.66      0.49      0.51       138\n"
     ]
    },
    {
     "name": "stderr",
     "output_type": "stream",
     "text": [
      "C:\\Users\\Dell\\anaconda3\\Lib\\site-packages\\sklearn\\discriminant_analysis.py:935: UserWarning: Variables are collinear\n",
      "  warnings.warn(\"Variables are collinear\")\n"
     ]
    }
   ],
   "source": [
    "from sklearn.metrics import classification_report\n",
    "model_soft = VotingClassifier(estimators=estimators[0:7], voting='soft', weights=[1,1,3,1,1,10,6])\n",
    "model_soft.fit(X, y)\n",
    "\n",
    "y_hat = model_soft.predict(X_val)\n",
    "report = classification_report(y_val, y_hat)\n",
    "print(report)"
   ],
   "metadata": {
    "collapsed": false,
    "ExecuteTime": {
     "end_time": "2024-04-22T10:08:30.478991Z",
     "start_time": "2024-04-22T10:08:28.095161Z"
    }
   },
   "id": "da9f8dd670425a41",
   "execution_count": 27
  },
  {
   "cell_type": "code",
   "outputs": [
    {
     "name": "stdout",
     "output_type": "stream",
     "text": [
      "              precision    recall  f1-score   support\n",
      "\n",
      "           0       0.82      0.33      0.47        99\n",
      "           1       0.33      0.82      0.47        39\n",
      "\n",
      "    accuracy                           0.47       138\n",
      "   macro avg       0.58      0.58      0.47       138\n",
      "weighted avg       0.68      0.47      0.47       138\n"
     ]
    },
    {
     "name": "stderr",
     "output_type": "stream",
     "text": [
      "C:\\Users\\Dell\\anaconda3\\Lib\\site-packages\\sklearn\\discriminant_analysis.py:935: UserWarning: Variables are collinear\n",
      "  warnings.warn(\"Variables are collinear\")\n"
     ]
    }
   ],
   "source": [
    "from sklearn.metrics import classification_report\n",
    "model_soft = VotingClassifier(estimators=estimators[0:7], voting='soft', weights=[1,1,3,1,1,15,9])\n",
    "model_soft.fit(X, y)\n",
    "\n",
    "y_hat = model_soft.predict(X_val)\n",
    "report = classification_report(y_val, y_hat)\n",
    "print(report)"
   ],
   "metadata": {
    "collapsed": false,
    "ExecuteTime": {
     "end_time": "2024-04-22T10:08:58.121889Z",
     "start_time": "2024-04-22T10:08:55.694688Z"
    }
   },
   "id": "f5530c7ccc0c0410",
   "execution_count": 28
  },
  {
   "cell_type": "code",
   "outputs": [
    {
     "name": "stdout",
     "output_type": "stream",
     "text": [
      "              precision    recall  f1-score   support\n",
      "\n",
      "           0       0.84      0.31      0.46        99\n",
      "           1       0.33      0.85      0.47        39\n",
      "\n",
      "    accuracy                           0.46       138\n",
      "   macro avg       0.58      0.58      0.46       138\n",
      "weighted avg       0.69      0.46      0.46       138\n"
     ]
    },
    {
     "name": "stderr",
     "output_type": "stream",
     "text": [
      "C:\\Users\\Dell\\anaconda3\\Lib\\site-packages\\sklearn\\discriminant_analysis.py:935: UserWarning: Variables are collinear\n",
      "  warnings.warn(\"Variables are collinear\")\n"
     ]
    }
   ],
   "source": [
    "from sklearn.metrics import classification_report\n",
    "model_soft = VotingClassifier(estimators=estimators[0:7], voting='soft', weights=[1,1,5,1,1,25,15])\n",
    "model_soft.fit(X, y)\n",
    "\n",
    "y_hat = model_soft.predict(X_val)\n",
    "report = classification_report(y_val, y_hat)\n",
    "print(report)"
   ],
   "metadata": {
    "collapsed": false,
    "ExecuteTime": {
     "end_time": "2024-04-22T10:10:40.883102Z",
     "start_time": "2024-04-22T10:10:38.580724Z"
    }
   },
   "id": "895d7df99d963b56",
   "execution_count": 31
  },
  {
   "cell_type": "markdown",
   "source": [
    "## stacking"
   ],
   "metadata": {
    "collapsed": false
   },
   "id": "c63781088b857779"
  },
  {
   "cell_type": "code",
   "outputs": [
    {
     "name": "stdout",
     "output_type": "stream",
     "text": [
      "              precision    recall  f1-score   support\n",
      "\n",
      "           0       0.75      0.95      0.84        99\n",
      "           1       0.58      0.18      0.27        39\n",
      "\n",
      "    accuracy                           0.73       138\n",
      "   macro avg       0.66      0.56      0.56       138\n",
      "weighted avg       0.70      0.73      0.68       138\n"
     ]
    }
   ],
   "source": [
    "from sklearn.ensemble import StackingClassifier\n",
    "clf = StackingClassifier(estimators=estimators[0:6], final_estimator=LogisticRegression())\n",
    "clf.fit(X, y).score(X_val, y_val)\n",
    "y_hat = clf.predict(X_val)\n",
    "report = classification_report(y_val, y_hat)\n",
    "print(report)\n"
   ],
   "metadata": {
    "collapsed": false,
    "ExecuteTime": {
     "end_time": "2024-04-22T10:11:51.798477Z",
     "start_time": "2024-04-22T10:11:44.193521Z"
    }
   },
   "id": "334c443ae91c5bdf",
   "execution_count": 34
  },
  {
   "cell_type": "markdown",
   "source": [
    "## bagging"
   ],
   "metadata": {
    "collapsed": false
   },
   "id": "f16eca51e52182ba"
  },
  {
   "cell_type": "code",
   "outputs": [
    {
     "name": "stdout",
     "output_type": "stream",
     "text": [
      "              precision    recall  f1-score   support\n",
      "\n",
      "           0       0.80      0.33      0.47        99\n",
      "           1       0.32      0.79      0.46        39\n",
      "\n",
      "    accuracy                           0.46       138\n",
      "   macro avg       0.56      0.56      0.46       138\n",
      "weighted avg       0.67      0.46      0.47       138\n"
     ]
    }
   ],
   "source": [
    "from sklearn.ensemble import BaggingClassifier\n",
    "clf = BaggingClassifier(estimator=model8\n",
    "                        ,n_estimators=10, random_state=0)\n",
    "clf.fit(X, y)\n",
    "y_hat = clf.predict(X_val)\n",
    "report = classification_report(y_val, y_hat)\n",
    "print(report)"
   ],
   "metadata": {
    "collapsed": false,
    "ExecuteTime": {
     "end_time": "2024-04-22T10:12:37.415114Z",
     "start_time": "2024-04-22T10:12:37.363335Z"
    }
   },
   "id": "ca86f7c13cc60756",
   "execution_count": 39
  },
  {
   "cell_type": "markdown",
   "source": [
    "sprawdzilam wszystkie modele, model8 najlepszy"
   ],
   "metadata": {
    "collapsed": false
   },
   "id": "765da14a455be081"
  },
  {
   "cell_type": "markdown",
   "source": [
    "## random forest classifier"
   ],
   "metadata": {
    "collapsed": false
   },
   "id": "69c68616792c7963"
  },
  {
   "cell_type": "code",
   "outputs": [
    {
     "name": "stdout",
     "output_type": "stream",
     "text": [
      "              precision    recall  f1-score   support\n",
      "\n",
      "           0       0.72      0.99      0.83        99\n",
      "           1       0.50      0.03      0.05        39\n",
      "\n",
      "    accuracy                           0.72       138\n",
      "   macro avg       0.61      0.51      0.44       138\n",
      "weighted avg       0.66      0.72      0.61       138\n"
     ]
    }
   ],
   "source": [
    "from sklearn.ensemble import RandomForestClassifier\n",
    "\n",
    "model_rf = RandomForestClassifier(n_estimators=1000, # Ilość słabych estymatorów\n",
    "                                  max_depth=3, # Maksymalna wysokość drzewa w słabym estymatorze\n",
    "                                  min_samples_split = 2, # Minimalna ilość obserwacji wymagana do podziału węzła\n",
    "                                  max_features = 3, # Maksymalna ilość zmiennych brana pod uwagę przy podziale węzła\n",
    "                                  random_state=0,\n",
    "                                  n_jobs = -1)\n",
    "model_rf.fit(X, y)\n",
    "y_hat = model_rf.predict(X_val)\n",
    "report = classification_report(y_val, y_hat)\n",
    "print(report)"
   ],
   "metadata": {
    "collapsed": false,
    "ExecuteTime": {
     "end_time": "2024-04-22T10:12:56.054224Z",
     "start_time": "2024-04-22T10:12:52.096780Z"
    }
   },
   "id": "7fa06e1a10a3ed9",
   "execution_count": 40
  },
  {
   "cell_type": "code",
   "outputs": [
    {
     "name": "stderr",
     "output_type": "stream",
     "text": [
      "C:\\Users\\Dell\\anaconda3\\Lib\\site-packages\\sklearn\\ensemble\\_weight_boosting.py:519: FutureWarning: The SAMME.R algorithm (the default) is deprecated and will be removed in 1.6. Use the SAMME algorithm to circumvent this warning.\n",
      "  warnings.warn(\n"
     ]
    },
    {
     "name": "stdout",
     "output_type": "stream",
     "text": [
      "              precision    recall  f1-score   support\n",
      "\n",
      "           0       0.75      0.81      0.78        99\n",
      "           1       0.41      0.33      0.37        39\n",
      "\n",
      "    accuracy                           0.67       138\n",
      "   macro avg       0.58      0.57      0.57       138\n",
      "weighted avg       0.66      0.67      0.66       138\n"
     ]
    }
   ],
   "source": [
    "from sklearn.ensemble import AdaBoostClassifier\n",
    "\n",
    "model = AdaBoostClassifier(random_state=1)\n",
    "model.fit(X, y)\n",
    "y_hat = model.predict(X_val)\n",
    "report = classification_report(y_val, y_hat)\n",
    "print(report)"
   ],
   "metadata": {
    "collapsed": false,
    "ExecuteTime": {
     "end_time": "2024-04-22T10:13:26.900401Z",
     "start_time": "2024-04-22T10:13:26.558071Z"
    }
   },
   "id": "fb67cd27b86f3b5b",
   "execution_count": 41
  },
  {
   "cell_type": "code",
   "outputs": [
    {
     "name": "stdout",
     "output_type": "stream",
     "text": [
      "              precision    recall  f1-score   support\n",
      "\n",
      "           0       0.74      0.96      0.84        99\n",
      "           1       0.60      0.15      0.24        39\n",
      "\n",
      "    accuracy                           0.73       138\n",
      "   macro avg       0.67      0.56      0.54       138\n",
      "weighted avg       0.70      0.73      0.67       138\n"
     ]
    }
   ],
   "source": [
    "from sklearn.ensemble import GradientBoostingClassifier\n",
    "\n",
    "model = GradientBoostingClassifier(random_state=1,\n",
    "                                   learning_rate=0.01)\n",
    "model.fit(X, y)\n",
    "y_hat = model.predict(X_val)\n",
    "report = classification_report(y_val, y_hat)\n",
    "print(report)"
   ],
   "metadata": {
    "collapsed": false,
    "ExecuteTime": {
     "end_time": "2024-04-19T19:36:57.557765Z",
     "start_time": "2024-04-19T19:36:55.777578Z"
    }
   },
   "id": "fb25cd14a33a1d21",
   "execution_count": 23
  },
  {
   "cell_type": "code",
   "outputs": [
    {
     "name": "stdout",
     "output_type": "stream",
     "text": [
      "              precision    recall  f1-score   support\n",
      "\n",
      "           0       0.74      0.96      0.83        99\n",
      "           1       0.56      0.13      0.21        39\n",
      "\n",
      "    accuracy                           0.72       138\n",
      "   macro avg       0.65      0.54      0.52       138\n",
      "weighted avg       0.69      0.72      0.66       138\n"
     ]
    }
   ],
   "source": [
    "from xgboost import XGBClassifier\n",
    "model=XGBClassifier(random_state=1,\n",
    "                    learning_rate=0.01, # Szybkość \"uczenia\" się\n",
    "                    booster='gbtree', # Jaki model wykorzystujemy (drzewo - gbtree, liniowe - gblinear)\n",
    "                    max_depth=4 # Maksymalna głębokość drzewa \n",
    "                    )\n",
    "model.fit(X, y)\n",
    "y_hat = model.predict(X_val)\n",
    "report = classification_report(y_val, y_hat)\n",
    "print(report)"
   ],
   "metadata": {
    "collapsed": false,
    "ExecuteTime": {
     "end_time": "2024-04-19T19:37:00.531327Z",
     "start_time": "2024-04-19T19:37:00.143111Z"
    }
   },
   "id": "f368589cc732a6ac",
   "execution_count": 24
  },
  {
   "cell_type": "code",
   "outputs": [],
   "source": [
    "\n",
    "model=XGBClassifier(random_state=1,\n",
    "                    learning_rate=0.01, # Szybkość \"uczenia\" się\n",
    "                    booster='gblinear', # Jaki model wykorzystujemy (drzewo - gbtree, liniowe - gblinear)\n",
    "                    max_depth=5 # Maksymalna głębokość drzewa \n",
    "                    )\n",
    "model.fit(X, y)\n",
    "y_hat = model.predict(X_val)\n",
    "report = classification_report(y_val, y_hat)\n",
    "print(report)"
   ],
   "metadata": {
    "collapsed": false
   },
   "id": "98f87eb4565a55a"
  },
  {
   "cell_type": "code",
   "outputs": [],
   "source": [
    "from sklearn.ensemble import StackingClassifier\n",
    "from sklearn.linear_model import LogisticRegression\n",
    "from sklearn.svm import SVC\n",
    "from sklearn.tree import DecisionTreeClassifier\n",
    "level0 = [\n",
    "    ('lr', LogisticRegression()),\n",
    "    ('svc', SVC()),\n",
    "    ('dt', DecisionTreeClassifier())\n",
    "]\n",
    "# Meta-model, który podsumowuje przewidywania bazowych modeli\n",
    "level1 = LogisticRegression()\n",
    "\n",
    "# Defining the stacking model\n",
    "model_stacking = StackingClassifier(estimators=level0, final_estimator=level1, cv=5)"
   ],
   "metadata": {
    "collapsed": false,
    "ExecuteTime": {
     "end_time": "2024-04-19T19:37:02.491143Z",
     "start_time": "2024-04-19T19:37:02.483666Z"
    }
   },
   "id": "459b38de049408a8",
   "execution_count": 25
  },
  {
   "cell_type": "code",
   "outputs": [
    {
     "name": "stdout",
     "output_type": "stream",
     "text": [
      "              precision    recall  f1-score   support\n",
      "\n",
      "           0       0.74      0.96      0.83        99\n",
      "           1       0.56      0.13      0.21        39\n",
      "\n",
      "    accuracy                           0.72       138\n",
      "   macro avg       0.65      0.54      0.52       138\n",
      "weighted avg       0.69      0.72      0.66       138\n"
     ]
    }
   ],
   "source": [
    "# fitting stacking and evaluating\n",
    "model_stacking.fit(X, y)\n",
    "y_hat = model.predict(X_val)\n",
    "y_hat = model.predict(X_val)\n",
    "report = classification_report(y_val, y_hat)\n",
    "print(report)"
   ],
   "metadata": {
    "collapsed": false,
    "ExecuteTime": {
     "end_time": "2024-04-19T19:38:11.141309Z",
     "start_time": "2024-04-19T19:38:10.585252Z"
    }
   },
   "id": "6fb91bcee7610ba0",
   "execution_count": 27
  },
  {
   "cell_type": "markdown",
   "source": [
    "## strojenie parametrów"
   ],
   "metadata": {
    "collapsed": false
   },
   "id": "511898377385e96d"
  },
  {
   "cell_type": "markdown",
   "source": [
    "decision tree"
   ],
   "metadata": {
    "collapsed": false
   },
   "id": "9fafafb9e0bc06a8"
  },
  {
   "cell_type": "code",
   "outputs": [],
   "source": [
    "tree_model= DecisionTreeClassifier()"
   ],
   "metadata": {
    "collapsed": false,
    "ExecuteTime": {
     "end_time": "2024-04-19T19:38:15.159302Z",
     "start_time": "2024-04-19T19:38:15.154514Z"
    }
   },
   "id": "75930281385bda36",
   "execution_count": 28
  },
  {
   "cell_type": "code",
   "outputs": [],
   "source": [
    "from sklearn.model_selection import GridSearchCV"
   ],
   "metadata": {
    "collapsed": false,
    "ExecuteTime": {
     "end_time": "2024-04-22T10:18:48.827095Z",
     "start_time": "2024-04-22T10:18:48.823063Z"
    }
   },
   "id": "3e09225571f5a3e6",
   "execution_count": 46
  },
  {
   "cell_type": "code",
   "outputs": [
    {
     "data": {
      "text/plain": "{'ccp_alpha': 0.0,\n 'class_weight': None,\n 'criterion': 'gini',\n 'max_depth': None,\n 'max_features': None,\n 'max_leaf_nodes': None,\n 'min_impurity_decrease': 0.0,\n 'min_samples_leaf': 1,\n 'min_samples_split': 2,\n 'min_weight_fraction_leaf': 0.0,\n 'monotonic_cst': None,\n 'random_state': None,\n 'splitter': 'best'}"
     },
     "execution_count": 30,
     "metadata": {},
     "output_type": "execute_result"
    }
   ],
   "source": [
    "tree_model.get_params()"
   ],
   "metadata": {
    "collapsed": false,
    "ExecuteTime": {
     "end_time": "2024-04-19T19:38:18.503388Z",
     "start_time": "2024-04-19T19:38:18.494938Z"
    }
   },
   "id": "3e5f53bdae814e94",
   "execution_count": 30
  },
  {
   "cell_type": "code",
   "outputs": [],
   "source": [
    "max_depth=[3, 5, 6, 7, 8]\n",
    "criterion=[\"gini\",\"entrophy\"]\n",
    "ccp_alpha=[0,0.01, 0.02, 0.05, 0.1, 0.2]\n",
    "splitter=[\"best\", \"random\"]\n",
    "min_samples_split=[2, 5, 10]\n",
    "min_samples_leaf=[1, 2, 4]\n",
    "max_features=[\"auto\", \"sqrt\", \"log2\"]\n",
    "\n",
    "param_grid = {\n",
    "    'criterion': criterion,\n",
    "    'splitter': splitter,\n",
    "    'max_depth': max_depth,\n",
    "    'min_samples_split': min_samples_split,\n",
    "    'min_samples_leaf': min_samples_leaf,\n",
    "    'ccp_alpha': ccp_alpha,\n",
    "    'max_features': max_features,\n",
    "}\n"
   ],
   "metadata": {
    "collapsed": false,
    "ExecuteTime": {
     "end_time": "2024-04-19T19:43:25.374288Z",
     "start_time": "2024-04-19T19:43:25.367657Z"
    }
   },
   "id": "a37568721c6d9408",
   "execution_count": 34
  },
  {
   "cell_type": "code",
   "outputs": [
    {
     "name": "stdout",
     "output_type": "stream",
     "text": [
      "Best: 0.402668 using {'ccp_alpha': 0, 'criterion': 'gini', 'max_depth': 7, 'max_features': 'sqrt', 'min_samples_leaf': 4, 'min_samples_split': 5, 'splitter': 'best'}\n"
     ]
    },
    {
     "name": "stderr",
     "output_type": "stream",
     "text": [
      "C:\\Users\\Dell\\anaconda3\\Lib\\site-packages\\sklearn\\model_selection\\_validation.py:547: FitFailedWarning: \n",
      "6480 fits failed out of a total of 9720.\n",
      "The score on these train-test partitions for these parameters will be set to nan.\n",
      "If these failures are not expected, you can try to debug them by setting error_score='raise'.\n",
      "\n",
      "Below are more details about the failures:\n",
      "--------------------------------------------------------------------------------\n",
      "884 fits failed with the following error:\n",
      "Traceback (most recent call last):\n",
      "  File \"C:\\Users\\Dell\\anaconda3\\Lib\\site-packages\\sklearn\\model_selection\\_validation.py\", line 895, in _fit_and_score\n",
      "    estimator.fit(X_train, y_train, **fit_params)\n",
      "  File \"C:\\Users\\Dell\\anaconda3\\Lib\\site-packages\\sklearn\\base.py\", line 1467, in wrapper\n",
      "    estimator._validate_params()\n",
      "  File \"C:\\Users\\Dell\\anaconda3\\Lib\\site-packages\\sklearn\\base.py\", line 666, in _validate_params\n",
      "    validate_parameter_constraints(\n",
      "  File \"C:\\Users\\Dell\\anaconda3\\Lib\\site-packages\\sklearn\\utils\\_param_validation.py\", line 95, in validate_parameter_constraints\n",
      "    raise InvalidParameterError(\n",
      "sklearn.utils._param_validation.InvalidParameterError: The 'max_features' parameter of DecisionTreeClassifier must be an int in the range [1, inf), a float in the range (0.0, 1.0], a str among {'log2', 'sqrt'} or None. Got 'auto' instead.\n",
      "\n",
      "--------------------------------------------------------------------------------\n",
      "736 fits failed with the following error:\n",
      "Traceback (most recent call last):\n",
      "  File \"C:\\Users\\Dell\\anaconda3\\Lib\\site-packages\\sklearn\\model_selection\\_validation.py\", line 895, in _fit_and_score\n",
      "    estimator.fit(X_train, y_train, **fit_params)\n",
      "  File \"C:\\Users\\Dell\\anaconda3\\Lib\\site-packages\\sklearn\\base.py\", line 1467, in wrapper\n",
      "    estimator._validate_params()\n",
      "  File \"C:\\Users\\Dell\\anaconda3\\Lib\\site-packages\\sklearn\\base.py\", line 666, in _validate_params\n",
      "    validate_parameter_constraints(\n",
      "  File \"C:\\Users\\Dell\\anaconda3\\Lib\\site-packages\\sklearn\\utils\\_param_validation.py\", line 95, in validate_parameter_constraints\n",
      "    raise InvalidParameterError(\n",
      "sklearn.utils._param_validation.InvalidParameterError: The 'max_features' parameter of DecisionTreeClassifier must be an int in the range [1, inf), a float in the range (0.0, 1.0], a str among {'sqrt', 'log2'} or None. Got 'auto' instead.\n",
      "\n",
      "--------------------------------------------------------------------------------\n",
      "2425 fits failed with the following error:\n",
      "Traceback (most recent call last):\n",
      "  File \"C:\\Users\\Dell\\anaconda3\\Lib\\site-packages\\sklearn\\model_selection\\_validation.py\", line 895, in _fit_and_score\n",
      "    estimator.fit(X_train, y_train, **fit_params)\n",
      "  File \"C:\\Users\\Dell\\anaconda3\\Lib\\site-packages\\sklearn\\base.py\", line 1467, in wrapper\n",
      "    estimator._validate_params()\n",
      "  File \"C:\\Users\\Dell\\anaconda3\\Lib\\site-packages\\sklearn\\base.py\", line 666, in _validate_params\n",
      "    validate_parameter_constraints(\n",
      "  File \"C:\\Users\\Dell\\anaconda3\\Lib\\site-packages\\sklearn\\utils\\_param_validation.py\", line 95, in validate_parameter_constraints\n",
      "    raise InvalidParameterError(\n",
      "sklearn.utils._param_validation.InvalidParameterError: The 'criterion' parameter of DecisionTreeClassifier must be a str among {'gini', 'entropy', 'log_loss'}. Got 'entrophy' instead.\n",
      "\n",
      "--------------------------------------------------------------------------------\n",
      "1869 fits failed with the following error:\n",
      "Traceback (most recent call last):\n",
      "  File \"C:\\Users\\Dell\\anaconda3\\Lib\\site-packages\\sklearn\\model_selection\\_validation.py\", line 895, in _fit_and_score\n",
      "    estimator.fit(X_train, y_train, **fit_params)\n",
      "  File \"C:\\Users\\Dell\\anaconda3\\Lib\\site-packages\\sklearn\\base.py\", line 1467, in wrapper\n",
      "    estimator._validate_params()\n",
      "  File \"C:\\Users\\Dell\\anaconda3\\Lib\\site-packages\\sklearn\\base.py\", line 666, in _validate_params\n",
      "    validate_parameter_constraints(\n",
      "  File \"C:\\Users\\Dell\\anaconda3\\Lib\\site-packages\\sklearn\\utils\\_param_validation.py\", line 95, in validate_parameter_constraints\n",
      "    raise InvalidParameterError(\n",
      "sklearn.utils._param_validation.InvalidParameterError: The 'criterion' parameter of DecisionTreeClassifier must be a str among {'entropy', 'log_loss', 'gini'}. Got 'entrophy' instead.\n",
      "\n",
      "--------------------------------------------------------------------------------\n",
      "566 fits failed with the following error:\n",
      "Traceback (most recent call last):\n",
      "  File \"C:\\Users\\Dell\\anaconda3\\Lib\\site-packages\\sklearn\\model_selection\\_validation.py\", line 895, in _fit_and_score\n",
      "    estimator.fit(X_train, y_train, **fit_params)\n",
      "  File \"C:\\Users\\Dell\\anaconda3\\Lib\\site-packages\\sklearn\\base.py\", line 1467, in wrapper\n",
      "    estimator._validate_params()\n",
      "  File \"C:\\Users\\Dell\\anaconda3\\Lib\\site-packages\\sklearn\\base.py\", line 666, in _validate_params\n",
      "    validate_parameter_constraints(\n",
      "  File \"C:\\Users\\Dell\\anaconda3\\Lib\\site-packages\\sklearn\\utils\\_param_validation.py\", line 95, in validate_parameter_constraints\n",
      "    raise InvalidParameterError(\n",
      "sklearn.utils._param_validation.InvalidParameterError: The 'criterion' parameter of DecisionTreeClassifier must be a str among {'entropy', 'gini', 'log_loss'}. Got 'entrophy' instead.\n",
      "\n",
      "  warnings.warn(some_fits_failed_message, FitFailedWarning)\n",
      "C:\\Users\\Dell\\anaconda3\\Lib\\site-packages\\sklearn\\model_selection\\_search.py:1051: UserWarning: One or more of the test scores are non-finite: [nan nan nan ... nan nan nan]\n",
      "  warnings.warn(\n"
     ]
    }
   ],
   "source": [
    "tree_model= DecisionTreeClassifier()\n",
    "grid = GridSearchCV(estimator=tree_model, param_grid=param_grid, cv = 3, n_jobs=-1, scoring='f1')\n",
    "\n",
    "grid_result = grid.fit(X, y) #tutaj lepiej zastosować tylko trainset\n",
    "\n",
    "print(\"Best: %f using %s\" % (grid_result.best_score_, grid_result.best_params_))"
   ],
   "metadata": {
    "collapsed": false,
    "ExecuteTime": {
     "end_time": "2024-04-19T19:44:34.393567Z",
     "start_time": "2024-04-19T19:44:25.383550Z"
    }
   },
   "id": "aa6deab20cd064b6",
   "execution_count": 36
  },
  {
   "cell_type": "code",
   "outputs": [
    {
     "name": "stdout",
     "output_type": "stream",
     "text": [
      "Parameters : {'var_smoothing': 1e-09}\n",
      "Mean test score: 0.45529152\n",
      "Standard Deviation (test) : 0.02038647\n",
      "\n",
      "Parameters : {'var_smoothing': 1e-08}\n",
      "Mean test score: 0.47871414\n",
      "Standard Deviation (test) : 0.01846083\n",
      "\n",
      "Parameters : {'var_smoothing': 1e-07}\n",
      "Mean test score: 0.48938429\n",
      "Standard Deviation (test) : 0.02706486\n",
      "\n",
      "Parameters : {'var_smoothing': 1e-06}\n",
      "Mean test score: 0.49364418\n",
      "Standard Deviation (test) : 0.02508338\n",
      "\n",
      "Parameters : {'var_smoothing': 1e-05}\n",
      "Mean test score: 0.50643748\n",
      "Standard Deviation (test) : 0.02959262\n",
      "\n",
      "Best parameters : {'var_smoothing': 1e-05}\n",
      "Best accuracy score : 0.50643748\n"
     ]
    }
   ],
   "source": [
    "std_test_scores = grid_result.cv_results_['std_test_score']\n",
    "mean_test_scores = grid_result.cv_results_['mean_test_score']\n",
    "parameters = grid_result.cv_results_['params']\n",
    "\n",
    "for mean_test, std_test, params in zip(mean_test_scores, std_test_scores, parameters):\n",
    "    print('Parameters : {}'.format(params))\n",
    "    print('Mean test score: {:.8f}'.format(mean_test))\n",
    "    print('Standard Deviation (test) : {:.8f}'.format(std_test))\n",
    "    print()\n",
    "\n",
    "print('Best parameters : {}'.format(grid_result.best_params_))\n",
    "print('Best accuracy score : {:.8f}'.format(grid_result.best_score_))\n"
   ],
   "metadata": {
    "collapsed": false,
    "ExecuteTime": {
     "end_time": "2024-04-19T21:13:19.103239Z",
     "start_time": "2024-04-19T21:13:19.096083Z"
    }
   },
   "id": "9805982653db7b11",
   "execution_count": 61
  },
  {
   "cell_type": "code",
   "outputs": [
    {
     "data": {
      "text/plain": "0.6376811594202898"
     },
     "execution_count": 39,
     "metadata": {},
     "output_type": "execute_result"
    }
   ],
   "source": [
    "best_model=grid_result.best_estimator_\n",
    "best_model.score(X_val, y_val)"
   ],
   "metadata": {
    "collapsed": false,
    "ExecuteTime": {
     "end_time": "2024-04-19T19:45:02.598464Z",
     "start_time": "2024-04-19T19:45:02.589375Z"
    }
   },
   "id": "48e1132d201e240e",
   "execution_count": 39
  },
  {
   "cell_type": "code",
   "outputs": [
    {
     "name": "stdout",
     "output_type": "stream",
     "text": [
      "              precision    recall  f1-score   support\n",
      "\n",
      "           0       0.73      0.86      0.79        99\n",
      "           1       0.36      0.21      0.26        39\n",
      "\n",
      "    accuracy                           0.67       138\n",
      "   macro avg       0.55      0.53      0.53       138\n",
      "weighted avg       0.63      0.67      0.64       138\n"
     ]
    }
   ],
   "source": [
    "best_model.fit(X, y)\n",
    "y_hat = best_model.predict(X_val)\n",
    "report = classification_report(y_val, y_hat)\n",
    "print(report)"
   ],
   "metadata": {
    "collapsed": false,
    "ExecuteTime": {
     "end_time": "2024-04-19T19:45:23.521938Z",
     "start_time": "2024-04-19T19:45:23.503336Z"
    }
   },
   "id": "2d8940e4dfe18016",
   "execution_count": 40
  },
  {
   "cell_type": "markdown",
   "source": [
    "dla Gradient Boosting"
   ],
   "metadata": {
    "collapsed": false
   },
   "id": "932c5a96c827ea40"
  },
  {
   "cell_type": "code",
   "outputs": [],
   "source": [
    "max_depth = [3, 5, 6, 7, 8]\n",
    "loss = [\"deviance\", \"exponential\"]\n",
    "learning_rate = [0.001, 0.01, 0.1]\n",
    "n_estimators = [10, 50, 100, 200]\n",
    "subsample = [0.5, 0.75, 1.0]\n",
    "max_features = [\"auto\", \"sqrt\", \"log2\"]\n",
    "\n",
    "param_grid = {\n",
    "    'loss': loss,\n",
    "    'learning_rate': learning_rate,\n",
    "    'n_estimators': n_estimators,\n",
    "    'subsample': subsample,\n",
    "    'max_depth': max_depth,\n",
    "    'max_features': max_features,\n",
    "    'ccp_alpha': ccp_alpha\n",
    "}"
   ],
   "metadata": {
    "collapsed": false,
    "ExecuteTime": {
     "end_time": "2024-04-19T19:46:14.391181Z",
     "start_time": "2024-04-19T19:46:14.385068Z"
    }
   },
   "id": "b73517343045eb5c",
   "execution_count": 42
  },
  {
   "cell_type": "code",
   "outputs": [
    {
     "name": "stderr",
     "output_type": "stream",
     "text": [
      "C:\\Users\\Dell\\anaconda3\\Lib\\site-packages\\sklearn\\model_selection\\_validation.py:547: FitFailedWarning: \n",
      "12960 fits failed out of a total of 19440.\n",
      "The score on these train-test partitions for these parameters will be set to nan.\n",
      "If these failures are not expected, you can try to debug them by setting error_score='raise'.\n",
      "\n",
      "Below are more details about the failures:\n",
      "--------------------------------------------------------------------------------\n",
      "4240 fits failed with the following error:\n",
      "Traceback (most recent call last):\n",
      "  File \"C:\\Users\\Dell\\anaconda3\\Lib\\site-packages\\sklearn\\model_selection\\_validation.py\", line 895, in _fit_and_score\n",
      "    estimator.fit(X_train, y_train, **fit_params)\n",
      "  File \"C:\\Users\\Dell\\anaconda3\\Lib\\site-packages\\sklearn\\base.py\", line 1467, in wrapper\n",
      "    estimator._validate_params()\n",
      "  File \"C:\\Users\\Dell\\anaconda3\\Lib\\site-packages\\sklearn\\base.py\", line 666, in _validate_params\n",
      "    validate_parameter_constraints(\n",
      "  File \"C:\\Users\\Dell\\anaconda3\\Lib\\site-packages\\sklearn\\utils\\_param_validation.py\", line 95, in validate_parameter_constraints\n",
      "    raise InvalidParameterError(\n",
      "sklearn.utils._param_validation.InvalidParameterError: The 'loss' parameter of GradientBoostingClassifier must be a str among {'exponential', 'log_loss'}. Got 'deviance' instead.\n",
      "\n",
      "--------------------------------------------------------------------------------\n",
      "5480 fits failed with the following error:\n",
      "Traceback (most recent call last):\n",
      "  File \"C:\\Users\\Dell\\anaconda3\\Lib\\site-packages\\sklearn\\model_selection\\_validation.py\", line 895, in _fit_and_score\n",
      "    estimator.fit(X_train, y_train, **fit_params)\n",
      "  File \"C:\\Users\\Dell\\anaconda3\\Lib\\site-packages\\sklearn\\base.py\", line 1467, in wrapper\n",
      "    estimator._validate_params()\n",
      "  File \"C:\\Users\\Dell\\anaconda3\\Lib\\site-packages\\sklearn\\base.py\", line 666, in _validate_params\n",
      "    validate_parameter_constraints(\n",
      "  File \"C:\\Users\\Dell\\anaconda3\\Lib\\site-packages\\sklearn\\utils\\_param_validation.py\", line 95, in validate_parameter_constraints\n",
      "    raise InvalidParameterError(\n",
      "sklearn.utils._param_validation.InvalidParameterError: The 'loss' parameter of GradientBoostingClassifier must be a str among {'log_loss', 'exponential'}. Got 'deviance' instead.\n",
      "\n",
      "--------------------------------------------------------------------------------\n",
      "1469 fits failed with the following error:\n",
      "Traceback (most recent call last):\n",
      "  File \"C:\\Users\\Dell\\anaconda3\\Lib\\site-packages\\sklearn\\model_selection\\_validation.py\", line 895, in _fit_and_score\n",
      "    estimator.fit(X_train, y_train, **fit_params)\n",
      "  File \"C:\\Users\\Dell\\anaconda3\\Lib\\site-packages\\sklearn\\base.py\", line 1467, in wrapper\n",
      "    estimator._validate_params()\n",
      "  File \"C:\\Users\\Dell\\anaconda3\\Lib\\site-packages\\sklearn\\base.py\", line 666, in _validate_params\n",
      "    validate_parameter_constraints(\n",
      "  File \"C:\\Users\\Dell\\anaconda3\\Lib\\site-packages\\sklearn\\utils\\_param_validation.py\", line 95, in validate_parameter_constraints\n",
      "    raise InvalidParameterError(\n",
      "sklearn.utils._param_validation.InvalidParameterError: The 'max_features' parameter of GradientBoostingClassifier must be an int in the range [1, inf), a float in the range (0.0, 1.0], a str among {'log2', 'sqrt'} or None. Got 'auto' instead.\n",
      "\n",
      "--------------------------------------------------------------------------------\n",
      "1771 fits failed with the following error:\n",
      "Traceback (most recent call last):\n",
      "  File \"C:\\Users\\Dell\\anaconda3\\Lib\\site-packages\\sklearn\\model_selection\\_validation.py\", line 895, in _fit_and_score\n",
      "    estimator.fit(X_train, y_train, **fit_params)\n",
      "  File \"C:\\Users\\Dell\\anaconda3\\Lib\\site-packages\\sklearn\\base.py\", line 1467, in wrapper\n",
      "    estimator._validate_params()\n",
      "  File \"C:\\Users\\Dell\\anaconda3\\Lib\\site-packages\\sklearn\\base.py\", line 666, in _validate_params\n",
      "    validate_parameter_constraints(\n",
      "  File \"C:\\Users\\Dell\\anaconda3\\Lib\\site-packages\\sklearn\\utils\\_param_validation.py\", line 95, in validate_parameter_constraints\n",
      "    raise InvalidParameterError(\n",
      "sklearn.utils._param_validation.InvalidParameterError: The 'max_features' parameter of GradientBoostingClassifier must be an int in the range [1, inf), a float in the range (0.0, 1.0], a str among {'sqrt', 'log2'} or None. Got 'auto' instead.\n",
      "\n",
      "  warnings.warn(some_fits_failed_message, FitFailedWarning)\n",
      "C:\\Users\\Dell\\anaconda3\\Lib\\site-packages\\sklearn\\model_selection\\_search.py:1051: UserWarning: One or more of the test scores are non-finite: [nan nan nan ...  0.  0.  0.]\n",
      "  warnings.warn(\n"
     ]
    },
    {
     "name": "stdout",
     "output_type": "stream",
     "text": [
      "Best: 0.393738 using {'ccp_alpha': 0, 'learning_rate': 0.1, 'loss': 'exponential', 'max_depth': 3, 'max_features': 'sqrt', 'n_estimators': 100, 'subsample': 0.5}\n"
     ]
    }
   ],
   "source": [
    "gb_model = GradientBoostingClassifier()\n",
    "\n",
    "grid = GridSearchCV(estimator=gb_model, param_grid=param_grid, cv = 3, n_jobs=-1, scoring='f1')\n",
    "\n",
    "grid_result = grid.fit(X, y) \n",
    "\n",
    "print(\"Best: %f using %s\" % (grid_result.best_score_, grid_result.best_params_))"
   ],
   "metadata": {
    "collapsed": false,
    "ExecuteTime": {
     "end_time": "2024-04-19T19:55:31.850538Z",
     "start_time": "2024-04-19T19:47:25.814634Z"
    }
   },
   "id": "ca0e10ad1cfb8960",
   "execution_count": 43
  },
  {
   "cell_type": "code",
   "outputs": [
    {
     "name": "stdout",
     "output_type": "stream",
     "text": [
      "              precision    recall  f1-score   support\n",
      "\n",
      "           0       0.73      0.82      0.77        99\n",
      "           1       0.33      0.23      0.27        39\n",
      "\n",
      "    accuracy                           0.65       138\n",
      "   macro avg       0.53      0.52      0.52       138\n",
      "weighted avg       0.62      0.65      0.63       138\n"
     ]
    }
   ],
   "source": [
    "y_hat=grid_result.predict(X_val)\n",
    "report = classification_report(y_val, y_hat)\n",
    "print(report)"
   ],
   "metadata": {
    "collapsed": false,
    "ExecuteTime": {
     "end_time": "2024-04-19T20:31:36.570599Z",
     "start_time": "2024-04-19T20:31:36.536498Z"
    }
   },
   "id": "80e16f4dd681e558",
   "execution_count": 49
  },
  {
   "cell_type": "markdown",
   "source": [],
   "metadata": {
    "collapsed": false
   },
   "id": "fdd275a9c624370e"
  },
  {
   "cell_type": "markdown",
   "source": [
    "dla random forest "
   ],
   "metadata": {
    "collapsed": false
   },
   "id": "c25bf9e067484e07"
  },
  {
   "cell_type": "code",
   "outputs": [],
   "source": [
    "max_depth = [3, 5, 6, 7, 8]\n",
    "criterion = [\"gini\", \"entropy\"]\n",
    "ccp_alpha = [0, 0.01, 0.02, 0.05, 0.1, 0.2]\n",
    "max_features = [\"auto\", \"sqrt\", \"log2\"]\n",
    "n_estimators = [10, 50, 100, 200]\n",
    "min_samples_split = [2, 5, 10]\n",
    "min_samples_leaf = [1, 2, 4]\n",
    "bootstrap = [True, False]\n",
    "\n",
    "param_grid = {\n",
    "    'n_estimators': n_estimators,\n",
    "    'max_features': max_features,\n",
    "    'max_depth': max_depth,\n",
    "    'min_samples_split': min_samples_split,\n",
    "    'min_samples_leaf': min_samples_leaf,\n",
    "    'bootstrap': bootstrap,\n",
    "    'criterion': criterion,\n",
    "    'ccp_alpha': ccp_alpha\n",
    "}"
   ],
   "metadata": {
    "collapsed": false,
    "ExecuteTime": {
     "end_time": "2024-04-19T20:32:10.815030Z",
     "start_time": "2024-04-19T20:32:10.805083Z"
    }
   },
   "id": "d5eaadfe7f3abe45",
   "execution_count": 50
  },
  {
   "cell_type": "code",
   "outputs": [
    {
     "name": "stderr",
     "output_type": "stream",
     "text": [
      "C:\\Users\\Dell\\anaconda3\\Lib\\site-packages\\sklearn\\model_selection\\_validation.py:547: FitFailedWarning: \n",
      "12960 fits failed out of a total of 38880.\n",
      "The score on these train-test partitions for these parameters will be set to nan.\n",
      "If these failures are not expected, you can try to debug them by setting error_score='raise'.\n",
      "\n",
      "Below are more details about the failures:\n",
      "--------------------------------------------------------------------------------\n",
      "5935 fits failed with the following error:\n",
      "Traceback (most recent call last):\n",
      "  File \"C:\\Users\\Dell\\anaconda3\\Lib\\site-packages\\sklearn\\model_selection\\_validation.py\", line 895, in _fit_and_score\n",
      "    estimator.fit(X_train, y_train, **fit_params)\n",
      "  File \"C:\\Users\\Dell\\anaconda3\\Lib\\site-packages\\sklearn\\base.py\", line 1467, in wrapper\n",
      "    estimator._validate_params()\n",
      "  File \"C:\\Users\\Dell\\anaconda3\\Lib\\site-packages\\sklearn\\base.py\", line 666, in _validate_params\n",
      "    validate_parameter_constraints(\n",
      "  File \"C:\\Users\\Dell\\anaconda3\\Lib\\site-packages\\sklearn\\utils\\_param_validation.py\", line 95, in validate_parameter_constraints\n",
      "    raise InvalidParameterError(\n",
      "sklearn.utils._param_validation.InvalidParameterError: The 'max_features' parameter of RandomForestClassifier must be an int in the range [1, inf), a float in the range (0.0, 1.0], a str among {'sqrt', 'log2'} or None. Got 'auto' instead.\n",
      "\n",
      "--------------------------------------------------------------------------------\n",
      "7025 fits failed with the following error:\n",
      "Traceback (most recent call last):\n",
      "  File \"C:\\Users\\Dell\\anaconda3\\Lib\\site-packages\\sklearn\\model_selection\\_validation.py\", line 895, in _fit_and_score\n",
      "    estimator.fit(X_train, y_train, **fit_params)\n",
      "  File \"C:\\Users\\Dell\\anaconda3\\Lib\\site-packages\\sklearn\\base.py\", line 1467, in wrapper\n",
      "    estimator._validate_params()\n",
      "  File \"C:\\Users\\Dell\\anaconda3\\Lib\\site-packages\\sklearn\\base.py\", line 666, in _validate_params\n",
      "    validate_parameter_constraints(\n",
      "  File \"C:\\Users\\Dell\\anaconda3\\Lib\\site-packages\\sklearn\\utils\\_param_validation.py\", line 95, in validate_parameter_constraints\n",
      "    raise InvalidParameterError(\n",
      "sklearn.utils._param_validation.InvalidParameterError: The 'max_features' parameter of RandomForestClassifier must be an int in the range [1, inf), a float in the range (0.0, 1.0], a str among {'log2', 'sqrt'} or None. Got 'auto' instead.\n",
      "\n",
      "  warnings.warn(some_fits_failed_message, FitFailedWarning)\n"
     ]
    },
    {
     "name": "stdout",
     "output_type": "stream",
     "text": [
      "Best F1-score: 0.397715 using {'bootstrap': True, 'ccp_alpha': 0, 'criterion': 'gini', 'max_depth': 8, 'max_features': 'sqrt', 'min_samples_leaf': 2, 'min_samples_split': 2, 'n_estimators': 10}\n"
     ]
    },
    {
     "name": "stderr",
     "output_type": "stream",
     "text": [
      "C:\\Users\\Dell\\anaconda3\\Lib\\site-packages\\sklearn\\model_selection\\_search.py:1051: UserWarning: One or more of the test scores are non-finite: [nan nan nan ...  0.  0.  0.]\n",
      "  warnings.warn(\n"
     ]
    }
   ],
   "source": [
    "rf_model = RandomForestClassifier()\n",
    "\n",
    "grid = GridSearchCV(estimator=rf_model, param_grid=param_grid, cv=3, n_jobs=-1, scoring='f1')\n",
    "\n",
    "grid_result = grid.fit(X, y)\n",
    "\n",
    "print(\"Best F1-score: %f using %s\" % (grid_result.best_score_, grid_result.best_params_))"
   ],
   "metadata": {
    "collapsed": false,
    "ExecuteTime": {
     "end_time": "2024-04-19T21:03:48.450396Z",
     "start_time": "2024-04-19T20:32:12.296233Z"
    }
   },
   "id": "6e2e5f0f4cecf5ac",
   "execution_count": 51
  },
  {
   "cell_type": "code",
   "outputs": [
    {
     "name": "stdout",
     "output_type": "stream",
     "text": [
      "              precision    recall  f1-score   support\n",
      "\n",
      "           0       0.74      0.87      0.80        99\n",
      "           1       0.41      0.23      0.30        39\n",
      "\n",
      "    accuracy                           0.69       138\n",
      "   macro avg       0.58      0.55      0.55       138\n",
      "weighted avg       0.65      0.69      0.66       138\n"
     ]
    }
   ],
   "source": [
    "y_hat=grid_result.predict(X_val)\n",
    "report = classification_report(y_val, y_hat)\n",
    "print(report)"
   ],
   "metadata": {
    "collapsed": false,
    "ExecuteTime": {
     "end_time": "2024-04-19T21:04:00.641038Z",
     "start_time": "2024-04-19T21:04:00.626885Z"
    }
   },
   "id": "e89a32c72a81ab17",
   "execution_count": 52
  },
  {
   "cell_type": "markdown",
   "source": [
    "dla naive bayes"
   ],
   "metadata": {
    "collapsed": false
   },
   "id": "6516c87d5c65fa74"
  },
  {
   "cell_type": "code",
   "outputs": [
    {
     "name": "stdout",
     "output_type": "stream",
     "text": [
      "Best F1-score: 0.454545 using {'var_smoothing': 1e-05}\n",
      "              precision    recall  f1-score   support\n",
      "\n",
      "           0       0.80      0.36      0.50        99\n",
      "           1       0.32      0.77      0.45        39\n",
      "\n",
      "    accuracy                           0.48       138\n",
      "   macro avg       0.56      0.57      0.48       138\n",
      "weighted avg       0.67      0.48      0.49       138\n"
     ]
    }
   ],
   "source": [
    "from sklearn.model_selection import StratifiedKFold\n",
    "\n",
    "\n",
    "# Ustal parametry i model\n",
    "param_grid = {\n",
    "    'var_smoothing': [1e-9, 1e-8, 1e-7, 1e-6, 1e-5]\n",
    "}\n",
    "\n",
    "nb_model = GaussianNB()\n",
    "\n",
    "grid = GridSearchCV(estimator=nb_model, param_grid=param_grid, cv=StratifiedKFold(3), n_jobs=-1)\n",
    "grid_result = grid.fit(X, y)\n",
    "\n",
    "y_hat = grid_result.best_estimator_.predict(X_val)\n",
    "\n",
    "print(\"Best F1-score: %f using %s\" % (f1, grid_result.best_params_))\n",
    "report = classification_report(y_val, y_hat)\n",
    "print(report)"
   ],
   "metadata": {
    "collapsed": false,
    "ExecuteTime": {
     "end_time": "2024-04-19T21:10:23.078116Z",
     "start_time": "2024-04-19T21:10:23.025445Z"
    }
   },
   "id": "4e43f402809794e3",
   "execution_count": 58
  },
  {
   "cell_type": "markdown",
   "source": [
    "dla QuadraticDiscriminantAnalysis()\n",
    "model10 = SGDClassifier(random_state=42)"
   ],
   "metadata": {
    "collapsed": false
   },
   "id": "94345edbd89dad22"
  },
  {
   "cell_type": "code",
   "outputs": [
    {
     "data": {
      "text/plain": "{'priors': None, 'reg_param': 0.0, 'store_covariance': False, 'tol': 0.0001}"
     },
     "execution_count": 48,
     "metadata": {},
     "output_type": "execute_result"
    }
   ],
   "source": [
    "QDAmodel=QuadraticDiscriminantAnalysis()\n",
    "QDAmodel.get_params()"
   ],
   "metadata": {
    "collapsed": false,
    "ExecuteTime": {
     "end_time": "2024-04-22T10:19:25.784114Z",
     "start_time": "2024-04-22T10:19:25.776256Z"
    }
   },
   "id": "e291ad72cb2d7989",
   "execution_count": 48
  },
  {
   "cell_type": "code",
   "outputs": [],
   "source": [
    "param_grid = {\n",
    "    'reg_param': [0.0, 0.1, 0.2, 0.3, 0.4, 0.5],\n",
    "    'tol': [1e-3, 1e-4, 1e-5],\n",
    "    'priors': [None, [0.5, 0.5], [0.7, 0.3], [0.3, 0.7]],  # przykładowe wartości\n",
    "    'store_covariance': [True, False]\n",
    "}\n"
   ],
   "metadata": {
    "collapsed": false,
    "ExecuteTime": {
     "end_time": "2024-04-22T10:19:27.149107Z",
     "start_time": "2024-04-22T10:19:27.143007Z"
    }
   },
   "id": "269b163712ee845e",
   "execution_count": 49
  },
  {
   "cell_type": "code",
   "outputs": [
    {
     "name": "stdout",
     "output_type": "stream",
     "text": [
      "Fitting 5 folds for each of 144 candidates, totalling 720 fits\n"
     ]
    },
    {
     "name": "stderr",
     "output_type": "stream",
     "text": [
      "C:\\Users\\Dell\\anaconda3\\Lib\\site-packages\\sklearn\\discriminant_analysis.py:935: UserWarning: Variables are collinear\n",
      "  warnings.warn(\"Variables are collinear\")\n"
     ]
    },
    {
     "ename": "NameError",
     "evalue": "name 'f1' is not defined",
     "output_type": "error",
     "traceback": [
      "\u001B[1;31m---------------------------------------------------------------------------\u001B[0m",
      "\u001B[1;31mNameError\u001B[0m                                 Traceback (most recent call last)",
      "Cell \u001B[1;32mIn[50], line 7\u001B[0m\n\u001B[0;32m      3\u001B[0m grid_result \u001B[38;5;241m=\u001B[39m grid\u001B[38;5;241m.\u001B[39mfit(X, y)\n\u001B[0;32m      5\u001B[0m y_hat \u001B[38;5;241m=\u001B[39m grid_result\u001B[38;5;241m.\u001B[39mbest_estimator_\u001B[38;5;241m.\u001B[39mpredict(X_val)\n\u001B[1;32m----> 7\u001B[0m \u001B[38;5;28mprint\u001B[39m(\u001B[38;5;124m\"\u001B[39m\u001B[38;5;124mBest F1-score: \u001B[39m\u001B[38;5;132;01m%f\u001B[39;00m\u001B[38;5;124m using \u001B[39m\u001B[38;5;132;01m%s\u001B[39;00m\u001B[38;5;124m\"\u001B[39m \u001B[38;5;241m%\u001B[39m (f1, grid_result\u001B[38;5;241m.\u001B[39mbest_params_))\n\u001B[0;32m      8\u001B[0m report \u001B[38;5;241m=\u001B[39m classification_report(y_val, y_hat)\n\u001B[0;32m      9\u001B[0m \u001B[38;5;28mprint\u001B[39m(report)\n",
      "\u001B[1;31mNameError\u001B[0m: name 'f1' is not defined"
     ]
    }
   ],
   "source": [
    "grid= GridSearchCV(QDAmodel, param_grid, cv=5, scoring='accuracy', verbose=1, n_jobs=-1)\n",
    "\n",
    "grid_result = grid.fit(X, y)\n",
    "\n",
    "y_hat = grid_result.best_estimator_.predict(X_val)\n",
    "\n",
    "print(\"Best F1-score: %f using %s\" % (f1, grid_result.best_params_))\n",
    "report = classification_report(y_val, y_hat)\n",
    "print(report)"
   ],
   "metadata": {
    "collapsed": false,
    "ExecuteTime": {
     "end_time": "2024-04-22T10:19:35.764921Z",
     "start_time": "2024-04-22T10:19:27.841568Z"
    }
   },
   "id": "58228d1b88ee4f3",
   "execution_count": 50
  },
  {
   "cell_type": "markdown",
   "source": [
    "## Random search"
   ],
   "metadata": {
    "collapsed": false
   },
   "id": "b63cf5baa451ab22"
  },
  {
   "cell_type": "code",
   "outputs": [],
   "source": [
    "from sklearn.model_selection import RandomizedSearchCV"
   ],
   "metadata": {
    "collapsed": false,
    "ExecuteTime": {
     "end_time": "2024-04-19T21:15:33.449659Z",
     "start_time": "2024-04-19T21:15:33.445581Z"
    }
   },
   "id": "85ca66292c3441b8",
   "execution_count": 63
  },
  {
   "cell_type": "markdown",
   "source": [
    "dla tree model"
   ],
   "metadata": {
    "collapsed": false
   },
   "id": "37fccdc073d513b2"
  },
  {
   "cell_type": "code",
   "outputs": [
    {
     "name": "stdout",
     "output_type": "stream",
     "text": [
      "              precision    recall  f1-score   support\n",
      "\n",
      "           0       0.72      1.00      0.84        99\n",
      "           1       0.00      0.00      0.00        39\n",
      "\n",
      "    accuracy                           0.72       138\n",
      "   macro avg       0.36      0.50      0.42       138\n",
      "weighted avg       0.51      0.72      0.60       138\n"
     ]
    },
    {
     "name": "stderr",
     "output_type": "stream",
     "text": [
      "C:\\Users\\Dell\\anaconda3\\Lib\\site-packages\\sklearn\\model_selection\\_validation.py:547: FitFailedWarning: \n",
      "15 fits failed out of a total of 30.\n",
      "The score on these train-test partitions for these parameters will be set to nan.\n",
      "If these failures are not expected, you can try to debug them by setting error_score='raise'.\n",
      "\n",
      "Below are more details about the failures:\n",
      "--------------------------------------------------------------------------------\n",
      "10 fits failed with the following error:\n",
      "Traceback (most recent call last):\n",
      "  File \"C:\\Users\\Dell\\anaconda3\\Lib\\site-packages\\sklearn\\model_selection\\_validation.py\", line 895, in _fit_and_score\n",
      "    estimator.fit(X_train, y_train, **fit_params)\n",
      "  File \"C:\\Users\\Dell\\anaconda3\\Lib\\site-packages\\sklearn\\base.py\", line 1467, in wrapper\n",
      "    estimator._validate_params()\n",
      "  File \"C:\\Users\\Dell\\anaconda3\\Lib\\site-packages\\sklearn\\base.py\", line 666, in _validate_params\n",
      "    validate_parameter_constraints(\n",
      "  File \"C:\\Users\\Dell\\anaconda3\\Lib\\site-packages\\sklearn\\utils\\_param_validation.py\", line 95, in validate_parameter_constraints\n",
      "    raise InvalidParameterError(\n",
      "sklearn.utils._param_validation.InvalidParameterError: The 'max_features' parameter of DecisionTreeClassifier must be an int in the range [1, inf), a float in the range (0.0, 1.0], a str among {'sqrt', 'log2'} or None. Got 'auto' instead.\n",
      "\n",
      "--------------------------------------------------------------------------------\n",
      "5 fits failed with the following error:\n",
      "Traceback (most recent call last):\n",
      "  File \"C:\\Users\\Dell\\anaconda3\\Lib\\site-packages\\sklearn\\model_selection\\_validation.py\", line 895, in _fit_and_score\n",
      "    estimator.fit(X_train, y_train, **fit_params)\n",
      "  File \"C:\\Users\\Dell\\anaconda3\\Lib\\site-packages\\sklearn\\base.py\", line 1467, in wrapper\n",
      "    estimator._validate_params()\n",
      "  File \"C:\\Users\\Dell\\anaconda3\\Lib\\site-packages\\sklearn\\base.py\", line 666, in _validate_params\n",
      "    validate_parameter_constraints(\n",
      "  File \"C:\\Users\\Dell\\anaconda3\\Lib\\site-packages\\sklearn\\utils\\_param_validation.py\", line 95, in validate_parameter_constraints\n",
      "    raise InvalidParameterError(\n",
      "sklearn.utils._param_validation.InvalidParameterError: The 'max_features' parameter of DecisionTreeClassifier must be an int in the range [1, inf), a float in the range (0.0, 1.0], a str among {'log2', 'sqrt'} or None. Got 'auto' instead.\n",
      "\n",
      "  warnings.warn(some_fits_failed_message, FitFailedWarning)\n",
      "C:\\Users\\Dell\\anaconda3\\Lib\\site-packages\\sklearn\\model_selection\\_search.py:1051: UserWarning: One or more of the test scores are non-finite: [nan nan nan nan nan nan nan nan nan nan]\n",
      "  warnings.warn(\n",
      "C:\\Users\\Dell\\anaconda3\\Lib\\site-packages\\sklearn\\metrics\\_classification.py:1509: UndefinedMetricWarning: Precision is ill-defined and being set to 0.0 in labels with no predicted samples. Use `zero_division` parameter to control this behavior.\n",
      "  _warn_prf(average, modifier, f\"{metric.capitalize()} is\", len(result))\n",
      "C:\\Users\\Dell\\anaconda3\\Lib\\site-packages\\sklearn\\metrics\\_classification.py:1509: UndefinedMetricWarning: Precision is ill-defined and being set to 0.0 in labels with no predicted samples. Use `zero_division` parameter to control this behavior.\n",
      "  _warn_prf(average, modifier, f\"{metric.capitalize()} is\", len(result))\n",
      "C:\\Users\\Dell\\anaconda3\\Lib\\site-packages\\sklearn\\metrics\\_classification.py:1509: UndefinedMetricWarning: Precision is ill-defined and being set to 0.0 in labels with no predicted samples. Use `zero_division` parameter to control this behavior.\n",
      "  _warn_prf(average, modifier, f\"{metric.capitalize()} is\", len(result))\n"
     ]
    }
   ],
   "source": [
    "max_depth=[3, 5, 6, 7, 8]\n",
    "criterion=[\"gini\",\"entropy\"]\n",
    "ccp_alpha=[0,0.01, 0.02, 0.05, 0.1, 0.2]\n",
    "splitter=[\"best\", \"random\"]\n",
    "min_samples_split=[2, 5, 10]\n",
    "min_samples_leaf=[1, 2, 4]\n",
    "max_features=[\"auto\", \"sqrt\", \"log2\"]\n",
    "tree_model = DecisionTreeClassifier()\n",
    "param_grid = {\n",
    "    'criterion': criterion,\n",
    "    'splitter': splitter,\n",
    "    'max_depth': max_depth,\n",
    "    'min_samples_split': min_samples_split,\n",
    "    'min_samples_leaf': min_samples_leaf,\n",
    "    'ccp_alpha': ccp_alpha,\n",
    "    'max_features': max_features,\n",
    "}\n",
    "random = RandomizedSearchCV(estimator=tree_model, param_distributions=param_grid, cv = 3, n_jobs=-1, scoring=f1_score)\n",
    "\n",
    "random_result = random.fit(X, y)\n",
    "model=random_result.best_estimator_\n",
    "y_hat=model.predict(X_val)\n",
    "report = classification_report(y_val, y_hat)\n",
    "print(report)"
   ],
   "metadata": {
    "collapsed": false,
    "ExecuteTime": {
     "end_time": "2024-04-19T21:21:33.625887Z",
     "start_time": "2024-04-19T21:21:33.559388Z"
    }
   },
   "id": "cc905dd0a23c2b0f",
   "execution_count": 76
  },
  {
   "cell_type": "code",
   "outputs": [
    {
     "data": {
      "text/plain": "0.717391304347826"
     },
     "execution_count": 77,
     "metadata": {},
     "output_type": "execute_result"
    }
   ],
   "source": [
    "best_model=random_result.best_estimator_\n",
    "best_model.score(X_val, y_val)"
   ],
   "metadata": {
    "collapsed": false,
    "ExecuteTime": {
     "end_time": "2024-04-19T21:21:48.992455Z",
     "start_time": "2024-04-19T21:21:48.984698Z"
    }
   },
   "id": "403cdb923cb56073",
   "execution_count": 77
  },
  {
   "cell_type": "markdown",
   "source": [
    "dla naive bayes"
   ],
   "metadata": {
    "collapsed": false
   },
   "id": "45237519daafce23"
  },
  {
   "cell_type": "code",
   "outputs": [
    {
     "name": "stdout",
     "output_type": "stream",
     "text": [
      "              precision    recall  f1-score   support\n",
      "\n",
      "           0       0.83      0.20      0.33        99\n",
      "           1       0.31      0.90      0.46        39\n",
      "\n",
      "    accuracy                           0.40       138\n",
      "   macro avg       0.57      0.55      0.39       138\n",
      "weighted avg       0.68      0.40      0.36       138\n"
     ]
    },
    {
     "name": "stderr",
     "output_type": "stream",
     "text": [
      "C:\\Users\\Dell\\anaconda3\\Lib\\site-packages\\sklearn\\model_selection\\_search.py:1051: UserWarning: One or more of the test scores are non-finite: [nan nan nan nan nan nan nan nan nan nan]\n",
      "  warnings.warn(\n"
     ]
    }
   ],
   "source": [
    "param_grid = {\n",
    "    'var_smoothing': [1e-12, 1e-10, 1e-9, 1e-8, 1e-7, 1e-6, 1e-5, 1e-4, 1e-3, 1e-2]\n",
    "}\n",
    "\n",
    "nb_model = GaussianNB()\n",
    "random = RandomizedSearchCV(estimator=nb_model, param_distributions=param_grid, cv = 3, n_jobs=-1, scoring=f1_score)\n",
    "\n",
    "random_result = random.fit(X, y)\n",
    "model=random_result.best_estimator_\n",
    "y_hat=model.predict(X_val)\n",
    "report = classification_report(y_val, y_hat)\n",
    "print(report)\n"
   ],
   "metadata": {
    "collapsed": false,
    "ExecuteTime": {
     "end_time": "2024-04-19T21:24:43.050718Z",
     "start_time": "2024-04-19T21:24:42.984610Z"
    }
   },
   "id": "ac92237641ab694",
   "execution_count": 81
  },
  {
   "cell_type": "markdown",
   "source": [
    "sobie sprawdzam jak działają rozkłady tutaj, bez pomysłu większego"
   ],
   "metadata": {
    "collapsed": false
   },
   "id": "6919da60935ae1b"
  },
  {
   "cell_type": "code",
   "outputs": [],
   "source": [
    "from scipy.stats import poisson,expon\n",
    "param_grid = {'ccp_alpha': expon(0.08),\n",
    "              'max_depth': poisson(5)}"
   ],
   "metadata": {
    "collapsed": false,
    "ExecuteTime": {
     "end_time": "2024-04-19T21:25:33.470538Z",
     "start_time": "2024-04-19T21:25:33.464333Z"
    }
   },
   "id": "6cc5bf6df8463cd4",
   "execution_count": 82
  },
  {
   "cell_type": "code",
   "outputs": [
    {
     "name": "stdout",
     "output_type": "stream",
     "text": [
      "              precision    recall  f1-score   support\n",
      "\n",
      "           0       0.72      1.00      0.84        99\n",
      "           1       0.00      0.00      0.00        39\n",
      "\n",
      "    accuracy                           0.72       138\n",
      "   macro avg       0.36      0.50      0.42       138\n",
      "weighted avg       0.51      0.72      0.60       138\n"
     ]
    },
    {
     "name": "stderr",
     "output_type": "stream",
     "text": [
      "C:\\Users\\Dell\\anaconda3\\Lib\\site-packages\\sklearn\\metrics\\_classification.py:1509: UndefinedMetricWarning: Precision is ill-defined and being set to 0.0 in labels with no predicted samples. Use `zero_division` parameter to control this behavior.\n",
      "  _warn_prf(average, modifier, f\"{metric.capitalize()} is\", len(result))\n",
      "C:\\Users\\Dell\\anaconda3\\Lib\\site-packages\\sklearn\\metrics\\_classification.py:1509: UndefinedMetricWarning: Precision is ill-defined and being set to 0.0 in labels with no predicted samples. Use `zero_division` parameter to control this behavior.\n",
      "  _warn_prf(average, modifier, f\"{metric.capitalize()} is\", len(result))\n",
      "C:\\Users\\Dell\\anaconda3\\Lib\\site-packages\\sklearn\\metrics\\_classification.py:1509: UndefinedMetricWarning: Precision is ill-defined and being set to 0.0 in labels with no predicted samples. Use `zero_division` parameter to control this behavior.\n",
      "  _warn_prf(average, modifier, f\"{metric.capitalize()} is\", len(result))\n"
     ]
    }
   ],
   "source": [
    "random = RandomizedSearchCV(estimator=tree_model, param_distributions=param_grid, cv = 3, n_jobs=-1, random_state=123)\n",
    "\n",
    "random_result = random.fit(X, y)\n",
    "model=random_result.best_estimator_\n",
    "y_hat=model.predict(X_val)\n",
    "report = classification_report(y_val, y_hat)\n",
    "print(report)"
   ],
   "metadata": {
    "collapsed": false,
    "ExecuteTime": {
     "end_time": "2024-04-19T21:26:08.766366Z",
     "start_time": "2024-04-19T21:26:08.440069Z"
    }
   },
   "id": "59833523e7a50e3a",
   "execution_count": 85
  },
  {
   "cell_type": "markdown",
   "source": [
    "# Bayes search"
   ],
   "metadata": {
    "collapsed": false
   },
   "id": "712882ec4cd10f28"
  },
  {
   "cell_type": "code",
   "outputs": [
    {
     "name": "stdout",
     "output_type": "stream",
     "text": [
      "Collecting scikit-optimize\n",
      "  Obtaining dependency information for scikit-optimize from https://files.pythonhosted.org/packages/90/0e/15deb91b3db0003843e34e72fa865e1d92013781d986fdc65483c99a9f69/scikit_optimize-0.10.1-py2.py3-none-any.whl.metadata\n",
      "  Downloading scikit_optimize-0.10.1-py2.py3-none-any.whl.metadata (9.7 kB)\n",
      "Requirement already satisfied: joblib>=0.11 in c:\\users\\dell\\anaconda3\\lib\\site-packages (from scikit-optimize) (1.2.0)\n",
      "Collecting pyaml>=16.9 (from scikit-optimize)\n",
      "  Obtaining dependency information for pyaml>=16.9 from https://files.pythonhosted.org/packages/70/d9/6fdc01cee01fe56fddfd46892d9846ebb53a5f8eb78056955c516eef42c5/pyaml-24.4.0-py3-none-any.whl.metadata\n",
      "  Downloading pyaml-24.4.0-py3-none-any.whl.metadata (11 kB)\n",
      "Requirement already satisfied: numpy>=1.20.3 in c:\\users\\dell\\anaconda3\\lib\\site-packages (from scikit-optimize) (1.24.3)\n",
      "Requirement already satisfied: scipy>=1.1.0 in c:\\users\\dell\\anaconda3\\lib\\site-packages (from scikit-optimize) (1.11.1)\n",
      "Requirement already satisfied: scikit-learn>=1.0.0 in c:\\users\\dell\\anaconda3\\lib\\site-packages (from scikit-optimize) (1.4.1.post1)\n",
      "Requirement already satisfied: packaging>=21.3 in c:\\users\\dell\\anaconda3\\lib\\site-packages (from scikit-optimize) (23.1)\n",
      "Requirement already satisfied: PyYAML in c:\\users\\dell\\anaconda3\\lib\\site-packages (from pyaml>=16.9->scikit-optimize) (6.0)\n",
      "Requirement already satisfied: threadpoolctl>=2.0.0 in c:\\users\\dell\\anaconda3\\lib\\site-packages (from scikit-learn>=1.0.0->scikit-optimize) (2.2.0)\n",
      "Downloading scikit_optimize-0.10.1-py2.py3-none-any.whl (107 kB)\n",
      "   ---------------------------------------- 0.0/107.7 kB ? eta -:--:--\n",
      "   ----------- --------------------------- 30.7/107.7 kB 660.6 kB/s eta 0:00:01\n",
      "   -------------------------------------- - 102.4/107.7 kB 1.2 MB/s eta 0:00:01\n",
      "   -------------------------------------- 107.7/107.7 kB 894.5 kB/s eta 0:00:00\n",
      "Downloading pyaml-24.4.0-py3-none-any.whl (24 kB)\n",
      "Installing collected packages: pyaml, scikit-optimize\n",
      "Successfully installed pyaml-24.4.0 scikit-optimize-0.10.1\n"
     ]
    },
    {
     "name": "stderr",
     "output_type": "stream",
     "text": [
      "WARNING: Retrying (Retry(total=4, connect=None, read=None, redirect=None, status=None)) after connection broken by 'ConnectTimeoutError(<pip._vendor.urllib3.connection.HTTPSConnection object at 0x000001A10744FD10>, 'Connection to pypi.org timed out. (connect timeout=15)')': /simple/scikit-optimize/\n"
     ]
    }
   ],
   "source": [
    "! pip install scikit-optimize"
   ],
   "metadata": {
    "collapsed": false,
    "ExecuteTime": {
     "end_time": "2024-04-18T10:15:56.870197Z",
     "start_time": "2024-04-18T10:14:45.639604Z"
    }
   },
   "id": "d332b4d43eb64850",
   "execution_count": 46
  },
  {
   "cell_type": "code",
   "outputs": [
    {
     "name": "stdout",
     "output_type": "stream",
     "text": [
      "              precision    recall  f1-score   support\n",
      "\n",
      "           0       0.73      0.95      0.82        99\n",
      "           1       0.44      0.10      0.17        39\n",
      "\n",
      "    accuracy                           0.71       138\n",
      "   macro avg       0.59      0.53      0.50       138\n",
      "weighted avg       0.65      0.71      0.64       138\n"
     ]
    }
   ],
   "source": [
    "from skopt import BayesSearchCV\n",
    "from sklearn.svm import SVC\n",
    "\n",
    "opt = BayesSearchCV(\n",
    "    SVC(),\n",
    "    {\n",
    "        'degree': (1, 10),  # integer valued parameter\n",
    "        'kernel': ['linear', 'poly', 'rbf'],  # categorical parameter\n",
    "    },\n",
    "    n_iter=9,\n",
    "    cv=3\n",
    ")\n",
    "result = opt.fit(X, y)\n",
    "model=result.best_estimator_\n",
    "y_hat=model.predict(X_val)\n",
    "report = classification_report(y_val, y_hat)\n",
    "print(report)"
   ],
   "metadata": {
    "collapsed": false,
    "ExecuteTime": {
     "end_time": "2024-04-19T21:35:30.602725Z",
     "start_time": "2024-04-19T21:35:29.645404Z"
    }
   },
   "id": "92744c7584ed3569",
   "execution_count": 101
  },
  {
   "cell_type": "markdown",
   "source": [
    "zobaczmy dla naive bayesa jeszcze"
   ],
   "metadata": {
    "collapsed": false
   },
   "id": "a62cf3ea339b287b"
  },
  {
   "cell_type": "code",
   "outputs": [
    {
     "name": "stdout",
     "output_type": "stream",
     "text": [
      "              precision    recall  f1-score   support\n",
      "\n",
      "           0       0.80      0.36      0.50        99\n",
      "           1       0.32      0.77      0.45        39\n",
      "\n",
      "    accuracy                           0.48       138\n",
      "   macro avg       0.56      0.57      0.48       138\n",
      "weighted avg       0.67      0.48      0.49       138\n"
     ]
    }
   ],
   "source": [
    "from skopt import BayesSearchCV\n",
    "\n",
    "opt = BayesSearchCV(\n",
    "    GaussianNB(),\n",
    "    {\n",
    "        'var_smoothing': [1e-9, 1e-8, 1e-7, 1e-6, 1e-5]\n",
    "    },\n",
    "    n_iter=5,\n",
    "    cv=3\n",
    ")\n",
    "\n",
    "result = opt.fit(X, y)\n",
    "model=result.best_estimator_\n",
    "y_hat=model.predict(X_val)\n",
    "report = classification_report(y_val, y_hat)\n",
    "print(report)"
   ],
   "metadata": {
    "collapsed": false,
    "ExecuteTime": {
     "end_time": "2024-04-19T21:36:10.210958Z",
     "start_time": "2024-04-19T21:36:10.130362Z"
    }
   },
   "id": "e6632022c3ea8736",
   "execution_count": 102
  },
  {
   "cell_type": "markdown",
   "source": [
    "# lightautoML"
   ],
   "metadata": {
    "collapsed": false
   },
   "id": "3c15ff5981a31b20"
  },
  {
   "cell_type": "code",
   "outputs": [
    {
     "name": "stdout",
     "output_type": "stream",
     "text": [
      "Collecting lightautoml\n",
      "  Obtaining dependency information for lightautoml from https://files.pythonhosted.org/packages/6d/82/81771067b1ecc2ac87aec5d14d862b4567eea95504ef576718f6b7755ac6/lightautoml-0.3.8.1-py3-none-any.whl.metadata\n",
      "  Using cached lightautoml-0.3.8.1-py3-none-any.whl.metadata (16 kB)\n",
      "Collecting autowoe>=1.2 (from lightautoml)\n",
      "  Obtaining dependency information for autowoe>=1.2 from https://files.pythonhosted.org/packages/61/09/ccf2ad21f105d07d73bedf065597359a2445d053696a9e1e57dcee397a97/AutoWoE-1.3.2-py3-none-any.whl.metadata\n",
      "  Using cached AutoWoE-1.3.2-py3-none-any.whl.metadata (2.8 kB)\n",
      "Collecting catboost>=0.26.1 (from lightautoml)\n",
      "  Obtaining dependency information for catboost>=0.26.1 from https://files.pythonhosted.org/packages/e8/37/3afd3c02798734efcd7840bfa872d3efc06f5d5c92f9613fea3ff5b4311f/catboost-1.2.3-cp311-cp311-win_amd64.whl.metadata\n",
      "  Using cached catboost-1.2.3-cp311-cp311-win_amd64.whl.metadata (1.2 kB)\n",
      "Requirement already satisfied: cmaes in c:\\users\\dell\\anaconda3\\lib\\site-packages (from lightautoml) (0.10.0)\n",
      "Collecting holidays (from lightautoml)\n",
      "  Obtaining dependency information for holidays from https://files.pythonhosted.org/packages/4d/c1/9190d856fb2c9ca7e5dabab530289bf66d03c0e379096678c0ee210abf75/holidays-0.47-py3-none-any.whl.metadata\n",
      "  Using cached holidays-0.47-py3-none-any.whl.metadata (23 kB)\n",
      "Requirement already satisfied: jinja2 in c:\\users\\dell\\anaconda3\\lib\\site-packages (from lightautoml) (3.1.2)\n",
      "Requirement already satisfied: joblib<1.3.0 in c:\\users\\dell\\anaconda3\\lib\\site-packages (from lightautoml) (1.2.0)\n",
      "Requirement already satisfied: json2html in c:\\users\\dell\\anaconda3\\lib\\site-packages (from lightautoml) (1.3.0)\n",
      "Collecting lightgbm<=3.2.1,>=2.3 (from lightautoml)\n",
      "  Obtaining dependency information for lightgbm<=3.2.1,>=2.3 from https://files.pythonhosted.org/packages/13/16/0fdf64abd7efa61a7f47b1fe59ad25820384c58abf532e6847e7cd0190d6/lightgbm-3.2.1-py3-none-win_amd64.whl.metadata\n",
      "  Using cached lightgbm-3.2.1-py3-none-win_amd64.whl.metadata (14 kB)\n",
      "Requirement already satisfied: networkx in c:\\users\\dell\\anaconda3\\lib\\site-packages (from lightautoml) (3.1)\n",
      "Requirement already satisfied: numpy>=1.22 in c:\\users\\dell\\anaconda3\\lib\\site-packages (from lightautoml) (1.24.3)\n",
      "Collecting optuna (from lightautoml)\n",
      "  Obtaining dependency information for optuna from https://files.pythonhosted.org/packages/15/da/68883911855d8b4d521f9a370e4e6aab8232b91c1d8d5a8348c4680c6642/optuna-3.6.1-py3-none-any.whl.metadata\n",
      "  Using cached optuna-3.6.1-py3-none-any.whl.metadata (17 kB)\n",
      "Requirement already satisfied: pandas<2.0.0 in c:\\users\\dell\\anaconda3\\lib\\site-packages (from lightautoml) (1.5.3)\n",
      "Requirement already satisfied: poetry-core<2.0.0,>=1.0.0 in c:\\users\\dell\\anaconda3\\lib\\site-packages (from lightautoml) (1.9.0)\n",
      "Requirement already satisfied: pyyaml in c:\\users\\dell\\anaconda3\\lib\\site-packages (from lightautoml) (6.0)\n",
      "Requirement already satisfied: scikit-learn>=0.22 in c:\\users\\dell\\anaconda3\\lib\\site-packages (from lightautoml) (1.4.1.post1)\n",
      "Requirement already satisfied: seaborn in c:\\users\\dell\\anaconda3\\lib\\site-packages (from lightautoml) (0.12.2)\n",
      "Requirement already satisfied: statsmodels<=0.14.0 in c:\\users\\dell\\anaconda3\\lib\\site-packages (from lightautoml) (0.14.0)\n",
      "Requirement already satisfied: torch<=2.0.0,>=1.9.0 in c:\\users\\dell\\anaconda3\\lib\\site-packages (from lightautoml) (2.0.0)\n",
      "Requirement already satisfied: tqdm in c:\\users\\dell\\anaconda3\\lib\\site-packages (from lightautoml) (4.65.0)\n",
      "Requirement already satisfied: StrEnum<0.5.0,>=0.4.7 in c:\\users\\dell\\anaconda3\\lib\\site-packages (from autowoe>=1.2->lightautoml) (0.4.15)\n",
      "Requirement already satisfied: matplotlib in c:\\users\\dell\\anaconda3\\lib\\site-packages (from autowoe>=1.2->lightautoml) (3.7.2)\n",
      "Requirement already satisfied: pytest in c:\\users\\dell\\anaconda3\\lib\\site-packages (from autowoe>=1.2->lightautoml) (7.4.0)\n",
      "Requirement already satisfied: pytz in c:\\users\\dell\\anaconda3\\lib\\site-packages (from autowoe>=1.2->lightautoml) (2023.3.post1)\n",
      "Requirement already satisfied: scipy in c:\\users\\dell\\anaconda3\\lib\\site-packages (from autowoe>=1.2->lightautoml) (1.11.1)\n",
      "Requirement already satisfied: sphinx in c:\\users\\dell\\anaconda3\\lib\\site-packages (from autowoe>=1.2->lightautoml) (5.0.2)\n",
      "Collecting sphinx-rtd-theme (from autowoe>=1.2->lightautoml)\n",
      "  Obtaining dependency information for sphinx-rtd-theme from https://files.pythonhosted.org/packages/ea/46/00fda84467815c29951a9c91e3ae7503c409ddad04373e7cfc78daad4300/sphinx_rtd_theme-2.0.0-py2.py3-none-any.whl.metadata\n",
      "  Using cached sphinx_rtd_theme-2.0.0-py2.py3-none-any.whl.metadata (4.4 kB)\n",
      "Requirement already satisfied: graphviz in c:\\users\\dell\\anaconda3\\lib\\site-packages (from catboost>=0.26.1->lightautoml) (0.20.3)\n",
      "Requirement already satisfied: plotly in c:\\users\\dell\\anaconda3\\lib\\site-packages (from catboost>=0.26.1->lightautoml) (5.9.0)\n",
      "Requirement already satisfied: six in c:\\users\\dell\\anaconda3\\lib\\site-packages (from catboost>=0.26.1->lightautoml) (1.16.0)\n",
      "Requirement already satisfied: wheel in c:\\users\\dell\\anaconda3\\lib\\site-packages (from lightgbm<=3.2.1,>=2.3->lightautoml) (0.38.4)\n",
      "Requirement already satisfied: python-dateutil>=2.8.1 in c:\\users\\dell\\anaconda3\\lib\\site-packages (from pandas<2.0.0->lightautoml) (2.8.2)\n",
      "Requirement already satisfied: threadpoolctl>=2.0.0 in c:\\users\\dell\\anaconda3\\lib\\site-packages (from scikit-learn>=0.22->lightautoml) (2.2.0)\n",
      "Requirement already satisfied: patsy>=0.5.2 in c:\\users\\dell\\anaconda3\\lib\\site-packages (from statsmodels<=0.14.0->lightautoml) (0.5.3)\n",
      "Requirement already satisfied: packaging>=21.3 in c:\\users\\dell\\anaconda3\\lib\\site-packages (from statsmodels<=0.14.0->lightautoml) (23.1)\n",
      "Requirement already satisfied: filelock in c:\\users\\dell\\anaconda3\\lib\\site-packages (from torch<=2.0.0,>=1.9.0->lightautoml) (3.9.0)\n",
      "Requirement already satisfied: typing-extensions in c:\\users\\dell\\anaconda3\\lib\\site-packages (from torch<=2.0.0,>=1.9.0->lightautoml) (4.7.1)\n",
      "Requirement already satisfied: sympy in c:\\users\\dell\\anaconda3\\lib\\site-packages (from torch<=2.0.0,>=1.9.0->lightautoml) (1.11.1)\n",
      "Requirement already satisfied: colorama in c:\\users\\dell\\anaconda3\\lib\\site-packages (from tqdm->lightautoml) (0.4.6)\n",
      "Requirement already satisfied: MarkupSafe>=2.0 in c:\\users\\dell\\anaconda3\\lib\\site-packages (from jinja2->lightautoml) (2.1.1)\n",
      "Collecting alembic>=1.5.0 (from optuna->lightautoml)\n",
      "  Obtaining dependency information for alembic>=1.5.0 from https://files.pythonhosted.org/packages/7f/50/9fb3a5c80df6eb6516693270621676980acd6d5a9a7efdbfa273f8d616c7/alembic-1.13.1-py3-none-any.whl.metadata\n",
      "  Using cached alembic-1.13.1-py3-none-any.whl.metadata (7.4 kB)\n",
      "Requirement already satisfied: colorlog in c:\\users\\dell\\anaconda3\\lib\\site-packages (from optuna->lightautoml) (6.8.2)\n",
      "Requirement already satisfied: sqlalchemy>=1.3.0 in c:\\users\\dell\\anaconda3\\lib\\site-packages (from optuna->lightautoml) (1.4.39)\n",
      "Requirement already satisfied: Mako in c:\\users\\dell\\anaconda3\\lib\\site-packages (from alembic>=1.5.0->optuna->lightautoml) (1.3.3)\n",
      "Requirement already satisfied: contourpy>=1.0.1 in c:\\users\\dell\\anaconda3\\lib\\site-packages (from matplotlib->autowoe>=1.2->lightautoml) (1.0.5)\n",
      "Requirement already satisfied: cycler>=0.10 in c:\\users\\dell\\anaconda3\\lib\\site-packages (from matplotlib->autowoe>=1.2->lightautoml) (0.11.0)\n",
      "Requirement already satisfied: fonttools>=4.22.0 in c:\\users\\dell\\anaconda3\\lib\\site-packages (from matplotlib->autowoe>=1.2->lightautoml) (4.25.0)\n",
      "Requirement already satisfied: kiwisolver>=1.0.1 in c:\\users\\dell\\anaconda3\\lib\\site-packages (from matplotlib->autowoe>=1.2->lightautoml) (1.4.4)\n",
      "Requirement already satisfied: pillow>=6.2.0 in c:\\users\\dell\\anaconda3\\lib\\site-packages (from matplotlib->autowoe>=1.2->lightautoml) (9.4.0)\n",
      "Requirement already satisfied: pyparsing<3.1,>=2.3.1 in c:\\users\\dell\\anaconda3\\lib\\site-packages (from matplotlib->autowoe>=1.2->lightautoml) (3.0.9)\n",
      "Requirement already satisfied: greenlet!=0.4.17 in c:\\users\\dell\\anaconda3\\lib\\site-packages (from sqlalchemy>=1.3.0->optuna->lightautoml) (2.0.1)\n",
      "Requirement already satisfied: tenacity>=6.2.0 in c:\\users\\dell\\anaconda3\\lib\\site-packages (from plotly->catboost>=0.26.1->lightautoml) (8.2.2)\n",
      "Requirement already satisfied: iniconfig in c:\\users\\dell\\anaconda3\\lib\\site-packages (from pytest->autowoe>=1.2->lightautoml) (1.1.1)\n",
      "Requirement already satisfied: pluggy<2.0,>=0.12 in c:\\users\\dell\\anaconda3\\lib\\site-packages (from pytest->autowoe>=1.2->lightautoml) (1.0.0)\n",
      "Requirement already satisfied: sphinxcontrib-applehelp in c:\\users\\dell\\anaconda3\\lib\\site-packages (from sphinx->autowoe>=1.2->lightautoml) (1.0.2)\n",
      "Requirement already satisfied: sphinxcontrib-devhelp in c:\\users\\dell\\anaconda3\\lib\\site-packages (from sphinx->autowoe>=1.2->lightautoml) (1.0.2)\n",
      "Requirement already satisfied: sphinxcontrib-jsmath in c:\\users\\dell\\anaconda3\\lib\\site-packages (from sphinx->autowoe>=1.2->lightautoml) (1.0.1)\n",
      "Requirement already satisfied: sphinxcontrib-htmlhelp>=2.0.0 in c:\\users\\dell\\anaconda3\\lib\\site-packages (from sphinx->autowoe>=1.2->lightautoml) (2.0.0)\n",
      "Requirement already satisfied: sphinxcontrib-serializinghtml>=1.1.5 in c:\\users\\dell\\anaconda3\\lib\\site-packages (from sphinx->autowoe>=1.2->lightautoml) (1.1.5)\n",
      "Requirement already satisfied: sphinxcontrib-qthelp in c:\\users\\dell\\anaconda3\\lib\\site-packages (from sphinx->autowoe>=1.2->lightautoml) (1.0.3)\n",
      "Requirement already satisfied: Pygments>=2.0 in c:\\users\\dell\\anaconda3\\lib\\site-packages (from sphinx->autowoe>=1.2->lightautoml) (2.15.1)\n",
      "Requirement already satisfied: docutils<0.19,>=0.14 in c:\\users\\dell\\anaconda3\\lib\\site-packages (from sphinx->autowoe>=1.2->lightautoml) (0.18.1)\n",
      "Requirement already satisfied: snowballstemmer>=1.1 in c:\\users\\dell\\anaconda3\\lib\\site-packages (from sphinx->autowoe>=1.2->lightautoml) (2.2.0)\n",
      "Requirement already satisfied: babel>=1.3 in c:\\users\\dell\\anaconda3\\lib\\site-packages (from sphinx->autowoe>=1.2->lightautoml) (2.11.0)\n",
      "Requirement already satisfied: alabaster<0.8,>=0.7 in c:\\users\\dell\\anaconda3\\lib\\site-packages (from sphinx->autowoe>=1.2->lightautoml) (0.7.12)\n",
      "Requirement already satisfied: imagesize in c:\\users\\dell\\anaconda3\\lib\\site-packages (from sphinx->autowoe>=1.2->lightautoml) (1.4.1)\n",
      "Requirement already satisfied: requests>=2.5.0 in c:\\users\\dell\\anaconda3\\lib\\site-packages (from sphinx->autowoe>=1.2->lightautoml) (2.31.0)\n",
      "Collecting sphinxcontrib-jquery<5,>=4 (from sphinx-rtd-theme->autowoe>=1.2->lightautoml)\n",
      "  Obtaining dependency information for sphinxcontrib-jquery<5,>=4 from https://files.pythonhosted.org/packages/76/85/749bd22d1a68db7291c89e2ebca53f4306c3f205853cf31e9de279034c3c/sphinxcontrib_jquery-4.1-py2.py3-none-any.whl.metadata\n",
      "  Using cached sphinxcontrib_jquery-4.1-py2.py3-none-any.whl.metadata (2.6 kB)\n",
      "Requirement already satisfied: mpmath>=0.19 in c:\\users\\dell\\anaconda3\\lib\\site-packages (from sympy->torch<=2.0.0,>=1.9.0->lightautoml) (1.3.0)\n",
      "Requirement already satisfied: charset-normalizer<4,>=2 in c:\\users\\dell\\anaconda3\\lib\\site-packages (from requests>=2.5.0->sphinx->autowoe>=1.2->lightautoml) (2.0.4)\n",
      "Requirement already satisfied: idna<4,>=2.5 in c:\\users\\dell\\anaconda3\\lib\\site-packages (from requests>=2.5.0->sphinx->autowoe>=1.2->lightautoml) (3.4)\n",
      "Requirement already satisfied: urllib3<3,>=1.21.1 in c:\\users\\dell\\anaconda3\\lib\\site-packages (from requests>=2.5.0->sphinx->autowoe>=1.2->lightautoml) (1.26.16)\n",
      "Requirement already satisfied: certifi>=2017.4.17 in c:\\users\\dell\\anaconda3\\lib\\site-packages (from requests>=2.5.0->sphinx->autowoe>=1.2->lightautoml) (2023.7.22)\n",
      "Using cached lightautoml-0.3.8.1-py3-none-any.whl (416 kB)\n",
      "Using cached AutoWoE-1.3.2-py3-none-any.whl (215 kB)\n",
      "Using cached catboost-1.2.3-cp311-cp311-win_amd64.whl (101.1 MB)\n",
      "Using cached lightgbm-3.2.1-py3-none-win_amd64.whl (1.0 MB)\n",
      "Using cached holidays-0.47-py3-none-any.whl (1.0 MB)\n",
      "Using cached optuna-3.6.1-py3-none-any.whl (380 kB)\n",
      "Using cached alembic-1.13.1-py3-none-any.whl (233 kB)\n",
      "Using cached sphinx_rtd_theme-2.0.0-py2.py3-none-any.whl (2.8 MB)\n",
      "Using cached sphinxcontrib_jquery-4.1-py2.py3-none-any.whl (121 kB)\n",
      "Installing collected packages: holidays, alembic, sphinxcontrib-jquery, optuna, lightgbm, catboost, sphinx-rtd-theme, autowoe, lightautoml\n",
      "Successfully installed alembic-1.13.1 autowoe-1.3.2 catboost-1.2.3 holidays-0.47 lightautoml-0.3.8.1 lightgbm-3.2.1 optuna-3.6.1 sphinx-rtd-theme-2.0.0 sphinxcontrib-jquery-4.1\n"
     ]
    }
   ],
   "source": [
    "!pip install -U lightautoml"
   ],
   "metadata": {
    "collapsed": false,
    "ExecuteTime": {
     "end_time": "2024-04-18T10:27:35.574329Z",
     "start_time": "2024-04-18T10:26:25.801058Z"
    }
   },
   "id": "5cd984c6ef525835",
   "execution_count": 63
  },
  {
   "cell_type": "code",
   "outputs": [],
   "source": [
    "import os\n",
    "import time\n",
    "import re\n",
    "\n",
    "import numpy as np\n",
    "import pandas as pd\n",
    "from sklearn.metrics import accuracy_score, f1_score, roc_auc_score\n",
    "from sklearn.model_selection import train_test_split\n",
    "\n",
    "# Imports from LightAutoML package\n",
    "from lightautoml.automl.presets.tabular_presets import TabularAutoML, TabularUtilizedAutoML\n",
    "from lightautoml.tasks import Task"
   ],
   "metadata": {
    "collapsed": false,
    "ExecuteTime": {
     "end_time": "2024-04-19T21:36:42.545852Z",
     "start_time": "2024-04-19T21:36:35.996223Z"
    }
   },
   "id": "8c17451c3b7d0979",
   "execution_count": 103
  },
  {
   "cell_type": "code",
   "outputs": [],
   "source": [
    "def f1_metric(y_true, y_pred):\n",
    "    return f1_score(y_true, (y_pred > 0.5).astype(int))\n",
    "\n",
    "def acc_score(y_true, y_pred):\n",
    "    return accuracy_score(y_true, (y_pred > 0.5).astype(int))\n",
    "\n",
    "def gini(y_true, y_pred):\n",
    "    return 2*roc_auc_score(y_true, y_pred)-1\n",
    "\n",
    "task = Task('binary', metric = f1_metric)"
   ],
   "metadata": {
    "collapsed": false,
    "ExecuteTime": {
     "end_time": "2024-04-19T21:36:42.556647Z",
     "start_time": "2024-04-19T21:36:42.546410Z"
    }
   },
   "id": "7f1b2fa2904fc98",
   "execution_count": 104
  },
  {
   "cell_type": "code",
   "outputs": [],
   "source": [
    "roles = {'target': 'DEFAULT'}"
   ],
   "metadata": {
    "collapsed": false,
    "ExecuteTime": {
     "end_time": "2024-04-19T21:36:47.662697Z",
     "start_time": "2024-04-19T21:36:47.659730Z"
    }
   },
   "id": "a6be7aaa01a7ffd3",
   "execution_count": 105
  },
  {
   "cell_type": "code",
   "outputs": [],
   "source": [
    "automl = TabularAutoML(task = task,\n",
    "                       timeout = 600, \n",
    "                       cpu_limit = 4, #\n",
    "                       general_params = {'use_algos': [['linear_l2',\n",
    "                                                        'lgb', 'lgb_tuned']]})"
   ],
   "metadata": {
    "collapsed": false,
    "ExecuteTime": {
     "end_time": "2024-04-19T21:36:49.583679Z",
     "start_time": "2024-04-19T21:36:49.556306Z"
    }
   },
   "id": "2dc85ed4853f8b88",
   "execution_count": 106
  },
  {
   "cell_type": "code",
   "outputs": [],
   "source": [
    "tr_data=df_train\n",
    "valid_data=df_val\n",
    "oof_pred = automl.fit_predict(tr_data, roles = roles)"
   ],
   "metadata": {
    "collapsed": false,
    "ExecuteTime": {
     "end_time": "2024-04-19T21:41:10.965059Z",
     "start_time": "2024-04-19T21:37:42.204599Z"
    }
   },
   "id": "c4d6aa9dbc075dfa",
   "execution_count": 108
  },
  {
   "cell_type": "code",
   "outputs": [],
   "source": [
    "valid_pred = automl.predict(valid_data)"
   ],
   "metadata": {
    "collapsed": false,
    "ExecuteTime": {
     "end_time": "2024-04-19T21:41:48.920400Z",
     "start_time": "2024-04-19T21:41:48.864485Z"
    }
   },
   "id": "5a1d142bbc2ca929",
   "execution_count": 109
  },
  {
   "cell_type": "code",
   "outputs": [
    {
     "name": "stdout",
     "output_type": "stream",
     "text": [
      "OOF acc: 0.3391812865497076\n",
      "VAL acc: 0.20408163265306123\n"
     ]
    }
   ],
   "source": [
    "print('OOF acc: {}'.format(f1_metric(tr_data['DEFAULT'].values,      oof_pred.data[:, 0])))\n",
    "print('VAL acc: {}'.format(f1_metric(valid_data['DEFAULT'].values, valid_pred.data[:, 0])))"
   ],
   "metadata": {
    "collapsed": false,
    "ExecuteTime": {
     "end_time": "2024-04-19T21:41:50.649252Z",
     "start_time": "2024-04-19T21:41:50.639063Z"
    }
   },
   "id": "977d514fe2fd0ba1",
   "execution_count": 110
  },
  {
   "cell_type": "markdown",
   "source": [
    "# tpot"
   ],
   "metadata": {
    "collapsed": false
   },
   "id": "81ac3987db47e6d9"
  },
  {
   "cell_type": "code",
   "outputs": [
    {
     "name": "stdout",
     "output_type": "stream",
     "text": [
      "Requirement already satisfied: tpot in c:\\users\\dell\\anaconda3\\lib\\site-packages (0.12.2)\n",
      "Requirement already satisfied: numpy>=1.16.3 in c:\\users\\dell\\anaconda3\\lib\\site-packages (from tpot) (1.24.3)\n",
      "Requirement already satisfied: scipy>=1.3.1 in c:\\users\\dell\\anaconda3\\lib\\site-packages (from tpot) (1.11.1)\n",
      "Requirement already satisfied: scikit-learn>=1.4.1 in c:\\users\\dell\\anaconda3\\lib\\site-packages (from tpot) (1.4.1.post1)\n",
      "Requirement already satisfied: deap>=1.2 in c:\\users\\dell\\anaconda3\\lib\\site-packages (from tpot) (1.4.1)\n",
      "Requirement already satisfied: update-checker>=0.16 in c:\\users\\dell\\anaconda3\\lib\\site-packages (from tpot) (0.18.0)\n",
      "Requirement already satisfied: tqdm>=4.36.1 in c:\\users\\dell\\anaconda3\\lib\\site-packages (from tpot) (4.65.0)\n",
      "Requirement already satisfied: stopit>=1.1.1 in c:\\users\\dell\\anaconda3\\lib\\site-packages (from tpot) (1.1.2)\n",
      "Requirement already satisfied: pandas>=0.24.2 in c:\\users\\dell\\anaconda3\\lib\\site-packages (from tpot) (1.5.3)\n",
      "Requirement already satisfied: joblib>=0.13.2 in c:\\users\\dell\\anaconda3\\lib\\site-packages (from tpot) (1.2.0)\n",
      "Requirement already satisfied: xgboost>=1.1.0 in c:\\users\\dell\\anaconda3\\lib\\site-packages (from tpot) (2.0.3)\n",
      "Requirement already satisfied: python-dateutil>=2.8.1 in c:\\users\\dell\\anaconda3\\lib\\site-packages (from pandas>=0.24.2->tpot) (2.8.2)\n",
      "Requirement already satisfied: pytz>=2020.1 in c:\\users\\dell\\anaconda3\\lib\\site-packages (from pandas>=0.24.2->tpot) (2023.3.post1)\n",
      "Requirement already satisfied: threadpoolctl>=2.0.0 in c:\\users\\dell\\anaconda3\\lib\\site-packages (from scikit-learn>=1.4.1->tpot) (2.2.0)\n",
      "Requirement already satisfied: colorama in c:\\users\\dell\\anaconda3\\lib\\site-packages (from tqdm>=4.36.1->tpot) (0.4.6)\n",
      "Requirement already satisfied: requests>=2.3.0 in c:\\users\\dell\\anaconda3\\lib\\site-packages (from update-checker>=0.16->tpot) (2.31.0)\n",
      "Requirement already satisfied: six>=1.5 in c:\\users\\dell\\anaconda3\\lib\\site-packages (from python-dateutil>=2.8.1->pandas>=0.24.2->tpot) (1.16.0)\n",
      "Requirement already satisfied: charset-normalizer<4,>=2 in c:\\users\\dell\\anaconda3\\lib\\site-packages (from requests>=2.3.0->update-checker>=0.16->tpot) (2.0.4)\n",
      "Requirement already satisfied: idna<4,>=2.5 in c:\\users\\dell\\anaconda3\\lib\\site-packages (from requests>=2.3.0->update-checker>=0.16->tpot) (3.4)\n",
      "Requirement already satisfied: urllib3<3,>=1.21.1 in c:\\users\\dell\\anaconda3\\lib\\site-packages (from requests>=2.3.0->update-checker>=0.16->tpot) (1.26.16)\n",
      "Requirement already satisfied: certifi>=2017.4.17 in c:\\users\\dell\\anaconda3\\lib\\site-packages (from requests>=2.3.0->update-checker>=0.16->tpot) (2023.7.22)\n"
     ]
    }
   ],
   "source": [
    "!pip install tpot"
   ],
   "metadata": {
    "collapsed": false,
    "ExecuteTime": {
     "end_time": "2024-04-18T10:46:28.283709Z",
     "start_time": "2024-04-18T10:46:12.390520Z"
    }
   },
   "id": "b3968cb895464ef3",
   "execution_count": 86
  },
  {
   "cell_type": "code",
   "outputs": [],
   "source": [
    "from tpot import TPOTClassifier"
   ],
   "metadata": {
    "collapsed": false,
    "ExecuteTime": {
     "end_time": "2024-04-19T21:41:58.813690Z",
     "start_time": "2024-04-19T21:41:58.681393Z"
    }
   },
   "id": "d4f2bee229cad45a",
   "execution_count": 111
  },
  {
   "cell_type": "code",
   "outputs": [
    {
     "data": {
      "text/plain": "Optimization Progress:   0%|          | 0/300 [00:00<?, ?pipeline/s]",
      "application/vnd.jupyter.widget-view+json": {
       "version_major": 2,
       "version_minor": 0,
       "model_id": "e28f6de9707f4282a78b21b3ba0fa53a"
      }
     },
     "metadata": {},
     "output_type": "display_data"
    },
    {
     "name": "stdout",
     "output_type": "stream",
     "text": [
      "\n",
      "Generation 1 - Current best internal CV score: 0.7404255319148936\n",
      "\n",
      "Generation 2 - Current best internal CV score: 0.7404255319148936\n",
      "\n",
      "Generation 3 - Current best internal CV score: 0.7446808510638298\n",
      "\n",
      "Generation 4 - Current best internal CV score: 0.7446808510638299\n",
      "\n",
      "Generation 5 - Current best internal CV score: 0.7446808510638299\n",
      "\n",
      "Best pipeline: ExtraTreesClassifier(input_matrix, bootstrap=False, criterion=gini, max_features=0.55, min_samples_leaf=8, min_samples_split=9, n_estimators=100)\n"
     ]
    },
    {
     "data": {
      "text/plain": "TPOTClassifier(generations=5, population_size=50, random_state=42, verbosity=2)",
      "text/html": "<style>#sk-container-id-1 {\n  /* Definition of color scheme common for light and dark mode */\n  --sklearn-color-text: black;\n  --sklearn-color-line: gray;\n  /* Definition of color scheme for unfitted estimators */\n  --sklearn-color-unfitted-level-0: #fff5e6;\n  --sklearn-color-unfitted-level-1: #f6e4d2;\n  --sklearn-color-unfitted-level-2: #ffe0b3;\n  --sklearn-color-unfitted-level-3: chocolate;\n  /* Definition of color scheme for fitted estimators */\n  --sklearn-color-fitted-level-0: #f0f8ff;\n  --sklearn-color-fitted-level-1: #d4ebff;\n  --sklearn-color-fitted-level-2: #b3dbfd;\n  --sklearn-color-fitted-level-3: cornflowerblue;\n\n  /* Specific color for light theme */\n  --sklearn-color-text-on-default-background: var(--sg-text-color, var(--theme-code-foreground, var(--jp-content-font-color1, black)));\n  --sklearn-color-background: var(--sg-background-color, var(--theme-background, var(--jp-layout-color0, white)));\n  --sklearn-color-border-box: var(--sg-text-color, var(--theme-code-foreground, var(--jp-content-font-color1, black)));\n  --sklearn-color-icon: #696969;\n\n  @media (prefers-color-scheme: dark) {\n    /* Redefinition of color scheme for dark theme */\n    --sklearn-color-text-on-default-background: var(--sg-text-color, var(--theme-code-foreground, var(--jp-content-font-color1, white)));\n    --sklearn-color-background: var(--sg-background-color, var(--theme-background, var(--jp-layout-color0, #111)));\n    --sklearn-color-border-box: var(--sg-text-color, var(--theme-code-foreground, var(--jp-content-font-color1, white)));\n    --sklearn-color-icon: #878787;\n  }\n}\n\n#sk-container-id-1 {\n  color: var(--sklearn-color-text);\n}\n\n#sk-container-id-1 pre {\n  padding: 0;\n}\n\n#sk-container-id-1 input.sk-hidden--visually {\n  border: 0;\n  clip: rect(1px 1px 1px 1px);\n  clip: rect(1px, 1px, 1px, 1px);\n  height: 1px;\n  margin: -1px;\n  overflow: hidden;\n  padding: 0;\n  position: absolute;\n  width: 1px;\n}\n\n#sk-container-id-1 div.sk-dashed-wrapped {\n  border: 1px dashed var(--sklearn-color-line);\n  margin: 0 0.4em 0.5em 0.4em;\n  box-sizing: border-box;\n  padding-bottom: 0.4em;\n  background-color: var(--sklearn-color-background);\n}\n\n#sk-container-id-1 div.sk-container {\n  /* jupyter's `normalize.less` sets `[hidden] { display: none; }`\n     but bootstrap.min.css set `[hidden] { display: none !important; }`\n     so we also need the `!important` here to be able to override the\n     default hidden behavior on the sphinx rendered scikit-learn.org.\n     See: https://github.com/scikit-learn/scikit-learn/issues/21755 */\n  display: inline-block !important;\n  position: relative;\n}\n\n#sk-container-id-1 div.sk-text-repr-fallback {\n  display: none;\n}\n\ndiv.sk-parallel-item,\ndiv.sk-serial,\ndiv.sk-item {\n  /* draw centered vertical line to link estimators */\n  background-image: linear-gradient(var(--sklearn-color-text-on-default-background), var(--sklearn-color-text-on-default-background));\n  background-size: 2px 100%;\n  background-repeat: no-repeat;\n  background-position: center center;\n}\n\n/* Parallel-specific style estimator block */\n\n#sk-container-id-1 div.sk-parallel-item::after {\n  content: \"\";\n  width: 100%;\n  border-bottom: 2px solid var(--sklearn-color-text-on-default-background);\n  flex-grow: 1;\n}\n\n#sk-container-id-1 div.sk-parallel {\n  display: flex;\n  align-items: stretch;\n  justify-content: center;\n  background-color: var(--sklearn-color-background);\n  position: relative;\n}\n\n#sk-container-id-1 div.sk-parallel-item {\n  display: flex;\n  flex-direction: column;\n}\n\n#sk-container-id-1 div.sk-parallel-item:first-child::after {\n  align-self: flex-end;\n  width: 50%;\n}\n\n#sk-container-id-1 div.sk-parallel-item:last-child::after {\n  align-self: flex-start;\n  width: 50%;\n}\n\n#sk-container-id-1 div.sk-parallel-item:only-child::after {\n  width: 0;\n}\n\n/* Serial-specific style estimator block */\n\n#sk-container-id-1 div.sk-serial {\n  display: flex;\n  flex-direction: column;\n  align-items: center;\n  background-color: var(--sklearn-color-background);\n  padding-right: 1em;\n  padding-left: 1em;\n}\n\n\n/* Toggleable style: style used for estimator/Pipeline/ColumnTransformer box that is\nclickable and can be expanded/collapsed.\n- Pipeline and ColumnTransformer use this feature and define the default style\n- Estimators will overwrite some part of the style using the `sk-estimator` class\n*/\n\n/* Pipeline and ColumnTransformer style (default) */\n\n#sk-container-id-1 div.sk-toggleable {\n  /* Default theme specific background. It is overwritten whether we have a\n  specific estimator or a Pipeline/ColumnTransformer */\n  background-color: var(--sklearn-color-background);\n}\n\n/* Toggleable label */\n#sk-container-id-1 label.sk-toggleable__label {\n  cursor: pointer;\n  display: block;\n  width: 100%;\n  margin-bottom: 0;\n  padding: 0.5em;\n  box-sizing: border-box;\n  text-align: center;\n}\n\n#sk-container-id-1 label.sk-toggleable__label-arrow:before {\n  /* Arrow on the left of the label */\n  content: \"▸\";\n  float: left;\n  margin-right: 0.25em;\n  color: var(--sklearn-color-icon);\n}\n\n#sk-container-id-1 label.sk-toggleable__label-arrow:hover:before {\n  color: var(--sklearn-color-text);\n}\n\n/* Toggleable content - dropdown */\n\n#sk-container-id-1 div.sk-toggleable__content {\n  max-height: 0;\n  max-width: 0;\n  overflow: hidden;\n  text-align: left;\n  /* unfitted */\n  background-color: var(--sklearn-color-unfitted-level-0);\n}\n\n#sk-container-id-1 div.sk-toggleable__content.fitted {\n  /* fitted */\n  background-color: var(--sklearn-color-fitted-level-0);\n}\n\n#sk-container-id-1 div.sk-toggleable__content pre {\n  margin: 0.2em;\n  border-radius: 0.25em;\n  color: var(--sklearn-color-text);\n  /* unfitted */\n  background-color: var(--sklearn-color-unfitted-level-0);\n}\n\n#sk-container-id-1 div.sk-toggleable__content.fitted pre {\n  /* unfitted */\n  background-color: var(--sklearn-color-fitted-level-0);\n}\n\n#sk-container-id-1 input.sk-toggleable__control:checked~div.sk-toggleable__content {\n  /* Expand drop-down */\n  max-height: 200px;\n  max-width: 100%;\n  overflow: auto;\n}\n\n#sk-container-id-1 input.sk-toggleable__control:checked~label.sk-toggleable__label-arrow:before {\n  content: \"▾\";\n}\n\n/* Pipeline/ColumnTransformer-specific style */\n\n#sk-container-id-1 div.sk-label input.sk-toggleable__control:checked~label.sk-toggleable__label {\n  color: var(--sklearn-color-text);\n  background-color: var(--sklearn-color-unfitted-level-2);\n}\n\n#sk-container-id-1 div.sk-label.fitted input.sk-toggleable__control:checked~label.sk-toggleable__label {\n  background-color: var(--sklearn-color-fitted-level-2);\n}\n\n/* Estimator-specific style */\n\n/* Colorize estimator box */\n#sk-container-id-1 div.sk-estimator input.sk-toggleable__control:checked~label.sk-toggleable__label {\n  /* unfitted */\n  background-color: var(--sklearn-color-unfitted-level-2);\n}\n\n#sk-container-id-1 div.sk-estimator.fitted input.sk-toggleable__control:checked~label.sk-toggleable__label {\n  /* fitted */\n  background-color: var(--sklearn-color-fitted-level-2);\n}\n\n#sk-container-id-1 div.sk-label label.sk-toggleable__label,\n#sk-container-id-1 div.sk-label label {\n  /* The background is the default theme color */\n  color: var(--sklearn-color-text-on-default-background);\n}\n\n/* On hover, darken the color of the background */\n#sk-container-id-1 div.sk-label:hover label.sk-toggleable__label {\n  color: var(--sklearn-color-text);\n  background-color: var(--sklearn-color-unfitted-level-2);\n}\n\n/* Label box, darken color on hover, fitted */\n#sk-container-id-1 div.sk-label.fitted:hover label.sk-toggleable__label.fitted {\n  color: var(--sklearn-color-text);\n  background-color: var(--sklearn-color-fitted-level-2);\n}\n\n/* Estimator label */\n\n#sk-container-id-1 div.sk-label label {\n  font-family: monospace;\n  font-weight: bold;\n  display: inline-block;\n  line-height: 1.2em;\n}\n\n#sk-container-id-1 div.sk-label-container {\n  text-align: center;\n}\n\n/* Estimator-specific */\n#sk-container-id-1 div.sk-estimator {\n  font-family: monospace;\n  border: 1px dotted var(--sklearn-color-border-box);\n  border-radius: 0.25em;\n  box-sizing: border-box;\n  margin-bottom: 0.5em;\n  /* unfitted */\n  background-color: var(--sklearn-color-unfitted-level-0);\n}\n\n#sk-container-id-1 div.sk-estimator.fitted {\n  /* fitted */\n  background-color: var(--sklearn-color-fitted-level-0);\n}\n\n/* on hover */\n#sk-container-id-1 div.sk-estimator:hover {\n  /* unfitted */\n  background-color: var(--sklearn-color-unfitted-level-2);\n}\n\n#sk-container-id-1 div.sk-estimator.fitted:hover {\n  /* fitted */\n  background-color: var(--sklearn-color-fitted-level-2);\n}\n\n/* Specification for estimator info (e.g. \"i\" and \"?\") */\n\n/* Common style for \"i\" and \"?\" */\n\n.sk-estimator-doc-link,\na:link.sk-estimator-doc-link,\na:visited.sk-estimator-doc-link {\n  float: right;\n  font-size: smaller;\n  line-height: 1em;\n  font-family: monospace;\n  background-color: var(--sklearn-color-background);\n  border-radius: 1em;\n  height: 1em;\n  width: 1em;\n  text-decoration: none !important;\n  margin-left: 1ex;\n  /* unfitted */\n  border: var(--sklearn-color-unfitted-level-1) 1pt solid;\n  color: var(--sklearn-color-unfitted-level-1);\n}\n\n.sk-estimator-doc-link.fitted,\na:link.sk-estimator-doc-link.fitted,\na:visited.sk-estimator-doc-link.fitted {\n  /* fitted */\n  border: var(--sklearn-color-fitted-level-1) 1pt solid;\n  color: var(--sklearn-color-fitted-level-1);\n}\n\n/* On hover */\ndiv.sk-estimator:hover .sk-estimator-doc-link:hover,\n.sk-estimator-doc-link:hover,\ndiv.sk-label-container:hover .sk-estimator-doc-link:hover,\n.sk-estimator-doc-link:hover {\n  /* unfitted */\n  background-color: var(--sklearn-color-unfitted-level-3);\n  color: var(--sklearn-color-background);\n  text-decoration: none;\n}\n\ndiv.sk-estimator.fitted:hover .sk-estimator-doc-link.fitted:hover,\n.sk-estimator-doc-link.fitted:hover,\ndiv.sk-label-container:hover .sk-estimator-doc-link.fitted:hover,\n.sk-estimator-doc-link.fitted:hover {\n  /* fitted */\n  background-color: var(--sklearn-color-fitted-level-3);\n  color: var(--sklearn-color-background);\n  text-decoration: none;\n}\n\n/* Span, style for the box shown on hovering the info icon */\n.sk-estimator-doc-link span {\n  display: none;\n  z-index: 9999;\n  position: relative;\n  font-weight: normal;\n  right: .2ex;\n  padding: .5ex;\n  margin: .5ex;\n  width: min-content;\n  min-width: 20ex;\n  max-width: 50ex;\n  color: var(--sklearn-color-text);\n  box-shadow: 2pt 2pt 4pt #999;\n  /* unfitted */\n  background: var(--sklearn-color-unfitted-level-0);\n  border: .5pt solid var(--sklearn-color-unfitted-level-3);\n}\n\n.sk-estimator-doc-link.fitted span {\n  /* fitted */\n  background: var(--sklearn-color-fitted-level-0);\n  border: var(--sklearn-color-fitted-level-3);\n}\n\n.sk-estimator-doc-link:hover span {\n  display: block;\n}\n\n/* \"?\"-specific style due to the `<a>` HTML tag */\n\n#sk-container-id-1 a.estimator_doc_link {\n  float: right;\n  font-size: 1rem;\n  line-height: 1em;\n  font-family: monospace;\n  background-color: var(--sklearn-color-background);\n  border-radius: 1rem;\n  height: 1rem;\n  width: 1rem;\n  text-decoration: none;\n  /* unfitted */\n  color: var(--sklearn-color-unfitted-level-1);\n  border: var(--sklearn-color-unfitted-level-1) 1pt solid;\n}\n\n#sk-container-id-1 a.estimator_doc_link.fitted {\n  /* fitted */\n  border: var(--sklearn-color-fitted-level-1) 1pt solid;\n  color: var(--sklearn-color-fitted-level-1);\n}\n\n/* On hover */\n#sk-container-id-1 a.estimator_doc_link:hover {\n  /* unfitted */\n  background-color: var(--sklearn-color-unfitted-level-3);\n  color: var(--sklearn-color-background);\n  text-decoration: none;\n}\n\n#sk-container-id-1 a.estimator_doc_link.fitted:hover {\n  /* fitted */\n  background-color: var(--sklearn-color-fitted-level-3);\n}\n</style><div id=\"sk-container-id-1\" class=\"sk-top-container\"><div class=\"sk-text-repr-fallback\"><pre>TPOTClassifier(generations=5, population_size=50, random_state=42, verbosity=2)</pre><b>In a Jupyter environment, please rerun this cell to show the HTML representation or trust the notebook. <br />On GitHub, the HTML representation is unable to render, please try loading this page with nbviewer.org.</b></div><div class=\"sk-container\" hidden><div class=\"sk-item\"><div class=\"sk-estimator fitted sk-toggleable\"><input class=\"sk-toggleable__control sk-hidden--visually\" id=\"sk-estimator-id-1\" type=\"checkbox\" checked><label for=\"sk-estimator-id-1\" class=\"sk-toggleable__label fitted sk-toggleable__label-arrow fitted\">&nbsp;TPOTClassifier<span class=\"sk-estimator-doc-link fitted\">i<span>Fitted</span></span></label><div class=\"sk-toggleable__content fitted\"><pre>TPOTClassifier(generations=5, population_size=50, random_state=42, verbosity=2)</pre></div> </div></div></div></div>"
     },
     "execution_count": 112,
     "metadata": {},
     "output_type": "execute_result"
    }
   ],
   "source": [
    "tpot = TPOTClassifier(generations=5, population_size=50, verbosity=2, random_state=42)\n",
    "result = tpot.fit(X, y)"
   ],
   "metadata": {
    "collapsed": false,
    "ExecuteTime": {
     "end_time": "2024-04-19T21:48:05.560803Z",
     "start_time": "2024-04-19T21:41:59.253137Z"
    }
   },
   "id": "27ed1eca06b1d7a",
   "execution_count": 112
  },
  {
   "cell_type": "code",
   "outputs": [
    {
     "name": "stdout",
     "output_type": "stream",
     "text": [
      "Accuracy on testing data:  0.7318840579710145\n",
      "              precision    recall  f1-score   support\n",
      "\n",
      "           0       0.80      0.36      0.50        99\n",
      "           1       0.32      0.77      0.45        39\n",
      "\n",
      "    accuracy                           0.48       138\n",
      "   macro avg       0.56      0.57      0.48       138\n",
      "weighted avg       0.67      0.48      0.49       138\n"
     ]
    }
   ],
   "source": [
    "print(\"Accuracy on testing data: \", tpot.score(X_val, y_val))\n",
    "model=result.best_estimator_\n",
    "y_hat=model.predict(X_val)\n",
    "report = classification_report(y_val, y_hat)\n",
    "print(report)"
   ],
   "metadata": {
    "collapsed": false,
    "ExecuteTime": {
     "end_time": "2024-04-19T21:52:37.182719Z",
     "start_time": "2024-04-19T21:52:37.151462Z"
    }
   },
   "id": "8e2779f8732d11ec",
   "execution_count": 114
  },
  {
   "cell_type": "code",
   "outputs": [],
   "source": [],
   "metadata": {
    "collapsed": false
   },
   "id": "8cbabfac3557cf7d"
  }
 ],
 "metadata": {
  "kernelspec": {
   "display_name": "Python 3",
   "language": "python",
   "name": "python3"
  },
  "language_info": {
   "codemirror_mode": {
    "name": "ipython",
    "version": 2
   },
   "file_extension": ".py",
   "mimetype": "text/x-python",
   "name": "python",
   "nbconvert_exporter": "python",
   "pygments_lexer": "ipython2",
   "version": "2.7.6"
  }
 },
 "nbformat": 4,
 "nbformat_minor": 5
}
