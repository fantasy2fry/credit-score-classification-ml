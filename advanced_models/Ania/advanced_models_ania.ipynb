{
 "cells": [
  {
   "cell_type": "code",
   "execution_count": 21,
   "id": "initial_id",
   "metadata": {
    "collapsed": true,
    "ExecuteTime": {
     "end_time": "2024-04-11T12:20:54.135159Z",
     "start_time": "2024-04-11T12:20:54.066193Z"
    }
   },
   "outputs": [
    {
     "data": {
      "text/plain": "   INCOME  SAVINGS     DEBT  R_SAVINGS_INCOME  R_DEBT_INCOME  R_DEBT_SAVINGS  \\\n0    2783     1855        0            0.6665           0.00          0.0000   \n1  314430   445442   707468            1.4167           2.25          1.5882   \n2  161773   517674  2782496            3.2000          17.20          5.3750   \n3   16014    97685    20818            6.1000           1.30          0.2131   \n4  193225  1410542  2589215            7.3000          13.40          1.8356   \n\n   T_CLOTHING_12  T_CLOTHING_6  R_CLOTHING  R_CLOTHING_INCOME  ...  \\\n0            103            74      0.7184             0.0370  ...   \n1          35861         29157      0.8131             0.1141  ...   \n2           3716          2533      0.6816             0.0230  ...   \n3            637           187      0.2936             0.0398  ...   \n4           5276          2325      0.4407             0.0273  ...   \n\n   R_EXPENDITURE_SAVINGS  R_EXPENDITURE_DEBT  CAT_GAMBLING  CAT_DEBT  \\\n0                 2.5003              0.0000            No         0   \n1                 0.5882              0.3704          High         1   \n2                 0.3125              0.0581            No         1   \n3                 0.1639              0.7692            No         1   \n4                 0.1370              0.0746            No         1   \n\n   CAT_CREDIT_CARD  CAT_MORTGAGE  CAT_SAVINGS_ACCOUNT  CAT_DEPENDENTS  \\\n0                0             0                    1               0   \n1                0             1                    1               0   \n2                1             1                    1               1   \n3                0             0                    1               0   \n4                1             0                    1               1   \n\n   CREDIT_SCORE  DEFAULT  \n0           570        0  \n1           691        0  \n2           520        0  \n3           654        0  \n4           552        0  \n\n[5 rows x 86 columns]",
      "text/html": "<div>\n<style scoped>\n    .dataframe tbody tr th:only-of-type {\n        vertical-align: middle;\n    }\n\n    .dataframe tbody tr th {\n        vertical-align: top;\n    }\n\n    .dataframe thead th {\n        text-align: right;\n    }\n</style>\n<table border=\"1\" class=\"dataframe\">\n  <thead>\n    <tr style=\"text-align: right;\">\n      <th></th>\n      <th>INCOME</th>\n      <th>SAVINGS</th>\n      <th>DEBT</th>\n      <th>R_SAVINGS_INCOME</th>\n      <th>R_DEBT_INCOME</th>\n      <th>R_DEBT_SAVINGS</th>\n      <th>T_CLOTHING_12</th>\n      <th>T_CLOTHING_6</th>\n      <th>R_CLOTHING</th>\n      <th>R_CLOTHING_INCOME</th>\n      <th>...</th>\n      <th>R_EXPENDITURE_SAVINGS</th>\n      <th>R_EXPENDITURE_DEBT</th>\n      <th>CAT_GAMBLING</th>\n      <th>CAT_DEBT</th>\n      <th>CAT_CREDIT_CARD</th>\n      <th>CAT_MORTGAGE</th>\n      <th>CAT_SAVINGS_ACCOUNT</th>\n      <th>CAT_DEPENDENTS</th>\n      <th>CREDIT_SCORE</th>\n      <th>DEFAULT</th>\n    </tr>\n  </thead>\n  <tbody>\n    <tr>\n      <th>0</th>\n      <td>2783</td>\n      <td>1855</td>\n      <td>0</td>\n      <td>0.6665</td>\n      <td>0.00</td>\n      <td>0.0000</td>\n      <td>103</td>\n      <td>74</td>\n      <td>0.7184</td>\n      <td>0.0370</td>\n      <td>...</td>\n      <td>2.5003</td>\n      <td>0.0000</td>\n      <td>No</td>\n      <td>0</td>\n      <td>0</td>\n      <td>0</td>\n      <td>1</td>\n      <td>0</td>\n      <td>570</td>\n      <td>0</td>\n    </tr>\n    <tr>\n      <th>1</th>\n      <td>314430</td>\n      <td>445442</td>\n      <td>707468</td>\n      <td>1.4167</td>\n      <td>2.25</td>\n      <td>1.5882</td>\n      <td>35861</td>\n      <td>29157</td>\n      <td>0.8131</td>\n      <td>0.1141</td>\n      <td>...</td>\n      <td>0.5882</td>\n      <td>0.3704</td>\n      <td>High</td>\n      <td>1</td>\n      <td>0</td>\n      <td>1</td>\n      <td>1</td>\n      <td>0</td>\n      <td>691</td>\n      <td>0</td>\n    </tr>\n    <tr>\n      <th>2</th>\n      <td>161773</td>\n      <td>517674</td>\n      <td>2782496</td>\n      <td>3.2000</td>\n      <td>17.20</td>\n      <td>5.3750</td>\n      <td>3716</td>\n      <td>2533</td>\n      <td>0.6816</td>\n      <td>0.0230</td>\n      <td>...</td>\n      <td>0.3125</td>\n      <td>0.0581</td>\n      <td>No</td>\n      <td>1</td>\n      <td>1</td>\n      <td>1</td>\n      <td>1</td>\n      <td>1</td>\n      <td>520</td>\n      <td>0</td>\n    </tr>\n    <tr>\n      <th>3</th>\n      <td>16014</td>\n      <td>97685</td>\n      <td>20818</td>\n      <td>6.1000</td>\n      <td>1.30</td>\n      <td>0.2131</td>\n      <td>637</td>\n      <td>187</td>\n      <td>0.2936</td>\n      <td>0.0398</td>\n      <td>...</td>\n      <td>0.1639</td>\n      <td>0.7692</td>\n      <td>No</td>\n      <td>1</td>\n      <td>0</td>\n      <td>0</td>\n      <td>1</td>\n      <td>0</td>\n      <td>654</td>\n      <td>0</td>\n    </tr>\n    <tr>\n      <th>4</th>\n      <td>193225</td>\n      <td>1410542</td>\n      <td>2589215</td>\n      <td>7.3000</td>\n      <td>13.40</td>\n      <td>1.8356</td>\n      <td>5276</td>\n      <td>2325</td>\n      <td>0.4407</td>\n      <td>0.0273</td>\n      <td>...</td>\n      <td>0.1370</td>\n      <td>0.0746</td>\n      <td>No</td>\n      <td>1</td>\n      <td>1</td>\n      <td>0</td>\n      <td>1</td>\n      <td>1</td>\n      <td>552</td>\n      <td>0</td>\n    </tr>\n  </tbody>\n</table>\n<p>5 rows × 86 columns</p>\n</div>"
     },
     "execution_count": 21,
     "metadata": {},
     "output_type": "execute_result"
    }
   ],
   "source": [
    "import pandas as pd\n",
    "import numpy as np\n",
    "import sklearn\n",
    "import seaborn as sns\n",
    "import matplotlib.pyplot as plt\n",
    "\n",
    "df_train = pd.read_csv('../../data/for_modelling/credit_score_train.csv')\n",
    "df_val = pd.read_csv('../../data/for_modelling/credit_score_valid.csv')\n",
    "df=pd.concat([df_train, df_val])\n",
    "target='DEFAULT'\n",
    "#df=df_train.copy()\n",
    "df.head()"
   ]
  },
  {
   "cell_type": "code",
   "outputs": [
    {
     "data": {
      "text/plain": "['T_CLOTHING_12',\n 'T_ENTERTAINMENT_12',\n 'T_GROCERIES_12',\n 'T_GROCERIES_6',\n 'T_HEALTH_12',\n 'T_TAX_12',\n 'T_TAX_6',\n 'T_TRAVEL_12',\n 'T_TRAVEL_6',\n 'T_UTILITIES_12',\n 'T_UTILITIES_6',\n 'T_EXPENDITURE_12',\n 'T_EXPENDITURE_6']"
     },
     "execution_count": 22,
     "metadata": {},
     "output_type": "execute_result"
    }
   ],
   "source": [
    "# columns to remove from EDA\n",
    "columns_to_remove = [\"T_CLOTHING_12\",\"T_ENTERTAINMENT_12\", \"T_GROCERIES_12\", \"T_GROCERIES_6\", \"T_HEALTH_12\", \"T_TAX_12\", \"T_TAX_6\", \"T_TRAVEL_12\", \"T_TRAVEL_6\",\"T_UTILITIES_12\", \"T_UTILITIES_6\", \"T_EXPENDITURE_12\", \"T_EXPENDITURE_6\"]\n",
    "columns_to_remove"
   ],
   "metadata": {
    "collapsed": false,
    "ExecuteTime": {
     "end_time": "2024-04-11T12:20:55.382162Z",
     "start_time": "2024-04-11T12:20:55.373512Z"
    }
   },
   "id": "afdff4867ab71282",
   "execution_count": 22
  },
  {
   "cell_type": "code",
   "outputs": [
    {
     "data": {
      "text/plain": "outliers\n0    470\n1     20\nName: count, dtype: int64"
     },
     "execution_count": 23,
     "metadata": {},
     "output_type": "execute_result"
    }
   ],
   "source": [
    "\n",
    "# map CAT_GAMBLING (No-0, Low-1, High-2)\n",
    "df_train['CAT_GAMBLING'] = df_train['CAT_GAMBLING'].map({'No':0, 'Low':1, 'High':2})\n",
    "df_val['CAT_GAMBLING'] = df_val['CAT_GAMBLING'].map({'No':0, 'Low':1, 'High':2})\n",
    "# remove columns with high correlation\n",
    "df_train.drop(columns=columns_to_remove, inplace=True)\n",
    "df_val.drop(columns=columns_to_remove, inplace=True)\n",
    "# remove outliers\n",
    "from pyod.models.knn import KNN\n",
    "clf = KNN(contamination=0.04)\n",
    "rest_cols = [col for col in df_train.columns if col not in columns_to_remove]\n",
    "# remove DEFAULT column\n",
    "rest_cols.remove('DEFAULT')\n",
    "clf.fit(df_train[rest_cols])\n",
    "df_train['outliers'] = clf.labels_\n",
    "# sum of outliers\n",
    "df_train['outliers'].value_counts()"
   ],
   "metadata": {
    "collapsed": false,
    "ExecuteTime": {
     "end_time": "2024-04-11T12:20:55.933478Z",
     "start_time": "2024-04-11T12:20:55.847296Z"
    }
   },
   "id": "99d0799f30ebbd7e",
   "execution_count": 23
  },
  {
   "cell_type": "code",
   "outputs": [
    {
     "data": {
      "text/plain": "     INCOME  SAVINGS     DEBT  R_SAVINGS_INCOME  R_DEBT_INCOME  \\\n0      2783     1855        0            0.6665         0.0000   \n1    314430   445442   707468            1.4167         2.2500   \n2    161773   517674  2782496            3.2000        17.2000   \n3     16014    97685    20818            6.1000         1.3000   \n4    193225  1410542  2589215            7.3000        13.4000   \n..      ...      ...      ...               ...            ...   \n465   20007    22508   457665            1.1250        22.8752   \n466   20846   268679    23162           12.8888         1.1111   \n467   89235  1106514   160623           12.4000         1.8000   \n468  197073  1021195  1863233            5.1818         9.4545   \n469  133592    85013   680103            0.6364         5.0909   \n\n     R_DEBT_SAVINGS  T_CLOTHING_6  R_CLOTHING  R_CLOTHING_INCOME  \\\n0            0.0000            74      0.7184             0.0370   \n1            1.5882         29157      0.8131             0.1141   \n2            5.3750          2533      0.6816             0.0230   \n3            0.2131           187      0.2936             0.0398   \n4            1.8356          2325      0.4407             0.0273   \n..              ...           ...         ...                ...   \n465         20.3334           861      0.5934             0.0725   \n466          0.0862           533      0.4094             0.0625   \n467          0.1452           835      0.3460             0.0270   \n468          1.8246          3948      0.4691             0.0427   \n469          8.0000           264      0.0212             0.0934   \n\n     R_CLOTHING_SAVINGS  ...  R_EXPENDITURE_SAVINGS  R_EXPENDITURE_DEBT  \\\n0                0.0555  ...                 2.5003              0.0000   \n1                0.0805  ...                 0.5882              0.3704   \n2                0.0072  ...                 0.3125              0.0581   \n3                0.0065  ...                 0.1639              0.7692   \n4                0.0037  ...                 0.1370              0.0746   \n..                  ...  ...                    ...                 ...   \n465              0.0645  ...                 1.1111              0.0546   \n466              0.0048  ...                 0.0862              1.0000   \n467              0.0022  ...                 0.0806              0.5556   \n468              0.0082  ...                 0.1754              0.0962   \n469              0.1468  ...                 1.4286              0.1786   \n\n     CAT_GAMBLING  CAT_DEBT  CAT_CREDIT_CARD  CAT_MORTGAGE  \\\n0               0         0                0             0   \n1               2         1                0             1   \n2               0         1                1             1   \n3               0         1                0             0   \n4               0         1                1             0   \n..            ...       ...              ...           ...   \n465             0         1                0             0   \n466             1         1                0             0   \n467             0         1                0             0   \n468             2         1                0             1   \n469             2         1                0             0   \n\n     CAT_SAVINGS_ACCOUNT  CAT_DEPENDENTS  CREDIT_SCORE  DEFAULT  \n0                      1               0           570        0  \n1                      1               0           691        0  \n2                      1               1           520        0  \n3                      1               0           654        0  \n4                      1               1           552        0  \n..                   ...             ...           ...      ...  \n465                    1               0           423        0  \n466                    1               0           584        0  \n467                    1               0           631        0  \n468                    1               1           572        0  \n469                    1               0           610        0  \n\n[470 rows x 73 columns]",
      "text/html": "<div>\n<style scoped>\n    .dataframe tbody tr th:only-of-type {\n        vertical-align: middle;\n    }\n\n    .dataframe tbody tr th {\n        vertical-align: top;\n    }\n\n    .dataframe thead th {\n        text-align: right;\n    }\n</style>\n<table border=\"1\" class=\"dataframe\">\n  <thead>\n    <tr style=\"text-align: right;\">\n      <th></th>\n      <th>INCOME</th>\n      <th>SAVINGS</th>\n      <th>DEBT</th>\n      <th>R_SAVINGS_INCOME</th>\n      <th>R_DEBT_INCOME</th>\n      <th>R_DEBT_SAVINGS</th>\n      <th>T_CLOTHING_6</th>\n      <th>R_CLOTHING</th>\n      <th>R_CLOTHING_INCOME</th>\n      <th>R_CLOTHING_SAVINGS</th>\n      <th>...</th>\n      <th>R_EXPENDITURE_SAVINGS</th>\n      <th>R_EXPENDITURE_DEBT</th>\n      <th>CAT_GAMBLING</th>\n      <th>CAT_DEBT</th>\n      <th>CAT_CREDIT_CARD</th>\n      <th>CAT_MORTGAGE</th>\n      <th>CAT_SAVINGS_ACCOUNT</th>\n      <th>CAT_DEPENDENTS</th>\n      <th>CREDIT_SCORE</th>\n      <th>DEFAULT</th>\n    </tr>\n  </thead>\n  <tbody>\n    <tr>\n      <th>0</th>\n      <td>2783</td>\n      <td>1855</td>\n      <td>0</td>\n      <td>0.6665</td>\n      <td>0.0000</td>\n      <td>0.0000</td>\n      <td>74</td>\n      <td>0.7184</td>\n      <td>0.0370</td>\n      <td>0.0555</td>\n      <td>...</td>\n      <td>2.5003</td>\n      <td>0.0000</td>\n      <td>0</td>\n      <td>0</td>\n      <td>0</td>\n      <td>0</td>\n      <td>1</td>\n      <td>0</td>\n      <td>570</td>\n      <td>0</td>\n    </tr>\n    <tr>\n      <th>1</th>\n      <td>314430</td>\n      <td>445442</td>\n      <td>707468</td>\n      <td>1.4167</td>\n      <td>2.2500</td>\n      <td>1.5882</td>\n      <td>29157</td>\n      <td>0.8131</td>\n      <td>0.1141</td>\n      <td>0.0805</td>\n      <td>...</td>\n      <td>0.5882</td>\n      <td>0.3704</td>\n      <td>2</td>\n      <td>1</td>\n      <td>0</td>\n      <td>1</td>\n      <td>1</td>\n      <td>0</td>\n      <td>691</td>\n      <td>0</td>\n    </tr>\n    <tr>\n      <th>2</th>\n      <td>161773</td>\n      <td>517674</td>\n      <td>2782496</td>\n      <td>3.2000</td>\n      <td>17.2000</td>\n      <td>5.3750</td>\n      <td>2533</td>\n      <td>0.6816</td>\n      <td>0.0230</td>\n      <td>0.0072</td>\n      <td>...</td>\n      <td>0.3125</td>\n      <td>0.0581</td>\n      <td>0</td>\n      <td>1</td>\n      <td>1</td>\n      <td>1</td>\n      <td>1</td>\n      <td>1</td>\n      <td>520</td>\n      <td>0</td>\n    </tr>\n    <tr>\n      <th>3</th>\n      <td>16014</td>\n      <td>97685</td>\n      <td>20818</td>\n      <td>6.1000</td>\n      <td>1.3000</td>\n      <td>0.2131</td>\n      <td>187</td>\n      <td>0.2936</td>\n      <td>0.0398</td>\n      <td>0.0065</td>\n      <td>...</td>\n      <td>0.1639</td>\n      <td>0.7692</td>\n      <td>0</td>\n      <td>1</td>\n      <td>0</td>\n      <td>0</td>\n      <td>1</td>\n      <td>0</td>\n      <td>654</td>\n      <td>0</td>\n    </tr>\n    <tr>\n      <th>4</th>\n      <td>193225</td>\n      <td>1410542</td>\n      <td>2589215</td>\n      <td>7.3000</td>\n      <td>13.4000</td>\n      <td>1.8356</td>\n      <td>2325</td>\n      <td>0.4407</td>\n      <td>0.0273</td>\n      <td>0.0037</td>\n      <td>...</td>\n      <td>0.1370</td>\n      <td>0.0746</td>\n      <td>0</td>\n      <td>1</td>\n      <td>1</td>\n      <td>0</td>\n      <td>1</td>\n      <td>1</td>\n      <td>552</td>\n      <td>0</td>\n    </tr>\n    <tr>\n      <th>...</th>\n      <td>...</td>\n      <td>...</td>\n      <td>...</td>\n      <td>...</td>\n      <td>...</td>\n      <td>...</td>\n      <td>...</td>\n      <td>...</td>\n      <td>...</td>\n      <td>...</td>\n      <td>...</td>\n      <td>...</td>\n      <td>...</td>\n      <td>...</td>\n      <td>...</td>\n      <td>...</td>\n      <td>...</td>\n      <td>...</td>\n      <td>...</td>\n      <td>...</td>\n      <td>...</td>\n    </tr>\n    <tr>\n      <th>465</th>\n      <td>20007</td>\n      <td>22508</td>\n      <td>457665</td>\n      <td>1.1250</td>\n      <td>22.8752</td>\n      <td>20.3334</td>\n      <td>861</td>\n      <td>0.5934</td>\n      <td>0.0725</td>\n      <td>0.0645</td>\n      <td>...</td>\n      <td>1.1111</td>\n      <td>0.0546</td>\n      <td>0</td>\n      <td>1</td>\n      <td>0</td>\n      <td>0</td>\n      <td>1</td>\n      <td>0</td>\n      <td>423</td>\n      <td>0</td>\n    </tr>\n    <tr>\n      <th>466</th>\n      <td>20846</td>\n      <td>268679</td>\n      <td>23162</td>\n      <td>12.8888</td>\n      <td>1.1111</td>\n      <td>0.0862</td>\n      <td>533</td>\n      <td>0.4094</td>\n      <td>0.0625</td>\n      <td>0.0048</td>\n      <td>...</td>\n      <td>0.0862</td>\n      <td>1.0000</td>\n      <td>1</td>\n      <td>1</td>\n      <td>0</td>\n      <td>0</td>\n      <td>1</td>\n      <td>0</td>\n      <td>584</td>\n      <td>0</td>\n    </tr>\n    <tr>\n      <th>467</th>\n      <td>89235</td>\n      <td>1106514</td>\n      <td>160623</td>\n      <td>12.4000</td>\n      <td>1.8000</td>\n      <td>0.1452</td>\n      <td>835</td>\n      <td>0.3460</td>\n      <td>0.0270</td>\n      <td>0.0022</td>\n      <td>...</td>\n      <td>0.0806</td>\n      <td>0.5556</td>\n      <td>0</td>\n      <td>1</td>\n      <td>0</td>\n      <td>0</td>\n      <td>1</td>\n      <td>0</td>\n      <td>631</td>\n      <td>0</td>\n    </tr>\n    <tr>\n      <th>468</th>\n      <td>197073</td>\n      <td>1021195</td>\n      <td>1863233</td>\n      <td>5.1818</td>\n      <td>9.4545</td>\n      <td>1.8246</td>\n      <td>3948</td>\n      <td>0.4691</td>\n      <td>0.0427</td>\n      <td>0.0082</td>\n      <td>...</td>\n      <td>0.1754</td>\n      <td>0.0962</td>\n      <td>2</td>\n      <td>1</td>\n      <td>0</td>\n      <td>1</td>\n      <td>1</td>\n      <td>1</td>\n      <td>572</td>\n      <td>0</td>\n    </tr>\n    <tr>\n      <th>469</th>\n      <td>133592</td>\n      <td>85013</td>\n      <td>680103</td>\n      <td>0.6364</td>\n      <td>5.0909</td>\n      <td>8.0000</td>\n      <td>264</td>\n      <td>0.0212</td>\n      <td>0.0934</td>\n      <td>0.1468</td>\n      <td>...</td>\n      <td>1.4286</td>\n      <td>0.1786</td>\n      <td>2</td>\n      <td>1</td>\n      <td>0</td>\n      <td>0</td>\n      <td>1</td>\n      <td>0</td>\n      <td>610</td>\n      <td>0</td>\n    </tr>\n  </tbody>\n</table>\n<p>470 rows × 73 columns</p>\n</div>"
     },
     "execution_count": 24,
     "metadata": {},
     "output_type": "execute_result"
    }
   ],
   "source": [
    "df_train = df_train[df_train['outliers'] == 0]\n",
    "df_train.drop(columns='outliers', inplace=True)\n",
    "df_train.reset_index(drop=True, inplace=True)\n",
    "df_train"
   ],
   "metadata": {
    "collapsed": false,
    "ExecuteTime": {
     "end_time": "2024-04-11T12:20:56.407517Z",
     "start_time": "2024-04-11T12:20:56.363138Z"
    }
   },
   "id": "646949c961f47ad4",
   "execution_count": 24
  },
  {
   "cell_type": "code",
   "outputs": [],
   "source": [
    "X=df_train.drop(target, axis=1)\n",
    "y=df_train[target]\n",
    "X_val=df_val.drop(target, axis=1)\n",
    "y_val=df_val[target]\n",
    "# Box Cox and standart scalling\n",
    "for col in rest_cols:\n",
    "    X[col] = boxcox(X[col]+1)[0]\n",
    "    X_val[col] = boxcox(X_val[col]+1)[0]\n",
    "X[rest_cols] = scaler.fit_transform(X[rest_cols])\n",
    "X_val[rest_cols] = scaler.transform(X_val[rest_cols])"
   ],
   "metadata": {
    "collapsed": false,
    "ExecuteTime": {
     "end_time": "2024-04-11T12:20:58.251622Z",
     "start_time": "2024-04-11T12:20:57.564880Z"
    }
   },
   "id": "1cf5946b86cc3e90",
   "execution_count": 25
  },
  {
   "cell_type": "code",
   "outputs": [],
   "source": [
    "from sklearn.tree import DecisionTreeClassifier\n",
    "from sklearn.neighbors import KNeighborsClassifier\n",
    "from sklearn.linear_model import LogisticRegression\n",
    "from sklearn.model_selection import train_test_split\n",
    "from sklearn.metrics import accuracy_score, precision_score, recall_score, f1_score\n",
    "from sklearn.svm import SVC\n",
    "from sklearn.ensemble import RandomForestClassifier, AdaBoostClassifier\n",
    "from sklearn.naive_bayes import GaussianNB\n",
    "from sklearn.neural_network import MLPClassifier\n",
    "from sklearn.discriminant_analysis import QuadraticDiscriminantAnalysis\n",
    "from sklearn.linear_model import SGDClassifier\n",
    "\n",
    "model1 = DecisionTreeClassifier(random_state=1)\n",
    "model2 = KNeighborsClassifier()\n",
    "model3 = LogisticRegression(random_state=1, max_iter=1000)\n",
    "model4 = SVC(random_state=42, kernel='poly', degree=10)\n",
    "\n",
    "estimators=[('DecisionTree', model1), ('KNN', model2), ('LR', model3)]"
   ],
   "metadata": {
    "collapsed": false,
    "ExecuteTime": {
     "end_time": "2024-04-11T12:47:06.201593Z",
     "start_time": "2024-04-11T12:47:06.190603Z"
    }
   },
   "id": "446e5cfa53f9ec07",
   "execution_count": 77
  },
  {
   "cell_type": "code",
   "outputs": [
    {
     "name": "stdout",
     "output_type": "stream",
     "text": [
      "accuracy:  0.5897435897435898\n",
      "model.score:  0.427536231884058\n"
     ]
    }
   ],
   "source": [
    "from sklearn.ensemble import VotingClassifier\n",
    "model_hard = VotingClassifier(estimators=estimators, voting='hard')\n",
    "model_hard.fit(X,y)\n",
    "\n",
    "y_hat = model_hard.predict(X_val)\n",
    "print('accuracy: ', recall_score(y_val, y_hat))\n",
    "\n",
    "print('model.score: ', model_hard.score(X_val,y_val))"
   ],
   "metadata": {
    "collapsed": false,
    "ExecuteTime": {
     "end_time": "2024-04-11T12:47:06.833459Z",
     "start_time": "2024-04-11T12:47:06.556032Z"
    }
   },
   "id": "bb895f9fa952817f",
   "execution_count": 78
  },
  {
   "cell_type": "code",
   "outputs": [
    {
     "data": {
      "text/plain": "0.5897435897435898"
     },
     "execution_count": 79,
     "metadata": {},
     "output_type": "execute_result"
    }
   ],
   "source": [
    "model_soft = VotingClassifier(estimators=estimators, voting='soft')\n",
    "model_soft.fit(X, y)\n",
    "\n",
    "y_hat = model_soft.predict(X_val)\n",
    "recall_score(y_val, y_hat)"
   ],
   "metadata": {
    "collapsed": false,
    "ExecuteTime": {
     "end_time": "2024-04-11T12:47:08.497812Z",
     "start_time": "2024-04-11T12:47:08.334266Z"
    }
   },
   "id": "c2f1bab4d2b4ad5a",
   "execution_count": 79
  },
  {
   "cell_type": "code",
   "outputs": [
    {
     "name": "stdout",
     "output_type": "stream",
     "text": [
      "              precision    recall  f1-score   support\n",
      "\n",
      "           0       0.00      0.00      0.00        99\n",
      "           1       0.28      1.00      0.44        39\n",
      "\n",
      "    accuracy                           0.28       138\n",
      "   macro avg       0.14      0.50      0.22       138\n",
      "weighted avg       0.08      0.28      0.12       138\n"
     ]
    },
    {
     "name": "stderr",
     "output_type": "stream",
     "text": [
      "C:\\Users\\Dell\\anaconda3\\Lib\\site-packages\\sklearn\\metrics\\_classification.py:1509: UndefinedMetricWarning: Precision is ill-defined and being set to 0.0 in labels with no predicted samples. Use `zero_division` parameter to control this behavior.\n",
      "  _warn_prf(average, modifier, f\"{metric.capitalize()} is\", len(result))\n",
      "C:\\Users\\Dell\\anaconda3\\Lib\\site-packages\\sklearn\\metrics\\_classification.py:1509: UndefinedMetricWarning: Precision is ill-defined and being set to 0.0 in labels with no predicted samples. Use `zero_division` parameter to control this behavior.\n",
      "  _warn_prf(average, modifier, f\"{metric.capitalize()} is\", len(result))\n",
      "C:\\Users\\Dell\\anaconda3\\Lib\\site-packages\\sklearn\\metrics\\_classification.py:1509: UndefinedMetricWarning: Precision is ill-defined and being set to 0.0 in labels with no predicted samples. Use `zero_division` parameter to control this behavior.\n",
      "  _warn_prf(average, modifier, f\"{metric.capitalize()} is\", len(result))\n"
     ]
    }
   ],
   "source": [
    "from sklearn.metrics import classification_report\n",
    "model_soft = VotingClassifier(estimators=estimators, voting='soft', weights=[0.05, 0.05, 0.90])\n",
    "model_soft.fit(X, y)\n",
    "\n",
    "y_hat = model_soft.predict(X_val)\n",
    "report = classification_report(y_val, y_hat)\n",
    "print(report)"
   ],
   "metadata": {
    "collapsed": false,
    "ExecuteTime": {
     "end_time": "2024-04-11T12:50:46.728386Z",
     "start_time": "2024-04-11T12:50:46.578954Z"
    }
   },
   "id": "55e18724c8c6a96f",
   "execution_count": 88
  },
  {
   "cell_type": "code",
   "outputs": [
    {
     "data": {
      "text/plain": "0.2826086956521739"
     },
     "execution_count": 90,
     "metadata": {},
     "output_type": "execute_result"
    }
   ],
   "source": [
    "from sklearn.ensemble import StackingClassifier\n",
    "clf = StackingClassifier(estimators=estimators, final_estimator=LogisticRegression())\n",
    "clf.fit(X, y).score(X_val, y_val)"
   ],
   "metadata": {
    "collapsed": false,
    "ExecuteTime": {
     "end_time": "2024-04-11T12:52:39.584409Z",
     "start_time": "2024-04-11T12:52:38.596615Z"
    }
   },
   "id": "334c443ae91c5bdf",
   "execution_count": 90
  },
  {
   "cell_type": "code",
   "outputs": [
    {
     "name": "stdout",
     "output_type": "stream",
     "text": [
      "              precision    recall  f1-score   support\n",
      "\n",
      "           0       0.83      0.29      0.43        99\n",
      "           1       0.32      0.85      0.46        39\n",
      "\n",
      "    accuracy                           0.45       138\n",
      "   macro avg       0.57      0.57      0.45       138\n",
      "weighted avg       0.68      0.45      0.44       138\n"
     ]
    }
   ],
   "source": [
    "from sklearn.ensemble import BaggingClassifier\n",
    "clf = BaggingClassifier(n_estimators=10, random_state=0)\n",
    "clf.fit(X, y)\n",
    "y_hat = clf.predict(X_val)\n",
    "report = classification_report(y_val, y_hat)\n",
    "print(report)"
   ],
   "metadata": {
    "collapsed": false,
    "ExecuteTime": {
     "end_time": "2024-04-11T12:58:59.576487Z",
     "start_time": "2024-04-11T12:58:59.358962Z"
    }
   },
   "id": "ca86f7c13cc60756",
   "execution_count": 98
  },
  {
   "cell_type": "code",
   "outputs": [
    {
     "name": "stdout",
     "output_type": "stream",
     "text": [
      "              precision    recall  f1-score   support\n",
      "\n",
      "           0       0.72      1.00      0.84        99\n",
      "           1       0.00      0.00      0.00        39\n",
      "\n",
      "    accuracy                           0.72       138\n",
      "   macro avg       0.36      0.50      0.42       138\n",
      "weighted avg       0.51      0.72      0.60       138\n"
     ]
    },
    {
     "name": "stderr",
     "output_type": "stream",
     "text": [
      "C:\\Users\\Dell\\anaconda3\\Lib\\site-packages\\sklearn\\metrics\\_classification.py:1509: UndefinedMetricWarning: Precision is ill-defined and being set to 0.0 in labels with no predicted samples. Use `zero_division` parameter to control this behavior.\n",
      "  _warn_prf(average, modifier, f\"{metric.capitalize()} is\", len(result))\n",
      "C:\\Users\\Dell\\anaconda3\\Lib\\site-packages\\sklearn\\metrics\\_classification.py:1509: UndefinedMetricWarning: Precision is ill-defined and being set to 0.0 in labels with no predicted samples. Use `zero_division` parameter to control this behavior.\n",
      "  _warn_prf(average, modifier, f\"{metric.capitalize()} is\", len(result))\n",
      "C:\\Users\\Dell\\anaconda3\\Lib\\site-packages\\sklearn\\metrics\\_classification.py:1509: UndefinedMetricWarning: Precision is ill-defined and being set to 0.0 in labels with no predicted samples. Use `zero_division` parameter to control this behavior.\n",
      "  _warn_prf(average, modifier, f\"{metric.capitalize()} is\", len(result))\n"
     ]
    }
   ],
   "source": [
    "from sklearn.ensemble import RandomForestClassifier\n",
    "\n",
    "model_rf = RandomForestClassifier(n_estimators=1000, # Ilość słabych estymatorów\n",
    "                                  max_depth=2, # Maksymalna wysokość drzewa w słabym estymatorze\n",
    "                                  min_samples_split = 2, # Minimalna ilość obserwacji wymagana do podziału węzła\n",
    "                                  max_features = 3, # Maksymalna ilość zmiennych brana pod uwagę przy podziale węzła\n",
    "                                  random_state=0,\n",
    "                                  n_jobs = -1)\n",
    "model_rf.fit(X, y)\n",
    "y_hat = model_rf.predict(X_val)\n",
    "report = classification_report(y_val, y_hat)\n",
    "print(report)"
   ],
   "metadata": {
    "collapsed": false,
    "ExecuteTime": {
     "end_time": "2024-04-11T12:59:25.717825Z",
     "start_time": "2024-04-11T12:59:23.570326Z"
    }
   },
   "id": "7fa06e1a10a3ed9",
   "execution_count": 99
  },
  {
   "cell_type": "code",
   "outputs": [
    {
     "name": "stderr",
     "output_type": "stream",
     "text": [
      "C:\\Users\\Dell\\anaconda3\\Lib\\site-packages\\sklearn\\ensemble\\_weight_boosting.py:519: FutureWarning: The SAMME.R algorithm (the default) is deprecated and will be removed in 1.6. Use the SAMME algorithm to circumvent this warning.\n",
      "  warnings.warn(\n"
     ]
    },
    {
     "name": "stdout",
     "output_type": "stream",
     "text": [
      "              precision    recall  f1-score   support\n",
      "\n",
      "           0       0.70      0.31      0.43        99\n",
      "           1       0.28      0.67      0.39        39\n",
      "\n",
      "    accuracy                           0.41       138\n",
      "   macro avg       0.49      0.49      0.41       138\n",
      "weighted avg       0.58      0.41      0.42       138\n"
     ]
    }
   ],
   "source": [
    "from sklearn.ensemble import AdaBoostClassifier\n",
    "\n",
    "model = AdaBoostClassifier(random_state=1)\n",
    "model.fit(X, y)\n",
    "y_hat = model.predict(X_val)\n",
    "report = classification_report(y_val, y_hat)\n",
    "print(report)"
   ],
   "metadata": {
    "collapsed": false,
    "ExecuteTime": {
     "end_time": "2024-04-11T13:01:02.131545Z",
     "start_time": "2024-04-11T13:01:01.703208Z"
    }
   },
   "id": "fb67cd27b86f3b5b",
   "execution_count": 101
  },
  {
   "cell_type": "code",
   "outputs": [
    {
     "name": "stdout",
     "output_type": "stream",
     "text": [
      "              precision    recall  f1-score   support\n",
      "\n",
      "           0       0.70      0.54      0.61        99\n",
      "           1       0.26      0.41      0.32        39\n",
      "\n",
      "    accuracy                           0.50       138\n",
      "   macro avg       0.48      0.47      0.46       138\n",
      "weighted avg       0.57      0.50      0.52       138\n"
     ]
    }
   ],
   "source": [
    "from sklearn.ensemble import GradientBoostingClassifier\n",
    "\n",
    "model = GradientBoostingClassifier(random_state=1,\n",
    "                                   learning_rate=0.01)\n",
    "model.fit(X, y)\n",
    "y_hat = model.predict(X_val)\n",
    "report = classification_report(y_val, y_hat)\n",
    "print(report)"
   ],
   "metadata": {
    "collapsed": false,
    "ExecuteTime": {
     "end_time": "2024-04-11T13:01:29.398278Z",
     "start_time": "2024-04-11T13:01:27.846205Z"
    }
   },
   "id": "fb25cd14a33a1d21",
   "execution_count": 102
  },
  {
   "cell_type": "code",
   "outputs": [
    {
     "name": "stdout",
     "output_type": "stream",
     "text": [
      "              precision    recall  f1-score   support\n",
      "\n",
      "           0       0.76      0.76      0.76        99\n",
      "           1       0.38      0.38      0.38        39\n",
      "\n",
      "    accuracy                           0.65       138\n",
      "   macro avg       0.57      0.57      0.57       138\n",
      "weighted avg       0.65      0.65      0.65       138\n"
     ]
    }
   ],
   "source": [
    "from xgboost import XGBClassifier\n",
    "model=XGBClassifier(random_state=1,\n",
    "                    learning_rate=0.01, # Szybkość \"uczenia\" się\n",
    "                    booster='gbtree', # Jaki model wykorzystujemy (drzewo - gbtree, liniowe - gblinear)\n",
    "                    max_depth=4 # Maksymalna głębokość drzewa \n",
    "                    )\n",
    "model.fit(X, y)\n",
    "y_hat = model.predict(X_val)\n",
    "report = classification_report(y_val, y_hat)\n",
    "print(report)"
   ],
   "metadata": {
    "collapsed": false,
    "ExecuteTime": {
     "end_time": "2024-04-11T13:02:21.303218Z",
     "start_time": "2024-04-11T13:02:20.920390Z"
    }
   },
   "id": "f368589cc732a6ac",
   "execution_count": 104
  },
  {
   "cell_type": "code",
   "outputs": [],
   "source": [],
   "metadata": {
    "collapsed": false
   },
   "id": "459b38de049408a8"
  }
 ],
 "metadata": {
  "kernelspec": {
   "display_name": "Python 3",
   "language": "python",
   "name": "python3"
  },
  "language_info": {
   "codemirror_mode": {
    "name": "ipython",
    "version": 2
   },
   "file_extension": ".py",
   "mimetype": "text/x-python",
   "name": "python",
   "nbconvert_exporter": "python",
   "pygments_lexer": "ipython2",
   "version": "2.7.6"
  }
 },
 "nbformat": 4,
 "nbformat_minor": 5
}
