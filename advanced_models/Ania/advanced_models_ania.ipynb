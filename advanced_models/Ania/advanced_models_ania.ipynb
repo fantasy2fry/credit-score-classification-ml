{
 "cells": [
  {
   "cell_type": "code",
   "execution_count": 93,
   "id": "initial_id",
   "metadata": {
    "collapsed": true,
    "ExecuteTime": {
     "end_time": "2024-04-18T11:07:31.365635Z",
     "start_time": "2024-04-18T11:07:31.296709Z"
    }
   },
   "outputs": [
    {
     "data": {
      "text/plain": "   INCOME  SAVINGS     DEBT  R_SAVINGS_INCOME  R_DEBT_INCOME  R_DEBT_SAVINGS  \\\n0    2783     1855        0            0.6665           0.00          0.0000   \n1  314430   445442   707468            1.4167           2.25          1.5882   \n2  161773   517674  2782496            3.2000          17.20          5.3750   \n3   16014    97685    20818            6.1000           1.30          0.2131   \n4  193225  1410542  2589215            7.3000          13.40          1.8356   \n\n   T_CLOTHING_12  T_CLOTHING_6  R_CLOTHING  R_CLOTHING_INCOME  ...  \\\n0            103            74      0.7184             0.0370  ...   \n1          35861         29157      0.8131             0.1141  ...   \n2           3716          2533      0.6816             0.0230  ...   \n3            637           187      0.2936             0.0398  ...   \n4           5276          2325      0.4407             0.0273  ...   \n\n   R_EXPENDITURE_SAVINGS  R_EXPENDITURE_DEBT  CAT_GAMBLING  CAT_DEBT  \\\n0                 2.5003              0.0000            No         0   \n1                 0.5882              0.3704          High         1   \n2                 0.3125              0.0581            No         1   \n3                 0.1639              0.7692            No         1   \n4                 0.1370              0.0746            No         1   \n\n   CAT_CREDIT_CARD  CAT_MORTGAGE  CAT_SAVINGS_ACCOUNT  CAT_DEPENDENTS  \\\n0                0             0                    1               0   \n1                0             1                    1               0   \n2                1             1                    1               1   \n3                0             0                    1               0   \n4                1             0                    1               1   \n\n   CREDIT_SCORE  DEFAULT  \n0           570        0  \n1           691        0  \n2           520        0  \n3           654        0  \n4           552        0  \n\n[5 rows x 86 columns]",
      "text/html": "<div>\n<style scoped>\n    .dataframe tbody tr th:only-of-type {\n        vertical-align: middle;\n    }\n\n    .dataframe tbody tr th {\n        vertical-align: top;\n    }\n\n    .dataframe thead th {\n        text-align: right;\n    }\n</style>\n<table border=\"1\" class=\"dataframe\">\n  <thead>\n    <tr style=\"text-align: right;\">\n      <th></th>\n      <th>INCOME</th>\n      <th>SAVINGS</th>\n      <th>DEBT</th>\n      <th>R_SAVINGS_INCOME</th>\n      <th>R_DEBT_INCOME</th>\n      <th>R_DEBT_SAVINGS</th>\n      <th>T_CLOTHING_12</th>\n      <th>T_CLOTHING_6</th>\n      <th>R_CLOTHING</th>\n      <th>R_CLOTHING_INCOME</th>\n      <th>...</th>\n      <th>R_EXPENDITURE_SAVINGS</th>\n      <th>R_EXPENDITURE_DEBT</th>\n      <th>CAT_GAMBLING</th>\n      <th>CAT_DEBT</th>\n      <th>CAT_CREDIT_CARD</th>\n      <th>CAT_MORTGAGE</th>\n      <th>CAT_SAVINGS_ACCOUNT</th>\n      <th>CAT_DEPENDENTS</th>\n      <th>CREDIT_SCORE</th>\n      <th>DEFAULT</th>\n    </tr>\n  </thead>\n  <tbody>\n    <tr>\n      <th>0</th>\n      <td>2783</td>\n      <td>1855</td>\n      <td>0</td>\n      <td>0.6665</td>\n      <td>0.00</td>\n      <td>0.0000</td>\n      <td>103</td>\n      <td>74</td>\n      <td>0.7184</td>\n      <td>0.0370</td>\n      <td>...</td>\n      <td>2.5003</td>\n      <td>0.0000</td>\n      <td>No</td>\n      <td>0</td>\n      <td>0</td>\n      <td>0</td>\n      <td>1</td>\n      <td>0</td>\n      <td>570</td>\n      <td>0</td>\n    </tr>\n    <tr>\n      <th>1</th>\n      <td>314430</td>\n      <td>445442</td>\n      <td>707468</td>\n      <td>1.4167</td>\n      <td>2.25</td>\n      <td>1.5882</td>\n      <td>35861</td>\n      <td>29157</td>\n      <td>0.8131</td>\n      <td>0.1141</td>\n      <td>...</td>\n      <td>0.5882</td>\n      <td>0.3704</td>\n      <td>High</td>\n      <td>1</td>\n      <td>0</td>\n      <td>1</td>\n      <td>1</td>\n      <td>0</td>\n      <td>691</td>\n      <td>0</td>\n    </tr>\n    <tr>\n      <th>2</th>\n      <td>161773</td>\n      <td>517674</td>\n      <td>2782496</td>\n      <td>3.2000</td>\n      <td>17.20</td>\n      <td>5.3750</td>\n      <td>3716</td>\n      <td>2533</td>\n      <td>0.6816</td>\n      <td>0.0230</td>\n      <td>...</td>\n      <td>0.3125</td>\n      <td>0.0581</td>\n      <td>No</td>\n      <td>1</td>\n      <td>1</td>\n      <td>1</td>\n      <td>1</td>\n      <td>1</td>\n      <td>520</td>\n      <td>0</td>\n    </tr>\n    <tr>\n      <th>3</th>\n      <td>16014</td>\n      <td>97685</td>\n      <td>20818</td>\n      <td>6.1000</td>\n      <td>1.30</td>\n      <td>0.2131</td>\n      <td>637</td>\n      <td>187</td>\n      <td>0.2936</td>\n      <td>0.0398</td>\n      <td>...</td>\n      <td>0.1639</td>\n      <td>0.7692</td>\n      <td>No</td>\n      <td>1</td>\n      <td>0</td>\n      <td>0</td>\n      <td>1</td>\n      <td>0</td>\n      <td>654</td>\n      <td>0</td>\n    </tr>\n    <tr>\n      <th>4</th>\n      <td>193225</td>\n      <td>1410542</td>\n      <td>2589215</td>\n      <td>7.3000</td>\n      <td>13.40</td>\n      <td>1.8356</td>\n      <td>5276</td>\n      <td>2325</td>\n      <td>0.4407</td>\n      <td>0.0273</td>\n      <td>...</td>\n      <td>0.1370</td>\n      <td>0.0746</td>\n      <td>No</td>\n      <td>1</td>\n      <td>1</td>\n      <td>0</td>\n      <td>1</td>\n      <td>1</td>\n      <td>552</td>\n      <td>0</td>\n    </tr>\n  </tbody>\n</table>\n<p>5 rows × 86 columns</p>\n</div>"
     },
     "execution_count": 93,
     "metadata": {},
     "output_type": "execute_result"
    }
   ],
   "source": [
    "import pandas as pd\n",
    "import numpy as np\n",
    "import sklearn\n",
    "import seaborn as sns\n",
    "import matplotlib.pyplot as plt\n",
    "\n",
    "df_train = pd.read_csv('../../data/for_modelling/credit_score_train.csv')\n",
    "df_val = pd.read_csv('../../data/for_modelling/credit_score_valid.csv')\n",
    "df=pd.concat([df_train, df_val])\n",
    "target='DEFAULT'\n",
    "#df=df_train.copy()\n",
    "df.head()"
   ]
  },
  {
   "cell_type": "code",
   "outputs": [
    {
     "data": {
      "text/plain": "['T_CLOTHING_12',\n 'T_ENTERTAINMENT_12',\n 'T_GROCERIES_12',\n 'T_GROCERIES_6',\n 'T_HEALTH_12',\n 'T_TAX_12',\n 'T_TAX_6',\n 'T_TRAVEL_12',\n 'T_TRAVEL_6',\n 'T_UTILITIES_12',\n 'T_UTILITIES_6',\n 'T_EXPENDITURE_12',\n 'T_EXPENDITURE_6']"
     },
     "execution_count": 94,
     "metadata": {},
     "output_type": "execute_result"
    }
   ],
   "source": [
    "# columns to remove from EDA\n",
    "columns_to_remove = [\"T_CLOTHING_12\",\"T_ENTERTAINMENT_12\", \"T_GROCERIES_12\", \"T_GROCERIES_6\", \"T_HEALTH_12\", \"T_TAX_12\", \"T_TAX_6\", \"T_TRAVEL_12\", \"T_TRAVEL_6\",\"T_UTILITIES_12\", \"T_UTILITIES_6\", \"T_EXPENDITURE_12\", \"T_EXPENDITURE_6\"]\n",
    "columns_to_remove"
   ],
   "metadata": {
    "collapsed": false,
    "ExecuteTime": {
     "end_time": "2024-04-18T11:07:32.420623Z",
     "start_time": "2024-04-18T11:07:32.404984Z"
    }
   },
   "id": "afdff4867ab71282",
   "execution_count": 94
  },
  {
   "cell_type": "code",
   "outputs": [
    {
     "data": {
      "text/plain": "outliers\n0    470\n1     20\nName: count, dtype: int64"
     },
     "execution_count": 95,
     "metadata": {},
     "output_type": "execute_result"
    }
   ],
   "source": [
    "\n",
    "# map CAT_GAMBLING (No-0, Low-1, High-2)\n",
    "df_train['CAT_GAMBLING'] = df_train['CAT_GAMBLING'].map({'No':0, 'Low':1, 'High':2})\n",
    "df_val['CAT_GAMBLING'] = df_val['CAT_GAMBLING'].map({'No':0, 'Low':1, 'High':2})\n",
    "# remove columns with high correlation\n",
    "df_train.drop(columns=columns_to_remove, inplace=True)\n",
    "df_val.drop(columns=columns_to_remove, inplace=True)\n",
    "# remove outliers\n",
    "from pyod.models.knn import KNN\n",
    "clf = KNN(contamination=0.04)\n",
    "rest_cols = [col for col in df_train.columns if col not in columns_to_remove]\n",
    "# remove DEFAULT column\n",
    "rest_cols.remove('DEFAULT')\n",
    "clf.fit(df_train[rest_cols])\n",
    "df_train['outliers'] = clf.labels_\n",
    "# sum of outliers\n",
    "df_train['outliers'].value_counts()"
   ],
   "metadata": {
    "collapsed": false,
    "ExecuteTime": {
     "end_time": "2024-04-18T11:07:33.350503Z",
     "start_time": "2024-04-18T11:07:33.176771Z"
    }
   },
   "id": "99d0799f30ebbd7e",
   "execution_count": 95
  },
  {
   "cell_type": "code",
   "outputs": [
    {
     "data": {
      "text/plain": "     INCOME  SAVINGS     DEBT  R_SAVINGS_INCOME  R_DEBT_INCOME  \\\n0      2783     1855        0            0.6665         0.0000   \n1    314430   445442   707468            1.4167         2.2500   \n2    161773   517674  2782496            3.2000        17.2000   \n3     16014    97685    20818            6.1000         1.3000   \n4    193225  1410542  2589215            7.3000        13.4000   \n..      ...      ...      ...               ...            ...   \n465   20007    22508   457665            1.1250        22.8752   \n466   20846   268679    23162           12.8888         1.1111   \n467   89235  1106514   160623           12.4000         1.8000   \n468  197073  1021195  1863233            5.1818         9.4545   \n469  133592    85013   680103            0.6364         5.0909   \n\n     R_DEBT_SAVINGS  T_CLOTHING_6  R_CLOTHING  R_CLOTHING_INCOME  \\\n0            0.0000            74      0.7184             0.0370   \n1            1.5882         29157      0.8131             0.1141   \n2            5.3750          2533      0.6816             0.0230   \n3            0.2131           187      0.2936             0.0398   \n4            1.8356          2325      0.4407             0.0273   \n..              ...           ...         ...                ...   \n465         20.3334           861      0.5934             0.0725   \n466          0.0862           533      0.4094             0.0625   \n467          0.1452           835      0.3460             0.0270   \n468          1.8246          3948      0.4691             0.0427   \n469          8.0000           264      0.0212             0.0934   \n\n     R_CLOTHING_SAVINGS  ...  R_EXPENDITURE_SAVINGS  R_EXPENDITURE_DEBT  \\\n0                0.0555  ...                 2.5003              0.0000   \n1                0.0805  ...                 0.5882              0.3704   \n2                0.0072  ...                 0.3125              0.0581   \n3                0.0065  ...                 0.1639              0.7692   \n4                0.0037  ...                 0.1370              0.0746   \n..                  ...  ...                    ...                 ...   \n465              0.0645  ...                 1.1111              0.0546   \n466              0.0048  ...                 0.0862              1.0000   \n467              0.0022  ...                 0.0806              0.5556   \n468              0.0082  ...                 0.1754              0.0962   \n469              0.1468  ...                 1.4286              0.1786   \n\n     CAT_GAMBLING  CAT_DEBT  CAT_CREDIT_CARD  CAT_MORTGAGE  \\\n0               0         0                0             0   \n1               2         1                0             1   \n2               0         1                1             1   \n3               0         1                0             0   \n4               0         1                1             0   \n..            ...       ...              ...           ...   \n465             0         1                0             0   \n466             1         1                0             0   \n467             0         1                0             0   \n468             2         1                0             1   \n469             2         1                0             0   \n\n     CAT_SAVINGS_ACCOUNT  CAT_DEPENDENTS  CREDIT_SCORE  DEFAULT  \n0                      1               0           570        0  \n1                      1               0           691        0  \n2                      1               1           520        0  \n3                      1               0           654        0  \n4                      1               1           552        0  \n..                   ...             ...           ...      ...  \n465                    1               0           423        0  \n466                    1               0           584        0  \n467                    1               0           631        0  \n468                    1               1           572        0  \n469                    1               0           610        0  \n\n[470 rows x 73 columns]",
      "text/html": "<div>\n<style scoped>\n    .dataframe tbody tr th:only-of-type {\n        vertical-align: middle;\n    }\n\n    .dataframe tbody tr th {\n        vertical-align: top;\n    }\n\n    .dataframe thead th {\n        text-align: right;\n    }\n</style>\n<table border=\"1\" class=\"dataframe\">\n  <thead>\n    <tr style=\"text-align: right;\">\n      <th></th>\n      <th>INCOME</th>\n      <th>SAVINGS</th>\n      <th>DEBT</th>\n      <th>R_SAVINGS_INCOME</th>\n      <th>R_DEBT_INCOME</th>\n      <th>R_DEBT_SAVINGS</th>\n      <th>T_CLOTHING_6</th>\n      <th>R_CLOTHING</th>\n      <th>R_CLOTHING_INCOME</th>\n      <th>R_CLOTHING_SAVINGS</th>\n      <th>...</th>\n      <th>R_EXPENDITURE_SAVINGS</th>\n      <th>R_EXPENDITURE_DEBT</th>\n      <th>CAT_GAMBLING</th>\n      <th>CAT_DEBT</th>\n      <th>CAT_CREDIT_CARD</th>\n      <th>CAT_MORTGAGE</th>\n      <th>CAT_SAVINGS_ACCOUNT</th>\n      <th>CAT_DEPENDENTS</th>\n      <th>CREDIT_SCORE</th>\n      <th>DEFAULT</th>\n    </tr>\n  </thead>\n  <tbody>\n    <tr>\n      <th>0</th>\n      <td>2783</td>\n      <td>1855</td>\n      <td>0</td>\n      <td>0.6665</td>\n      <td>0.0000</td>\n      <td>0.0000</td>\n      <td>74</td>\n      <td>0.7184</td>\n      <td>0.0370</td>\n      <td>0.0555</td>\n      <td>...</td>\n      <td>2.5003</td>\n      <td>0.0000</td>\n      <td>0</td>\n      <td>0</td>\n      <td>0</td>\n      <td>0</td>\n      <td>1</td>\n      <td>0</td>\n      <td>570</td>\n      <td>0</td>\n    </tr>\n    <tr>\n      <th>1</th>\n      <td>314430</td>\n      <td>445442</td>\n      <td>707468</td>\n      <td>1.4167</td>\n      <td>2.2500</td>\n      <td>1.5882</td>\n      <td>29157</td>\n      <td>0.8131</td>\n      <td>0.1141</td>\n      <td>0.0805</td>\n      <td>...</td>\n      <td>0.5882</td>\n      <td>0.3704</td>\n      <td>2</td>\n      <td>1</td>\n      <td>0</td>\n      <td>1</td>\n      <td>1</td>\n      <td>0</td>\n      <td>691</td>\n      <td>0</td>\n    </tr>\n    <tr>\n      <th>2</th>\n      <td>161773</td>\n      <td>517674</td>\n      <td>2782496</td>\n      <td>3.2000</td>\n      <td>17.2000</td>\n      <td>5.3750</td>\n      <td>2533</td>\n      <td>0.6816</td>\n      <td>0.0230</td>\n      <td>0.0072</td>\n      <td>...</td>\n      <td>0.3125</td>\n      <td>0.0581</td>\n      <td>0</td>\n      <td>1</td>\n      <td>1</td>\n      <td>1</td>\n      <td>1</td>\n      <td>1</td>\n      <td>520</td>\n      <td>0</td>\n    </tr>\n    <tr>\n      <th>3</th>\n      <td>16014</td>\n      <td>97685</td>\n      <td>20818</td>\n      <td>6.1000</td>\n      <td>1.3000</td>\n      <td>0.2131</td>\n      <td>187</td>\n      <td>0.2936</td>\n      <td>0.0398</td>\n      <td>0.0065</td>\n      <td>...</td>\n      <td>0.1639</td>\n      <td>0.7692</td>\n      <td>0</td>\n      <td>1</td>\n      <td>0</td>\n      <td>0</td>\n      <td>1</td>\n      <td>0</td>\n      <td>654</td>\n      <td>0</td>\n    </tr>\n    <tr>\n      <th>4</th>\n      <td>193225</td>\n      <td>1410542</td>\n      <td>2589215</td>\n      <td>7.3000</td>\n      <td>13.4000</td>\n      <td>1.8356</td>\n      <td>2325</td>\n      <td>0.4407</td>\n      <td>0.0273</td>\n      <td>0.0037</td>\n      <td>...</td>\n      <td>0.1370</td>\n      <td>0.0746</td>\n      <td>0</td>\n      <td>1</td>\n      <td>1</td>\n      <td>0</td>\n      <td>1</td>\n      <td>1</td>\n      <td>552</td>\n      <td>0</td>\n    </tr>\n    <tr>\n      <th>...</th>\n      <td>...</td>\n      <td>...</td>\n      <td>...</td>\n      <td>...</td>\n      <td>...</td>\n      <td>...</td>\n      <td>...</td>\n      <td>...</td>\n      <td>...</td>\n      <td>...</td>\n      <td>...</td>\n      <td>...</td>\n      <td>...</td>\n      <td>...</td>\n      <td>...</td>\n      <td>...</td>\n      <td>...</td>\n      <td>...</td>\n      <td>...</td>\n      <td>...</td>\n      <td>...</td>\n    </tr>\n    <tr>\n      <th>465</th>\n      <td>20007</td>\n      <td>22508</td>\n      <td>457665</td>\n      <td>1.1250</td>\n      <td>22.8752</td>\n      <td>20.3334</td>\n      <td>861</td>\n      <td>0.5934</td>\n      <td>0.0725</td>\n      <td>0.0645</td>\n      <td>...</td>\n      <td>1.1111</td>\n      <td>0.0546</td>\n      <td>0</td>\n      <td>1</td>\n      <td>0</td>\n      <td>0</td>\n      <td>1</td>\n      <td>0</td>\n      <td>423</td>\n      <td>0</td>\n    </tr>\n    <tr>\n      <th>466</th>\n      <td>20846</td>\n      <td>268679</td>\n      <td>23162</td>\n      <td>12.8888</td>\n      <td>1.1111</td>\n      <td>0.0862</td>\n      <td>533</td>\n      <td>0.4094</td>\n      <td>0.0625</td>\n      <td>0.0048</td>\n      <td>...</td>\n      <td>0.0862</td>\n      <td>1.0000</td>\n      <td>1</td>\n      <td>1</td>\n      <td>0</td>\n      <td>0</td>\n      <td>1</td>\n      <td>0</td>\n      <td>584</td>\n      <td>0</td>\n    </tr>\n    <tr>\n      <th>467</th>\n      <td>89235</td>\n      <td>1106514</td>\n      <td>160623</td>\n      <td>12.4000</td>\n      <td>1.8000</td>\n      <td>0.1452</td>\n      <td>835</td>\n      <td>0.3460</td>\n      <td>0.0270</td>\n      <td>0.0022</td>\n      <td>...</td>\n      <td>0.0806</td>\n      <td>0.5556</td>\n      <td>0</td>\n      <td>1</td>\n      <td>0</td>\n      <td>0</td>\n      <td>1</td>\n      <td>0</td>\n      <td>631</td>\n      <td>0</td>\n    </tr>\n    <tr>\n      <th>468</th>\n      <td>197073</td>\n      <td>1021195</td>\n      <td>1863233</td>\n      <td>5.1818</td>\n      <td>9.4545</td>\n      <td>1.8246</td>\n      <td>3948</td>\n      <td>0.4691</td>\n      <td>0.0427</td>\n      <td>0.0082</td>\n      <td>...</td>\n      <td>0.1754</td>\n      <td>0.0962</td>\n      <td>2</td>\n      <td>1</td>\n      <td>0</td>\n      <td>1</td>\n      <td>1</td>\n      <td>1</td>\n      <td>572</td>\n      <td>0</td>\n    </tr>\n    <tr>\n      <th>469</th>\n      <td>133592</td>\n      <td>85013</td>\n      <td>680103</td>\n      <td>0.6364</td>\n      <td>5.0909</td>\n      <td>8.0000</td>\n      <td>264</td>\n      <td>0.0212</td>\n      <td>0.0934</td>\n      <td>0.1468</td>\n      <td>...</td>\n      <td>1.4286</td>\n      <td>0.1786</td>\n      <td>2</td>\n      <td>1</td>\n      <td>0</td>\n      <td>0</td>\n      <td>1</td>\n      <td>0</td>\n      <td>610</td>\n      <td>0</td>\n    </tr>\n  </tbody>\n</table>\n<p>470 rows × 73 columns</p>\n</div>"
     },
     "execution_count": 96,
     "metadata": {},
     "output_type": "execute_result"
    }
   ],
   "source": [
    "df_train = df_train[df_train['outliers'] == 0]\n",
    "df_train.drop(columns='outliers', inplace=True)\n",
    "df_train.reset_index(drop=True, inplace=True)\n",
    "df_train"
   ],
   "metadata": {
    "collapsed": false,
    "ExecuteTime": {
     "end_time": "2024-04-18T11:07:35.187816Z",
     "start_time": "2024-04-18T11:07:35.126916Z"
    }
   },
   "id": "646949c961f47ad4",
   "execution_count": 96
  },
  {
   "cell_type": "code",
   "outputs": [],
   "source": [
    "from sklearn.preprocessing import StandardScaler\n",
    "scaler = StandardScaler()\n",
    "from scipy.stats import boxcox\n",
    "\n",
    "X=df_train.drop(target, axis=1)\n",
    "X=X[rest_cols]\n",
    "y=df_train[target]\n",
    "X_val=df_val.drop(target, axis=1)\n",
    "X_val=X_val[rest_cols]\n",
    "y_val=df_val[target]\n",
    "X=X[rest_cols]\n",
    "X_cols=X[rest_cols]\n",
    "# Box Cox and standart scalling\n",
    "for col in rest_cols:\n",
    "    X[col] = boxcox(X[col]+1)[0]\n",
    "    X_val[col] = boxcox(X_val[col]+1)[0]\n",
    "X[rest_cols] = scaler.fit_transform(X[rest_cols])\n",
    "X_val[rest_cols] = scaler.transform(X_val[rest_cols])\n"
   ],
   "metadata": {
    "collapsed": false,
    "ExecuteTime": {
     "end_time": "2024-04-18T11:07:38.191383Z",
     "start_time": "2024-04-18T11:07:36.944855Z"
    }
   },
   "id": "1cf5946b86cc3e90",
   "execution_count": 97
  },
  {
   "cell_type": "code",
   "outputs": [],
   "source": [
    "from sklearn.tree import DecisionTreeClassifier\n",
    "from sklearn.neighbors import KNeighborsClassifier\n",
    "from sklearn.linear_model import LogisticRegression\n",
    "from sklearn.model_selection import train_test_split\n",
    "from sklearn.metrics import accuracy_score, precision_score, recall_score, f1_score\n",
    "from sklearn.svm import SVC\n",
    "from sklearn.ensemble import RandomForestClassifier, AdaBoostClassifier\n",
    "from sklearn.naive_bayes import GaussianNB\n",
    "from sklearn.neural_network import MLPClassifier\n",
    "from sklearn.discriminant_analysis import QuadraticDiscriminantAnalysis\n",
    "from sklearn.linear_model import SGDClassifier\n",
    "\n",
    "model1 = DecisionTreeClassifier(random_state=1)\n",
    "model2 = KNeighborsClassifier()\n",
    "model3 = LogisticRegression(random_state=1, max_iter=1000)\n",
    "model4 = SVC(random_state=42, kernel='poly', degree=10)\n",
    "\n",
    "estimators=[('DecisionTree', model1), ('KNN', model2), ('LR', model3)]"
   ],
   "metadata": {
    "collapsed": false,
    "ExecuteTime": {
     "end_time": "2024-04-18T11:07:38.349799Z",
     "start_time": "2024-04-18T11:07:38.339762Z"
    }
   },
   "id": "446e5cfa53f9ec07",
   "execution_count": 98
  },
  {
   "cell_type": "code",
   "outputs": [
    {
     "name": "stdout",
     "output_type": "stream",
     "text": [
      "accuracy:  0.5897435897435898\n",
      "model.score:  0.427536231884058\n"
     ]
    }
   ],
   "source": [
    "from sklearn.ensemble import VotingClassifier\n",
    "model_hard = VotingClassifier(estimators=estimators, voting='hard')\n",
    "model_hard.fit(X,y)\n",
    "\n",
    "y_hat = model_hard.predict(X_val)\n",
    "print('accuracy: ', recall_score(y_val, y_hat))\n",
    "\n",
    "print('model.score: ', model_hard.score(X_val,y_val))"
   ],
   "metadata": {
    "collapsed": false,
    "ExecuteTime": {
     "end_time": "2024-04-18T09:30:00.880640Z",
     "start_time": "2024-04-18T09:30:00.616678Z"
    }
   },
   "id": "bb895f9fa952817f",
   "execution_count": 9
  },
  {
   "cell_type": "code",
   "outputs": [
    {
     "data": {
      "text/plain": "0.5897435897435898"
     },
     "execution_count": 10,
     "metadata": {},
     "output_type": "execute_result"
    }
   ],
   "source": [
    "model_soft = VotingClassifier(estimators=estimators, voting='soft')\n",
    "model_soft.fit(X, y)\n",
    "\n",
    "y_hat = model_soft.predict(X_val)\n",
    "recall_score(y_val, y_hat)"
   ],
   "metadata": {
    "collapsed": false,
    "ExecuteTime": {
     "end_time": "2024-04-18T09:30:02.528477Z",
     "start_time": "2024-04-18T09:30:02.356836Z"
    }
   },
   "id": "c2f1bab4d2b4ad5a",
   "execution_count": 10
  },
  {
   "cell_type": "code",
   "outputs": [
    {
     "name": "stdout",
     "output_type": "stream",
     "text": [
      "              precision    recall  f1-score   support\n",
      "\n",
      "           0       0.00      0.00      0.00        99\n",
      "           1       0.28      1.00      0.44        39\n",
      "\n",
      "    accuracy                           0.28       138\n",
      "   macro avg       0.14      0.50      0.22       138\n",
      "weighted avg       0.08      0.28      0.12       138\n"
     ]
    },
    {
     "name": "stderr",
     "output_type": "stream",
     "text": [
      "C:\\Users\\Dell\\anaconda3\\Lib\\site-packages\\sklearn\\metrics\\_classification.py:1509: UndefinedMetricWarning: Precision is ill-defined and being set to 0.0 in labels with no predicted samples. Use `zero_division` parameter to control this behavior.\n",
      "  _warn_prf(average, modifier, f\"{metric.capitalize()} is\", len(result))\n",
      "C:\\Users\\Dell\\anaconda3\\Lib\\site-packages\\sklearn\\metrics\\_classification.py:1509: UndefinedMetricWarning: Precision is ill-defined and being set to 0.0 in labels with no predicted samples. Use `zero_division` parameter to control this behavior.\n",
      "  _warn_prf(average, modifier, f\"{metric.capitalize()} is\", len(result))\n",
      "C:\\Users\\Dell\\anaconda3\\Lib\\site-packages\\sklearn\\metrics\\_classification.py:1509: UndefinedMetricWarning: Precision is ill-defined and being set to 0.0 in labels with no predicted samples. Use `zero_division` parameter to control this behavior.\n",
      "  _warn_prf(average, modifier, f\"{metric.capitalize()} is\", len(result))\n"
     ]
    }
   ],
   "source": [
    "from sklearn.metrics import classification_report\n",
    "model_soft = VotingClassifier(estimators=estimators, voting='soft', weights=[0.05, 0.05, 0.90])\n",
    "model_soft.fit(X, y)\n",
    "\n",
    "y_hat = model_soft.predict(X_val)\n",
    "report = classification_report(y_val, y_hat)\n",
    "print(report)"
   ],
   "metadata": {
    "collapsed": false,
    "ExecuteTime": {
     "end_time": "2024-04-18T09:30:04.131491Z",
     "start_time": "2024-04-18T09:30:03.924854Z"
    }
   },
   "id": "55e18724c8c6a96f",
   "execution_count": 11
  },
  {
   "cell_type": "code",
   "outputs": [
    {
     "data": {
      "text/plain": "0.2826086956521739"
     },
     "execution_count": 12,
     "metadata": {},
     "output_type": "execute_result"
    }
   ],
   "source": [
    "from sklearn.ensemble import StackingClassifier\n",
    "clf = StackingClassifier(estimators=estimators, final_estimator=LogisticRegression())\n",
    "clf.fit(X, y).score(X_val, y_val)"
   ],
   "metadata": {
    "collapsed": false,
    "ExecuteTime": {
     "end_time": "2024-04-18T09:30:07.174324Z",
     "start_time": "2024-04-18T09:30:05.786082Z"
    }
   },
   "id": "334c443ae91c5bdf",
   "execution_count": 12
  },
  {
   "cell_type": "code",
   "outputs": [
    {
     "name": "stdout",
     "output_type": "stream",
     "text": [
      "              precision    recall  f1-score   support\n",
      "\n",
      "           0       0.83      0.29      0.43        99\n",
      "           1       0.32      0.85      0.46        39\n",
      "\n",
      "    accuracy                           0.45       138\n",
      "   macro avg       0.57      0.57      0.45       138\n",
      "weighted avg       0.68      0.45      0.44       138\n"
     ]
    }
   ],
   "source": [
    "from sklearn.ensemble import BaggingClassifier\n",
    "clf = BaggingClassifier(n_estimators=10, random_state=0)\n",
    "clf.fit(X, y)\n",
    "y_hat = clf.predict(X_val)\n",
    "report = classification_report(y_val, y_hat)\n",
    "print(report)"
   ],
   "metadata": {
    "collapsed": false,
    "ExecuteTime": {
     "end_time": "2024-04-18T09:30:08.337027Z",
     "start_time": "2024-04-18T09:30:08.038664Z"
    }
   },
   "id": "ca86f7c13cc60756",
   "execution_count": 13
  },
  {
   "cell_type": "code",
   "outputs": [
    {
     "name": "stdout",
     "output_type": "stream",
     "text": [
      "              precision    recall  f1-score   support\n",
      "\n",
      "           0       0.72      1.00      0.84        99\n",
      "           1       0.00      0.00      0.00        39\n",
      "\n",
      "    accuracy                           0.72       138\n",
      "   macro avg       0.36      0.50      0.42       138\n",
      "weighted avg       0.51      0.72      0.60       138\n"
     ]
    },
    {
     "name": "stderr",
     "output_type": "stream",
     "text": [
      "C:\\Users\\Dell\\anaconda3\\Lib\\site-packages\\sklearn\\metrics\\_classification.py:1509: UndefinedMetricWarning: Precision is ill-defined and being set to 0.0 in labels with no predicted samples. Use `zero_division` parameter to control this behavior.\n",
      "  _warn_prf(average, modifier, f\"{metric.capitalize()} is\", len(result))\n",
      "C:\\Users\\Dell\\anaconda3\\Lib\\site-packages\\sklearn\\metrics\\_classification.py:1509: UndefinedMetricWarning: Precision is ill-defined and being set to 0.0 in labels with no predicted samples. Use `zero_division` parameter to control this behavior.\n",
      "  _warn_prf(average, modifier, f\"{metric.capitalize()} is\", len(result))\n",
      "C:\\Users\\Dell\\anaconda3\\Lib\\site-packages\\sklearn\\metrics\\_classification.py:1509: UndefinedMetricWarning: Precision is ill-defined and being set to 0.0 in labels with no predicted samples. Use `zero_division` parameter to control this behavior.\n",
      "  _warn_prf(average, modifier, f\"{metric.capitalize()} is\", len(result))\n"
     ]
    }
   ],
   "source": [
    "from sklearn.ensemble import RandomForestClassifier\n",
    "\n",
    "model_rf = RandomForestClassifier(n_estimators=1000, # Ilość słabych estymatorów\n",
    "                                  max_depth=2, # Maksymalna wysokość drzewa w słabym estymatorze\n",
    "                                  min_samples_split = 2, # Minimalna ilość obserwacji wymagana do podziału węzła\n",
    "                                  max_features = 3, # Maksymalna ilość zmiennych brana pod uwagę przy podziale węzła\n",
    "                                  random_state=0,\n",
    "                                  n_jobs = -1)\n",
    "model_rf.fit(X, y)\n",
    "y_hat = model_rf.predict(X_val)\n",
    "report = classification_report(y_val, y_hat)\n",
    "print(report)"
   ],
   "metadata": {
    "collapsed": false,
    "ExecuteTime": {
     "end_time": "2024-04-18T09:30:14.283653Z",
     "start_time": "2024-04-18T09:30:11.615688Z"
    }
   },
   "id": "7fa06e1a10a3ed9",
   "execution_count": 14
  },
  {
   "cell_type": "code",
   "outputs": [
    {
     "name": "stderr",
     "output_type": "stream",
     "text": [
      "C:\\Users\\Dell\\anaconda3\\Lib\\site-packages\\sklearn\\ensemble\\_weight_boosting.py:519: FutureWarning: The SAMME.R algorithm (the default) is deprecated and will be removed in 1.6. Use the SAMME algorithm to circumvent this warning.\n",
      "  warnings.warn(\n"
     ]
    },
    {
     "name": "stdout",
     "output_type": "stream",
     "text": [
      "              precision    recall  f1-score   support\n",
      "\n",
      "           0       0.70      0.31      0.43        99\n",
      "           1       0.28      0.67      0.39        39\n",
      "\n",
      "    accuracy                           0.41       138\n",
      "   macro avg       0.49      0.49      0.41       138\n",
      "weighted avg       0.58      0.41      0.42       138\n"
     ]
    }
   ],
   "source": [
    "from sklearn.ensemble import AdaBoostClassifier\n",
    "\n",
    "model = AdaBoostClassifier(random_state=1)\n",
    "model.fit(X, y)\n",
    "y_hat = model.predict(X_val)\n",
    "report = classification_report(y_val, y_hat)\n",
    "print(report)"
   ],
   "metadata": {
    "collapsed": false,
    "ExecuteTime": {
     "end_time": "2024-04-18T09:30:16.791612Z",
     "start_time": "2024-04-18T09:30:16.395358Z"
    }
   },
   "id": "fb67cd27b86f3b5b",
   "execution_count": 15
  },
  {
   "cell_type": "code",
   "outputs": [
    {
     "name": "stdout",
     "output_type": "stream",
     "text": [
      "              precision    recall  f1-score   support\n",
      "\n",
      "           0       0.70      0.54      0.61        99\n",
      "           1       0.26      0.41      0.32        39\n",
      "\n",
      "    accuracy                           0.50       138\n",
      "   macro avg       0.48      0.47      0.46       138\n",
      "weighted avg       0.57      0.50      0.52       138\n"
     ]
    }
   ],
   "source": [
    "from sklearn.ensemble import GradientBoostingClassifier\n",
    "\n",
    "model = GradientBoostingClassifier(random_state=1,\n",
    "                                   learning_rate=0.01)\n",
    "model.fit(X, y)\n",
    "y_hat = model.predict(X_val)\n",
    "report = classification_report(y_val, y_hat)\n",
    "print(report)"
   ],
   "metadata": {
    "collapsed": false,
    "ExecuteTime": {
     "end_time": "2024-04-18T09:30:19.786916Z",
     "start_time": "2024-04-18T09:30:18.035655Z"
    }
   },
   "id": "fb25cd14a33a1d21",
   "execution_count": 16
  },
  {
   "cell_type": "code",
   "outputs": [
    {
     "name": "stdout",
     "output_type": "stream",
     "text": [
      "              precision    recall  f1-score   support\n",
      "\n",
      "           0       0.76      0.76      0.76        99\n",
      "           1       0.38      0.38      0.38        39\n",
      "\n",
      "    accuracy                           0.65       138\n",
      "   macro avg       0.57      0.57      0.57       138\n",
      "weighted avg       0.65      0.65      0.65       138\n"
     ]
    }
   ],
   "source": [
    "from xgboost import XGBClassifier\n",
    "model=XGBClassifier(random_state=1,\n",
    "                    learning_rate=0.01, # Szybkość \"uczenia\" się\n",
    "                    booster='gbtree', # Jaki model wykorzystujemy (drzewo - gbtree, liniowe - gblinear)\n",
    "                    max_depth=4 # Maksymalna głębokość drzewa \n",
    "                    )\n",
    "model.fit(X, y)\n",
    "y_hat = model.predict(X_val)\n",
    "report = classification_report(y_val, y_hat)\n",
    "print(report)"
   ],
   "metadata": {
    "collapsed": false,
    "ExecuteTime": {
     "end_time": "2024-04-18T09:30:25.769936Z",
     "start_time": "2024-04-18T09:30:24.716118Z"
    }
   },
   "id": "f368589cc732a6ac",
   "execution_count": 17
  },
  {
   "cell_type": "code",
   "outputs": [],
   "source": [
    "from sklearn.ensemble import StackingClassifier\n",
    "from sklearn.linear_model import LogisticRegression\n",
    "from sklearn.svm import SVC\n",
    "from sklearn.tree import DecisionTreeClassifier\n",
    "level0 = [\n",
    "    ('lr', LogisticRegression()),\n",
    "    ('svc', SVC()),\n",
    "    ('dt', DecisionTreeClassifier())\n",
    "]\n",
    "# Meta-model, który podsumowuje przewidywania bazowych modeli\n",
    "level1 = LogisticRegression()\n",
    "\n",
    "# Defining the stacking model\n",
    "model_stacking = StackingClassifier(estimators=level0, final_estimator=level1, cv=5)"
   ],
   "metadata": {
    "collapsed": false,
    "ExecuteTime": {
     "end_time": "2024-04-18T09:58:47.463777Z",
     "start_time": "2024-04-18T09:58:47.458248Z"
    }
   },
   "id": "459b38de049408a8",
   "execution_count": 20
  },
  {
   "cell_type": "code",
   "outputs": [
    {
     "name": "stdout",
     "output_type": "stream",
     "text": [
      "Accuracy: 0.6521739130434783\n"
     ]
    }
   ],
   "source": [
    "# fitting stacking and evaluating\n",
    "model_stacking.fit(X, y)\n",
    "predictions = model.predict(X_val)\n",
    "print(\"Accuracy:\", accuracy_score(y_val, predictions))"
   ],
   "metadata": {
    "collapsed": false,
    "ExecuteTime": {
     "end_time": "2024-04-18T09:58:44.880319Z",
     "start_time": "2024-04-18T09:58:43.804665Z"
    }
   },
   "id": "6fb91bcee7610ba0",
   "execution_count": 19
  },
  {
   "cell_type": "markdown",
   "source": [
    "## strojenie parametrów"
   ],
   "metadata": {
    "collapsed": false
   },
   "id": "511898377385e96d"
  },
  {
   "cell_type": "code",
   "outputs": [],
   "source": [
    "tree_model= DecisionTreeClassifier()"
   ],
   "metadata": {
    "collapsed": false,
    "ExecuteTime": {
     "end_time": "2024-04-18T10:04:22.653748Z",
     "start_time": "2024-04-18T10:04:22.646642Z"
    }
   },
   "id": "75930281385bda36",
   "execution_count": 21
  },
  {
   "cell_type": "code",
   "outputs": [],
   "source": [
    "from sklearn.model_selection import GridSearchCV"
   ],
   "metadata": {
    "collapsed": false,
    "ExecuteTime": {
     "end_time": "2024-04-18T10:06:10.549294Z",
     "start_time": "2024-04-18T10:06:10.543732Z"
    }
   },
   "id": "3e09225571f5a3e6",
   "execution_count": 26
  },
  {
   "cell_type": "code",
   "outputs": [
    {
     "data": {
      "text/plain": "{'ccp_alpha': 0.0,\n 'class_weight': None,\n 'criterion': 'gini',\n 'max_depth': None,\n 'max_features': None,\n 'max_leaf_nodes': None,\n 'min_impurity_decrease': 0.0,\n 'min_samples_leaf': 1,\n 'min_samples_split': 2,\n 'min_weight_fraction_leaf': 0.0,\n 'monotonic_cst': None,\n 'random_state': None,\n 'splitter': 'best'}"
     },
     "execution_count": 29,
     "metadata": {},
     "output_type": "execute_result"
    }
   ],
   "source": [
    "tree_model.get_params()"
   ],
   "metadata": {
    "collapsed": false,
    "ExecuteTime": {
     "end_time": "2024-04-18T10:06:42.013048Z",
     "start_time": "2024-04-18T10:06:41.998089Z"
    }
   },
   "id": "3e5f53bdae814e94",
   "execution_count": 29
  },
  {
   "cell_type": "code",
   "outputs": [],
   "source": [
    "max_depth=[3, 5, 6, 7, 8]\n",
    "criterion=[\"gini\",\"entrophy\"]\n",
    "ccp_alpha=[0,0.01, 0.02, 0.05, 0.1, 0.2]\n",
    "param_grid = dict(max_depth=max_depth,criterion=criterion, ccp_alpha=ccp_alpha)"
   ],
   "metadata": {
    "collapsed": false,
    "ExecuteTime": {
     "end_time": "2024-04-18T10:07:26.243963Z",
     "start_time": "2024-04-18T10:07:26.235754Z"
    }
   },
   "id": "a37568721c6d9408",
   "execution_count": 34
  },
  {
   "cell_type": "code",
   "outputs": [
    {
     "name": "stdout",
     "output_type": "stream",
     "text": [
      "Best: 0.744733 using {'ccp_alpha': 0.02, 'criterion': 'gini', 'max_depth': 3}\n"
     ]
    },
    {
     "name": "stderr",
     "output_type": "stream",
     "text": [
      "C:\\Users\\Dell\\anaconda3\\Lib\\site-packages\\sklearn\\model_selection\\_validation.py:547: FitFailedWarning: \n",
      "90 fits failed out of a total of 180.\n",
      "The score on these train-test partitions for these parameters will be set to nan.\n",
      "If these failures are not expected, you can try to debug them by setting error_score='raise'.\n",
      "\n",
      "Below are more details about the failures:\n",
      "--------------------------------------------------------------------------------\n",
      "18 fits failed with the following error:\n",
      "Traceback (most recent call last):\n",
      "  File \"C:\\Users\\Dell\\anaconda3\\Lib\\site-packages\\sklearn\\model_selection\\_validation.py\", line 895, in _fit_and_score\n",
      "    estimator.fit(X_train, y_train, **fit_params)\n",
      "  File \"C:\\Users\\Dell\\anaconda3\\Lib\\site-packages\\sklearn\\base.py\", line 1467, in wrapper\n",
      "    estimator._validate_params()\n",
      "  File \"C:\\Users\\Dell\\anaconda3\\Lib\\site-packages\\sklearn\\base.py\", line 666, in _validate_params\n",
      "    validate_parameter_constraints(\n",
      "  File \"C:\\Users\\Dell\\anaconda3\\Lib\\site-packages\\sklearn\\utils\\_param_validation.py\", line 95, in validate_parameter_constraints\n",
      "    raise InvalidParameterError(\n",
      "sklearn.utils._param_validation.InvalidParameterError: The 'criterion' parameter of DecisionTreeClassifier must be a str among {'gini', 'entropy', 'log_loss'}. Got 'entrophy' instead.\n",
      "\n",
      "--------------------------------------------------------------------------------\n",
      "41 fits failed with the following error:\n",
      "Traceback (most recent call last):\n",
      "  File \"C:\\Users\\Dell\\anaconda3\\Lib\\site-packages\\sklearn\\model_selection\\_validation.py\", line 895, in _fit_and_score\n",
      "    estimator.fit(X_train, y_train, **fit_params)\n",
      "  File \"C:\\Users\\Dell\\anaconda3\\Lib\\site-packages\\sklearn\\base.py\", line 1467, in wrapper\n",
      "    estimator._validate_params()\n",
      "  File \"C:\\Users\\Dell\\anaconda3\\Lib\\site-packages\\sklearn\\base.py\", line 666, in _validate_params\n",
      "    validate_parameter_constraints(\n",
      "  File \"C:\\Users\\Dell\\anaconda3\\Lib\\site-packages\\sklearn\\utils\\_param_validation.py\", line 95, in validate_parameter_constraints\n",
      "    raise InvalidParameterError(\n",
      "sklearn.utils._param_validation.InvalidParameterError: The 'criterion' parameter of DecisionTreeClassifier must be a str among {'gini', 'log_loss', 'entropy'}. Got 'entrophy' instead.\n",
      "\n",
      "--------------------------------------------------------------------------------\n",
      "19 fits failed with the following error:\n",
      "Traceback (most recent call last):\n",
      "  File \"C:\\Users\\Dell\\anaconda3\\Lib\\site-packages\\sklearn\\model_selection\\_validation.py\", line 895, in _fit_and_score\n",
      "    estimator.fit(X_train, y_train, **fit_params)\n",
      "  File \"C:\\Users\\Dell\\anaconda3\\Lib\\site-packages\\sklearn\\base.py\", line 1467, in wrapper\n",
      "    estimator._validate_params()\n",
      "  File \"C:\\Users\\Dell\\anaconda3\\Lib\\site-packages\\sklearn\\base.py\", line 666, in _validate_params\n",
      "    validate_parameter_constraints(\n",
      "  File \"C:\\Users\\Dell\\anaconda3\\Lib\\site-packages\\sklearn\\utils\\_param_validation.py\", line 95, in validate_parameter_constraints\n",
      "    raise InvalidParameterError(\n",
      "sklearn.utils._param_validation.InvalidParameterError: The 'criterion' parameter of DecisionTreeClassifier must be a str among {'log_loss', 'entropy', 'gini'}. Got 'entrophy' instead.\n",
      "\n",
      "--------------------------------------------------------------------------------\n",
      "12 fits failed with the following error:\n",
      "Traceback (most recent call last):\n",
      "  File \"C:\\Users\\Dell\\anaconda3\\Lib\\site-packages\\sklearn\\model_selection\\_validation.py\", line 895, in _fit_and_score\n",
      "    estimator.fit(X_train, y_train, **fit_params)\n",
      "  File \"C:\\Users\\Dell\\anaconda3\\Lib\\site-packages\\sklearn\\base.py\", line 1467, in wrapper\n",
      "    estimator._validate_params()\n",
      "  File \"C:\\Users\\Dell\\anaconda3\\Lib\\site-packages\\sklearn\\base.py\", line 666, in _validate_params\n",
      "    validate_parameter_constraints(\n",
      "  File \"C:\\Users\\Dell\\anaconda3\\Lib\\site-packages\\sklearn\\utils\\_param_validation.py\", line 95, in validate_parameter_constraints\n",
      "    raise InvalidParameterError(\n",
      "sklearn.utils._param_validation.InvalidParameterError: The 'criterion' parameter of DecisionTreeClassifier must be a str among {'entropy', 'gini', 'log_loss'}. Got 'entrophy' instead.\n",
      "\n",
      "  warnings.warn(some_fits_failed_message, FitFailedWarning)\n",
      "C:\\Users\\Dell\\anaconda3\\Lib\\site-packages\\sklearn\\model_selection\\_search.py:1051: UserWarning: One or more of the test scores are non-finite: [0.70220208 0.68513528 0.69146388 0.67445152 0.66591812        nan\n",
      "        nan        nan        nan        nan 0.71069465 0.70640753\n",
      " 0.67872503 0.66808209 0.64679623        nan        nan        nan\n",
      "        nan        nan 0.74473297 0.74473297 0.74473297 0.74473297\n",
      " 0.74473297        nan        nan        nan        nan        nan\n",
      " 0.72126953 0.72126953 0.72126953 0.72126953 0.72126953        nan\n",
      "        nan        nan        nan        nan 0.71702325 0.71702325\n",
      " 0.71702325 0.71702325 0.71702325        nan        nan        nan\n",
      "        nan        nan 0.71702325 0.71702325 0.71702325 0.71702325\n",
      " 0.71702325        nan        nan        nan        nan        nan]\n",
      "  warnings.warn(\n"
     ]
    }
   ],
   "source": [
    "tree_model= DecisionTreeClassifier()\n",
    "grid = GridSearchCV(estimator=tree_model, param_grid=param_grid, cv = 3, n_jobs=-1)\n",
    "\n",
    "grid_result = grid.fit(X, y) #tutaj lepiej zastosować tylko trainset\n",
    "\n",
    "print(\"Best: %f using %s\" % (grid_result.best_score_, grid_result.best_params_))"
   ],
   "metadata": {
    "collapsed": false,
    "ExecuteTime": {
     "end_time": "2024-04-18T10:07:27.409076Z",
     "start_time": "2024-04-18T10:07:26.395639Z"
    }
   },
   "id": "aa6deab20cd064b6",
   "execution_count": 35
  },
  {
   "cell_type": "code",
   "outputs": [
    {
     "name": "stdout",
     "output_type": "stream",
     "text": [
      "Parameters : {'ccp_alpha': 0, 'criterion': 'gini', 'max_depth': 3}\n",
      "Mean test score: 0.70220208\n",
      "Standard Deviation (test) : 0.02794190\n",
      "\n",
      "Parameters : {'ccp_alpha': 0, 'criterion': 'gini', 'max_depth': 5}\n",
      "Mean test score: 0.68513528\n",
      "Standard Deviation (test) : 0.01616429\n",
      "\n",
      "Parameters : {'ccp_alpha': 0, 'criterion': 'gini', 'max_depth': 6}\n",
      "Mean test score: 0.69146388\n",
      "Standard Deviation (test) : 0.01151412\n",
      "\n",
      "Parameters : {'ccp_alpha': 0, 'criterion': 'gini', 'max_depth': 7}\n",
      "Mean test score: 0.67445152\n",
      "Standard Deviation (test) : 0.00608799\n",
      "\n",
      "Parameters : {'ccp_alpha': 0, 'criterion': 'gini', 'max_depth': 8}\n",
      "Mean test score: 0.66591812\n",
      "Standard Deviation (test) : 0.03867906\n",
      "\n",
      "Parameters : {'ccp_alpha': 0, 'criterion': 'entrophy', 'max_depth': 3}\n",
      "Mean test score: nan\n",
      "Standard Deviation (test) : nan\n",
      "\n",
      "Parameters : {'ccp_alpha': 0, 'criterion': 'entrophy', 'max_depth': 5}\n",
      "Mean test score: nan\n",
      "Standard Deviation (test) : nan\n",
      "\n",
      "Parameters : {'ccp_alpha': 0, 'criterion': 'entrophy', 'max_depth': 6}\n",
      "Mean test score: nan\n",
      "Standard Deviation (test) : nan\n",
      "\n",
      "Parameters : {'ccp_alpha': 0, 'criterion': 'entrophy', 'max_depth': 7}\n",
      "Mean test score: nan\n",
      "Standard Deviation (test) : nan\n",
      "\n",
      "Parameters : {'ccp_alpha': 0, 'criterion': 'entrophy', 'max_depth': 8}\n",
      "Mean test score: nan\n",
      "Standard Deviation (test) : nan\n",
      "\n",
      "Parameters : {'ccp_alpha': 0.01, 'criterion': 'gini', 'max_depth': 3}\n",
      "Mean test score: 0.71069465\n",
      "Standard Deviation (test) : 0.01890727\n",
      "\n",
      "Parameters : {'ccp_alpha': 0.01, 'criterion': 'gini', 'max_depth': 5}\n",
      "Mean test score: 0.70640753\n",
      "Standard Deviation (test) : 0.00816085\n",
      "\n",
      "Parameters : {'ccp_alpha': 0.01, 'criterion': 'gini', 'max_depth': 6}\n",
      "Mean test score: 0.67872503\n",
      "Standard Deviation (test) : 0.01301270\n",
      "\n",
      "Parameters : {'ccp_alpha': 0.01, 'criterion': 'gini', 'max_depth': 7}\n",
      "Mean test score: 0.66808209\n",
      "Standard Deviation (test) : 0.00100086\n",
      "\n",
      "Parameters : {'ccp_alpha': 0.01, 'criterion': 'gini', 'max_depth': 8}\n",
      "Mean test score: 0.64679623\n",
      "Standard Deviation (test) : 0.01612661\n",
      "\n",
      "Parameters : {'ccp_alpha': 0.01, 'criterion': 'entrophy', 'max_depth': 3}\n",
      "Mean test score: nan\n",
      "Standard Deviation (test) : nan\n",
      "\n",
      "Parameters : {'ccp_alpha': 0.01, 'criterion': 'entrophy', 'max_depth': 5}\n",
      "Mean test score: nan\n",
      "Standard Deviation (test) : nan\n",
      "\n",
      "Parameters : {'ccp_alpha': 0.01, 'criterion': 'entrophy', 'max_depth': 6}\n",
      "Mean test score: nan\n",
      "Standard Deviation (test) : nan\n",
      "\n",
      "Parameters : {'ccp_alpha': 0.01, 'criterion': 'entrophy', 'max_depth': 7}\n",
      "Mean test score: nan\n",
      "Standard Deviation (test) : nan\n",
      "\n",
      "Parameters : {'ccp_alpha': 0.01, 'criterion': 'entrophy', 'max_depth': 8}\n",
      "Mean test score: nan\n",
      "Standard Deviation (test) : nan\n",
      "\n",
      "Parameters : {'ccp_alpha': 0.02, 'criterion': 'gini', 'max_depth': 3}\n",
      "Mean test score: 0.74473297\n",
      "Standard Deviation (test) : 0.01808639\n",
      "\n",
      "Parameters : {'ccp_alpha': 0.02, 'criterion': 'gini', 'max_depth': 5}\n",
      "Mean test score: 0.74473297\n",
      "Standard Deviation (test) : 0.01808639\n",
      "\n",
      "Parameters : {'ccp_alpha': 0.02, 'criterion': 'gini', 'max_depth': 6}\n",
      "Mean test score: 0.74473297\n",
      "Standard Deviation (test) : 0.01808639\n",
      "\n",
      "Parameters : {'ccp_alpha': 0.02, 'criterion': 'gini', 'max_depth': 7}\n",
      "Mean test score: 0.74473297\n",
      "Standard Deviation (test) : 0.01808639\n",
      "\n",
      "Parameters : {'ccp_alpha': 0.02, 'criterion': 'gini', 'max_depth': 8}\n",
      "Mean test score: 0.74473297\n",
      "Standard Deviation (test) : 0.01808639\n",
      "\n",
      "Parameters : {'ccp_alpha': 0.02, 'criterion': 'entrophy', 'max_depth': 3}\n",
      "Mean test score: nan\n",
      "Standard Deviation (test) : nan\n",
      "\n",
      "Parameters : {'ccp_alpha': 0.02, 'criterion': 'entrophy', 'max_depth': 5}\n",
      "Mean test score: nan\n",
      "Standard Deviation (test) : nan\n",
      "\n",
      "Parameters : {'ccp_alpha': 0.02, 'criterion': 'entrophy', 'max_depth': 6}\n",
      "Mean test score: nan\n",
      "Standard Deviation (test) : nan\n",
      "\n",
      "Parameters : {'ccp_alpha': 0.02, 'criterion': 'entrophy', 'max_depth': 7}\n",
      "Mean test score: nan\n",
      "Standard Deviation (test) : nan\n",
      "\n",
      "Parameters : {'ccp_alpha': 0.02, 'criterion': 'entrophy', 'max_depth': 8}\n",
      "Mean test score: nan\n",
      "Standard Deviation (test) : nan\n",
      "\n",
      "Parameters : {'ccp_alpha': 0.05, 'criterion': 'gini', 'max_depth': 3}\n",
      "Mean test score: 0.72126953\n",
      "Standard Deviation (test) : 0.00350364\n",
      "\n",
      "Parameters : {'ccp_alpha': 0.05, 'criterion': 'gini', 'max_depth': 5}\n",
      "Mean test score: 0.72126953\n",
      "Standard Deviation (test) : 0.00350364\n",
      "\n",
      "Parameters : {'ccp_alpha': 0.05, 'criterion': 'gini', 'max_depth': 6}\n",
      "Mean test score: 0.72126953\n",
      "Standard Deviation (test) : 0.00350364\n",
      "\n",
      "Parameters : {'ccp_alpha': 0.05, 'criterion': 'gini', 'max_depth': 7}\n",
      "Mean test score: 0.72126953\n",
      "Standard Deviation (test) : 0.00350364\n",
      "\n",
      "Parameters : {'ccp_alpha': 0.05, 'criterion': 'gini', 'max_depth': 8}\n",
      "Mean test score: 0.72126953\n",
      "Standard Deviation (test) : 0.00350364\n",
      "\n",
      "Parameters : {'ccp_alpha': 0.05, 'criterion': 'entrophy', 'max_depth': 3}\n",
      "Mean test score: nan\n",
      "Standard Deviation (test) : nan\n",
      "\n",
      "Parameters : {'ccp_alpha': 0.05, 'criterion': 'entrophy', 'max_depth': 5}\n",
      "Mean test score: nan\n",
      "Standard Deviation (test) : nan\n",
      "\n",
      "Parameters : {'ccp_alpha': 0.05, 'criterion': 'entrophy', 'max_depth': 6}\n",
      "Mean test score: nan\n",
      "Standard Deviation (test) : nan\n",
      "\n",
      "Parameters : {'ccp_alpha': 0.05, 'criterion': 'entrophy', 'max_depth': 7}\n",
      "Mean test score: nan\n",
      "Standard Deviation (test) : nan\n",
      "\n",
      "Parameters : {'ccp_alpha': 0.05, 'criterion': 'entrophy', 'max_depth': 8}\n",
      "Mean test score: nan\n",
      "Standard Deviation (test) : nan\n",
      "\n",
      "Parameters : {'ccp_alpha': 0.1, 'criterion': 'gini', 'max_depth': 3}\n",
      "Mean test score: 0.71702325\n",
      "Standard Deviation (test) : 0.00268139\n",
      "\n",
      "Parameters : {'ccp_alpha': 0.1, 'criterion': 'gini', 'max_depth': 5}\n",
      "Mean test score: 0.71702325\n",
      "Standard Deviation (test) : 0.00268139\n",
      "\n",
      "Parameters : {'ccp_alpha': 0.1, 'criterion': 'gini', 'max_depth': 6}\n",
      "Mean test score: 0.71702325\n",
      "Standard Deviation (test) : 0.00268139\n",
      "\n",
      "Parameters : {'ccp_alpha': 0.1, 'criterion': 'gini', 'max_depth': 7}\n",
      "Mean test score: 0.71702325\n",
      "Standard Deviation (test) : 0.00268139\n",
      "\n",
      "Parameters : {'ccp_alpha': 0.1, 'criterion': 'gini', 'max_depth': 8}\n",
      "Mean test score: 0.71702325\n",
      "Standard Deviation (test) : 0.00268139\n",
      "\n",
      "Parameters : {'ccp_alpha': 0.1, 'criterion': 'entrophy', 'max_depth': 3}\n",
      "Mean test score: nan\n",
      "Standard Deviation (test) : nan\n",
      "\n",
      "Parameters : {'ccp_alpha': 0.1, 'criterion': 'entrophy', 'max_depth': 5}\n",
      "Mean test score: nan\n",
      "Standard Deviation (test) : nan\n",
      "\n",
      "Parameters : {'ccp_alpha': 0.1, 'criterion': 'entrophy', 'max_depth': 6}\n",
      "Mean test score: nan\n",
      "Standard Deviation (test) : nan\n",
      "\n",
      "Parameters : {'ccp_alpha': 0.1, 'criterion': 'entrophy', 'max_depth': 7}\n",
      "Mean test score: nan\n",
      "Standard Deviation (test) : nan\n",
      "\n",
      "Parameters : {'ccp_alpha': 0.1, 'criterion': 'entrophy', 'max_depth': 8}\n",
      "Mean test score: nan\n",
      "Standard Deviation (test) : nan\n",
      "\n",
      "Parameters : {'ccp_alpha': 0.2, 'criterion': 'gini', 'max_depth': 3}\n",
      "Mean test score: 0.71702325\n",
      "Standard Deviation (test) : 0.00268139\n",
      "\n",
      "Parameters : {'ccp_alpha': 0.2, 'criterion': 'gini', 'max_depth': 5}\n",
      "Mean test score: 0.71702325\n",
      "Standard Deviation (test) : 0.00268139\n",
      "\n",
      "Parameters : {'ccp_alpha': 0.2, 'criterion': 'gini', 'max_depth': 6}\n",
      "Mean test score: 0.71702325\n",
      "Standard Deviation (test) : 0.00268139\n",
      "\n",
      "Parameters : {'ccp_alpha': 0.2, 'criterion': 'gini', 'max_depth': 7}\n",
      "Mean test score: 0.71702325\n",
      "Standard Deviation (test) : 0.00268139\n",
      "\n",
      "Parameters : {'ccp_alpha': 0.2, 'criterion': 'gini', 'max_depth': 8}\n",
      "Mean test score: 0.71702325\n",
      "Standard Deviation (test) : 0.00268139\n",
      "\n",
      "Parameters : {'ccp_alpha': 0.2, 'criterion': 'entrophy', 'max_depth': 3}\n",
      "Mean test score: nan\n",
      "Standard Deviation (test) : nan\n",
      "\n",
      "Parameters : {'ccp_alpha': 0.2, 'criterion': 'entrophy', 'max_depth': 5}\n",
      "Mean test score: nan\n",
      "Standard Deviation (test) : nan\n",
      "\n",
      "Parameters : {'ccp_alpha': 0.2, 'criterion': 'entrophy', 'max_depth': 6}\n",
      "Mean test score: nan\n",
      "Standard Deviation (test) : nan\n",
      "\n",
      "Parameters : {'ccp_alpha': 0.2, 'criterion': 'entrophy', 'max_depth': 7}\n",
      "Mean test score: nan\n",
      "Standard Deviation (test) : nan\n",
      "\n",
      "Parameters : {'ccp_alpha': 0.2, 'criterion': 'entrophy', 'max_depth': 8}\n",
      "Mean test score: nan\n",
      "Standard Deviation (test) : nan\n",
      "\n",
      "Best parameters : {'ccp_alpha': 0.02, 'criterion': 'gini', 'max_depth': 3}\n",
      "Best accuracy score : 0.74473297\n"
     ]
    }
   ],
   "source": [
    "std_test_scores = grid_result.cv_results_['std_test_score']\n",
    "mean_test_scores = grid_result.cv_results_['mean_test_score']\n",
    "parameters = grid_result.cv_results_['params']\n",
    "\n",
    "for mean_test, std_test, params in zip(mean_test_scores, std_test_scores, parameters):\n",
    "    print('Parameters : {}'.format(params))\n",
    "    print('Mean test score: {:.8f}'.format(mean_test))\n",
    "    print('Standard Deviation (test) : {:.8f}'.format(std_test))\n",
    "    print()\n",
    "\n",
    "print('Best parameters : {}'.format(grid_result.best_params_))\n",
    "print('Best accuracy score : {:.8f}'.format(grid_result.best_score_))\n"
   ],
   "metadata": {
    "collapsed": false,
    "ExecuteTime": {
     "end_time": "2024-04-18T10:21:13.981091Z",
     "start_time": "2024-04-18T10:21:13.967838Z"
    }
   },
   "id": "9805982653db7b11",
   "execution_count": 49
  },
  {
   "cell_type": "code",
   "outputs": [
    {
     "data": {
      "text/plain": "0.2826086956521739"
     },
     "execution_count": 50,
     "metadata": {},
     "output_type": "execute_result"
    }
   ],
   "source": [
    "best_model=grid_result.best_estimator_\n",
    "best_model.score(X_val, y_val)"
   ],
   "metadata": {
    "collapsed": false,
    "ExecuteTime": {
     "end_time": "2024-04-18T10:21:15.495973Z",
     "start_time": "2024-04-18T10:21:15.483472Z"
    }
   },
   "id": "48e1132d201e240e",
   "execution_count": 50
  },
  {
   "cell_type": "code",
   "outputs": [
    {
     "name": "stdout",
     "output_type": "stream",
     "text": [
      "              precision    recall  f1-score   support\n",
      "\n",
      "           0       0.00      0.00      0.00        99\n",
      "           1       0.28      1.00      0.44        39\n",
      "\n",
      "    accuracy                           0.28       138\n",
      "   macro avg       0.14      0.50      0.22       138\n",
      "weighted avg       0.08      0.28      0.12       138\n"
     ]
    },
    {
     "name": "stderr",
     "output_type": "stream",
     "text": [
      "C:\\Users\\Dell\\anaconda3\\Lib\\site-packages\\sklearn\\metrics\\_classification.py:1509: UndefinedMetricWarning: Precision is ill-defined and being set to 0.0 in labels with no predicted samples. Use `zero_division` parameter to control this behavior.\n",
      "  _warn_prf(average, modifier, f\"{metric.capitalize()} is\", len(result))\n",
      "C:\\Users\\Dell\\anaconda3\\Lib\\site-packages\\sklearn\\metrics\\_classification.py:1509: UndefinedMetricWarning: Precision is ill-defined and being set to 0.0 in labels with no predicted samples. Use `zero_division` parameter to control this behavior.\n",
      "  _warn_prf(average, modifier, f\"{metric.capitalize()} is\", len(result))\n",
      "C:\\Users\\Dell\\anaconda3\\Lib\\site-packages\\sklearn\\metrics\\_classification.py:1509: UndefinedMetricWarning: Precision is ill-defined and being set to 0.0 in labels with no predicted samples. Use `zero_division` parameter to control this behavior.\n",
      "  _warn_prf(average, modifier, f\"{metric.capitalize()} is\", len(result))\n"
     ]
    }
   ],
   "source": [
    "best_model.fit(X, y)\n",
    "y_hat = best_model.predict(X_val)\n",
    "report = classification_report(y_val, y_hat)\n",
    "print(report)"
   ],
   "metadata": {
    "collapsed": false,
    "ExecuteTime": {
     "end_time": "2024-04-18T10:21:54.072651Z",
     "start_time": "2024-04-18T10:21:54.033569Z"
    }
   },
   "id": "2d8940e4dfe18016",
   "execution_count": 51
  },
  {
   "cell_type": "code",
   "outputs": [],
   "source": [
    "from sklearn.model_selection import RandomizedSearchCV"
   ],
   "metadata": {
    "collapsed": false,
    "ExecuteTime": {
     "end_time": "2024-04-18T10:11:48.217248Z",
     "start_time": "2024-04-18T10:11:48.211422Z"
    }
   },
   "id": "85ca66292c3441b8",
   "execution_count": 39
  },
  {
   "cell_type": "code",
   "outputs": [
    {
     "name": "stdout",
     "output_type": "stream",
     "text": [
      "Best: 0.717023 using {'ccp_alpha': 3.180672781924487, 'max_depth': 1}\n"
     ]
    }
   ],
   "source": [
    "random = RandomizedSearchCV(estimator=tree_model, param_distributions=param_grid, cv = 3, n_jobs=-1)\n",
    "\n",
    "random_result = random.fit(X, y)\n",
    "# Summarize results\n",
    "print(\"Best: %f using %s\" % (random_result.best_score_, random_result.best_params_))"
   ],
   "metadata": {
    "collapsed": false,
    "ExecuteTime": {
     "end_time": "2024-04-18T10:22:00.731971Z",
     "start_time": "2024-04-18T10:21:56.680073Z"
    }
   },
   "id": "cc905dd0a23c2b0f",
   "execution_count": 52
  },
  {
   "cell_type": "code",
   "outputs": [
    {
     "data": {
      "text/plain": "0.717391304347826"
     },
     "execution_count": 53,
     "metadata": {},
     "output_type": "execute_result"
    }
   ],
   "source": [
    "best_model=random_result.best_estimator_\n",
    "best_model.score(X_val, y_val)"
   ],
   "metadata": {
    "collapsed": false,
    "ExecuteTime": {
     "end_time": "2024-04-18T10:22:04.862337Z",
     "start_time": "2024-04-18T10:22:04.840882Z"
    }
   },
   "id": "403cdb923cb56073",
   "execution_count": 53
  },
  {
   "cell_type": "code",
   "outputs": [],
   "source": [
    "from scipy.stats import poisson,expon\n",
    "param_grid = {'ccp_alpha': expon(0.08),\n",
    "              'max_depth': poisson(5)}"
   ],
   "metadata": {
    "collapsed": false,
    "ExecuteTime": {
     "end_time": "2024-04-18T10:22:10.909027Z",
     "start_time": "2024-04-18T10:22:10.899287Z"
    }
   },
   "id": "6cc5bf6df8463cd4",
   "execution_count": 55
  },
  {
   "cell_type": "code",
   "outputs": [
    {
     "name": "stdout",
     "output_type": "stream",
     "text": [
      "Best: 0.717023 using {'ccp_alpha': 1.2722721434811057, 'max_depth': 7}\n"
     ]
    }
   ],
   "source": [
    "random = RandomizedSearchCV(estimator=tree_model, param_distributions=param_grid, cv = 3, n_jobs=-1, random_state=123)\n",
    "\n",
    "random_result = random.fit(X, y)\n",
    "# Summarize results\n",
    "print(\"Best: %f using %s\" % (random_result.best_score_, random_result.best_params_))"
   ],
   "metadata": {
    "collapsed": false,
    "ExecuteTime": {
     "end_time": "2024-04-18T10:22:16.411411Z",
     "start_time": "2024-04-18T10:22:11.520154Z"
    }
   },
   "id": "59833523e7a50e3a",
   "execution_count": 56
  },
  {
   "cell_type": "code",
   "outputs": [
    {
     "name": "stdout",
     "output_type": "stream",
     "text": [
      "Collecting scikit-optimize\n",
      "  Obtaining dependency information for scikit-optimize from https://files.pythonhosted.org/packages/90/0e/15deb91b3db0003843e34e72fa865e1d92013781d986fdc65483c99a9f69/scikit_optimize-0.10.1-py2.py3-none-any.whl.metadata\n",
      "  Downloading scikit_optimize-0.10.1-py2.py3-none-any.whl.metadata (9.7 kB)\n",
      "Requirement already satisfied: joblib>=0.11 in c:\\users\\dell\\anaconda3\\lib\\site-packages (from scikit-optimize) (1.2.0)\n",
      "Collecting pyaml>=16.9 (from scikit-optimize)\n",
      "  Obtaining dependency information for pyaml>=16.9 from https://files.pythonhosted.org/packages/70/d9/6fdc01cee01fe56fddfd46892d9846ebb53a5f8eb78056955c516eef42c5/pyaml-24.4.0-py3-none-any.whl.metadata\n",
      "  Downloading pyaml-24.4.0-py3-none-any.whl.metadata (11 kB)\n",
      "Requirement already satisfied: numpy>=1.20.3 in c:\\users\\dell\\anaconda3\\lib\\site-packages (from scikit-optimize) (1.24.3)\n",
      "Requirement already satisfied: scipy>=1.1.0 in c:\\users\\dell\\anaconda3\\lib\\site-packages (from scikit-optimize) (1.11.1)\n",
      "Requirement already satisfied: scikit-learn>=1.0.0 in c:\\users\\dell\\anaconda3\\lib\\site-packages (from scikit-optimize) (1.4.1.post1)\n",
      "Requirement already satisfied: packaging>=21.3 in c:\\users\\dell\\anaconda3\\lib\\site-packages (from scikit-optimize) (23.1)\n",
      "Requirement already satisfied: PyYAML in c:\\users\\dell\\anaconda3\\lib\\site-packages (from pyaml>=16.9->scikit-optimize) (6.0)\n",
      "Requirement already satisfied: threadpoolctl>=2.0.0 in c:\\users\\dell\\anaconda3\\lib\\site-packages (from scikit-learn>=1.0.0->scikit-optimize) (2.2.0)\n",
      "Downloading scikit_optimize-0.10.1-py2.py3-none-any.whl (107 kB)\n",
      "   ---------------------------------------- 0.0/107.7 kB ? eta -:--:--\n",
      "   ----------- --------------------------- 30.7/107.7 kB 660.6 kB/s eta 0:00:01\n",
      "   -------------------------------------- - 102.4/107.7 kB 1.2 MB/s eta 0:00:01\n",
      "   -------------------------------------- 107.7/107.7 kB 894.5 kB/s eta 0:00:00\n",
      "Downloading pyaml-24.4.0-py3-none-any.whl (24 kB)\n",
      "Installing collected packages: pyaml, scikit-optimize\n",
      "Successfully installed pyaml-24.4.0 scikit-optimize-0.10.1\n"
     ]
    },
    {
     "name": "stderr",
     "output_type": "stream",
     "text": [
      "WARNING: Retrying (Retry(total=4, connect=None, read=None, redirect=None, status=None)) after connection broken by 'ConnectTimeoutError(<pip._vendor.urllib3.connection.HTTPSConnection object at 0x000001A10744FD10>, 'Connection to pypi.org timed out. (connect timeout=15)')': /simple/scikit-optimize/\n"
     ]
    }
   ],
   "source": [
    "! pip install scikit-optimize"
   ],
   "metadata": {
    "collapsed": false,
    "ExecuteTime": {
     "end_time": "2024-04-18T10:15:56.870197Z",
     "start_time": "2024-04-18T10:14:45.639604Z"
    }
   },
   "id": "d332b4d43eb64850",
   "execution_count": 46
  },
  {
   "cell_type": "code",
   "outputs": [
    {
     "name": "stdout",
     "output_type": "stream",
     "text": [
      "val. score: 0.7255566443464533\n",
      "test score: 0.2826086956521739\n"
     ]
    }
   ],
   "source": [
    "from skopt import BayesSearchCV\n",
    "from sklearn.svm import SVC\n",
    "\n",
    "opt = BayesSearchCV(\n",
    "    SVC(),\n",
    "    {\n",
    "        'degree': (1, 8),  # integer valued parameter\n",
    "        'kernel': ['linear', 'poly', 'rbf'],  # categorical parameter\n",
    "    },\n",
    "    n_iter=5, #generalnie powinno być więcej, ale wtedy długo trwa\n",
    "    cv=3\n",
    ")\n",
    "\n",
    "opt.fit(X, y)\n",
    "\n",
    "print(\"val. score: %s\" % opt.best_score_)\n",
    "print(\"test score: %s\" % opt.score(X_val, y_val))"
   ],
   "metadata": {
    "collapsed": false,
    "ExecuteTime": {
     "end_time": "2024-04-18T10:22:22.169422Z",
     "start_time": "2024-04-18T10:22:21.040561Z"
    }
   },
   "id": "92744c7584ed3569",
   "execution_count": 57
  },
  {
   "cell_type": "code",
   "outputs": [
    {
     "name": "stdout",
     "output_type": "stream",
     "text": [
      "Collecting lightautoml\n",
      "  Obtaining dependency information for lightautoml from https://files.pythonhosted.org/packages/6d/82/81771067b1ecc2ac87aec5d14d862b4567eea95504ef576718f6b7755ac6/lightautoml-0.3.8.1-py3-none-any.whl.metadata\n",
      "  Using cached lightautoml-0.3.8.1-py3-none-any.whl.metadata (16 kB)\n",
      "Collecting autowoe>=1.2 (from lightautoml)\n",
      "  Obtaining dependency information for autowoe>=1.2 from https://files.pythonhosted.org/packages/61/09/ccf2ad21f105d07d73bedf065597359a2445d053696a9e1e57dcee397a97/AutoWoE-1.3.2-py3-none-any.whl.metadata\n",
      "  Using cached AutoWoE-1.3.2-py3-none-any.whl.metadata (2.8 kB)\n",
      "Collecting catboost>=0.26.1 (from lightautoml)\n",
      "  Obtaining dependency information for catboost>=0.26.1 from https://files.pythonhosted.org/packages/e8/37/3afd3c02798734efcd7840bfa872d3efc06f5d5c92f9613fea3ff5b4311f/catboost-1.2.3-cp311-cp311-win_amd64.whl.metadata\n",
      "  Using cached catboost-1.2.3-cp311-cp311-win_amd64.whl.metadata (1.2 kB)\n",
      "Requirement already satisfied: cmaes in c:\\users\\dell\\anaconda3\\lib\\site-packages (from lightautoml) (0.10.0)\n",
      "Collecting holidays (from lightautoml)\n",
      "  Obtaining dependency information for holidays from https://files.pythonhosted.org/packages/4d/c1/9190d856fb2c9ca7e5dabab530289bf66d03c0e379096678c0ee210abf75/holidays-0.47-py3-none-any.whl.metadata\n",
      "  Using cached holidays-0.47-py3-none-any.whl.metadata (23 kB)\n",
      "Requirement already satisfied: jinja2 in c:\\users\\dell\\anaconda3\\lib\\site-packages (from lightautoml) (3.1.2)\n",
      "Requirement already satisfied: joblib<1.3.0 in c:\\users\\dell\\anaconda3\\lib\\site-packages (from lightautoml) (1.2.0)\n",
      "Requirement already satisfied: json2html in c:\\users\\dell\\anaconda3\\lib\\site-packages (from lightautoml) (1.3.0)\n",
      "Collecting lightgbm<=3.2.1,>=2.3 (from lightautoml)\n",
      "  Obtaining dependency information for lightgbm<=3.2.1,>=2.3 from https://files.pythonhosted.org/packages/13/16/0fdf64abd7efa61a7f47b1fe59ad25820384c58abf532e6847e7cd0190d6/lightgbm-3.2.1-py3-none-win_amd64.whl.metadata\n",
      "  Using cached lightgbm-3.2.1-py3-none-win_amd64.whl.metadata (14 kB)\n",
      "Requirement already satisfied: networkx in c:\\users\\dell\\anaconda3\\lib\\site-packages (from lightautoml) (3.1)\n",
      "Requirement already satisfied: numpy>=1.22 in c:\\users\\dell\\anaconda3\\lib\\site-packages (from lightautoml) (1.24.3)\n",
      "Collecting optuna (from lightautoml)\n",
      "  Obtaining dependency information for optuna from https://files.pythonhosted.org/packages/15/da/68883911855d8b4d521f9a370e4e6aab8232b91c1d8d5a8348c4680c6642/optuna-3.6.1-py3-none-any.whl.metadata\n",
      "  Using cached optuna-3.6.1-py3-none-any.whl.metadata (17 kB)\n",
      "Requirement already satisfied: pandas<2.0.0 in c:\\users\\dell\\anaconda3\\lib\\site-packages (from lightautoml) (1.5.3)\n",
      "Requirement already satisfied: poetry-core<2.0.0,>=1.0.0 in c:\\users\\dell\\anaconda3\\lib\\site-packages (from lightautoml) (1.9.0)\n",
      "Requirement already satisfied: pyyaml in c:\\users\\dell\\anaconda3\\lib\\site-packages (from lightautoml) (6.0)\n",
      "Requirement already satisfied: scikit-learn>=0.22 in c:\\users\\dell\\anaconda3\\lib\\site-packages (from lightautoml) (1.4.1.post1)\n",
      "Requirement already satisfied: seaborn in c:\\users\\dell\\anaconda3\\lib\\site-packages (from lightautoml) (0.12.2)\n",
      "Requirement already satisfied: statsmodels<=0.14.0 in c:\\users\\dell\\anaconda3\\lib\\site-packages (from lightautoml) (0.14.0)\n",
      "Requirement already satisfied: torch<=2.0.0,>=1.9.0 in c:\\users\\dell\\anaconda3\\lib\\site-packages (from lightautoml) (2.0.0)\n",
      "Requirement already satisfied: tqdm in c:\\users\\dell\\anaconda3\\lib\\site-packages (from lightautoml) (4.65.0)\n",
      "Requirement already satisfied: StrEnum<0.5.0,>=0.4.7 in c:\\users\\dell\\anaconda3\\lib\\site-packages (from autowoe>=1.2->lightautoml) (0.4.15)\n",
      "Requirement already satisfied: matplotlib in c:\\users\\dell\\anaconda3\\lib\\site-packages (from autowoe>=1.2->lightautoml) (3.7.2)\n",
      "Requirement already satisfied: pytest in c:\\users\\dell\\anaconda3\\lib\\site-packages (from autowoe>=1.2->lightautoml) (7.4.0)\n",
      "Requirement already satisfied: pytz in c:\\users\\dell\\anaconda3\\lib\\site-packages (from autowoe>=1.2->lightautoml) (2023.3.post1)\n",
      "Requirement already satisfied: scipy in c:\\users\\dell\\anaconda3\\lib\\site-packages (from autowoe>=1.2->lightautoml) (1.11.1)\n",
      "Requirement already satisfied: sphinx in c:\\users\\dell\\anaconda3\\lib\\site-packages (from autowoe>=1.2->lightautoml) (5.0.2)\n",
      "Collecting sphinx-rtd-theme (from autowoe>=1.2->lightautoml)\n",
      "  Obtaining dependency information for sphinx-rtd-theme from https://files.pythonhosted.org/packages/ea/46/00fda84467815c29951a9c91e3ae7503c409ddad04373e7cfc78daad4300/sphinx_rtd_theme-2.0.0-py2.py3-none-any.whl.metadata\n",
      "  Using cached sphinx_rtd_theme-2.0.0-py2.py3-none-any.whl.metadata (4.4 kB)\n",
      "Requirement already satisfied: graphviz in c:\\users\\dell\\anaconda3\\lib\\site-packages (from catboost>=0.26.1->lightautoml) (0.20.3)\n",
      "Requirement already satisfied: plotly in c:\\users\\dell\\anaconda3\\lib\\site-packages (from catboost>=0.26.1->lightautoml) (5.9.0)\n",
      "Requirement already satisfied: six in c:\\users\\dell\\anaconda3\\lib\\site-packages (from catboost>=0.26.1->lightautoml) (1.16.0)\n",
      "Requirement already satisfied: wheel in c:\\users\\dell\\anaconda3\\lib\\site-packages (from lightgbm<=3.2.1,>=2.3->lightautoml) (0.38.4)\n",
      "Requirement already satisfied: python-dateutil>=2.8.1 in c:\\users\\dell\\anaconda3\\lib\\site-packages (from pandas<2.0.0->lightautoml) (2.8.2)\n",
      "Requirement already satisfied: threadpoolctl>=2.0.0 in c:\\users\\dell\\anaconda3\\lib\\site-packages (from scikit-learn>=0.22->lightautoml) (2.2.0)\n",
      "Requirement already satisfied: patsy>=0.5.2 in c:\\users\\dell\\anaconda3\\lib\\site-packages (from statsmodels<=0.14.0->lightautoml) (0.5.3)\n",
      "Requirement already satisfied: packaging>=21.3 in c:\\users\\dell\\anaconda3\\lib\\site-packages (from statsmodels<=0.14.0->lightautoml) (23.1)\n",
      "Requirement already satisfied: filelock in c:\\users\\dell\\anaconda3\\lib\\site-packages (from torch<=2.0.0,>=1.9.0->lightautoml) (3.9.0)\n",
      "Requirement already satisfied: typing-extensions in c:\\users\\dell\\anaconda3\\lib\\site-packages (from torch<=2.0.0,>=1.9.0->lightautoml) (4.7.1)\n",
      "Requirement already satisfied: sympy in c:\\users\\dell\\anaconda3\\lib\\site-packages (from torch<=2.0.0,>=1.9.0->lightautoml) (1.11.1)\n",
      "Requirement already satisfied: colorama in c:\\users\\dell\\anaconda3\\lib\\site-packages (from tqdm->lightautoml) (0.4.6)\n",
      "Requirement already satisfied: MarkupSafe>=2.0 in c:\\users\\dell\\anaconda3\\lib\\site-packages (from jinja2->lightautoml) (2.1.1)\n",
      "Collecting alembic>=1.5.0 (from optuna->lightautoml)\n",
      "  Obtaining dependency information for alembic>=1.5.0 from https://files.pythonhosted.org/packages/7f/50/9fb3a5c80df6eb6516693270621676980acd6d5a9a7efdbfa273f8d616c7/alembic-1.13.1-py3-none-any.whl.metadata\n",
      "  Using cached alembic-1.13.1-py3-none-any.whl.metadata (7.4 kB)\n",
      "Requirement already satisfied: colorlog in c:\\users\\dell\\anaconda3\\lib\\site-packages (from optuna->lightautoml) (6.8.2)\n",
      "Requirement already satisfied: sqlalchemy>=1.3.0 in c:\\users\\dell\\anaconda3\\lib\\site-packages (from optuna->lightautoml) (1.4.39)\n",
      "Requirement already satisfied: Mako in c:\\users\\dell\\anaconda3\\lib\\site-packages (from alembic>=1.5.0->optuna->lightautoml) (1.3.3)\n",
      "Requirement already satisfied: contourpy>=1.0.1 in c:\\users\\dell\\anaconda3\\lib\\site-packages (from matplotlib->autowoe>=1.2->lightautoml) (1.0.5)\n",
      "Requirement already satisfied: cycler>=0.10 in c:\\users\\dell\\anaconda3\\lib\\site-packages (from matplotlib->autowoe>=1.2->lightautoml) (0.11.0)\n",
      "Requirement already satisfied: fonttools>=4.22.0 in c:\\users\\dell\\anaconda3\\lib\\site-packages (from matplotlib->autowoe>=1.2->lightautoml) (4.25.0)\n",
      "Requirement already satisfied: kiwisolver>=1.0.1 in c:\\users\\dell\\anaconda3\\lib\\site-packages (from matplotlib->autowoe>=1.2->lightautoml) (1.4.4)\n",
      "Requirement already satisfied: pillow>=6.2.0 in c:\\users\\dell\\anaconda3\\lib\\site-packages (from matplotlib->autowoe>=1.2->lightautoml) (9.4.0)\n",
      "Requirement already satisfied: pyparsing<3.1,>=2.3.1 in c:\\users\\dell\\anaconda3\\lib\\site-packages (from matplotlib->autowoe>=1.2->lightautoml) (3.0.9)\n",
      "Requirement already satisfied: greenlet!=0.4.17 in c:\\users\\dell\\anaconda3\\lib\\site-packages (from sqlalchemy>=1.3.0->optuna->lightautoml) (2.0.1)\n",
      "Requirement already satisfied: tenacity>=6.2.0 in c:\\users\\dell\\anaconda3\\lib\\site-packages (from plotly->catboost>=0.26.1->lightautoml) (8.2.2)\n",
      "Requirement already satisfied: iniconfig in c:\\users\\dell\\anaconda3\\lib\\site-packages (from pytest->autowoe>=1.2->lightautoml) (1.1.1)\n",
      "Requirement already satisfied: pluggy<2.0,>=0.12 in c:\\users\\dell\\anaconda3\\lib\\site-packages (from pytest->autowoe>=1.2->lightautoml) (1.0.0)\n",
      "Requirement already satisfied: sphinxcontrib-applehelp in c:\\users\\dell\\anaconda3\\lib\\site-packages (from sphinx->autowoe>=1.2->lightautoml) (1.0.2)\n",
      "Requirement already satisfied: sphinxcontrib-devhelp in c:\\users\\dell\\anaconda3\\lib\\site-packages (from sphinx->autowoe>=1.2->lightautoml) (1.0.2)\n",
      "Requirement already satisfied: sphinxcontrib-jsmath in c:\\users\\dell\\anaconda3\\lib\\site-packages (from sphinx->autowoe>=1.2->lightautoml) (1.0.1)\n",
      "Requirement already satisfied: sphinxcontrib-htmlhelp>=2.0.0 in c:\\users\\dell\\anaconda3\\lib\\site-packages (from sphinx->autowoe>=1.2->lightautoml) (2.0.0)\n",
      "Requirement already satisfied: sphinxcontrib-serializinghtml>=1.1.5 in c:\\users\\dell\\anaconda3\\lib\\site-packages (from sphinx->autowoe>=1.2->lightautoml) (1.1.5)\n",
      "Requirement already satisfied: sphinxcontrib-qthelp in c:\\users\\dell\\anaconda3\\lib\\site-packages (from sphinx->autowoe>=1.2->lightautoml) (1.0.3)\n",
      "Requirement already satisfied: Pygments>=2.0 in c:\\users\\dell\\anaconda3\\lib\\site-packages (from sphinx->autowoe>=1.2->lightautoml) (2.15.1)\n",
      "Requirement already satisfied: docutils<0.19,>=0.14 in c:\\users\\dell\\anaconda3\\lib\\site-packages (from sphinx->autowoe>=1.2->lightautoml) (0.18.1)\n",
      "Requirement already satisfied: snowballstemmer>=1.1 in c:\\users\\dell\\anaconda3\\lib\\site-packages (from sphinx->autowoe>=1.2->lightautoml) (2.2.0)\n",
      "Requirement already satisfied: babel>=1.3 in c:\\users\\dell\\anaconda3\\lib\\site-packages (from sphinx->autowoe>=1.2->lightautoml) (2.11.0)\n",
      "Requirement already satisfied: alabaster<0.8,>=0.7 in c:\\users\\dell\\anaconda3\\lib\\site-packages (from sphinx->autowoe>=1.2->lightautoml) (0.7.12)\n",
      "Requirement already satisfied: imagesize in c:\\users\\dell\\anaconda3\\lib\\site-packages (from sphinx->autowoe>=1.2->lightautoml) (1.4.1)\n",
      "Requirement already satisfied: requests>=2.5.0 in c:\\users\\dell\\anaconda3\\lib\\site-packages (from sphinx->autowoe>=1.2->lightautoml) (2.31.0)\n",
      "Collecting sphinxcontrib-jquery<5,>=4 (from sphinx-rtd-theme->autowoe>=1.2->lightautoml)\n",
      "  Obtaining dependency information for sphinxcontrib-jquery<5,>=4 from https://files.pythonhosted.org/packages/76/85/749bd22d1a68db7291c89e2ebca53f4306c3f205853cf31e9de279034c3c/sphinxcontrib_jquery-4.1-py2.py3-none-any.whl.metadata\n",
      "  Using cached sphinxcontrib_jquery-4.1-py2.py3-none-any.whl.metadata (2.6 kB)\n",
      "Requirement already satisfied: mpmath>=0.19 in c:\\users\\dell\\anaconda3\\lib\\site-packages (from sympy->torch<=2.0.0,>=1.9.0->lightautoml) (1.3.0)\n",
      "Requirement already satisfied: charset-normalizer<4,>=2 in c:\\users\\dell\\anaconda3\\lib\\site-packages (from requests>=2.5.0->sphinx->autowoe>=1.2->lightautoml) (2.0.4)\n",
      "Requirement already satisfied: idna<4,>=2.5 in c:\\users\\dell\\anaconda3\\lib\\site-packages (from requests>=2.5.0->sphinx->autowoe>=1.2->lightautoml) (3.4)\n",
      "Requirement already satisfied: urllib3<3,>=1.21.1 in c:\\users\\dell\\anaconda3\\lib\\site-packages (from requests>=2.5.0->sphinx->autowoe>=1.2->lightautoml) (1.26.16)\n",
      "Requirement already satisfied: certifi>=2017.4.17 in c:\\users\\dell\\anaconda3\\lib\\site-packages (from requests>=2.5.0->sphinx->autowoe>=1.2->lightautoml) (2023.7.22)\n",
      "Using cached lightautoml-0.3.8.1-py3-none-any.whl (416 kB)\n",
      "Using cached AutoWoE-1.3.2-py3-none-any.whl (215 kB)\n",
      "Using cached catboost-1.2.3-cp311-cp311-win_amd64.whl (101.1 MB)\n",
      "Using cached lightgbm-3.2.1-py3-none-win_amd64.whl (1.0 MB)\n",
      "Using cached holidays-0.47-py3-none-any.whl (1.0 MB)\n",
      "Using cached optuna-3.6.1-py3-none-any.whl (380 kB)\n",
      "Using cached alembic-1.13.1-py3-none-any.whl (233 kB)\n",
      "Using cached sphinx_rtd_theme-2.0.0-py2.py3-none-any.whl (2.8 MB)\n",
      "Using cached sphinxcontrib_jquery-4.1-py2.py3-none-any.whl (121 kB)\n",
      "Installing collected packages: holidays, alembic, sphinxcontrib-jquery, optuna, lightgbm, catboost, sphinx-rtd-theme, autowoe, lightautoml\n",
      "Successfully installed alembic-1.13.1 autowoe-1.3.2 catboost-1.2.3 holidays-0.47 lightautoml-0.3.8.1 lightgbm-3.2.1 optuna-3.6.1 sphinx-rtd-theme-2.0.0 sphinxcontrib-jquery-4.1\n"
     ]
    }
   ],
   "source": [
    "!pip install -U lightautoml"
   ],
   "metadata": {
    "collapsed": false,
    "ExecuteTime": {
     "end_time": "2024-04-18T10:27:35.574329Z",
     "start_time": "2024-04-18T10:26:25.801058Z"
    }
   },
   "id": "5cd984c6ef525835",
   "execution_count": 63
  },
  {
   "cell_type": "code",
   "outputs": [],
   "source": [
    "import os\n",
    "import time\n",
    "import re\n",
    "\n",
    "import numpy as np\n",
    "import pandas as pd\n",
    "from sklearn.metrics import accuracy_score, f1_score, roc_auc_score\n",
    "from sklearn.model_selection import train_test_split\n",
    "\n",
    "# Imports from LightAutoML package\n",
    "from lightautoml.automl.presets.tabular_presets import TabularAutoML, TabularUtilizedAutoML\n",
    "from lightautoml.tasks import Task"
   ],
   "metadata": {
    "collapsed": false,
    "ExecuteTime": {
     "end_time": "2024-04-18T10:28:41.307626Z",
     "start_time": "2024-04-18T10:28:26.146106Z"
    }
   },
   "id": "8c17451c3b7d0979",
   "execution_count": 64
  },
  {
   "cell_type": "code",
   "outputs": [],
   "source": [
    "def f1_metric(y_true, y_pred):\n",
    "    return f1_score(y_true, (y_pred > 0.5).astype(int))\n",
    "\n",
    "def acc_score(y_true, y_pred):\n",
    "    return accuracy_score(y_true, (y_pred > 0.5).astype(int))\n",
    "\n",
    "def gini(y_true, y_pred):\n",
    "    return 2*roc_auc_score(y_true, y_pred)-1\n",
    "\n",
    "task = Task('binary', metric = f1_metric)"
   ],
   "metadata": {
    "collapsed": false,
    "ExecuteTime": {
     "end_time": "2024-04-18T10:28:41.325015Z",
     "start_time": "2024-04-18T10:28:41.309148Z"
    }
   },
   "id": "7f1b2fa2904fc98",
   "execution_count": 65
  },
  {
   "cell_type": "code",
   "outputs": [],
   "source": [
    "roles = {'target': 'DEFAULT'}"
   ],
   "metadata": {
    "collapsed": false,
    "ExecuteTime": {
     "end_time": "2024-04-18T10:38:33.891550Z",
     "start_time": "2024-04-18T10:38:33.884902Z"
    }
   },
   "id": "a6be7aaa01a7ffd3",
   "execution_count": 72
  },
  {
   "cell_type": "code",
   "outputs": [],
   "source": [
    "automl = TabularAutoML(task = task,\n",
    "                       timeout = 600, # 600 seconds = 10 minutes\n",
    "                       cpu_limit = 4, # \n",
    "                       general_params = {'use_algos': [['linear_l2',\n",
    "                                                        'lgb', 'lgb_tuned']]})"
   ],
   "metadata": {
    "collapsed": false,
    "ExecuteTime": {
     "end_time": "2024-04-18T10:38:34.411649Z",
     "start_time": "2024-04-18T10:38:34.356720Z"
    }
   },
   "id": "2dc85ed4853f8b88",
   "execution_count": 73
  },
  {
   "cell_type": "code",
   "outputs": [],
   "source": [
    "tr_data=X\n",
    "tr_data[\"DEFAULT\"]=y\n",
    "valid_data=X_val\n",
    "valid_data[\"DEFAULT\"]=y_val\n",
    "oof_pred = automl.fit_predict(tr_data, roles = roles)"
   ],
   "metadata": {
    "collapsed": false,
    "ExecuteTime": {
     "end_time": "2024-04-18T10:43:49.796634Z",
     "start_time": "2024-04-18T10:42:36.923041Z"
    }
   },
   "id": "c4d6aa9dbc075dfa",
   "execution_count": 82
  },
  {
   "cell_type": "code",
   "outputs": [],
   "source": [
    "valid_pred = automl.predict(valid_data)"
   ],
   "metadata": {
    "collapsed": false,
    "ExecuteTime": {
     "end_time": "2024-04-18T10:45:13.000810Z",
     "start_time": "2024-04-18T10:45:12.936363Z"
    }
   },
   "id": "5a1d142bbc2ca929",
   "execution_count": 83
  },
  {
   "cell_type": "code",
   "outputs": [
    {
     "name": "stdout",
     "output_type": "stream",
     "text": [
      "OOF acc: 0.7489361702127659\n",
      "VAL acc: 0.644927536231884\n"
     ]
    }
   ],
   "source": [
    "print('OOF acc: {}'.format(acc_score(tr_data['DEFAULT'].values,      oof_pred.data[:, 0])))\n",
    "print('VAL acc: {}'.format(acc_score(valid_data['DEFAULT'].values, valid_pred.data[:, 0])))"
   ],
   "metadata": {
    "collapsed": false,
    "ExecuteTime": {
     "end_time": "2024-04-18T10:45:33.316912Z",
     "start_time": "2024-04-18T10:45:33.306213Z"
    }
   },
   "id": "977d514fe2fd0ba1",
   "execution_count": 85
  },
  {
   "cell_type": "code",
   "outputs": [
    {
     "name": "stdout",
     "output_type": "stream",
     "text": [
      "Requirement already satisfied: tpot in c:\\users\\dell\\anaconda3\\lib\\site-packages (0.12.2)\n",
      "Requirement already satisfied: numpy>=1.16.3 in c:\\users\\dell\\anaconda3\\lib\\site-packages (from tpot) (1.24.3)\n",
      "Requirement already satisfied: scipy>=1.3.1 in c:\\users\\dell\\anaconda3\\lib\\site-packages (from tpot) (1.11.1)\n",
      "Requirement already satisfied: scikit-learn>=1.4.1 in c:\\users\\dell\\anaconda3\\lib\\site-packages (from tpot) (1.4.1.post1)\n",
      "Requirement already satisfied: deap>=1.2 in c:\\users\\dell\\anaconda3\\lib\\site-packages (from tpot) (1.4.1)\n",
      "Requirement already satisfied: update-checker>=0.16 in c:\\users\\dell\\anaconda3\\lib\\site-packages (from tpot) (0.18.0)\n",
      "Requirement already satisfied: tqdm>=4.36.1 in c:\\users\\dell\\anaconda3\\lib\\site-packages (from tpot) (4.65.0)\n",
      "Requirement already satisfied: stopit>=1.1.1 in c:\\users\\dell\\anaconda3\\lib\\site-packages (from tpot) (1.1.2)\n",
      "Requirement already satisfied: pandas>=0.24.2 in c:\\users\\dell\\anaconda3\\lib\\site-packages (from tpot) (1.5.3)\n",
      "Requirement already satisfied: joblib>=0.13.2 in c:\\users\\dell\\anaconda3\\lib\\site-packages (from tpot) (1.2.0)\n",
      "Requirement already satisfied: xgboost>=1.1.0 in c:\\users\\dell\\anaconda3\\lib\\site-packages (from tpot) (2.0.3)\n",
      "Requirement already satisfied: python-dateutil>=2.8.1 in c:\\users\\dell\\anaconda3\\lib\\site-packages (from pandas>=0.24.2->tpot) (2.8.2)\n",
      "Requirement already satisfied: pytz>=2020.1 in c:\\users\\dell\\anaconda3\\lib\\site-packages (from pandas>=0.24.2->tpot) (2023.3.post1)\n",
      "Requirement already satisfied: threadpoolctl>=2.0.0 in c:\\users\\dell\\anaconda3\\lib\\site-packages (from scikit-learn>=1.4.1->tpot) (2.2.0)\n",
      "Requirement already satisfied: colorama in c:\\users\\dell\\anaconda3\\lib\\site-packages (from tqdm>=4.36.1->tpot) (0.4.6)\n",
      "Requirement already satisfied: requests>=2.3.0 in c:\\users\\dell\\anaconda3\\lib\\site-packages (from update-checker>=0.16->tpot) (2.31.0)\n",
      "Requirement already satisfied: six>=1.5 in c:\\users\\dell\\anaconda3\\lib\\site-packages (from python-dateutil>=2.8.1->pandas>=0.24.2->tpot) (1.16.0)\n",
      "Requirement already satisfied: charset-normalizer<4,>=2 in c:\\users\\dell\\anaconda3\\lib\\site-packages (from requests>=2.3.0->update-checker>=0.16->tpot) (2.0.4)\n",
      "Requirement already satisfied: idna<4,>=2.5 in c:\\users\\dell\\anaconda3\\lib\\site-packages (from requests>=2.3.0->update-checker>=0.16->tpot) (3.4)\n",
      "Requirement already satisfied: urllib3<3,>=1.21.1 in c:\\users\\dell\\anaconda3\\lib\\site-packages (from requests>=2.3.0->update-checker>=0.16->tpot) (1.26.16)\n",
      "Requirement already satisfied: certifi>=2017.4.17 in c:\\users\\dell\\anaconda3\\lib\\site-packages (from requests>=2.3.0->update-checker>=0.16->tpot) (2023.7.22)\n"
     ]
    }
   ],
   "source": [
    "!pip install tpot"
   ],
   "metadata": {
    "collapsed": false,
    "ExecuteTime": {
     "end_time": "2024-04-18T10:46:28.283709Z",
     "start_time": "2024-04-18T10:46:12.390520Z"
    }
   },
   "id": "b3968cb895464ef3",
   "execution_count": 86
  },
  {
   "cell_type": "code",
   "outputs": [],
   "source": [
    "from tpot import TPOTClassifier"
   ],
   "metadata": {
    "collapsed": false,
    "ExecuteTime": {
     "end_time": "2024-04-18T10:46:47.017944Z",
     "start_time": "2024-04-18T10:46:46.817565Z"
    }
   },
   "id": "d4f2bee229cad45a",
   "execution_count": 87
  },
  {
   "cell_type": "code",
   "outputs": [
    {
     "data": {
      "text/plain": "Optimization Progress:   0%|          | 0/300 [00:00<?, ?pipeline/s]",
      "application/vnd.jupyter.widget-view+json": {
       "version_major": 2,
       "version_minor": 0,
       "model_id": "eb006abc79c347e2b3da0c014f2c35af"
      }
     },
     "metadata": {},
     "output_type": "display_data"
    },
    {
     "name": "stdout",
     "output_type": "stream",
     "text": [
      "\n",
      "Generation 1 - Current best internal CV score: 1.0\n",
      "\n",
      "Generation 2 - Current best internal CV score: 1.0\n",
      "\n",
      "Generation 3 - Current best internal CV score: 1.0\n",
      "\n",
      "Generation 4 - Current best internal CV score: 1.0\n",
      "\n",
      "Generation 5 - Current best internal CV score: 1.0\n",
      "\n",
      "Best pipeline: GaussianNB(input_matrix)\n"
     ]
    },
    {
     "data": {
      "text/plain": "TPOTClassifier(generations=5, population_size=50, random_state=42, verbosity=2)",
      "text/html": "<style>#sk-container-id-1 {\n  /* Definition of color scheme common for light and dark mode */\n  --sklearn-color-text: black;\n  --sklearn-color-line: gray;\n  /* Definition of color scheme for unfitted estimators */\n  --sklearn-color-unfitted-level-0: #fff5e6;\n  --sklearn-color-unfitted-level-1: #f6e4d2;\n  --sklearn-color-unfitted-level-2: #ffe0b3;\n  --sklearn-color-unfitted-level-3: chocolate;\n  /* Definition of color scheme for fitted estimators */\n  --sklearn-color-fitted-level-0: #f0f8ff;\n  --sklearn-color-fitted-level-1: #d4ebff;\n  --sklearn-color-fitted-level-2: #b3dbfd;\n  --sklearn-color-fitted-level-3: cornflowerblue;\n\n  /* Specific color for light theme */\n  --sklearn-color-text-on-default-background: var(--sg-text-color, var(--theme-code-foreground, var(--jp-content-font-color1, black)));\n  --sklearn-color-background: var(--sg-background-color, var(--theme-background, var(--jp-layout-color0, white)));\n  --sklearn-color-border-box: var(--sg-text-color, var(--theme-code-foreground, var(--jp-content-font-color1, black)));\n  --sklearn-color-icon: #696969;\n\n  @media (prefers-color-scheme: dark) {\n    /* Redefinition of color scheme for dark theme */\n    --sklearn-color-text-on-default-background: var(--sg-text-color, var(--theme-code-foreground, var(--jp-content-font-color1, white)));\n    --sklearn-color-background: var(--sg-background-color, var(--theme-background, var(--jp-layout-color0, #111)));\n    --sklearn-color-border-box: var(--sg-text-color, var(--theme-code-foreground, var(--jp-content-font-color1, white)));\n    --sklearn-color-icon: #878787;\n  }\n}\n\n#sk-container-id-1 {\n  color: var(--sklearn-color-text);\n}\n\n#sk-container-id-1 pre {\n  padding: 0;\n}\n\n#sk-container-id-1 input.sk-hidden--visually {\n  border: 0;\n  clip: rect(1px 1px 1px 1px);\n  clip: rect(1px, 1px, 1px, 1px);\n  height: 1px;\n  margin: -1px;\n  overflow: hidden;\n  padding: 0;\n  position: absolute;\n  width: 1px;\n}\n\n#sk-container-id-1 div.sk-dashed-wrapped {\n  border: 1px dashed var(--sklearn-color-line);\n  margin: 0 0.4em 0.5em 0.4em;\n  box-sizing: border-box;\n  padding-bottom: 0.4em;\n  background-color: var(--sklearn-color-background);\n}\n\n#sk-container-id-1 div.sk-container {\n  /* jupyter's `normalize.less` sets `[hidden] { display: none; }`\n     but bootstrap.min.css set `[hidden] { display: none !important; }`\n     so we also need the `!important` here to be able to override the\n     default hidden behavior on the sphinx rendered scikit-learn.org.\n     See: https://github.com/scikit-learn/scikit-learn/issues/21755 */\n  display: inline-block !important;\n  position: relative;\n}\n\n#sk-container-id-1 div.sk-text-repr-fallback {\n  display: none;\n}\n\ndiv.sk-parallel-item,\ndiv.sk-serial,\ndiv.sk-item {\n  /* draw centered vertical line to link estimators */\n  background-image: linear-gradient(var(--sklearn-color-text-on-default-background), var(--sklearn-color-text-on-default-background));\n  background-size: 2px 100%;\n  background-repeat: no-repeat;\n  background-position: center center;\n}\n\n/* Parallel-specific style estimator block */\n\n#sk-container-id-1 div.sk-parallel-item::after {\n  content: \"\";\n  width: 100%;\n  border-bottom: 2px solid var(--sklearn-color-text-on-default-background);\n  flex-grow: 1;\n}\n\n#sk-container-id-1 div.sk-parallel {\n  display: flex;\n  align-items: stretch;\n  justify-content: center;\n  background-color: var(--sklearn-color-background);\n  position: relative;\n}\n\n#sk-container-id-1 div.sk-parallel-item {\n  display: flex;\n  flex-direction: column;\n}\n\n#sk-container-id-1 div.sk-parallel-item:first-child::after {\n  align-self: flex-end;\n  width: 50%;\n}\n\n#sk-container-id-1 div.sk-parallel-item:last-child::after {\n  align-self: flex-start;\n  width: 50%;\n}\n\n#sk-container-id-1 div.sk-parallel-item:only-child::after {\n  width: 0;\n}\n\n/* Serial-specific style estimator block */\n\n#sk-container-id-1 div.sk-serial {\n  display: flex;\n  flex-direction: column;\n  align-items: center;\n  background-color: var(--sklearn-color-background);\n  padding-right: 1em;\n  padding-left: 1em;\n}\n\n\n/* Toggleable style: style used for estimator/Pipeline/ColumnTransformer box that is\nclickable and can be expanded/collapsed.\n- Pipeline and ColumnTransformer use this feature and define the default style\n- Estimators will overwrite some part of the style using the `sk-estimator` class\n*/\n\n/* Pipeline and ColumnTransformer style (default) */\n\n#sk-container-id-1 div.sk-toggleable {\n  /* Default theme specific background. It is overwritten whether we have a\n  specific estimator or a Pipeline/ColumnTransformer */\n  background-color: var(--sklearn-color-background);\n}\n\n/* Toggleable label */\n#sk-container-id-1 label.sk-toggleable__label {\n  cursor: pointer;\n  display: block;\n  width: 100%;\n  margin-bottom: 0;\n  padding: 0.5em;\n  box-sizing: border-box;\n  text-align: center;\n}\n\n#sk-container-id-1 label.sk-toggleable__label-arrow:before {\n  /* Arrow on the left of the label */\n  content: \"▸\";\n  float: left;\n  margin-right: 0.25em;\n  color: var(--sklearn-color-icon);\n}\n\n#sk-container-id-1 label.sk-toggleable__label-arrow:hover:before {\n  color: var(--sklearn-color-text);\n}\n\n/* Toggleable content - dropdown */\n\n#sk-container-id-1 div.sk-toggleable__content {\n  max-height: 0;\n  max-width: 0;\n  overflow: hidden;\n  text-align: left;\n  /* unfitted */\n  background-color: var(--sklearn-color-unfitted-level-0);\n}\n\n#sk-container-id-1 div.sk-toggleable__content.fitted {\n  /* fitted */\n  background-color: var(--sklearn-color-fitted-level-0);\n}\n\n#sk-container-id-1 div.sk-toggleable__content pre {\n  margin: 0.2em;\n  border-radius: 0.25em;\n  color: var(--sklearn-color-text);\n  /* unfitted */\n  background-color: var(--sklearn-color-unfitted-level-0);\n}\n\n#sk-container-id-1 div.sk-toggleable__content.fitted pre {\n  /* unfitted */\n  background-color: var(--sklearn-color-fitted-level-0);\n}\n\n#sk-container-id-1 input.sk-toggleable__control:checked~div.sk-toggleable__content {\n  /* Expand drop-down */\n  max-height: 200px;\n  max-width: 100%;\n  overflow: auto;\n}\n\n#sk-container-id-1 input.sk-toggleable__control:checked~label.sk-toggleable__label-arrow:before {\n  content: \"▾\";\n}\n\n/* Pipeline/ColumnTransformer-specific style */\n\n#sk-container-id-1 div.sk-label input.sk-toggleable__control:checked~label.sk-toggleable__label {\n  color: var(--sklearn-color-text);\n  background-color: var(--sklearn-color-unfitted-level-2);\n}\n\n#sk-container-id-1 div.sk-label.fitted input.sk-toggleable__control:checked~label.sk-toggleable__label {\n  background-color: var(--sklearn-color-fitted-level-2);\n}\n\n/* Estimator-specific style */\n\n/* Colorize estimator box */\n#sk-container-id-1 div.sk-estimator input.sk-toggleable__control:checked~label.sk-toggleable__label {\n  /* unfitted */\n  background-color: var(--sklearn-color-unfitted-level-2);\n}\n\n#sk-container-id-1 div.sk-estimator.fitted input.sk-toggleable__control:checked~label.sk-toggleable__label {\n  /* fitted */\n  background-color: var(--sklearn-color-fitted-level-2);\n}\n\n#sk-container-id-1 div.sk-label label.sk-toggleable__label,\n#sk-container-id-1 div.sk-label label {\n  /* The background is the default theme color */\n  color: var(--sklearn-color-text-on-default-background);\n}\n\n/* On hover, darken the color of the background */\n#sk-container-id-1 div.sk-label:hover label.sk-toggleable__label {\n  color: var(--sklearn-color-text);\n  background-color: var(--sklearn-color-unfitted-level-2);\n}\n\n/* Label box, darken color on hover, fitted */\n#sk-container-id-1 div.sk-label.fitted:hover label.sk-toggleable__label.fitted {\n  color: var(--sklearn-color-text);\n  background-color: var(--sklearn-color-fitted-level-2);\n}\n\n/* Estimator label */\n\n#sk-container-id-1 div.sk-label label {\n  font-family: monospace;\n  font-weight: bold;\n  display: inline-block;\n  line-height: 1.2em;\n}\n\n#sk-container-id-1 div.sk-label-container {\n  text-align: center;\n}\n\n/* Estimator-specific */\n#sk-container-id-1 div.sk-estimator {\n  font-family: monospace;\n  border: 1px dotted var(--sklearn-color-border-box);\n  border-radius: 0.25em;\n  box-sizing: border-box;\n  margin-bottom: 0.5em;\n  /* unfitted */\n  background-color: var(--sklearn-color-unfitted-level-0);\n}\n\n#sk-container-id-1 div.sk-estimator.fitted {\n  /* fitted */\n  background-color: var(--sklearn-color-fitted-level-0);\n}\n\n/* on hover */\n#sk-container-id-1 div.sk-estimator:hover {\n  /* unfitted */\n  background-color: var(--sklearn-color-unfitted-level-2);\n}\n\n#sk-container-id-1 div.sk-estimator.fitted:hover {\n  /* fitted */\n  background-color: var(--sklearn-color-fitted-level-2);\n}\n\n/* Specification for estimator info (e.g. \"i\" and \"?\") */\n\n/* Common style for \"i\" and \"?\" */\n\n.sk-estimator-doc-link,\na:link.sk-estimator-doc-link,\na:visited.sk-estimator-doc-link {\n  float: right;\n  font-size: smaller;\n  line-height: 1em;\n  font-family: monospace;\n  background-color: var(--sklearn-color-background);\n  border-radius: 1em;\n  height: 1em;\n  width: 1em;\n  text-decoration: none !important;\n  margin-left: 1ex;\n  /* unfitted */\n  border: var(--sklearn-color-unfitted-level-1) 1pt solid;\n  color: var(--sklearn-color-unfitted-level-1);\n}\n\n.sk-estimator-doc-link.fitted,\na:link.sk-estimator-doc-link.fitted,\na:visited.sk-estimator-doc-link.fitted {\n  /* fitted */\n  border: var(--sklearn-color-fitted-level-1) 1pt solid;\n  color: var(--sklearn-color-fitted-level-1);\n}\n\n/* On hover */\ndiv.sk-estimator:hover .sk-estimator-doc-link:hover,\n.sk-estimator-doc-link:hover,\ndiv.sk-label-container:hover .sk-estimator-doc-link:hover,\n.sk-estimator-doc-link:hover {\n  /* unfitted */\n  background-color: var(--sklearn-color-unfitted-level-3);\n  color: var(--sklearn-color-background);\n  text-decoration: none;\n}\n\ndiv.sk-estimator.fitted:hover .sk-estimator-doc-link.fitted:hover,\n.sk-estimator-doc-link.fitted:hover,\ndiv.sk-label-container:hover .sk-estimator-doc-link.fitted:hover,\n.sk-estimator-doc-link.fitted:hover {\n  /* fitted */\n  background-color: var(--sklearn-color-fitted-level-3);\n  color: var(--sklearn-color-background);\n  text-decoration: none;\n}\n\n/* Span, style for the box shown on hovering the info icon */\n.sk-estimator-doc-link span {\n  display: none;\n  z-index: 9999;\n  position: relative;\n  font-weight: normal;\n  right: .2ex;\n  padding: .5ex;\n  margin: .5ex;\n  width: min-content;\n  min-width: 20ex;\n  max-width: 50ex;\n  color: var(--sklearn-color-text);\n  box-shadow: 2pt 2pt 4pt #999;\n  /* unfitted */\n  background: var(--sklearn-color-unfitted-level-0);\n  border: .5pt solid var(--sklearn-color-unfitted-level-3);\n}\n\n.sk-estimator-doc-link.fitted span {\n  /* fitted */\n  background: var(--sklearn-color-fitted-level-0);\n  border: var(--sklearn-color-fitted-level-3);\n}\n\n.sk-estimator-doc-link:hover span {\n  display: block;\n}\n\n/* \"?\"-specific style due to the `<a>` HTML tag */\n\n#sk-container-id-1 a.estimator_doc_link {\n  float: right;\n  font-size: 1rem;\n  line-height: 1em;\n  font-family: monospace;\n  background-color: var(--sklearn-color-background);\n  border-radius: 1rem;\n  height: 1rem;\n  width: 1rem;\n  text-decoration: none;\n  /* unfitted */\n  color: var(--sklearn-color-unfitted-level-1);\n  border: var(--sklearn-color-unfitted-level-1) 1pt solid;\n}\n\n#sk-container-id-1 a.estimator_doc_link.fitted {\n  /* fitted */\n  border: var(--sklearn-color-fitted-level-1) 1pt solid;\n  color: var(--sklearn-color-fitted-level-1);\n}\n\n/* On hover */\n#sk-container-id-1 a.estimator_doc_link:hover {\n  /* unfitted */\n  background-color: var(--sklearn-color-unfitted-level-3);\n  color: var(--sklearn-color-background);\n  text-decoration: none;\n}\n\n#sk-container-id-1 a.estimator_doc_link.fitted:hover {\n  /* fitted */\n  background-color: var(--sklearn-color-fitted-level-3);\n}\n</style><div id=\"sk-container-id-1\" class=\"sk-top-container\"><div class=\"sk-text-repr-fallback\"><pre>TPOTClassifier(generations=5, population_size=50, random_state=42, verbosity=2)</pre><b>In a Jupyter environment, please rerun this cell to show the HTML representation or trust the notebook. <br />On GitHub, the HTML representation is unable to render, please try loading this page with nbviewer.org.</b></div><div class=\"sk-container\" hidden><div class=\"sk-item\"><div class=\"sk-estimator fitted sk-toggleable\"><input class=\"sk-toggleable__control sk-hidden--visually\" id=\"sk-estimator-id-1\" type=\"checkbox\" checked><label for=\"sk-estimator-id-1\" class=\"sk-toggleable__label fitted sk-toggleable__label-arrow fitted\">&nbsp;TPOTClassifier<span class=\"sk-estimator-doc-link fitted\">i<span>Fitted</span></span></label><div class=\"sk-toggleable__content fitted\"><pre>TPOTClassifier(generations=5, population_size=50, random_state=42, verbosity=2)</pre></div> </div></div></div></div>"
     },
     "execution_count": 88,
     "metadata": {},
     "output_type": "execute_result"
    }
   ],
   "source": [
    "tpot = TPOTClassifier(generations=5, population_size=50, verbosity=2, random_state=42)\n",
    "tpot.fit(X, y)"
   ],
   "metadata": {
    "collapsed": false,
    "ExecuteTime": {
     "end_time": "2024-04-18T10:53:29.605943Z",
     "start_time": "2024-04-18T10:46:47.441459Z"
    }
   },
   "id": "27ed1eca06b1d7a",
   "execution_count": 88
  },
  {
   "cell_type": "code",
   "outputs": [
    {
     "name": "stdout",
     "output_type": "stream",
     "text": [
      "Accuracy on testing data:  0.717391304347826\n"
     ]
    }
   ],
   "source": [
    "print(\"Accuracy on testing data: \", tpot.score(X_val, y_val))"
   ],
   "metadata": {
    "collapsed": false,
    "ExecuteTime": {
     "end_time": "2024-04-18T11:02:01.259663Z",
     "start_time": "2024-04-18T11:02:01.233862Z"
    }
   },
   "id": "8e2779f8732d11ec",
   "execution_count": 89
  },
  {
   "cell_type": "code",
   "outputs": [
    {
     "name": "stdout",
     "output_type": "stream",
     "text": [
      "Requirement already satisfied: boruta in c:\\users\\dell\\anaconda3\\lib\\site-packages (0.3)\n",
      "Requirement already satisfied: numpy>=1.10.4 in c:\\users\\dell\\anaconda3\\lib\\site-packages (from boruta) (1.24.3)\n",
      "Requirement already satisfied: scikit-learn>=0.17.1 in c:\\users\\dell\\anaconda3\\lib\\site-packages (from boruta) (1.4.1.post1)\n",
      "Requirement already satisfied: scipy>=0.17.0 in c:\\users\\dell\\anaconda3\\lib\\site-packages (from boruta) (1.11.1)\n",
      "Requirement already satisfied: joblib>=1.2.0 in c:\\users\\dell\\anaconda3\\lib\\site-packages (from scikit-learn>=0.17.1->boruta) (1.2.0)\n",
      "Requirement already satisfied: threadpoolctl>=2.0.0 in c:\\users\\dell\\anaconda3\\lib\\site-packages (from scikit-learn>=0.17.1->boruta) (2.2.0)\n"
     ]
    }
   ],
   "source": [
    "!pip install boruta"
   ],
   "metadata": {
    "collapsed": false,
    "ExecuteTime": {
     "end_time": "2024-04-18T11:03:02.583733Z",
     "start_time": "2024-04-18T11:02:51.198187Z"
    }
   },
   "id": "d4f3b01e1f11a31c",
   "execution_count": 90
  },
  {
   "cell_type": "code",
   "outputs": [
    {
     "ename": "AttributeError",
     "evalue": "module 'numpy' has no attribute 'int'.\n`np.int` was a deprecated alias for the builtin `int`. To avoid this error in existing code, use `int` by itself. Doing this will not modify any behavior and is safe. When replacing `np.int`, you may wish to use e.g. `np.int64` or `np.int32` to specify the precision. If you wish to review your current use, check the release note link for additional information.\nThe aliases was originally deprecated in NumPy 1.20; for more details and guidance see the original release note at:\n    https://numpy.org/devdocs/release/1.20.0-notes.html#deprecations",
     "output_type": "error",
     "traceback": [
      "\u001B[1;31m---------------------------------------------------------------------------\u001B[0m",
      "\u001B[1;31mAttributeError\u001B[0m                            Traceback (most recent call last)",
      "Cell \u001B[1;32mIn[105], line 7\u001B[0m\n\u001B[0;32m      3\u001B[0m rf \u001B[38;5;241m=\u001B[39m RandomForestClassifier(n_jobs\u001B[38;5;241m=\u001B[39m\u001B[38;5;241m-\u001B[39m\u001B[38;5;241m1\u001B[39m, class_weight\u001B[38;5;241m=\u001B[39m\u001B[38;5;124m'\u001B[39m\u001B[38;5;124mbalanced\u001B[39m\u001B[38;5;124m'\u001B[39m, max_depth\u001B[38;5;241m=\u001B[39m\u001B[38;5;241m5\u001B[39m)\n\u001B[0;32m      5\u001B[0m feat_selector \u001B[38;5;241m=\u001B[39m BorutaPy(rf, n_estimators\u001B[38;5;241m=\u001B[39m\u001B[38;5;124m'\u001B[39m\u001B[38;5;124mauto\u001B[39m\u001B[38;5;124m'\u001B[39m, verbose\u001B[38;5;241m=\u001B[39m\u001B[38;5;241m2\u001B[39m, random_state\u001B[38;5;241m=\u001B[39m\u001B[38;5;241m1\u001B[39m)\n\u001B[1;32m----> 7\u001B[0m feat_selector\u001B[38;5;241m.\u001B[39mfit(X\u001B[38;5;241m.\u001B[39mvalues, y)\n\u001B[0;32m      8\u001B[0m feat_selector\u001B[38;5;241m.\u001B[39msupport_\n\u001B[0;32m      9\u001B[0m selected_features \u001B[38;5;241m=\u001B[39m X\u001B[38;5;241m.\u001B[39mcolumns[feat_selector\u001B[38;5;241m.\u001B[39msupport_]\u001B[38;5;241m.\u001B[39mtolist()\n",
      "File \u001B[1;32m~\\anaconda3\\Lib\\site-packages\\boruta\\boruta_py.py:201\u001B[0m, in \u001B[0;36mBorutaPy.fit\u001B[1;34m(self, X, y)\u001B[0m\n\u001B[0;32m    188\u001B[0m \u001B[38;5;28;01mdef\u001B[39;00m \u001B[38;5;21mfit\u001B[39m(\u001B[38;5;28mself\u001B[39m, X, y):\n\u001B[0;32m    189\u001B[0m \u001B[38;5;250m    \u001B[39m\u001B[38;5;124;03m\"\"\"\u001B[39;00m\n\u001B[0;32m    190\u001B[0m \u001B[38;5;124;03m    Fits the Boruta feature selection with the provided estimator.\u001B[39;00m\n\u001B[0;32m    191\u001B[0m \n\u001B[1;32m   (...)\u001B[0m\n\u001B[0;32m    198\u001B[0m \u001B[38;5;124;03m        The target values.\u001B[39;00m\n\u001B[0;32m    199\u001B[0m \u001B[38;5;124;03m    \"\"\"\u001B[39;00m\n\u001B[1;32m--> 201\u001B[0m     \u001B[38;5;28;01mreturn\u001B[39;00m \u001B[38;5;28mself\u001B[39m\u001B[38;5;241m.\u001B[39m_fit(X, y)\n",
      "File \u001B[1;32m~\\anaconda3\\Lib\\site-packages\\boruta\\boruta_py.py:260\u001B[0m, in \u001B[0;36mBorutaPy._fit\u001B[1;34m(self, X, y)\u001B[0m\n\u001B[0;32m    255\u001B[0m _iter \u001B[38;5;241m=\u001B[39m \u001B[38;5;241m1\u001B[39m\n\u001B[0;32m    256\u001B[0m \u001B[38;5;66;03m# holds the decision about each feature:\u001B[39;00m\n\u001B[0;32m    257\u001B[0m \u001B[38;5;66;03m# 0  - default state = tentative in original code\u001B[39;00m\n\u001B[0;32m    258\u001B[0m \u001B[38;5;66;03m# 1  - accepted in original code\u001B[39;00m\n\u001B[0;32m    259\u001B[0m \u001B[38;5;66;03m# -1 - rejected in original code\u001B[39;00m\n\u001B[1;32m--> 260\u001B[0m dec_reg \u001B[38;5;241m=\u001B[39m np\u001B[38;5;241m.\u001B[39mzeros(n_feat, dtype\u001B[38;5;241m=\u001B[39mnp\u001B[38;5;241m.\u001B[39mint)\n\u001B[0;32m    261\u001B[0m \u001B[38;5;66;03m# counts how many times a given feature was more important than\u001B[39;00m\n\u001B[0;32m    262\u001B[0m \u001B[38;5;66;03m# the best of the shadow features\u001B[39;00m\n\u001B[0;32m    263\u001B[0m hit_reg \u001B[38;5;241m=\u001B[39m np\u001B[38;5;241m.\u001B[39mzeros(n_feat, dtype\u001B[38;5;241m=\u001B[39mnp\u001B[38;5;241m.\u001B[39mint)\n",
      "File \u001B[1;32m~\\anaconda3\\Lib\\site-packages\\numpy\\__init__.py:305\u001B[0m, in \u001B[0;36m__getattr__\u001B[1;34m(attr)\u001B[0m\n\u001B[0;32m    300\u001B[0m     warnings\u001B[38;5;241m.\u001B[39mwarn(\n\u001B[0;32m    301\u001B[0m         \u001B[38;5;124mf\u001B[39m\u001B[38;5;124m\"\u001B[39m\u001B[38;5;124mIn the future `np.\u001B[39m\u001B[38;5;132;01m{\u001B[39;00mattr\u001B[38;5;132;01m}\u001B[39;00m\u001B[38;5;124m` will be defined as the \u001B[39m\u001B[38;5;124m\"\u001B[39m\n\u001B[0;32m    302\u001B[0m         \u001B[38;5;124m\"\u001B[39m\u001B[38;5;124mcorresponding NumPy scalar.\u001B[39m\u001B[38;5;124m\"\u001B[39m, \u001B[38;5;167;01mFutureWarning\u001B[39;00m, stacklevel\u001B[38;5;241m=\u001B[39m\u001B[38;5;241m2\u001B[39m)\n\u001B[0;32m    304\u001B[0m \u001B[38;5;28;01mif\u001B[39;00m attr \u001B[38;5;129;01min\u001B[39;00m __former_attrs__:\n\u001B[1;32m--> 305\u001B[0m     \u001B[38;5;28;01mraise\u001B[39;00m \u001B[38;5;167;01mAttributeError\u001B[39;00m(__former_attrs__[attr])\n\u001B[0;32m    307\u001B[0m \u001B[38;5;66;03m# Importing Tester requires importing all of UnitTest which is not a\u001B[39;00m\n\u001B[0;32m    308\u001B[0m \u001B[38;5;66;03m# cheap import Since it is mainly used in test suits, we lazy import it\u001B[39;00m\n\u001B[0;32m    309\u001B[0m \u001B[38;5;66;03m# here to save on the order of 10 ms of import time for most users\u001B[39;00m\n\u001B[0;32m    310\u001B[0m \u001B[38;5;66;03m#\u001B[39;00m\n\u001B[0;32m    311\u001B[0m \u001B[38;5;66;03m# The previous way Tester was imported also had a side effect of adding\u001B[39;00m\n\u001B[0;32m    312\u001B[0m \u001B[38;5;66;03m# the full `numpy.testing` namespace\u001B[39;00m\n\u001B[0;32m    313\u001B[0m \u001B[38;5;28;01mif\u001B[39;00m attr \u001B[38;5;241m==\u001B[39m \u001B[38;5;124m'\u001B[39m\u001B[38;5;124mtesting\u001B[39m\u001B[38;5;124m'\u001B[39m:\n",
      "\u001B[1;31mAttributeError\u001B[0m: module 'numpy' has no attribute 'int'.\n`np.int` was a deprecated alias for the builtin `int`. To avoid this error in existing code, use `int` by itself. Doing this will not modify any behavior and is safe. When replacing `np.int`, you may wish to use e.g. `np.int64` or `np.int32` to specify the precision. If you wish to review your current use, check the release note link for additional information.\nThe aliases was originally deprecated in NumPy 1.20; for more details and guidance see the original release note at:\n    https://numpy.org/devdocs/release/1.20.0-notes.html#deprecations"
     ]
    }
   ],
   "source": [],
   "metadata": {
    "collapsed": false,
    "ExecuteTime": {
     "end_time": "2024-04-19T18:13:26.792977Z",
     "start_time": "2024-04-19T18:13:26.605612Z"
    }
   },
   "id": "964782741f2d91b1",
   "execution_count": 105
  },
  {
   "cell_type": "code",
   "outputs": [
    {
     "data": {
      "text/plain": "array([[-1.67311484, -1.79479368, -2.13887769, ...,  0.06537205,\n        -0.42532872, -0.43113655],\n       [ 1.52579493,  0.52768342,  0.49449643, ...,  0.06537205,\n        -0.42532872,  1.9855153 ],\n       [ 0.6954251 ,  0.66687435,  1.55375508, ...,  0.06537205,\n         2.35112266, -1.1557775 ],\n       ...,\n       [ 0.10246894,  1.48375   , -0.32246311, ...,  0.06537205,\n        -0.42532872,  0.66123881],\n       [ 0.92176584,  1.38769659,  1.20700545, ...,  0.06537205,\n         2.35112266, -0.39908084],\n       [ 0.49070335, -0.6318861 ,  0.46881365, ...,  0.06537205,\n        -0.42532872,  0.25773124]])"
     },
     "execution_count": 100,
     "metadata": {},
     "output_type": "execute_result"
    }
   ],
   "source": [],
   "metadata": {
    "collapsed": false,
    "ExecuteTime": {
     "end_time": "2024-04-18T11:08:25.697929Z",
     "start_time": "2024-04-18T11:08:25.687258Z"
    }
   },
   "id": "fca95d48d7533a98",
   "execution_count": 100
  }
 ],
 "metadata": {
  "kernelspec": {
   "display_name": "Python 3",
   "language": "python",
   "name": "python3"
  },
  "language_info": {
   "codemirror_mode": {
    "name": "ipython",
    "version": 2
   },
   "file_extension": ".py",
   "mimetype": "text/x-python",
   "name": "python",
   "nbconvert_exporter": "python",
   "pygments_lexer": "ipython2",
   "version": "2.7.6"
  }
 },
 "nbformat": 4,
 "nbformat_minor": 5
}
