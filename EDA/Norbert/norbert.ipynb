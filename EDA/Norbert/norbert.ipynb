{
 "cells": [
  {
   "cell_type": "code",
   "execution_count": 1,
   "id": "initial_id",
   "metadata": {
    "collapsed": true,
    "ExecuteTime": {
     "end_time": "2024-02-27T19:04:06.429106Z",
     "start_time": "2024-02-27T19:04:06.374518Z"
    }
   },
   "outputs": [
    {
     "data": {
      "text/plain": "      CUST_ID  INCOME  SAVINGS     DEBT  R_SAVINGS_INCOME  R_DEBT_INCOME  \\\n0  C02COQEVYU   33269        0   532304            0.0000        16.0000   \n1  C02OZKC0ZF   77158    91187   315648            1.1818         4.0909   \n2  C03FHP2D0A   30917    21642   534864            0.7000        17.3000   \n3  C03PVPPHOY   80657    64526   629125            0.8000         7.8000   \n4  C04J69MUX0  149971  1172498  2399531            7.8182        16.0000   \n\n   R_DEBT_SAVINGS  T_CLOTHING_12  T_CLOTHING_6  R_CLOTHING  ...  \\\n0          1.2000           1889           945      0.5003  ...   \n1          3.4615           5818           111      0.0191  ...   \n2         24.7142           1157           860      0.7433  ...   \n3          9.7499           6857          3686      0.5376  ...   \n4          2.0465           1978           322      0.1628  ...   \n\n   R_EXPENDITURE_SAVINGS  R_EXPENDITURE_DEBT  CAT_GAMBLING  CAT_DEBT  \\\n0                 0.0000              0.0625          High         1   \n1                 0.7692              0.2222            No         1   \n2                 1.4286              0.0578          High         1   \n3                 1.2500              0.1282          High         1   \n4                 0.1163              0.0568          High         1   \n\n   CAT_CREDIT_CARD  CAT_MORTGAGE  CAT_SAVINGS_ACCOUNT  CAT_DEPENDENTS  \\\n0                0             0                    0               0   \n1                0             0                    1               0   \n2                0             0                    1               0   \n3                0             0                    1               0   \n4                1             1                    1               1   \n\n   CREDIT_SCORE  DEFAULT  \n0           444        1  \n1           625        0  \n2           469        1  \n3           559        0  \n4           473        0  \n\n[5 rows x 87 columns]",
      "text/html": "<div>\n<style scoped>\n    .dataframe tbody tr th:only-of-type {\n        vertical-align: middle;\n    }\n\n    .dataframe tbody tr th {\n        vertical-align: top;\n    }\n\n    .dataframe thead th {\n        text-align: right;\n    }\n</style>\n<table border=\"1\" class=\"dataframe\">\n  <thead>\n    <tr style=\"text-align: right;\">\n      <th></th>\n      <th>CUST_ID</th>\n      <th>INCOME</th>\n      <th>SAVINGS</th>\n      <th>DEBT</th>\n      <th>R_SAVINGS_INCOME</th>\n      <th>R_DEBT_INCOME</th>\n      <th>R_DEBT_SAVINGS</th>\n      <th>T_CLOTHING_12</th>\n      <th>T_CLOTHING_6</th>\n      <th>R_CLOTHING</th>\n      <th>...</th>\n      <th>R_EXPENDITURE_SAVINGS</th>\n      <th>R_EXPENDITURE_DEBT</th>\n      <th>CAT_GAMBLING</th>\n      <th>CAT_DEBT</th>\n      <th>CAT_CREDIT_CARD</th>\n      <th>CAT_MORTGAGE</th>\n      <th>CAT_SAVINGS_ACCOUNT</th>\n      <th>CAT_DEPENDENTS</th>\n      <th>CREDIT_SCORE</th>\n      <th>DEFAULT</th>\n    </tr>\n  </thead>\n  <tbody>\n    <tr>\n      <th>0</th>\n      <td>C02COQEVYU</td>\n      <td>33269</td>\n      <td>0</td>\n      <td>532304</td>\n      <td>0.0000</td>\n      <td>16.0000</td>\n      <td>1.2000</td>\n      <td>1889</td>\n      <td>945</td>\n      <td>0.5003</td>\n      <td>...</td>\n      <td>0.0000</td>\n      <td>0.0625</td>\n      <td>High</td>\n      <td>1</td>\n      <td>0</td>\n      <td>0</td>\n      <td>0</td>\n      <td>0</td>\n      <td>444</td>\n      <td>1</td>\n    </tr>\n    <tr>\n      <th>1</th>\n      <td>C02OZKC0ZF</td>\n      <td>77158</td>\n      <td>91187</td>\n      <td>315648</td>\n      <td>1.1818</td>\n      <td>4.0909</td>\n      <td>3.4615</td>\n      <td>5818</td>\n      <td>111</td>\n      <td>0.0191</td>\n      <td>...</td>\n      <td>0.7692</td>\n      <td>0.2222</td>\n      <td>No</td>\n      <td>1</td>\n      <td>0</td>\n      <td>0</td>\n      <td>1</td>\n      <td>0</td>\n      <td>625</td>\n      <td>0</td>\n    </tr>\n    <tr>\n      <th>2</th>\n      <td>C03FHP2D0A</td>\n      <td>30917</td>\n      <td>21642</td>\n      <td>534864</td>\n      <td>0.7000</td>\n      <td>17.3000</td>\n      <td>24.7142</td>\n      <td>1157</td>\n      <td>860</td>\n      <td>0.7433</td>\n      <td>...</td>\n      <td>1.4286</td>\n      <td>0.0578</td>\n      <td>High</td>\n      <td>1</td>\n      <td>0</td>\n      <td>0</td>\n      <td>1</td>\n      <td>0</td>\n      <td>469</td>\n      <td>1</td>\n    </tr>\n    <tr>\n      <th>3</th>\n      <td>C03PVPPHOY</td>\n      <td>80657</td>\n      <td>64526</td>\n      <td>629125</td>\n      <td>0.8000</td>\n      <td>7.8000</td>\n      <td>9.7499</td>\n      <td>6857</td>\n      <td>3686</td>\n      <td>0.5376</td>\n      <td>...</td>\n      <td>1.2500</td>\n      <td>0.1282</td>\n      <td>High</td>\n      <td>1</td>\n      <td>0</td>\n      <td>0</td>\n      <td>1</td>\n      <td>0</td>\n      <td>559</td>\n      <td>0</td>\n    </tr>\n    <tr>\n      <th>4</th>\n      <td>C04J69MUX0</td>\n      <td>149971</td>\n      <td>1172498</td>\n      <td>2399531</td>\n      <td>7.8182</td>\n      <td>16.0000</td>\n      <td>2.0465</td>\n      <td>1978</td>\n      <td>322</td>\n      <td>0.1628</td>\n      <td>...</td>\n      <td>0.1163</td>\n      <td>0.0568</td>\n      <td>High</td>\n      <td>1</td>\n      <td>1</td>\n      <td>1</td>\n      <td>1</td>\n      <td>1</td>\n      <td>473</td>\n      <td>0</td>\n    </tr>\n  </tbody>\n</table>\n<p>5 rows × 87 columns</p>\n</div>"
     },
     "execution_count": 1,
     "metadata": {},
     "output_type": "execute_result"
    }
   ],
   "source": [
    "import pandas as pd\n",
    "import numpy as np\n",
    "import sklearn\n",
    "import seaborn as sns\n",
    "import matplotlib.pyplot as plt\n",
    "\n",
    "df = pd.read_csv('../../data/credit_score.csv')\n",
    "df.head()"
   ]
  },
  {
   "cell_type": "code",
   "execution_count": null,
   "outputs": [],
   "source": [],
   "metadata": {
    "collapsed": false
   },
   "id": "3d7c12edbe4016ec"
  }
 ],
 "metadata": {
  "kernelspec": {
   "display_name": "Python 3",
   "language": "python",
   "name": "python3"
  },
  "language_info": {
   "codemirror_mode": {
    "name": "ipython",
    "version": 2
   },
   "file_extension": ".py",
   "mimetype": "text/x-python",
   "name": "python",
   "nbconvert_exporter": "python",
   "pygments_lexer": "ipython2",
   "version": "2.7.6"
  }
 },
 "nbformat": 4,
 "nbformat_minor": 5
}
