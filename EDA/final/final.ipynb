{
 "cells": [
  {
   "cell_type": "markdown",
   "source": [
    "### First steps\n",
    "- Split whole dataset into two parts: for modellers and for validators (70% and 30%)\n",
    "- Split the first part into two parts: for training and for validation (70% and 30%)\n",
    "- Split validation part from the first part into two parts: for validation and for testing (66% and 34%)\n",
    "- Save all parts into separate files\n",
    "- Remember to set the random seed for reproducibility"
   ],
   "metadata": {
    "collapsed": false
   },
   "id": "25c54a5d310ea3f5"
  },
  {
   "cell_type": "code",
   "execution_count": 10,
   "id": "initial_id",
   "metadata": {
    "collapsed": true,
    "ExecuteTime": {
     "end_time": "2024-03-05T13:13:20.910375Z",
     "start_time": "2024-03-05T13:13:20.781463Z"
    }
   },
   "outputs": [],
   "source": [
    "import pandas as pd\n",
    "import numpy as np\n",
    "import matplotlib.pyplot as plt\n",
    "import warnings\n",
    "from sklearn.model_selection import train_test_split\n",
    "warnings.filterwarnings('ignore')\n",
    "np.random.seed = 42\n",
    "\n",
    "df=pd.read_csv('../../data/credit_score.csv')\n",
    "# take without first column and last\n",
    "X=df.iloc[:,1:-1]\n",
    "y=df.iloc[:,-1]"
   ]
  },
  {
   "cell_type": "code",
   "execution_count": 11,
   "outputs": [
    {
     "data": {
      "text/plain": "     INCOME  SAVINGS     DEBT  R_SAVINGS_INCOME  R_DEBT_INCOME  \\\n0     33269        0   532304            0.0000        16.0000   \n1     77158    91187   315648            1.1818         4.0909   \n2     30917    21642   534864            0.7000        17.3000   \n3     80657    64526   629125            0.8000         7.8000   \n4    149971  1172498  2399531            7.8182        16.0000   \n..      ...      ...      ...               ...            ...   \n995  328892  1465066  5501471            4.4546        16.7273   \n996   81404    88805   680837            1.0909         8.3637   \n997       0    42428    30760            3.2379         8.1889   \n998   36011     8002   604181            0.2222        16.7777   \n999   44266   309859    44266            6.9999         1.0000   \n\n     R_DEBT_SAVINGS  T_CLOTHING_12  T_CLOTHING_6  R_CLOTHING  \\\n0            1.2000           1889           945      0.5003   \n1            3.4615           5818           111      0.0191   \n2           24.7142           1157           860      0.7433   \n3            9.7499           6857          3686      0.5376   \n4            2.0465           1978           322      0.1628   \n..              ...            ...           ...         ...   \n995          3.7551          16701         10132      0.6067   \n996          7.6667           5400          1936      0.3585   \n997          0.7250              0             0      0.8779   \n998         75.5037           1993          1271      0.6377   \n999          0.1429           1574          1264      0.8030   \n\n     R_CLOTHING_INCOME  ...  R_EXPENDITURE_INCOME  R_EXPENDITURE_SAVINGS  \\\n0               0.0568  ...                1.0000                 0.0000   \n1               0.0754  ...                0.9091                 0.7692   \n2               0.0374  ...                1.0000                 1.4286   \n3               0.0850  ...                1.0000                 1.2500   \n4               0.0132  ...                0.9091                 0.1163   \n..                 ...  ...                   ...                    ...   \n995             0.0508  ...                0.9091                 0.2041   \n996             0.0663  ...                0.9091                 0.8333   \n997             0.0047  ...                1.0668                 0.2500   \n998             0.0553  ...                1.1111                 5.0002   \n999             0.0356  ...                1.1111                 0.1587   \n\n     R_EXPENDITURE_DEBT  CAT_GAMBLING  CAT_DEBT  CAT_CREDIT_CARD  \\\n0                0.0625          High         1                0   \n1                0.2222            No         1                0   \n2                0.0578          High         1                0   \n3                0.1282          High         1                0   \n4                0.0568          High         1                1   \n..                  ...           ...       ...              ...   \n995              0.0543          High         1                1   \n996              0.1087            No         1                0   \n997              0.3448            No         1                0   \n998              0.0662            No         1                1   \n999              1.1111            No         1                0   \n\n     CAT_MORTGAGE  CAT_SAVINGS_ACCOUNT  CAT_DEPENDENTS  CREDIT_SCORE  \n0               0                    0               0           444  \n1               0                    1               0           625  \n2               0                    1               0           469  \n3               0                    1               0           559  \n4               1                    1               1           473  \n..            ...                  ...             ...           ...  \n995             1                    1               1           418  \n996             0                    1               0           589  \n997             0                    1               0           499  \n998             0                    1               0           507  \n999             0                    1               0           657  \n\n[1000 rows x 85 columns]",
      "text/html": "<div>\n<style scoped>\n    .dataframe tbody tr th:only-of-type {\n        vertical-align: middle;\n    }\n\n    .dataframe tbody tr th {\n        vertical-align: top;\n    }\n\n    .dataframe thead th {\n        text-align: right;\n    }\n</style>\n<table border=\"1\" class=\"dataframe\">\n  <thead>\n    <tr style=\"text-align: right;\">\n      <th></th>\n      <th>INCOME</th>\n      <th>SAVINGS</th>\n      <th>DEBT</th>\n      <th>R_SAVINGS_INCOME</th>\n      <th>R_DEBT_INCOME</th>\n      <th>R_DEBT_SAVINGS</th>\n      <th>T_CLOTHING_12</th>\n      <th>T_CLOTHING_6</th>\n      <th>R_CLOTHING</th>\n      <th>R_CLOTHING_INCOME</th>\n      <th>...</th>\n      <th>R_EXPENDITURE_INCOME</th>\n      <th>R_EXPENDITURE_SAVINGS</th>\n      <th>R_EXPENDITURE_DEBT</th>\n      <th>CAT_GAMBLING</th>\n      <th>CAT_DEBT</th>\n      <th>CAT_CREDIT_CARD</th>\n      <th>CAT_MORTGAGE</th>\n      <th>CAT_SAVINGS_ACCOUNT</th>\n      <th>CAT_DEPENDENTS</th>\n      <th>CREDIT_SCORE</th>\n    </tr>\n  </thead>\n  <tbody>\n    <tr>\n      <th>0</th>\n      <td>33269</td>\n      <td>0</td>\n      <td>532304</td>\n      <td>0.0000</td>\n      <td>16.0000</td>\n      <td>1.2000</td>\n      <td>1889</td>\n      <td>945</td>\n      <td>0.5003</td>\n      <td>0.0568</td>\n      <td>...</td>\n      <td>1.0000</td>\n      <td>0.0000</td>\n      <td>0.0625</td>\n      <td>High</td>\n      <td>1</td>\n      <td>0</td>\n      <td>0</td>\n      <td>0</td>\n      <td>0</td>\n      <td>444</td>\n    </tr>\n    <tr>\n      <th>1</th>\n      <td>77158</td>\n      <td>91187</td>\n      <td>315648</td>\n      <td>1.1818</td>\n      <td>4.0909</td>\n      <td>3.4615</td>\n      <td>5818</td>\n      <td>111</td>\n      <td>0.0191</td>\n      <td>0.0754</td>\n      <td>...</td>\n      <td>0.9091</td>\n      <td>0.7692</td>\n      <td>0.2222</td>\n      <td>No</td>\n      <td>1</td>\n      <td>0</td>\n      <td>0</td>\n      <td>1</td>\n      <td>0</td>\n      <td>625</td>\n    </tr>\n    <tr>\n      <th>2</th>\n      <td>30917</td>\n      <td>21642</td>\n      <td>534864</td>\n      <td>0.7000</td>\n      <td>17.3000</td>\n      <td>24.7142</td>\n      <td>1157</td>\n      <td>860</td>\n      <td>0.7433</td>\n      <td>0.0374</td>\n      <td>...</td>\n      <td>1.0000</td>\n      <td>1.4286</td>\n      <td>0.0578</td>\n      <td>High</td>\n      <td>1</td>\n      <td>0</td>\n      <td>0</td>\n      <td>1</td>\n      <td>0</td>\n      <td>469</td>\n    </tr>\n    <tr>\n      <th>3</th>\n      <td>80657</td>\n      <td>64526</td>\n      <td>629125</td>\n      <td>0.8000</td>\n      <td>7.8000</td>\n      <td>9.7499</td>\n      <td>6857</td>\n      <td>3686</td>\n      <td>0.5376</td>\n      <td>0.0850</td>\n      <td>...</td>\n      <td>1.0000</td>\n      <td>1.2500</td>\n      <td>0.1282</td>\n      <td>High</td>\n      <td>1</td>\n      <td>0</td>\n      <td>0</td>\n      <td>1</td>\n      <td>0</td>\n      <td>559</td>\n    </tr>\n    <tr>\n      <th>4</th>\n      <td>149971</td>\n      <td>1172498</td>\n      <td>2399531</td>\n      <td>7.8182</td>\n      <td>16.0000</td>\n      <td>2.0465</td>\n      <td>1978</td>\n      <td>322</td>\n      <td>0.1628</td>\n      <td>0.0132</td>\n      <td>...</td>\n      <td>0.9091</td>\n      <td>0.1163</td>\n      <td>0.0568</td>\n      <td>High</td>\n      <td>1</td>\n      <td>1</td>\n      <td>1</td>\n      <td>1</td>\n      <td>1</td>\n      <td>473</td>\n    </tr>\n    <tr>\n      <th>...</th>\n      <td>...</td>\n      <td>...</td>\n      <td>...</td>\n      <td>...</td>\n      <td>...</td>\n      <td>...</td>\n      <td>...</td>\n      <td>...</td>\n      <td>...</td>\n      <td>...</td>\n      <td>...</td>\n      <td>...</td>\n      <td>...</td>\n      <td>...</td>\n      <td>...</td>\n      <td>...</td>\n      <td>...</td>\n      <td>...</td>\n      <td>...</td>\n      <td>...</td>\n      <td>...</td>\n    </tr>\n    <tr>\n      <th>995</th>\n      <td>328892</td>\n      <td>1465066</td>\n      <td>5501471</td>\n      <td>4.4546</td>\n      <td>16.7273</td>\n      <td>3.7551</td>\n      <td>16701</td>\n      <td>10132</td>\n      <td>0.6067</td>\n      <td>0.0508</td>\n      <td>...</td>\n      <td>0.9091</td>\n      <td>0.2041</td>\n      <td>0.0543</td>\n      <td>High</td>\n      <td>1</td>\n      <td>1</td>\n      <td>1</td>\n      <td>1</td>\n      <td>1</td>\n      <td>418</td>\n    </tr>\n    <tr>\n      <th>996</th>\n      <td>81404</td>\n      <td>88805</td>\n      <td>680837</td>\n      <td>1.0909</td>\n      <td>8.3637</td>\n      <td>7.6667</td>\n      <td>5400</td>\n      <td>1936</td>\n      <td>0.3585</td>\n      <td>0.0663</td>\n      <td>...</td>\n      <td>0.9091</td>\n      <td>0.8333</td>\n      <td>0.1087</td>\n      <td>No</td>\n      <td>1</td>\n      <td>0</td>\n      <td>0</td>\n      <td>1</td>\n      <td>0</td>\n      <td>589</td>\n    </tr>\n    <tr>\n      <th>997</th>\n      <td>0</td>\n      <td>42428</td>\n      <td>30760</td>\n      <td>3.2379</td>\n      <td>8.1889</td>\n      <td>0.7250</td>\n      <td>0</td>\n      <td>0</td>\n      <td>0.8779</td>\n      <td>0.0047</td>\n      <td>...</td>\n      <td>1.0668</td>\n      <td>0.2500</td>\n      <td>0.3448</td>\n      <td>No</td>\n      <td>1</td>\n      <td>0</td>\n      <td>0</td>\n      <td>1</td>\n      <td>0</td>\n      <td>499</td>\n    </tr>\n    <tr>\n      <th>998</th>\n      <td>36011</td>\n      <td>8002</td>\n      <td>604181</td>\n      <td>0.2222</td>\n      <td>16.7777</td>\n      <td>75.5037</td>\n      <td>1993</td>\n      <td>1271</td>\n      <td>0.6377</td>\n      <td>0.0553</td>\n      <td>...</td>\n      <td>1.1111</td>\n      <td>5.0002</td>\n      <td>0.0662</td>\n      <td>No</td>\n      <td>1</td>\n      <td>1</td>\n      <td>0</td>\n      <td>1</td>\n      <td>0</td>\n      <td>507</td>\n    </tr>\n    <tr>\n      <th>999</th>\n      <td>44266</td>\n      <td>309859</td>\n      <td>44266</td>\n      <td>6.9999</td>\n      <td>1.0000</td>\n      <td>0.1429</td>\n      <td>1574</td>\n      <td>1264</td>\n      <td>0.8030</td>\n      <td>0.0356</td>\n      <td>...</td>\n      <td>1.1111</td>\n      <td>0.1587</td>\n      <td>1.1111</td>\n      <td>No</td>\n      <td>1</td>\n      <td>0</td>\n      <td>0</td>\n      <td>1</td>\n      <td>0</td>\n      <td>657</td>\n    </tr>\n  </tbody>\n</table>\n<p>1000 rows × 85 columns</p>\n</div>"
     },
     "execution_count": 11,
     "metadata": {},
     "output_type": "execute_result"
    }
   ],
   "source": [
    "X"
   ],
   "metadata": {
    "collapsed": false,
    "ExecuteTime": {
     "end_time": "2024-03-05T13:13:21.051928Z",
     "start_time": "2024-03-05T13:13:21.038096Z"
    }
   },
   "id": "c6c6ab6094144c86"
  },
  {
   "cell_type": "code",
   "execution_count": 12,
   "outputs": [
    {
     "data": {
      "text/plain": "0      1\n1      0\n2      1\n3      0\n4      0\n      ..\n995    0\n996    1\n997    0\n998    0\n999    0\nName: DEFAULT, Length: 1000, dtype: int64"
     },
     "execution_count": 12,
     "metadata": {},
     "output_type": "execute_result"
    }
   ],
   "source": [
    "y"
   ],
   "metadata": {
    "collapsed": false,
    "ExecuteTime": {
     "end_time": "2024-03-05T13:13:21.409197Z",
     "start_time": "2024-03-05T13:13:21.401229Z"
    }
   },
   "id": "5a2c7a15fd305e0a"
  },
  {
   "cell_type": "code",
   "execution_count": 13,
   "outputs": [
    {
     "name": "stdout",
     "output_type": "stream",
     "text": [
      "(700, 85) (300, 85) (700,) (300,)\n"
     ]
    }
   ],
   "source": [
    "# Split whole dataset into two parts: for modellers and for validators (70% and 30%)\n",
    "X_mod, X_val, y_mod, y_val = train_test_split(X, y, test_size=0.3, random_state=42, stratify=y)\n",
    "print(X_mod.shape, X_val.shape, y_mod.shape, y_val.shape)"
   ],
   "metadata": {
    "collapsed": false,
    "ExecuteTime": {
     "end_time": "2024-03-05T13:14:09.182968Z",
     "start_time": "2024-03-05T13:14:09.169229Z"
    }
   },
   "id": "8e797ce677c25aad"
  },
  {
   "cell_type": "code",
   "execution_count": 15,
   "outputs": [],
   "source": [
    "df_validators=pd.concat([X_val, y_val], axis=1)\n",
    "df_validators.to_csv('../../data/for_validators/credit_score_validators.csv', index=False)"
   ],
   "metadata": {
    "collapsed": false,
    "ExecuteTime": {
     "end_time": "2024-03-05T13:15:39.846242Z",
     "start_time": "2024-03-05T13:15:39.818719Z"
    }
   },
   "id": "11e6ab43cc1d1227"
  },
  {
   "cell_type": "code",
   "execution_count": 16,
   "outputs": [
    {
     "name": "stdout",
     "output_type": "stream",
     "text": [
      "(490, 85) (210, 85) (490,) (210,)\n"
     ]
    }
   ],
   "source": [
    "X_train,X_valid,y_train,y_valid = train_test_split(X_mod, y_mod, test_size=0.3, random_state=42, stratify=y_mod)\n",
    "print(X_train.shape, X_valid.shape, y_train.shape, y_valid.shape)"
   ],
   "metadata": {
    "collapsed": false,
    "ExecuteTime": {
     "end_time": "2024-03-05T13:16:21.703666Z",
     "start_time": "2024-03-05T13:16:21.659481Z"
    }
   },
   "id": "e4e0c0d76f8b9862"
  },
  {
   "cell_type": "code",
   "execution_count": 20,
   "outputs": [],
   "source": [
    "df_modellers=pd.concat([X_train, y_train], axis=1)\n",
    "#df_modellers\n",
    "df_modellers.to_csv('../../data/for_modelling/credit_score_train.csv', index=False)"
   ],
   "metadata": {
    "collapsed": false,
    "ExecuteTime": {
     "end_time": "2024-03-05T13:17:39.947797Z",
     "start_time": "2024-03-05T13:17:39.930047Z"
    }
   },
   "id": "cfdbee716282887"
  },
  {
   "cell_type": "code",
   "execution_count": 21,
   "outputs": [
    {
     "name": "stdout",
     "output_type": "stream",
     "text": [
      "(138, 85) (72, 85) (138,) (72,)\n"
     ]
    }
   ],
   "source": [
    "# Split validation part from the first part into two parts: for validation and for testing (66% and 34%)\n",
    "X_validation,X_test,y_validation,y_test = train_test_split(X_valid, y_valid, test_size=0.34, random_state=42, stratify=y_valid)\n",
    "print(X_validation.shape, X_test.shape, y_validation.shape, y_test.shape)"
   ],
   "metadata": {
    "collapsed": false,
    "ExecuteTime": {
     "end_time": "2024-03-05T13:18:26.189805Z",
     "start_time": "2024-03-05T13:18:26.163144Z"
    }
   },
   "id": "65a4fcc3dcfc330e"
  },
  {
   "cell_type": "code",
   "execution_count": 22,
   "outputs": [],
   "source": [
    "df_valid=pd.concat([X_validation, y_validation], axis=1)\n",
    "df_valid.to_csv('../../data/for_modelling/credit_score_valid.csv', index=False)"
   ],
   "metadata": {
    "collapsed": false,
    "ExecuteTime": {
     "end_time": "2024-03-05T13:18:46.876044Z",
     "start_time": "2024-03-05T13:18:46.854200Z"
    }
   },
   "id": "34d4a1ab84f33b2f"
  },
  {
   "cell_type": "code",
   "execution_count": 23,
   "outputs": [],
   "source": [
    "df_test=pd.concat([X_test, y_test], axis=1)\n",
    "df_test.to_csv('../../data/for_modelling/credit_score_test.csv', index=False)"
   ],
   "metadata": {
    "collapsed": false,
    "ExecuteTime": {
     "end_time": "2024-03-05T13:19:14.408010Z",
     "start_time": "2024-03-05T13:19:14.389082Z"
    }
   },
   "id": "75c8edffb8704c3c"
  },
  {
   "cell_type": "markdown",
   "source": [
    "### YEY! We have prepared the data for modellers and validators"
   ],
   "metadata": {
    "collapsed": false
   },
   "id": "a68345ed39f35c37"
  },
  {
   "cell_type": "code",
   "execution_count": null,
   "outputs": [],
   "source": [],
   "metadata": {
    "collapsed": false
   },
   "id": "74035bc0668288d0"
  }
 ],
 "metadata": {
  "kernelspec": {
   "display_name": "Python 3",
   "language": "python",
   "name": "python3"
  },
  "language_info": {
   "codemirror_mode": {
    "name": "ipython",
    "version": 2
   },
   "file_extension": ".py",
   "mimetype": "text/x-python",
   "name": "python",
   "nbconvert_exporter": "python",
   "pygments_lexer": "ipython2",
   "version": "2.7.6"
  }
 },
 "nbformat": 4,
 "nbformat_minor": 5
}
