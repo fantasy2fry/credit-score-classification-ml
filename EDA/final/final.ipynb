{
 "cells": [
  {
   "cell_type": "markdown",
   "source": [
    "### First steps\n",
    "- Split whole dataset into two parts: for modellers and for validators (70% and 30%)\n",
    "- Split the first part into two parts: for training and for validation (70% and 30%)\n",
    "- Split validation part from the first part into two parts: for validation and for testing (66% and 34%)\n",
    "- Save all parts into separate files\n",
    "- Remember to set the random seed for reproducibility"
   ],
   "metadata": {
    "collapsed": false
   },
   "id": "25c54a5d310ea3f5"
  },
  {
   "cell_type": "code",
   "execution_count": null,
   "id": "initial_id",
   "metadata": {
    "collapsed": true
   },
   "outputs": [],
   "source": []
  }
 ],
 "metadata": {
  "kernelspec": {
   "display_name": "Python 3",
   "language": "python",
   "name": "python3"
  },
  "language_info": {
   "codemirror_mode": {
    "name": "ipython",
    "version": 2
   },
   "file_extension": ".py",
   "mimetype": "text/x-python",
   "name": "python",
   "nbconvert_exporter": "python",
   "pygments_lexer": "ipython2",
   "version": "2.7.6"
  }
 },
 "nbformat": 4,
 "nbformat_minor": 5
}
