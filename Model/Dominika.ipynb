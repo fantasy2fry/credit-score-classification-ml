{
 "cells": [
  {
   "cell_type": "markdown",
   "source": [
    "Voting Classifier"
   ],
   "metadata": {
    "collapsed": false
   },
   "id": "cfd6aafb7c940590"
  },
  {
   "cell_type": "code",
   "execution_count": null,
   "id": "initial_id",
   "metadata": {
    "collapsed": true
   },
   "outputs": [],
   "source": []
  },
  {
   "cell_type": "markdown",
   "source": [
    "I will be using COX BOX WITHOUT OUTLIERS DETECTED BY PYOD AND WITHOUT COLUMNS WITH HIGH CORRELATION"
   ],
   "metadata": {
    "collapsed": false
   },
   "id": "da37c5e84fb9330b"
  },
  {
   "cell_type": "markdown",
   "source": [],
   "metadata": {
    "collapsed": false
   },
   "id": "a2cc359bfd8ba5e4"
  },
  {
   "cell_type": "code",
   "outputs": [],
   "source": [
    "import pandas as pd\n",
    "import numpy as np\n",
    "import sklearn\n"
   ],
   "metadata": {
    "collapsed": false,
    "ExecuteTime": {
     "end_time": "2024-04-16T21:25:28.871267Z",
     "start_time": "2024-04-16T21:25:28.610177Z"
    }
   },
   "id": "de09d67107a5d1cc",
   "execution_count": 1
  },
  {
   "cell_type": "code",
   "outputs": [],
   "source": [
    "#setting target\n",
    "target=\"DEFAULT\""
   ],
   "metadata": {
    "collapsed": false,
    "ExecuteTime": {
     "end_time": "2024-04-16T21:49:00.353067Z",
     "start_time": "2024-04-16T21:49:00.350007Z"
    }
   },
   "id": "8cd8234253c05a46",
   "execution_count": 24
  },
  {
   "cell_type": "code",
   "outputs": [],
   "source": [
    "# columns to remove from EDA\n",
    "columns_to_remove = [\"T_CLOTHING_12\",\"T_ENTERTAINMENT_12\", \"T_GROCERIES_12\", \"T_GROCERIES_6\", \"T_HEALTH_12\", \"T_TAX_12\", \"T_TAX_6\", \"T_TRAVEL_12\", \"T_TRAVEL_6\",\"T_UTILITIES_12\", \"T_UTILITIES_6\", \"T_EXPENDITURE_12\", \"T_EXPENDITURE_6\"]"
   ],
   "metadata": {
    "collapsed": false,
    "ExecuteTime": {
     "end_time": "2024-04-16T21:49:00.783692Z",
     "start_time": "2024-04-16T21:49:00.778487Z"
    }
   },
   "id": "8a16a5d754dc0b56",
   "execution_count": 25
  },
  {
   "cell_type": "code",
   "outputs": [
    {
     "data": {
      "text/plain": "0    470\n1     20\nName: outliers, dtype: int64"
     },
     "execution_count": 26,
     "metadata": {},
     "output_type": "execute_result"
    }
   ],
   "source": [
    "# read data\n",
    "df_train=pd.read_csv('../data/for_modelling/credit_score_train.csv')\n",
    "df_val=pd.read_csv('../data/for_modelling/credit_score_valid.csv')\n",
    "# map CAT_GAMBLING (No-0, Low-1, High-2)\n",
    "df_train['CAT_GAMBLING'] = df_train['CAT_GAMBLING'].map({'No':0, 'Low':1, 'High':2})\n",
    "df_val['CAT_GAMBLING'] = df_val['CAT_GAMBLING'].map({'No':0, 'Low':1, 'High':2})\n",
    "# remove columns with high correlation\n",
    "df_train.drop(columns=columns_to_remove, inplace=True)\n",
    "df_val.drop(columns=columns_to_remove, inplace=True)\n",
    "# remove outliers\n",
    "from pyod.models.knn import KNN\n",
    "clf = KNN(contamination=0.04)\n",
    "rest_cols = [col for col in df_train.columns if col not in columns_to_remove]\n",
    "# remove DEFAULT column\n",
    "rest_cols.remove('DEFAULT')\n",
    "clf.fit(df_train[rest_cols])\n",
    "df_train['outliers'] = clf.labels_\n",
    "# sum of outliers\n",
    "df_train['outliers'].value_counts()"
   ],
   "metadata": {
    "collapsed": false,
    "ExecuteTime": {
     "end_time": "2024-04-16T21:49:01.864154Z",
     "start_time": "2024-04-16T21:49:01.760985Z"
    }
   },
   "id": "700b8feebc2a801e",
   "execution_count": 26
  },
  {
   "cell_type": "code",
   "outputs": [
    {
     "data": {
      "text/plain": "     INCOME  SAVINGS     DEBT  R_SAVINGS_INCOME  R_DEBT_INCOME  \\\n0      2783     1855        0            0.6665         0.0000   \n1    314430   445442   707468            1.4167         2.2500   \n2    161773   517674  2782496            3.2000        17.2000   \n3     16014    97685    20818            6.1000         1.3000   \n4    193225  1410542  2589215            7.3000        13.4000   \n..      ...      ...      ...               ...            ...   \n465   20007    22508   457665            1.1250        22.8752   \n466   20846   268679    23162           12.8888         1.1111   \n467   89235  1106514   160623           12.4000         1.8000   \n468  197073  1021195  1863233            5.1818         9.4545   \n469  133592    85013   680103            0.6364         5.0909   \n\n     R_DEBT_SAVINGS  T_CLOTHING_6  R_CLOTHING  R_CLOTHING_INCOME  \\\n0            0.0000            74      0.7184             0.0370   \n1            1.5882         29157      0.8131             0.1141   \n2            5.3750          2533      0.6816             0.0230   \n3            0.2131           187      0.2936             0.0398   \n4            1.8356          2325      0.4407             0.0273   \n..              ...           ...         ...                ...   \n465         20.3334           861      0.5934             0.0725   \n466          0.0862           533      0.4094             0.0625   \n467          0.1452           835      0.3460             0.0270   \n468          1.8246          3948      0.4691             0.0427   \n469          8.0000           264      0.0212             0.0934   \n\n     R_CLOTHING_SAVINGS  ...  R_EXPENDITURE_SAVINGS  R_EXPENDITURE_DEBT  \\\n0                0.0555  ...                 2.5003              0.0000   \n1                0.0805  ...                 0.5882              0.3704   \n2                0.0072  ...                 0.3125              0.0581   \n3                0.0065  ...                 0.1639              0.7692   \n4                0.0037  ...                 0.1370              0.0746   \n..                  ...  ...                    ...                 ...   \n465              0.0645  ...                 1.1111              0.0546   \n466              0.0048  ...                 0.0862              1.0000   \n467              0.0022  ...                 0.0806              0.5556   \n468              0.0082  ...                 0.1754              0.0962   \n469              0.1468  ...                 1.4286              0.1786   \n\n     CAT_GAMBLING  CAT_DEBT  CAT_CREDIT_CARD  CAT_MORTGAGE  \\\n0               0         0                0             0   \n1               2         1                0             1   \n2               0         1                1             1   \n3               0         1                0             0   \n4               0         1                1             0   \n..            ...       ...              ...           ...   \n465             0         1                0             0   \n466             1         1                0             0   \n467             0         1                0             0   \n468             2         1                0             1   \n469             2         1                0             0   \n\n     CAT_SAVINGS_ACCOUNT  CAT_DEPENDENTS  CREDIT_SCORE  DEFAULT  \n0                      1               0           570        0  \n1                      1               0           691        0  \n2                      1               1           520        0  \n3                      1               0           654        0  \n4                      1               1           552        0  \n..                   ...             ...           ...      ...  \n465                    1               0           423        0  \n466                    1               0           584        0  \n467                    1               0           631        0  \n468                    1               1           572        0  \n469                    1               0           610        0  \n\n[470 rows x 73 columns]",
      "text/html": "<div>\n<style scoped>\n    .dataframe tbody tr th:only-of-type {\n        vertical-align: middle;\n    }\n\n    .dataframe tbody tr th {\n        vertical-align: top;\n    }\n\n    .dataframe thead th {\n        text-align: right;\n    }\n</style>\n<table border=\"1\" class=\"dataframe\">\n  <thead>\n    <tr style=\"text-align: right;\">\n      <th></th>\n      <th>INCOME</th>\n      <th>SAVINGS</th>\n      <th>DEBT</th>\n      <th>R_SAVINGS_INCOME</th>\n      <th>R_DEBT_INCOME</th>\n      <th>R_DEBT_SAVINGS</th>\n      <th>T_CLOTHING_6</th>\n      <th>R_CLOTHING</th>\n      <th>R_CLOTHING_INCOME</th>\n      <th>R_CLOTHING_SAVINGS</th>\n      <th>...</th>\n      <th>R_EXPENDITURE_SAVINGS</th>\n      <th>R_EXPENDITURE_DEBT</th>\n      <th>CAT_GAMBLING</th>\n      <th>CAT_DEBT</th>\n      <th>CAT_CREDIT_CARD</th>\n      <th>CAT_MORTGAGE</th>\n      <th>CAT_SAVINGS_ACCOUNT</th>\n      <th>CAT_DEPENDENTS</th>\n      <th>CREDIT_SCORE</th>\n      <th>DEFAULT</th>\n    </tr>\n  </thead>\n  <tbody>\n    <tr>\n      <th>0</th>\n      <td>2783</td>\n      <td>1855</td>\n      <td>0</td>\n      <td>0.6665</td>\n      <td>0.0000</td>\n      <td>0.0000</td>\n      <td>74</td>\n      <td>0.7184</td>\n      <td>0.0370</td>\n      <td>0.0555</td>\n      <td>...</td>\n      <td>2.5003</td>\n      <td>0.0000</td>\n      <td>0</td>\n      <td>0</td>\n      <td>0</td>\n      <td>0</td>\n      <td>1</td>\n      <td>0</td>\n      <td>570</td>\n      <td>0</td>\n    </tr>\n    <tr>\n      <th>1</th>\n      <td>314430</td>\n      <td>445442</td>\n      <td>707468</td>\n      <td>1.4167</td>\n      <td>2.2500</td>\n      <td>1.5882</td>\n      <td>29157</td>\n      <td>0.8131</td>\n      <td>0.1141</td>\n      <td>0.0805</td>\n      <td>...</td>\n      <td>0.5882</td>\n      <td>0.3704</td>\n      <td>2</td>\n      <td>1</td>\n      <td>0</td>\n      <td>1</td>\n      <td>1</td>\n      <td>0</td>\n      <td>691</td>\n      <td>0</td>\n    </tr>\n    <tr>\n      <th>2</th>\n      <td>161773</td>\n      <td>517674</td>\n      <td>2782496</td>\n      <td>3.2000</td>\n      <td>17.2000</td>\n      <td>5.3750</td>\n      <td>2533</td>\n      <td>0.6816</td>\n      <td>0.0230</td>\n      <td>0.0072</td>\n      <td>...</td>\n      <td>0.3125</td>\n      <td>0.0581</td>\n      <td>0</td>\n      <td>1</td>\n      <td>1</td>\n      <td>1</td>\n      <td>1</td>\n      <td>1</td>\n      <td>520</td>\n      <td>0</td>\n    </tr>\n    <tr>\n      <th>3</th>\n      <td>16014</td>\n      <td>97685</td>\n      <td>20818</td>\n      <td>6.1000</td>\n      <td>1.3000</td>\n      <td>0.2131</td>\n      <td>187</td>\n      <td>0.2936</td>\n      <td>0.0398</td>\n      <td>0.0065</td>\n      <td>...</td>\n      <td>0.1639</td>\n      <td>0.7692</td>\n      <td>0</td>\n      <td>1</td>\n      <td>0</td>\n      <td>0</td>\n      <td>1</td>\n      <td>0</td>\n      <td>654</td>\n      <td>0</td>\n    </tr>\n    <tr>\n      <th>4</th>\n      <td>193225</td>\n      <td>1410542</td>\n      <td>2589215</td>\n      <td>7.3000</td>\n      <td>13.4000</td>\n      <td>1.8356</td>\n      <td>2325</td>\n      <td>0.4407</td>\n      <td>0.0273</td>\n      <td>0.0037</td>\n      <td>...</td>\n      <td>0.1370</td>\n      <td>0.0746</td>\n      <td>0</td>\n      <td>1</td>\n      <td>1</td>\n      <td>0</td>\n      <td>1</td>\n      <td>1</td>\n      <td>552</td>\n      <td>0</td>\n    </tr>\n    <tr>\n      <th>...</th>\n      <td>...</td>\n      <td>...</td>\n      <td>...</td>\n      <td>...</td>\n      <td>...</td>\n      <td>...</td>\n      <td>...</td>\n      <td>...</td>\n      <td>...</td>\n      <td>...</td>\n      <td>...</td>\n      <td>...</td>\n      <td>...</td>\n      <td>...</td>\n      <td>...</td>\n      <td>...</td>\n      <td>...</td>\n      <td>...</td>\n      <td>...</td>\n      <td>...</td>\n      <td>...</td>\n    </tr>\n    <tr>\n      <th>465</th>\n      <td>20007</td>\n      <td>22508</td>\n      <td>457665</td>\n      <td>1.1250</td>\n      <td>22.8752</td>\n      <td>20.3334</td>\n      <td>861</td>\n      <td>0.5934</td>\n      <td>0.0725</td>\n      <td>0.0645</td>\n      <td>...</td>\n      <td>1.1111</td>\n      <td>0.0546</td>\n      <td>0</td>\n      <td>1</td>\n      <td>0</td>\n      <td>0</td>\n      <td>1</td>\n      <td>0</td>\n      <td>423</td>\n      <td>0</td>\n    </tr>\n    <tr>\n      <th>466</th>\n      <td>20846</td>\n      <td>268679</td>\n      <td>23162</td>\n      <td>12.8888</td>\n      <td>1.1111</td>\n      <td>0.0862</td>\n      <td>533</td>\n      <td>0.4094</td>\n      <td>0.0625</td>\n      <td>0.0048</td>\n      <td>...</td>\n      <td>0.0862</td>\n      <td>1.0000</td>\n      <td>1</td>\n      <td>1</td>\n      <td>0</td>\n      <td>0</td>\n      <td>1</td>\n      <td>0</td>\n      <td>584</td>\n      <td>0</td>\n    </tr>\n    <tr>\n      <th>467</th>\n      <td>89235</td>\n      <td>1106514</td>\n      <td>160623</td>\n      <td>12.4000</td>\n      <td>1.8000</td>\n      <td>0.1452</td>\n      <td>835</td>\n      <td>0.3460</td>\n      <td>0.0270</td>\n      <td>0.0022</td>\n      <td>...</td>\n      <td>0.0806</td>\n      <td>0.5556</td>\n      <td>0</td>\n      <td>1</td>\n      <td>0</td>\n      <td>0</td>\n      <td>1</td>\n      <td>0</td>\n      <td>631</td>\n      <td>0</td>\n    </tr>\n    <tr>\n      <th>468</th>\n      <td>197073</td>\n      <td>1021195</td>\n      <td>1863233</td>\n      <td>5.1818</td>\n      <td>9.4545</td>\n      <td>1.8246</td>\n      <td>3948</td>\n      <td>0.4691</td>\n      <td>0.0427</td>\n      <td>0.0082</td>\n      <td>...</td>\n      <td>0.1754</td>\n      <td>0.0962</td>\n      <td>2</td>\n      <td>1</td>\n      <td>0</td>\n      <td>1</td>\n      <td>1</td>\n      <td>1</td>\n      <td>572</td>\n      <td>0</td>\n    </tr>\n    <tr>\n      <th>469</th>\n      <td>133592</td>\n      <td>85013</td>\n      <td>680103</td>\n      <td>0.6364</td>\n      <td>5.0909</td>\n      <td>8.0000</td>\n      <td>264</td>\n      <td>0.0212</td>\n      <td>0.0934</td>\n      <td>0.1468</td>\n      <td>...</td>\n      <td>1.4286</td>\n      <td>0.1786</td>\n      <td>2</td>\n      <td>1</td>\n      <td>0</td>\n      <td>0</td>\n      <td>1</td>\n      <td>0</td>\n      <td>610</td>\n      <td>0</td>\n    </tr>\n  </tbody>\n</table>\n<p>470 rows × 73 columns</p>\n</div>"
     },
     "execution_count": 27,
     "metadata": {},
     "output_type": "execute_result"
    }
   ],
   "source": [
    "# remove outliers\n",
    "df_train = df_train[df_train['outliers'] == 0]\n",
    "df_train.drop(columns='outliers', inplace=True)\n",
    "df_train.reset_index(drop=True, inplace=True)\n",
    "df_train"
   ],
   "metadata": {
    "collapsed": false,
    "ExecuteTime": {
     "end_time": "2024-04-16T21:49:03.017008Z",
     "start_time": "2024-04-16T21:49:02.998897Z"
    }
   },
   "id": "ae0c7581e0f130d5",
   "execution_count": 27
  },
  {
   "cell_type": "code",
   "outputs": [],
   "source": [
    "#importing packeges for boxcox and standart scalling\n",
    "from sklearn.preprocessing import StandardScaler\n",
    "scaler = StandardScaler()\n",
    "from scipy.stats import boxcox"
   ],
   "metadata": {
    "collapsed": false,
    "ExecuteTime": {
     "end_time": "2024-04-16T21:49:04.851993Z",
     "start_time": "2024-04-16T21:49:04.848400Z"
    }
   },
   "id": "99a24cd44385fa4",
   "execution_count": 28
  },
  {
   "cell_type": "code",
   "outputs": [],
   "source": [
    "#setting X and Y\n",
    "X=df_train.drop(target, axis=1)\n",
    "y=df_train[target]\n",
    "X_val=df_val.drop(target, axis=1)\n",
    "y_val=df_val[target]\n",
    "# Box Cox and standart scalling\n",
    "for col in rest_cols:\n",
    "    X[col] = boxcox(X[col]+1)[0]\n",
    "    X_val[col] = boxcox(X_val[col]+1)[0]\n",
    "X[rest_cols] = scaler.fit_transform(X[rest_cols])\n",
    "X_val[rest_cols] = scaler.transform(X_val[rest_cols])"
   ],
   "metadata": {
    "collapsed": false,
    "ExecuteTime": {
     "end_time": "2024-04-16T21:49:06.317300Z",
     "start_time": "2024-04-16T21:49:06.112644Z"
    }
   },
   "id": "4ce8b2110e636cc6",
   "execution_count": 29
  },
  {
   "cell_type": "markdown",
   "source": [
    "# AutoML"
   ],
   "metadata": {
    "collapsed": false
   },
   "id": "4536dfece1ad3b30"
  },
  {
   "cell_type": "markdown",
   "source": [
    "## TPOT"
   ],
   "metadata": {
    "collapsed": false
   },
   "id": "9199b78c45888238"
  },
  {
   "cell_type": "code",
   "outputs": [
    {
     "name": "stdout",
     "output_type": "stream",
     "text": [
      "Requirement already satisfied: tpot in c:\\users\\domin\\anaconda3\\lib\\site-packages (0.12.2)\n",
      "Requirement already satisfied: numpy>=1.16.3 in c:\\users\\domin\\anaconda3\\lib\\site-packages (from tpot) (1.24.3)\n",
      "Requirement already satisfied: scipy>=1.3.1 in c:\\users\\domin\\anaconda3\\lib\\site-packages (from tpot) (1.10.1)\n",
      "Requirement already satisfied: scikit-learn>=1.4.1 in c:\\users\\domin\\anaconda3\\lib\\site-packages (from tpot) (1.4.2)\n",
      "Requirement already satisfied: deap>=1.2 in c:\\users\\domin\\anaconda3\\lib\\site-packages (from tpot) (1.4.1)\n",
      "Requirement already satisfied: update-checker>=0.16 in c:\\users\\domin\\anaconda3\\lib\\site-packages (from tpot) (0.18.0)\n",
      "Requirement already satisfied: tqdm>=4.36.1 in c:\\users\\domin\\anaconda3\\lib\\site-packages (from tpot) (4.65.0)\n",
      "Requirement already satisfied: stopit>=1.1.1 in c:\\users\\domin\\anaconda3\\lib\\site-packages (from tpot) (1.1.2)\n",
      "Requirement already satisfied: pandas>=0.24.2 in c:\\users\\domin\\anaconda3\\lib\\site-packages (from tpot) (1.5.3)\n",
      "Requirement already satisfied: joblib>=0.13.2 in c:\\users\\domin\\anaconda3\\lib\\site-packages (from tpot) (1.2.0)\n",
      "Requirement already satisfied: xgboost>=1.1.0 in c:\\users\\domin\\anaconda3\\lib\\site-packages (from tpot) (2.0.3)\n",
      "Requirement already satisfied: python-dateutil>=2.8.1 in c:\\users\\domin\\anaconda3\\lib\\site-packages (from pandas>=0.24.2->tpot) (2.8.2)\n",
      "Requirement already satisfied: pytz>=2020.1 in c:\\users\\domin\\anaconda3\\lib\\site-packages (from pandas>=0.24.2->tpot) (2022.7)\n",
      "Requirement already satisfied: threadpoolctl>=2.0.0 in c:\\users\\domin\\anaconda3\\lib\\site-packages (from scikit-learn>=1.4.1->tpot) (2.2.0)\n",
      "Requirement already satisfied: colorama in c:\\users\\domin\\anaconda3\\lib\\site-packages (from tqdm>=4.36.1->tpot) (0.4.6)\n",
      "Requirement already satisfied: requests>=2.3.0 in c:\\users\\domin\\anaconda3\\lib\\site-packages (from update-checker>=0.16->tpot) (2.31.0)\n",
      "Requirement already satisfied: six>=1.5 in c:\\users\\domin\\anaconda3\\lib\\site-packages (from python-dateutil>=2.8.1->pandas>=0.24.2->tpot) (1.16.0)\n",
      "Requirement already satisfied: charset-normalizer<4,>=2 in c:\\users\\domin\\anaconda3\\lib\\site-packages (from requests>=2.3.0->update-checker>=0.16->tpot) (2.0.4)\n",
      "Requirement already satisfied: idna<4,>=2.5 in c:\\users\\domin\\anaconda3\\lib\\site-packages (from requests>=2.3.0->update-checker>=0.16->tpot) (3.4)\n",
      "Requirement already satisfied: urllib3<3,>=1.21.1 in c:\\users\\domin\\anaconda3\\lib\\site-packages (from requests>=2.3.0->update-checker>=0.16->tpot) (1.26.16)\n",
      "Requirement already satisfied: certifi>=2017.4.17 in c:\\users\\domin\\anaconda3\\lib\\site-packages (from requests>=2.3.0->update-checker>=0.16->tpot) (2024.2.2)\n"
     ]
    }
   ],
   "source": [
    "# installing tpot\n",
    "#!pip install tpot"
   ],
   "metadata": {
    "collapsed": false,
    "ExecuteTime": {
     "end_time": "2024-04-16T21:06:01.544654Z",
     "start_time": "2024-04-16T21:05:54.052301Z"
    }
   },
   "id": "ea646c8da1bf51e7",
   "execution_count": 10
  },
  {
   "cell_type": "code",
   "outputs": [],
   "source": [
    "from tpot import TPOTClassifier"
   ],
   "metadata": {
    "collapsed": false,
    "ExecuteTime": {
     "end_time": "2024-04-16T21:12:09.964756Z",
     "start_time": "2024-04-16T21:12:09.960528Z"
    }
   },
   "id": "622a23606c6677f8",
   "execution_count": 11
  },
  {
   "cell_type": "code",
   "outputs": [
    {
     "data": {
      "text/plain": "Optimization Progress:   0%|          | 0/300 [00:00<?, ?pipeline/s]",
      "application/vnd.jupyter.widget-view+json": {
       "version_major": 2,
       "version_minor": 0,
       "model_id": "614328dd756c4feebba80af5f4837303"
      }
     },
     "metadata": {},
     "output_type": "display_data"
    },
    {
     "name": "stdout",
     "output_type": "stream",
     "text": [
      "\n",
      "Generation 1 - Current best internal CV score: 0.7425531914893616\n",
      "\n",
      "Generation 2 - Current best internal CV score: 0.7446808510638298\n",
      "\n",
      "Generation 3 - Current best internal CV score: 0.7446808510638298\n",
      "\n",
      "Generation 4 - Current best internal CV score: 0.7489361702127659\n",
      "\n",
      "Generation 5 - Current best internal CV score: 0.7489361702127659\n",
      "\n",
      "Best pipeline: ExtraTreesClassifier(input_matrix, bootstrap=False, criterion=entropy, max_features=0.6500000000000001, min_samples_leaf=8, min_samples_split=2, n_estimators=100)\n"
     ]
    },
    {
     "data": {
      "text/plain": "TPOTClassifier(generations=5, population_size=50, random_state=42, verbosity=2)",
      "text/html": "<style>#sk-container-id-2 {\n  /* Definition of color scheme common for light and dark mode */\n  --sklearn-color-text: black;\n  --sklearn-color-line: gray;\n  /* Definition of color scheme for unfitted estimators */\n  --sklearn-color-unfitted-level-0: #fff5e6;\n  --sklearn-color-unfitted-level-1: #f6e4d2;\n  --sklearn-color-unfitted-level-2: #ffe0b3;\n  --sklearn-color-unfitted-level-3: chocolate;\n  /* Definition of color scheme for fitted estimators */\n  --sklearn-color-fitted-level-0: #f0f8ff;\n  --sklearn-color-fitted-level-1: #d4ebff;\n  --sklearn-color-fitted-level-2: #b3dbfd;\n  --sklearn-color-fitted-level-3: cornflowerblue;\n\n  /* Specific color for light theme */\n  --sklearn-color-text-on-default-background: var(--sg-text-color, var(--theme-code-foreground, var(--jp-content-font-color1, black)));\n  --sklearn-color-background: var(--sg-background-color, var(--theme-background, var(--jp-layout-color0, white)));\n  --sklearn-color-border-box: var(--sg-text-color, var(--theme-code-foreground, var(--jp-content-font-color1, black)));\n  --sklearn-color-icon: #696969;\n\n  @media (prefers-color-scheme: dark) {\n    /* Redefinition of color scheme for dark theme */\n    --sklearn-color-text-on-default-background: var(--sg-text-color, var(--theme-code-foreground, var(--jp-content-font-color1, white)));\n    --sklearn-color-background: var(--sg-background-color, var(--theme-background, var(--jp-layout-color0, #111)));\n    --sklearn-color-border-box: var(--sg-text-color, var(--theme-code-foreground, var(--jp-content-font-color1, white)));\n    --sklearn-color-icon: #878787;\n  }\n}\n\n#sk-container-id-2 {\n  color: var(--sklearn-color-text);\n}\n\n#sk-container-id-2 pre {\n  padding: 0;\n}\n\n#sk-container-id-2 input.sk-hidden--visually {\n  border: 0;\n  clip: rect(1px 1px 1px 1px);\n  clip: rect(1px, 1px, 1px, 1px);\n  height: 1px;\n  margin: -1px;\n  overflow: hidden;\n  padding: 0;\n  position: absolute;\n  width: 1px;\n}\n\n#sk-container-id-2 div.sk-dashed-wrapped {\n  border: 1px dashed var(--sklearn-color-line);\n  margin: 0 0.4em 0.5em 0.4em;\n  box-sizing: border-box;\n  padding-bottom: 0.4em;\n  background-color: var(--sklearn-color-background);\n}\n\n#sk-container-id-2 div.sk-container {\n  /* jupyter's `normalize.less` sets `[hidden] { display: none; }`\n     but bootstrap.min.css set `[hidden] { display: none !important; }`\n     so we also need the `!important` here to be able to override the\n     default hidden behavior on the sphinx rendered scikit-learn.org.\n     See: https://github.com/scikit-learn/scikit-learn/issues/21755 */\n  display: inline-block !important;\n  position: relative;\n}\n\n#sk-container-id-2 div.sk-text-repr-fallback {\n  display: none;\n}\n\ndiv.sk-parallel-item,\ndiv.sk-serial,\ndiv.sk-item {\n  /* draw centered vertical line to link estimators */\n  background-image: linear-gradient(var(--sklearn-color-text-on-default-background), var(--sklearn-color-text-on-default-background));\n  background-size: 2px 100%;\n  background-repeat: no-repeat;\n  background-position: center center;\n}\n\n/* Parallel-specific style estimator block */\n\n#sk-container-id-2 div.sk-parallel-item::after {\n  content: \"\";\n  width: 100%;\n  border-bottom: 2px solid var(--sklearn-color-text-on-default-background);\n  flex-grow: 1;\n}\n\n#sk-container-id-2 div.sk-parallel {\n  display: flex;\n  align-items: stretch;\n  justify-content: center;\n  background-color: var(--sklearn-color-background);\n  position: relative;\n}\n\n#sk-container-id-2 div.sk-parallel-item {\n  display: flex;\n  flex-direction: column;\n}\n\n#sk-container-id-2 div.sk-parallel-item:first-child::after {\n  align-self: flex-end;\n  width: 50%;\n}\n\n#sk-container-id-2 div.sk-parallel-item:last-child::after {\n  align-self: flex-start;\n  width: 50%;\n}\n\n#sk-container-id-2 div.sk-parallel-item:only-child::after {\n  width: 0;\n}\n\n/* Serial-specific style estimator block */\n\n#sk-container-id-2 div.sk-serial {\n  display: flex;\n  flex-direction: column;\n  align-items: center;\n  background-color: var(--sklearn-color-background);\n  padding-right: 1em;\n  padding-left: 1em;\n}\n\n\n/* Toggleable style: style used for estimator/Pipeline/ColumnTransformer box that is\nclickable and can be expanded/collapsed.\n- Pipeline and ColumnTransformer use this feature and define the default style\n- Estimators will overwrite some part of the style using the `sk-estimator` class\n*/\n\n/* Pipeline and ColumnTransformer style (default) */\n\n#sk-container-id-2 div.sk-toggleable {\n  /* Default theme specific background. It is overwritten whether we have a\n  specific estimator or a Pipeline/ColumnTransformer */\n  background-color: var(--sklearn-color-background);\n}\n\n/* Toggleable label */\n#sk-container-id-2 label.sk-toggleable__label {\n  cursor: pointer;\n  display: block;\n  width: 100%;\n  margin-bottom: 0;\n  padding: 0.5em;\n  box-sizing: border-box;\n  text-align: center;\n}\n\n#sk-container-id-2 label.sk-toggleable__label-arrow:before {\n  /* Arrow on the left of the label */\n  content: \"▸\";\n  float: left;\n  margin-right: 0.25em;\n  color: var(--sklearn-color-icon);\n}\n\n#sk-container-id-2 label.sk-toggleable__label-arrow:hover:before {\n  color: var(--sklearn-color-text);\n}\n\n/* Toggleable content - dropdown */\n\n#sk-container-id-2 div.sk-toggleable__content {\n  max-height: 0;\n  max-width: 0;\n  overflow: hidden;\n  text-align: left;\n  /* unfitted */\n  background-color: var(--sklearn-color-unfitted-level-0);\n}\n\n#sk-container-id-2 div.sk-toggleable__content.fitted {\n  /* fitted */\n  background-color: var(--sklearn-color-fitted-level-0);\n}\n\n#sk-container-id-2 div.sk-toggleable__content pre {\n  margin: 0.2em;\n  border-radius: 0.25em;\n  color: var(--sklearn-color-text);\n  /* unfitted */\n  background-color: var(--sklearn-color-unfitted-level-0);\n}\n\n#sk-container-id-2 div.sk-toggleable__content.fitted pre {\n  /* unfitted */\n  background-color: var(--sklearn-color-fitted-level-0);\n}\n\n#sk-container-id-2 input.sk-toggleable__control:checked~div.sk-toggleable__content {\n  /* Expand drop-down */\n  max-height: 200px;\n  max-width: 100%;\n  overflow: auto;\n}\n\n#sk-container-id-2 input.sk-toggleable__control:checked~label.sk-toggleable__label-arrow:before {\n  content: \"▾\";\n}\n\n/* Pipeline/ColumnTransformer-specific style */\n\n#sk-container-id-2 div.sk-label input.sk-toggleable__control:checked~label.sk-toggleable__label {\n  color: var(--sklearn-color-text);\n  background-color: var(--sklearn-color-unfitted-level-2);\n}\n\n#sk-container-id-2 div.sk-label.fitted input.sk-toggleable__control:checked~label.sk-toggleable__label {\n  background-color: var(--sklearn-color-fitted-level-2);\n}\n\n/* Estimator-specific style */\n\n/* Colorize estimator box */\n#sk-container-id-2 div.sk-estimator input.sk-toggleable__control:checked~label.sk-toggleable__label {\n  /* unfitted */\n  background-color: var(--sklearn-color-unfitted-level-2);\n}\n\n#sk-container-id-2 div.sk-estimator.fitted input.sk-toggleable__control:checked~label.sk-toggleable__label {\n  /* fitted */\n  background-color: var(--sklearn-color-fitted-level-2);\n}\n\n#sk-container-id-2 div.sk-label label.sk-toggleable__label,\n#sk-container-id-2 div.sk-label label {\n  /* The background is the default theme color */\n  color: var(--sklearn-color-text-on-default-background);\n}\n\n/* On hover, darken the color of the background */\n#sk-container-id-2 div.sk-label:hover label.sk-toggleable__label {\n  color: var(--sklearn-color-text);\n  background-color: var(--sklearn-color-unfitted-level-2);\n}\n\n/* Label box, darken color on hover, fitted */\n#sk-container-id-2 div.sk-label.fitted:hover label.sk-toggleable__label.fitted {\n  color: var(--sklearn-color-text);\n  background-color: var(--sklearn-color-fitted-level-2);\n}\n\n/* Estimator label */\n\n#sk-container-id-2 div.sk-label label {\n  font-family: monospace;\n  font-weight: bold;\n  display: inline-block;\n  line-height: 1.2em;\n}\n\n#sk-container-id-2 div.sk-label-container {\n  text-align: center;\n}\n\n/* Estimator-specific */\n#sk-container-id-2 div.sk-estimator {\n  font-family: monospace;\n  border: 1px dotted var(--sklearn-color-border-box);\n  border-radius: 0.25em;\n  box-sizing: border-box;\n  margin-bottom: 0.5em;\n  /* unfitted */\n  background-color: var(--sklearn-color-unfitted-level-0);\n}\n\n#sk-container-id-2 div.sk-estimator.fitted {\n  /* fitted */\n  background-color: var(--sklearn-color-fitted-level-0);\n}\n\n/* on hover */\n#sk-container-id-2 div.sk-estimator:hover {\n  /* unfitted */\n  background-color: var(--sklearn-color-unfitted-level-2);\n}\n\n#sk-container-id-2 div.sk-estimator.fitted:hover {\n  /* fitted */\n  background-color: var(--sklearn-color-fitted-level-2);\n}\n\n/* Specification for estimator info (e.g. \"i\" and \"?\") */\n\n/* Common style for \"i\" and \"?\" */\n\n.sk-estimator-doc-link,\na:link.sk-estimator-doc-link,\na:visited.sk-estimator-doc-link {\n  float: right;\n  font-size: smaller;\n  line-height: 1em;\n  font-family: monospace;\n  background-color: var(--sklearn-color-background);\n  border-radius: 1em;\n  height: 1em;\n  width: 1em;\n  text-decoration: none !important;\n  margin-left: 1ex;\n  /* unfitted */\n  border: var(--sklearn-color-unfitted-level-1) 1pt solid;\n  color: var(--sklearn-color-unfitted-level-1);\n}\n\n.sk-estimator-doc-link.fitted,\na:link.sk-estimator-doc-link.fitted,\na:visited.sk-estimator-doc-link.fitted {\n  /* fitted */\n  border: var(--sklearn-color-fitted-level-1) 1pt solid;\n  color: var(--sklearn-color-fitted-level-1);\n}\n\n/* On hover */\ndiv.sk-estimator:hover .sk-estimator-doc-link:hover,\n.sk-estimator-doc-link:hover,\ndiv.sk-label-container:hover .sk-estimator-doc-link:hover,\n.sk-estimator-doc-link:hover {\n  /* unfitted */\n  background-color: var(--sklearn-color-unfitted-level-3);\n  color: var(--sklearn-color-background);\n  text-decoration: none;\n}\n\ndiv.sk-estimator.fitted:hover .sk-estimator-doc-link.fitted:hover,\n.sk-estimator-doc-link.fitted:hover,\ndiv.sk-label-container:hover .sk-estimator-doc-link.fitted:hover,\n.sk-estimator-doc-link.fitted:hover {\n  /* fitted */\n  background-color: var(--sklearn-color-fitted-level-3);\n  color: var(--sklearn-color-background);\n  text-decoration: none;\n}\n\n/* Span, style for the box shown on hovering the info icon */\n.sk-estimator-doc-link span {\n  display: none;\n  z-index: 9999;\n  position: relative;\n  font-weight: normal;\n  right: .2ex;\n  padding: .5ex;\n  margin: .5ex;\n  width: min-content;\n  min-width: 20ex;\n  max-width: 50ex;\n  color: var(--sklearn-color-text);\n  box-shadow: 2pt 2pt 4pt #999;\n  /* unfitted */\n  background: var(--sklearn-color-unfitted-level-0);\n  border: .5pt solid var(--sklearn-color-unfitted-level-3);\n}\n\n.sk-estimator-doc-link.fitted span {\n  /* fitted */\n  background: var(--sklearn-color-fitted-level-0);\n  border: var(--sklearn-color-fitted-level-3);\n}\n\n.sk-estimator-doc-link:hover span {\n  display: block;\n}\n\n/* \"?\"-specific style due to the `<a>` HTML tag */\n\n#sk-container-id-2 a.estimator_doc_link {\n  float: right;\n  font-size: 1rem;\n  line-height: 1em;\n  font-family: monospace;\n  background-color: var(--sklearn-color-background);\n  border-radius: 1rem;\n  height: 1rem;\n  width: 1rem;\n  text-decoration: none;\n  /* unfitted */\n  color: var(--sklearn-color-unfitted-level-1);\n  border: var(--sklearn-color-unfitted-level-1) 1pt solid;\n}\n\n#sk-container-id-2 a.estimator_doc_link.fitted {\n  /* fitted */\n  border: var(--sklearn-color-fitted-level-1) 1pt solid;\n  color: var(--sklearn-color-fitted-level-1);\n}\n\n/* On hover */\n#sk-container-id-2 a.estimator_doc_link:hover {\n  /* unfitted */\n  background-color: var(--sklearn-color-unfitted-level-3);\n  color: var(--sklearn-color-background);\n  text-decoration: none;\n}\n\n#sk-container-id-2 a.estimator_doc_link.fitted:hover {\n  /* fitted */\n  background-color: var(--sklearn-color-fitted-level-3);\n}\n</style><div id=\"sk-container-id-2\" class=\"sk-top-container\"><div class=\"sk-text-repr-fallback\"><pre>TPOTClassifier(generations=5, population_size=50, random_state=42, verbosity=2)</pre><b>In a Jupyter environment, please rerun this cell to show the HTML representation or trust the notebook. <br />On GitHub, the HTML representation is unable to render, please try loading this page with nbviewer.org.</b></div><div class=\"sk-container\" hidden><div class=\"sk-item\"><div class=\"sk-estimator fitted sk-toggleable\"><input class=\"sk-toggleable__control sk-hidden--visually\" id=\"sk-estimator-id-2\" type=\"checkbox\" checked><label for=\"sk-estimator-id-2\" class=\"sk-toggleable__label fitted sk-toggleable__label-arrow fitted\">&nbsp;TPOTClassifier<span class=\"sk-estimator-doc-link fitted\">i<span>Fitted</span></span></label><div class=\"sk-toggleable__content fitted\"><pre>TPOTClassifier(generations=5, population_size=50, random_state=42, verbosity=2)</pre></div> </div></div></div></div>"
     },
     "execution_count": 15,
     "metadata": {},
     "output_type": "execute_result"
    }
   ],
   "source": [
    "# setting up tpot\n",
    "tpot = TPOTClassifier(generations=5, population_size=50, verbosity=2, random_state=42)\n",
    "tpot.fit(X, y)"
   ],
   "metadata": {
    "collapsed": false,
    "ExecuteTime": {
     "end_time": "2024-04-16T21:19:44.892918Z",
     "start_time": "2024-04-16T21:15:23.086841Z"
    }
   },
   "id": "52cf49325747ab3f",
   "execution_count": 15
  },
  {
   "cell_type": "code",
   "outputs": [
    {
     "name": "stdout",
     "output_type": "stream",
     "text": [
      "Accuracy on testing data:  0.6086956521739131\n"
     ]
    }
   ],
   "source": [
    "# evaluating tpot\n",
    "print(\"Accuracy on testing data: \", tpot.score(X_val, y_val))"
   ],
   "metadata": {
    "collapsed": false,
    "ExecuteTime": {
     "end_time": "2024-04-16T21:21:27.483878Z",
     "start_time": "2024-04-16T21:21:27.463543Z"
    }
   },
   "id": "5e48028e6bd0d74",
   "execution_count": 17
  },
  {
   "cell_type": "markdown",
   "source": [
    "## auto-sklearn  - głónie na linuxy"
   ],
   "metadata": {
    "collapsed": false
   },
   "id": "6eaabe7b635e6693"
  },
  {
   "cell_type": "code",
   "outputs": [
    {
     "name": "stdout",
     "output_type": "stream",
     "text": [
      "Collecting auto-sklearn\n",
      "  Using cached auto-sklearn-0.15.0.tar.gz (6.5 MB)\n",
      "  Installing build dependencies: started\n",
      "  Installing build dependencies: finished with status 'done'\n",
      "  Getting requirements to build wheel: started\n",
      "  Getting requirements to build wheel: finished with status 'error'\n"
     ]
    },
    {
     "name": "stderr",
     "output_type": "stream",
     "text": [
      "  error: subprocess-exited-with-error\n",
      "  \n",
      "  Getting requirements to build wheel did not run successfully.\n",
      "  exit code: 1\n",
      "  \n",
      "  [20 lines of output]\n",
      "  Traceback (most recent call last):\n",
      "    File \"C:\\Users\\domin\\anaconda3\\Lib\\site-packages\\pip\\_vendor\\pyproject_hooks\\_in_process\\_in_process.py\", line 353, in <module>\n",
      "      main()\n",
      "    File \"C:\\Users\\domin\\anaconda3\\Lib\\site-packages\\pip\\_vendor\\pyproject_hooks\\_in_process\\_in_process.py\", line 335, in main\n",
      "      json_out['return_val'] = hook(**hook_input['kwargs'])\n",
      "                               ^^^^^^^^^^^^^^^^^^^^^^^^^^^^\n",
      "    File \"C:\\Users\\domin\\anaconda3\\Lib\\site-packages\\pip\\_vendor\\pyproject_hooks\\_in_process\\_in_process.py\", line 118, in get_requires_for_build_wheel\n",
      "      return hook(config_settings)\n",
      "             ^^^^^^^^^^^^^^^^^^^^^\n",
      "    File \"C:\\Users\\domin\\AppData\\Local\\Temp\\pip-build-env-1ne990os\\overlay\\Lib\\site-packages\\setuptools\\build_meta.py\", line 325, in get_requires_for_build_wheel\n",
      "      return self._get_build_requires(config_settings, requirements=['wheel'])\n",
      "             ^^^^^^^^^^^^^^^^^^^^^^^^^^^^^^^^^^^^^^^^^^^^^^^^^^^^^^^^^^^^^^^^^\n",
      "    File \"C:\\Users\\domin\\AppData\\Local\\Temp\\pip-build-env-1ne990os\\overlay\\Lib\\site-packages\\setuptools\\build_meta.py\", line 295, in _get_build_requires\n",
      "      self.run_setup()\n",
      "    File \"C:\\Users\\domin\\AppData\\Local\\Temp\\pip-build-env-1ne990os\\overlay\\Lib\\site-packages\\setuptools\\build_meta.py\", line 487, in run_setup\n",
      "      super().run_setup(setup_script=setup_script)\n",
      "    File \"C:\\Users\\domin\\AppData\\Local\\Temp\\pip-build-env-1ne990os\\overlay\\Lib\\site-packages\\setuptools\\build_meta.py\", line 311, in run_setup\n",
      "      exec(code, locals())\n",
      "    File \"<string>\", line 10, in <module>\n",
      "  ValueError: Detected unsupported operating system: win32. Please check the compability information of auto-sklearn: https://automl.github.io/auto-sklearn/master/installation.html#windows-osx-compatibility\n",
      "  [end of output]\n",
      "  \n",
      "  note: This error originates from a subprocess, and is likely not a problem with pip.\n",
      "error: subprocess-exited-with-error\n",
      "\n",
      "Getting requirements to build wheel did not run successfully.\n",
      "exit code: 1\n",
      "\n",
      "See above for output.\n",
      "\n",
      "note: This error originates from a subprocess, and is likely not a problem with pip.\n"
     ]
    }
   ],
   "source": [
    "# installing auto-sklearn\n",
    "!pip install auto-sklearn"
   ],
   "metadata": {
    "collapsed": false,
    "ExecuteTime": {
     "end_time": "2024-04-16T21:26:01.529017Z",
     "start_time": "2024-04-16T21:25:51.485284Z"
    }
   },
   "id": "a502a5cf32ec5df6",
   "execution_count": 9
  },
  {
   "cell_type": "code",
   "outputs": [
    {
     "ename": "ModuleNotFoundError",
     "evalue": "No module named 'autosklearn'",
     "output_type": "error",
     "traceback": [
      "\u001B[1;31m---------------------------------------------------------------------------\u001B[0m",
      "\u001B[1;31mModuleNotFoundError\u001B[0m                       Traceback (most recent call last)",
      "Cell \u001B[1;32mIn[19], line 1\u001B[0m\n\u001B[1;32m----> 1\u001B[0m \u001B[38;5;28;01mfrom\u001B[39;00m \u001B[38;5;21;01mautosklearn\u001B[39;00m\u001B[38;5;21;01m.\u001B[39;00m\u001B[38;5;21;01mclassification\u001B[39;00m \u001B[38;5;28;01mimport\u001B[39;00m AutoSklearnClassifier\n",
      "\u001B[1;31mModuleNotFoundError\u001B[0m: No module named 'autosklearn'"
     ]
    }
   ],
   "source": [
    "from autosklearn.classification import AutoSklearnClassifier"
   ],
   "metadata": {
    "collapsed": false,
    "ExecuteTime": {
     "end_time": "2024-04-16T21:23:19.309249Z",
     "start_time": "2024-04-16T21:23:19.293487Z"
    }
   },
   "id": "931b95af3a0d1a3f",
   "execution_count": 19
  },
  {
   "cell_type": "markdown",
   "source": [
    "## H2O"
   ],
   "metadata": {
    "collapsed": false
   },
   "id": "27ae987db85858b"
  },
  {
   "cell_type": "code",
   "outputs": [
    {
     "name": "stdout",
     "output_type": "stream",
     "text": [
      "Collecting h2o\n",
      "  Obtaining dependency information for h2o from https://files.pythonhosted.org/packages/60/dc/8e9c694923a90ffd7e35d2cf0f2098779a39cfac8a88359997b6ecbfe3fe/h2o-3.46.0.1-py2.py3-none-any.whl.metadata\n",
      "  Downloading h2o-3.46.0.1-py2.py3-none-any.whl.metadata (2.1 kB)\n",
      "Requirement already satisfied: requests in c:\\users\\domin\\anaconda3\\lib\\site-packages (from h2o) (2.31.0)\n",
      "Requirement already satisfied: tabulate in c:\\users\\domin\\anaconda3\\lib\\site-packages (from h2o) (0.8.10)\n",
      "Requirement already satisfied: charset-normalizer<4,>=2 in c:\\users\\domin\\anaconda3\\lib\\site-packages (from requests->h2o) (2.0.4)\n",
      "Requirement already satisfied: idna<4,>=2.5 in c:\\users\\domin\\anaconda3\\lib\\site-packages (from requests->h2o) (3.4)\n",
      "Requirement already satisfied: urllib3<3,>=1.21.1 in c:\\users\\domin\\anaconda3\\lib\\site-packages (from requests->h2o) (1.26.16)\n",
      "Requirement already satisfied: certifi>=2017.4.17 in c:\\users\\domin\\anaconda3\\lib\\site-packages (from requests->h2o) (2024.2.2)\n",
      "Downloading h2o-3.46.0.1-py2.py3-none-any.whl (265.6 MB)\n",
      "   ---------------------------------------- 0.0/265.6 MB ? eta -:--:--\n",
      "   ---------------------------------------- 0.0/265.6 MB 960.0 kB/s eta 0:04:37\n",
      "   ---------------------------------------- 0.2/265.6 MB 2.9 MB/s eta 0:01:32\n",
      "   ---------------------------------------- 0.5/265.6 MB 4.6 MB/s eta 0:00:59\n",
      "   ---------------------------------------- 1.1/265.6 MB 6.7 MB/s eta 0:00:40\n",
      "   ---------------------------------------- 1.7/265.6 MB 7.8 MB/s eta 0:00:35\n",
      "   ---------------------------------------- 2.5/265.6 MB 9.3 MB/s eta 0:00:29\n",
      "   ---------------------------------------- 3.3/265.6 MB 10.5 MB/s eta 0:00:25\n",
      "    --------------------------------------- 3.9/265.6 MB 11.4 MB/s eta 0:00:23\n",
      "    --------------------------------------- 3.9/265.6 MB 11.4 MB/s eta 0:00:23\n",
      "    --------------------------------------- 4.5/265.6 MB 10.0 MB/s eta 0:00:27\n",
      "    --------------------------------------- 6.2/265.6 MB 12.3 MB/s eta 0:00:22\n",
      "   - -------------------------------------- 7.0/265.6 MB 12.8 MB/s eta 0:00:21\n",
      "   - -------------------------------------- 7.9/265.6 MB 13.3 MB/s eta 0:00:20\n",
      "   - -------------------------------------- 7.9/265.6 MB 13.3 MB/s eta 0:00:20\n",
      "   - -------------------------------------- 7.9/265.6 MB 11.5 MB/s eta 0:00:23\n",
      "   - -------------------------------------- 10.3/265.6 MB 14.6 MB/s eta 0:00:18\n",
      "   - -------------------------------------- 10.6/265.6 MB 14.9 MB/s eta 0:00:18\n",
      "   - -------------------------------------- 11.4/265.6 MB 16.0 MB/s eta 0:00:16\n",
      "   - -------------------------------------- 12.2/265.6 MB 16.0 MB/s eta 0:00:16\n",
      "   - -------------------------------------- 13.1/265.6 MB 16.0 MB/s eta 0:00:16\n",
      "   -- ------------------------------------- 13.9/265.6 MB 16.4 MB/s eta 0:00:16\n",
      "   -- ------------------------------------- 13.9/265.6 MB 16.4 MB/s eta 0:00:16\n",
      "   -- ------------------------------------- 15.3/265.6 MB 17.2 MB/s eta 0:00:15\n",
      "   -- ------------------------------------- 15.3/265.6 MB 17.2 MB/s eta 0:00:15\n",
      "   -- ------------------------------------- 17.4/265.6 MB 16.8 MB/s eta 0:00:15\n",
      "   -- ------------------------------------- 18.2/265.6 MB 20.5 MB/s eta 0:00:13\n",
      "   -- ------------------------------------- 19.1/265.6 MB 19.3 MB/s eta 0:00:13\n",
      "   --- ------------------------------------ 20.0/265.6 MB 18.2 MB/s eta 0:00:14\n",
      "   --- ------------------------------------ 20.8/265.6 MB 18.2 MB/s eta 0:00:14\n",
      "   --- ------------------------------------ 21.7/265.6 MB 18.7 MB/s eta 0:00:14\n",
      "   --- ------------------------------------ 22.5/265.6 MB 18.7 MB/s eta 0:00:13\n",
      "   --- ------------------------------------ 23.4/265.6 MB 18.7 MB/s eta 0:00:13\n",
      "   --- ------------------------------------ 24.3/265.6 MB 21.1 MB/s eta 0:00:12\n",
      "   --- ------------------------------------ 25.1/265.6 MB 19.8 MB/s eta 0:00:13\n",
      "   --- ------------------------------------ 25.9/265.6 MB 20.5 MB/s eta 0:00:12\n",
      "   ---- ----------------------------------- 26.8/265.6 MB 18.7 MB/s eta 0:00:13\n",
      "   ---- ----------------------------------- 27.6/265.6 MB 18.7 MB/s eta 0:00:13\n",
      "   ---- ----------------------------------- 28.5/265.6 MB 18.7 MB/s eta 0:00:13\n",
      "   ---- ----------------------------------- 29.4/265.6 MB 18.7 MB/s eta 0:00:13\n",
      "   ---- ----------------------------------- 30.2/265.6 MB 18.2 MB/s eta 0:00:13\n",
      "   ---- ----------------------------------- 31.0/265.6 MB 18.2 MB/s eta 0:00:13\n",
      "   ---- ----------------------------------- 31.9/265.6 MB 18.2 MB/s eta 0:00:13\n",
      "   ---- ----------------------------------- 32.7/265.6 MB 18.2 MB/s eta 0:00:13\n",
      "   ----- ---------------------------------- 33.6/265.6 MB 18.2 MB/s eta 0:00:13\n",
      "   ----- ---------------------------------- 34.3/265.6 MB 18.7 MB/s eta 0:00:13\n",
      "   ----- ---------------------------------- 34.8/265.6 MB 17.7 MB/s eta 0:00:14\n",
      "   ----- ---------------------------------- 35.6/265.6 MB 17.2 MB/s eta 0:00:14\n",
      "   ----- ---------------------------------- 36.5/265.6 MB 17.2 MB/s eta 0:00:14\n",
      "   ----- ---------------------------------- 37.3/265.6 MB 17.2 MB/s eta 0:00:14\n",
      "   ----- ---------------------------------- 38.2/265.6 MB 17.2 MB/s eta 0:00:14\n",
      "   ----- ---------------------------------- 39.0/265.6 MB 17.2 MB/s eta 0:00:14\n",
      "   ------ --------------------------------- 39.9/265.6 MB 17.2 MB/s eta 0:00:14\n",
      "   ------ --------------------------------- 40.7/265.6 MB 17.3 MB/s eta 0:00:14\n",
      "   ------ --------------------------------- 41.2/265.6 MB 16.8 MB/s eta 0:00:14\n",
      "   ------ --------------------------------- 42.0/265.6 MB 16.8 MB/s eta 0:00:14\n",
      "   ------ --------------------------------- 42.6/265.6 MB 16.8 MB/s eta 0:00:14\n",
      "   ------ --------------------------------- 43.1/265.6 MB 16.4 MB/s eta 0:00:14\n",
      "   ------ --------------------------------- 43.9/265.6 MB 15.6 MB/s eta 0:00:15\n",
      "   ------ --------------------------------- 44.6/265.6 MB 16.4 MB/s eta 0:00:14\n",
      "   ------ --------------------------------- 45.5/265.6 MB 16.0 MB/s eta 0:00:14\n",
      "   ------ --------------------------------- 46.3/265.6 MB 16.0 MB/s eta 0:00:14\n",
      "   ------- -------------------------------- 47.2/265.6 MB 16.0 MB/s eta 0:00:14\n",
      "   ------- -------------------------------- 48.0/265.6 MB 16.4 MB/s eta 0:00:14\n",
      "   ------- -------------------------------- 48.7/265.6 MB 16.4 MB/s eta 0:00:14\n",
      "   ------- -------------------------------- 49.7/265.6 MB 16.4 MB/s eta 0:00:14\n",
      "   ------- -------------------------------- 50.0/265.6 MB 15.6 MB/s eta 0:00:14\n",
      "   ------- -------------------------------- 50.9/265.6 MB 15.6 MB/s eta 0:00:14\n",
      "   ------- -------------------------------- 51.7/265.6 MB 16.4 MB/s eta 0:00:14\n",
      "   ------- -------------------------------- 52.5/265.6 MB 16.0 MB/s eta 0:00:14\n",
      "   -------- ------------------------------- 53.2/265.6 MB 16.8 MB/s eta 0:00:13\n",
      "   -------- ------------------------------- 54.1/265.6 MB 17.2 MB/s eta 0:00:13\n",
      "   -------- ------------------------------- 54.8/265.6 MB 16.8 MB/s eta 0:00:13\n",
      "   -------- ------------------------------- 55.6/265.6 MB 16.8 MB/s eta 0:00:13\n",
      "   -------- ------------------------------- 56.4/265.6 MB 16.8 MB/s eta 0:00:13\n",
      "   -------- ------------------------------- 57.2/265.6 MB 16.8 MB/s eta 0:00:13\n",
      "   -------- ------------------------------- 58.1/265.6 MB 16.8 MB/s eta 0:00:13\n",
      "   -------- ------------------------------- 58.9/265.6 MB 16.8 MB/s eta 0:00:13\n",
      "   --------- ------------------------------ 59.8/265.6 MB 16.8 MB/s eta 0:00:13\n",
      "   --------- ------------------------------ 60.6/265.6 MB 17.7 MB/s eta 0:00:12\n",
      "   --------- ------------------------------ 61.5/265.6 MB 17.7 MB/s eta 0:00:12\n",
      "   --------- ------------------------------ 62.3/265.6 MB 17.7 MB/s eta 0:00:12\n",
      "   --------- ------------------------------ 63.2/265.6 MB 17.7 MB/s eta 0:00:12\n",
      "   --------- ------------------------------ 64.0/265.6 MB 17.7 MB/s eta 0:00:12\n",
      "   --------- ------------------------------ 64.8/265.6 MB 17.7 MB/s eta 0:00:12\n",
      "   --------- ------------------------------ 65.7/265.6 MB 18.2 MB/s eta 0:00:12\n",
      "   ---------- ----------------------------- 66.6/265.6 MB 18.2 MB/s eta 0:00:11\n",
      "   ---------- ----------------------------- 67.4/265.6 MB 18.2 MB/s eta 0:00:11\n",
      "   ---------- ----------------------------- 68.2/265.6 MB 18.2 MB/s eta 0:00:11\n",
      "   ---------- ----------------------------- 69.1/265.6 MB 18.2 MB/s eta 0:00:11\n",
      "   ---------- ----------------------------- 69.9/265.6 MB 18.2 MB/s eta 0:00:11\n",
      "   ---------- ----------------------------- 70.7/265.6 MB 18.2 MB/s eta 0:00:11\n",
      "   ---------- ----------------------------- 71.6/265.6 MB 18.2 MB/s eta 0:00:11\n",
      "   ---------- ----------------------------- 72.5/265.6 MB 18.2 MB/s eta 0:00:11\n",
      "   ----------- ---------------------------- 73.3/265.6 MB 18.2 MB/s eta 0:00:11\n",
      "   ----------- ---------------------------- 74.2/265.6 MB 18.2 MB/s eta 0:00:11\n",
      "   ----------- ---------------------------- 75.1/265.6 MB 18.2 MB/s eta 0:00:11\n",
      "   ----------- ---------------------------- 75.6/265.6 MB 17.7 MB/s eta 0:00:11\n",
      "   ----------- ---------------------------- 76.5/265.6 MB 17.7 MB/s eta 0:00:11\n",
      "   ----------- ---------------------------- 77.3/265.6 MB 17.7 MB/s eta 0:00:11\n",
      "   ----------- ---------------------------- 78.2/265.6 MB 17.7 MB/s eta 0:00:11\n",
      "   ----------- ---------------------------- 79.1/265.6 MB 17.7 MB/s eta 0:00:11\n",
      "   ----------- ---------------------------- 79.4/265.6 MB 17.2 MB/s eta 0:00:11\n",
      "   ------------ --------------------------- 80.3/265.6 MB 17.2 MB/s eta 0:00:11\n",
      "   ------------ --------------------------- 81.1/265.6 MB 17.3 MB/s eta 0:00:11\n",
      "   ------------ --------------------------- 82.0/265.6 MB 17.3 MB/s eta 0:00:11\n",
      "   ------------ --------------------------- 82.9/265.6 MB 17.2 MB/s eta 0:00:11\n",
      "   ------------ --------------------------- 83.7/265.6 MB 17.2 MB/s eta 0:00:11\n",
      "   ------------ --------------------------- 84.5/265.6 MB 16.8 MB/s eta 0:00:11\n",
      "   ------------ --------------------------- 85.3/265.6 MB 16.8 MB/s eta 0:00:11\n",
      "   ------------ --------------------------- 86.1/265.6 MB 17.2 MB/s eta 0:00:11\n",
      "   ------------- -------------------------- 87.0/265.6 MB 17.2 MB/s eta 0:00:11\n",
      "   ------------- -------------------------- 87.9/265.6 MB 17.3 MB/s eta 0:00:11\n",
      "   ------------- -------------------------- 88.7/265.6 MB 17.3 MB/s eta 0:00:11\n",
      "   ------------- -------------------------- 89.0/265.6 MB 17.2 MB/s eta 0:00:11\n",
      "   ------------- -------------------------- 89.8/265.6 MB 17.2 MB/s eta 0:00:11\n",
      "   ------------- -------------------------- 90.6/265.6 MB 17.2 MB/s eta 0:00:11\n",
      "   ------------- -------------------------- 91.5/265.6 MB 17.2 MB/s eta 0:00:11\n",
      "   ------------- -------------------------- 92.4/265.6 MB 17.2 MB/s eta 0:00:11\n",
      "   -------------- ------------------------- 93.2/265.6 MB 17.2 MB/s eta 0:00:11\n",
      "   -------------- ------------------------- 94.0/265.6 MB 16.8 MB/s eta 0:00:11\n",
      "   -------------- ------------------------- 94.9/265.6 MB 17.3 MB/s eta 0:00:10\n",
      "   -------------- ------------------------- 95.6/265.6 MB 17.2 MB/s eta 0:00:10\n",
      "   -------------- ------------------------- 96.5/265.6 MB 17.2 MB/s eta 0:00:10\n",
      "   -------------- ------------------------- 97.3/265.6 MB 17.2 MB/s eta 0:00:10\n",
      "   -------------- ------------------------- 98.2/265.6 MB 17.2 MB/s eta 0:00:10\n",
      "   -------------- ------------------------- 99.0/265.6 MB 17.2 MB/s eta 0:00:10\n",
      "   --------------- ------------------------ 99.9/265.6 MB 17.7 MB/s eta 0:00:10\n",
      "   -------------- ------------------------ 100.7/265.6 MB 18.2 MB/s eta 0:00:10\n",
      "   -------------- ------------------------ 101.6/265.6 MB 18.2 MB/s eta 0:00:10\n",
      "   --------------- ----------------------- 102.3/265.6 MB 17.7 MB/s eta 0:00:10\n",
      "   --------------- ----------------------- 103.1/265.6 MB 17.7 MB/s eta 0:00:10\n",
      "   --------------- ----------------------- 104.0/265.6 MB 17.7 MB/s eta 0:00:10\n",
      "   --------------- ----------------------- 104.8/265.6 MB 17.7 MB/s eta 0:00:10\n",
      "   --------------- ----------------------- 105.7/265.6 MB 18.2 MB/s eta 0:00:09\n",
      "   --------------- ----------------------- 106.5/265.6 MB 17.7 MB/s eta 0:00:10\n",
      "   --------------- ----------------------- 107.3/265.6 MB 17.7 MB/s eta 0:00:09\n",
      "   --------------- ----------------------- 108.0/265.6 MB 18.2 MB/s eta 0:00:09\n",
      "   ---------------- ---------------------- 109.0/265.6 MB 17.7 MB/s eta 0:00:09\n",
      "   ---------------- ---------------------- 109.7/265.6 MB 17.7 MB/s eta 0:00:09\n",
      "   ---------------- ---------------------- 110.5/265.6 MB 18.2 MB/s eta 0:00:09\n",
      "   ---------------- ---------------------- 110.9/265.6 MB 17.7 MB/s eta 0:00:09\n",
      "   ---------------- ---------------------- 111.6/265.6 MB 16.8 MB/s eta 0:00:10\n",
      "   ---------------- ---------------------- 112.5/265.6 MB 17.2 MB/s eta 0:00:09\n",
      "   ---------------- ---------------------- 113.3/265.6 MB 17.2 MB/s eta 0:00:09\n",
      "   ---------------- ---------------------- 114.2/265.6 MB 17.2 MB/s eta 0:00:09\n",
      "   ---------------- ---------------------- 115.1/265.6 MB 17.2 MB/s eta 0:00:09\n",
      "   ----------------- --------------------- 115.9/265.6 MB 17.3 MB/s eta 0:00:09\n",
      "   ----------------- --------------------- 116.7/265.6 MB 17.3 MB/s eta 0:00:09\n",
      "   ----------------- --------------------- 117.5/265.6 MB 17.2 MB/s eta 0:00:09\n",
      "   ----------------- --------------------- 118.4/265.6 MB 17.2 MB/s eta 0:00:09\n",
      "   ----------------- --------------------- 119.2/265.6 MB 17.2 MB/s eta 0:00:09\n",
      "   ----------------- --------------------- 119.6/265.6 MB 16.4 MB/s eta 0:00:09\n",
      "   ----------------- --------------------- 120.5/265.6 MB 16.4 MB/s eta 0:00:09\n",
      "   ----------------- --------------------- 121.4/265.6 MB 17.2 MB/s eta 0:00:09\n",
      "   ----------------- --------------------- 122.2/265.6 MB 17.3 MB/s eta 0:00:09\n",
      "   ------------------ -------------------- 123.0/265.6 MB 17.3 MB/s eta 0:00:09\n",
      "   ------------------ -------------------- 123.9/265.6 MB 17.2 MB/s eta 0:00:09\n",
      "   ------------------ -------------------- 124.7/265.6 MB 17.2 MB/s eta 0:00:09\n",
      "   ------------------ -------------------- 125.6/265.6 MB 17.2 MB/s eta 0:00:09\n",
      "   ------------------ -------------------- 126.4/265.6 MB 17.2 MB/s eta 0:00:09\n",
      "   ------------------ -------------------- 127.2/265.6 MB 17.2 MB/s eta 0:00:09\n",
      "   ------------------ -------------------- 128.1/265.6 MB 17.2 MB/s eta 0:00:08\n",
      "   ------------------ -------------------- 128.8/265.6 MB 17.3 MB/s eta 0:00:08\n",
      "   ------------------- ------------------- 129.6/265.6 MB 17.7 MB/s eta 0:00:08\n",
      "   ------------------- ------------------- 130.5/265.6 MB 17.7 MB/s eta 0:00:08\n",
      "   ------------------- ------------------- 131.3/265.6 MB 17.7 MB/s eta 0:00:08\n",
      "   ------------------- ------------------- 132.1/265.6 MB 17.7 MB/s eta 0:00:08\n",
      "   ------------------- ------------------- 132.3/265.6 MB 16.8 MB/s eta 0:00:08\n",
      "   ------------------- ------------------- 133.2/265.6 MB 16.4 MB/s eta 0:00:09\n",
      "   ------------------- ------------------- 134.0/265.6 MB 16.4 MB/s eta 0:00:09\n",
      "   ------------------- ------------------- 134.9/265.6 MB 16.8 MB/s eta 0:00:08\n",
      "   ------------------- ------------------- 135.7/265.6 MB 16.4 MB/s eta 0:00:08\n",
      "   -------------------- ------------------ 136.5/265.6 MB 16.4 MB/s eta 0:00:08\n",
      "   -------------------- ------------------ 137.4/265.6 MB 16.4 MB/s eta 0:00:08\n",
      "   -------------------- ------------------ 138.2/265.6 MB 16.8 MB/s eta 0:00:08\n",
      "   -------------------- ------------------ 139.1/265.6 MB 17.2 MB/s eta 0:00:08\n",
      "   -------------------- ------------------ 139.9/265.6 MB 17.2 MB/s eta 0:00:08\n",
      "   -------------------- ------------------ 140.8/265.6 MB 17.2 MB/s eta 0:00:08\n",
      "   -------------------- ------------------ 141.6/265.6 MB 17.2 MB/s eta 0:00:08\n",
      "   -------------------- ------------------ 142.5/265.6 MB 18.2 MB/s eta 0:00:07\n",
      "   --------------------- ----------------- 143.3/265.6 MB 18.2 MB/s eta 0:00:07\n",
      "   --------------------- ----------------- 144.1/265.6 MB 18.2 MB/s eta 0:00:07\n",
      "   --------------------- ----------------- 145.0/265.6 MB 18.2 MB/s eta 0:00:07\n",
      "   --------------------- ----------------- 145.4/265.6 MB 17.7 MB/s eta 0:00:07\n",
      "   --------------------- ----------------- 146.1/265.6 MB 17.2 MB/s eta 0:00:07\n",
      "   --------------------- ----------------- 147.0/265.6 MB 16.8 MB/s eta 0:00:08\n",
      "   --------------------- ----------------- 147.5/265.6 MB 16.8 MB/s eta 0:00:08\n",
      "   --------------------- ----------------- 148.0/265.6 MB 16.8 MB/s eta 0:00:07\n",
      "   --------------------- ----------------- 148.8/265.6 MB 16.4 MB/s eta 0:00:08\n",
      "   --------------------- ----------------- 149.7/265.6 MB 16.4 MB/s eta 0:00:08\n",
      "   ---------------------- ---------------- 150.5/265.6 MB 16.4 MB/s eta 0:00:08\n",
      "   ---------------------- ---------------- 151.3/265.6 MB 16.4 MB/s eta 0:00:07\n",
      "   ---------------------- ---------------- 152.2/265.6 MB 16.4 MB/s eta 0:00:07\n",
      "   ---------------------- ---------------- 153.0/265.6 MB 16.0 MB/s eta 0:00:08\n",
      "   ---------------------- ---------------- 153.8/265.6 MB 16.0 MB/s eta 0:00:08\n",
      "   ---------------------- ---------------- 154.6/265.6 MB 16.0 MB/s eta 0:00:07\n",
      "   ---------------------- ---------------- 155.5/265.6 MB 16.0 MB/s eta 0:00:07\n",
      "   ---------------------- ---------------- 156.3/265.6 MB 16.8 MB/s eta 0:00:07\n",
      "   ----------------------- --------------- 157.2/265.6 MB 16.8 MB/s eta 0:00:07\n",
      "   ----------------------- --------------- 158.0/265.6 MB 17.2 MB/s eta 0:00:07\n",
      "   ----------------------- --------------- 158.9/265.6 MB 18.2 MB/s eta 0:00:06\n",
      "   ----------------------- --------------- 159.7/265.6 MB 18.2 MB/s eta 0:00:06\n",
      "   ----------------------- --------------- 160.6/265.6 MB 18.2 MB/s eta 0:00:06\n",
      "   ----------------------- --------------- 161.0/265.6 MB 18.2 MB/s eta 0:00:06\n",
      "   ----------------------- --------------- 161.7/265.6 MB 17.2 MB/s eta 0:00:07\n",
      "   ----------------------- --------------- 162.6/265.6 MB 17.3 MB/s eta 0:00:06\n",
      "   ------------------------ -------------- 163.5/265.6 MB 17.3 MB/s eta 0:00:06\n",
      "   ------------------------ -------------- 164.3/265.6 MB 17.2 MB/s eta 0:00:06\n",
      "   ------------------------ -------------- 165.1/265.6 MB 17.2 MB/s eta 0:00:06\n",
      "   ------------------------ -------------- 166.0/265.6 MB 17.2 MB/s eta 0:00:06\n",
      "   ------------------------ -------------- 166.8/265.6 MB 17.2 MB/s eta 0:00:06\n",
      "   ------------------------ -------------- 167.7/265.6 MB 17.2 MB/s eta 0:00:06\n",
      "   ------------------------ -------------- 168.6/265.6 MB 17.2 MB/s eta 0:00:06\n",
      "   ------------------------ -------------- 169.2/265.6 MB 16.8 MB/s eta 0:00:06\n",
      "   ------------------------ -------------- 170.1/265.6 MB 17.2 MB/s eta 0:00:06\n",
      "   ------------------------- ------------- 170.9/265.6 MB 17.2 MB/s eta 0:00:06\n",
      "   ------------------------- ------------- 171.7/265.6 MB 18.2 MB/s eta 0:00:06\n",
      "   ------------------------- ------------- 172.5/265.6 MB 18.2 MB/s eta 0:00:06\n",
      "   ------------------------- ------------- 173.4/265.6 MB 18.2 MB/s eta 0:00:06\n",
      "   ------------------------- ------------- 174.1/265.6 MB 17.7 MB/s eta 0:00:06\n",
      "   ------------------------- ------------- 175.0/265.6 MB 17.7 MB/s eta 0:00:06\n",
      "   ------------------------- ------------- 175.8/265.6 MB 17.7 MB/s eta 0:00:06\n",
      "   ------------------------- ------------- 176.6/265.6 MB 17.7 MB/s eta 0:00:06\n",
      "   -------------------------- ------------ 177.5/265.6 MB 17.7 MB/s eta 0:00:05\n",
      "   -------------------------- ------------ 178.3/265.6 MB 17.7 MB/s eta 0:00:05\n",
      "   -------------------------- ------------ 179.1/265.6 MB 17.7 MB/s eta 0:00:05\n",
      "   -------------------------- ------------ 180.0/265.6 MB 17.7 MB/s eta 0:00:05\n",
      "   -------------------------- ------------ 180.8/265.6 MB 17.7 MB/s eta 0:00:05\n",
      "   -------------------------- ------------ 181.4/265.6 MB 17.7 MB/s eta 0:00:05\n",
      "   -------------------------- ------------ 182.5/265.6 MB 18.2 MB/s eta 0:00:05\n",
      "   -------------------------- ------------ 183.2/265.6 MB 17.7 MB/s eta 0:00:05\n",
      "   --------------------------- ----------- 184.0/265.6 MB 17.7 MB/s eta 0:00:05\n",
      "   --------------------------- ----------- 184.9/265.6 MB 17.7 MB/s eta 0:00:05\n",
      "   --------------------------- ----------- 185.5/265.6 MB 17.7 MB/s eta 0:00:05\n",
      "   --------------------------- ----------- 186.1/265.6 MB 17.2 MB/s eta 0:00:05\n",
      "   --------------------------- ----------- 186.9/265.6 MB 16.8 MB/s eta 0:00:05\n",
      "   --------------------------- ----------- 187.7/265.6 MB 16.8 MB/s eta 0:00:05\n",
      "   --------------------------- ----------- 188.6/265.6 MB 16.8 MB/s eta 0:00:05\n",
      "   --------------------------- ----------- 189.4/265.6 MB 16.8 MB/s eta 0:00:05\n",
      "   --------------------------- ----------- 190.2/265.6 MB 16.8 MB/s eta 0:00:05\n",
      "   ---------------------------- ---------- 191.1/265.6 MB 16.8 MB/s eta 0:00:05\n",
      "   ---------------------------- ---------- 191.9/265.6 MB 16.8 MB/s eta 0:00:05\n",
      "   ---------------------------- ---------- 192.8/265.6 MB 16.8 MB/s eta 0:00:05\n",
      "   ---------------------------- ---------- 193.6/265.6 MB 16.8 MB/s eta 0:00:05\n",
      "   ---------------------------- ---------- 194.4/265.6 MB 17.3 MB/s eta 0:00:05\n",
      "   ---------------------------- ---------- 195.3/265.6 MB 16.8 MB/s eta 0:00:05\n",
      "   ---------------------------- ---------- 196.1/265.6 MB 17.7 MB/s eta 0:00:04\n",
      "   ---------------------------- ---------- 196.9/265.6 MB 17.7 MB/s eta 0:00:04\n",
      "   ----------------------------- --------- 197.8/265.6 MB 18.2 MB/s eta 0:00:04\n",
      "   ----------------------------- --------- 198.6/265.6 MB 18.2 MB/s eta 0:00:04\n",
      "   ----------------------------- --------- 199.5/265.6 MB 17.7 MB/s eta 0:00:04\n",
      "   ----------------------------- --------- 200.4/265.6 MB 17.7 MB/s eta 0:00:04\n",
      "   ----------------------------- --------- 201.1/265.6 MB 18.2 MB/s eta 0:00:04\n",
      "   ----------------------------- --------- 202.0/265.6 MB 18.2 MB/s eta 0:00:04\n",
      "   ----------------------------- --------- 202.8/265.6 MB 18.2 MB/s eta 0:00:04\n",
      "   ----------------------------- --------- 203.5/265.6 MB 18.2 MB/s eta 0:00:04\n",
      "   ----------------------------- --------- 204.2/265.6 MB 17.7 MB/s eta 0:00:04\n",
      "   ------------------------------ -------- 205.0/265.6 MB 17.7 MB/s eta 0:00:04\n",
      "   ------------------------------ -------- 205.7/265.6 MB 17.2 MB/s eta 0:00:04\n",
      "   ------------------------------ -------- 206.4/265.6 MB 17.3 MB/s eta 0:00:04\n",
      "   ------------------------------ -------- 207.0/265.6 MB 16.8 MB/s eta 0:00:04\n",
      "   ------------------------------ -------- 207.6/265.6 MB 16.4 MB/s eta 0:00:04\n",
      "   ------------------------------ -------- 208.4/265.6 MB 16.4 MB/s eta 0:00:04\n",
      "   ------------------------------ -------- 208.9/265.6 MB 16.0 MB/s eta 0:00:04\n",
      "   ------------------------------ -------- 209.7/265.6 MB 15.6 MB/s eta 0:00:04\n",
      "   ------------------------------ -------- 210.8/265.6 MB 16.0 MB/s eta 0:00:04\n",
      "   ------------------------------- ------- 211.7/265.6 MB 16.4 MB/s eta 0:00:04\n",
      "   ------------------------------- ------- 212.5/265.6 MB 16.4 MB/s eta 0:00:04\n",
      "   ------------------------------- ------- 213.2/265.6 MB 16.0 MB/s eta 0:00:04\n",
      "   ------------------------------- ------- 214.2/265.6 MB 16.8 MB/s eta 0:00:04\n",
      "   ------------------------------- ------- 215.1/265.6 MB 16.8 MB/s eta 0:00:04\n",
      "   ------------------------------- ------- 215.9/265.6 MB 16.8 MB/s eta 0:00:03\n",
      "   ------------------------------- ------- 216.8/265.6 MB 17.2 MB/s eta 0:00:03\n",
      "   ------------------------------- ------- 217.6/265.6 MB 18.2 MB/s eta 0:00:03\n",
      "   -------------------------------- ------ 218.4/265.6 MB 18.2 MB/s eta 0:00:03\n",
      "   -------------------------------- ------ 219.3/265.6 MB 18.7 MB/s eta 0:00:03\n",
      "   -------------------------------- ------ 220.2/265.6 MB 18.7 MB/s eta 0:00:03\n",
      "   -------------------------------- ------ 220.8/265.6 MB 18.2 MB/s eta 0:00:03\n",
      "   -------------------------------- ------ 221.3/265.6 MB 17.7 MB/s eta 0:00:03\n",
      "   -------------------------------- ------ 222.0/265.6 MB 17.7 MB/s eta 0:00:03\n",
      "   -------------------------------- ------ 222.5/265.6 MB 16.8 MB/s eta 0:00:03\n",
      "   -------------------------------- ------ 223.2/265.6 MB 16.8 MB/s eta 0:00:03\n",
      "   -------------------------------- ------ 223.5/265.6 MB 16.8 MB/s eta 0:00:03\n",
      "   --------------------------------- ----- 224.8/265.6 MB 16.4 MB/s eta 0:00:03\n",
      "   --------------------------------- ----- 225.6/265.6 MB 16.4 MB/s eta 0:00:03\n",
      "   --------------------------------- ----- 226.5/265.6 MB 16.4 MB/s eta 0:00:03\n",
      "   --------------------------------- ----- 227.3/265.6 MB 16.4 MB/s eta 0:00:03\n",
      "   --------------------------------- ----- 228.2/265.6 MB 16.4 MB/s eta 0:00:03\n",
      "   --------------------------------- ----- 229.0/265.6 MB 16.4 MB/s eta 0:00:03\n",
      "   --------------------------------- ----- 229.9/265.6 MB 16.4 MB/s eta 0:00:03\n",
      "   --------------------------------- ----- 230.7/265.6 MB 16.4 MB/s eta 0:00:03\n",
      "   --------------------------------- ----- 231.4/265.6 MB 16.8 MB/s eta 0:00:03\n",
      "   ---------------------------------- ---- 232.3/265.6 MB 17.2 MB/s eta 0:00:02\n",
      "   ---------------------------------- ---- 233.1/265.6 MB 17.7 MB/s eta 0:00:02\n",
      "   ---------------------------------- ---- 234.0/265.6 MB 19.3 MB/s eta 0:00:02\n",
      "   ---------------------------------- ---- 234.9/265.6 MB 17.7 MB/s eta 0:00:02\n",
      "   ---------------------------------- ---- 235.7/265.6 MB 17.7 MB/s eta 0:00:02\n",
      "   ---------------------------------- ---- 236.6/265.6 MB 17.7 MB/s eta 0:00:02\n",
      "   ---------------------------------- ---- 237.4/265.6 MB 18.2 MB/s eta 0:00:02\n",
      "   ---------------------------------- ---- 238.2/265.6 MB 17.7 MB/s eta 0:00:02\n",
      "   ----------------------------------- --- 239.1/265.6 MB 17.7 MB/s eta 0:00:02\n",
      "   ----------------------------------- --- 239.3/265.6 MB 16.8 MB/s eta 0:00:02\n",
      "   ----------------------------------- --- 240.2/265.6 MB 16.8 MB/s eta 0:00:02\n",
      "   ----------------------------------- --- 241.0/265.6 MB 16.8 MB/s eta 0:00:02\n",
      "   ----------------------------------- --- 241.9/265.6 MB 17.2 MB/s eta 0:00:02\n",
      "   ----------------------------------- --- 242.3/265.6 MB 16.4 MB/s eta 0:00:02\n",
      "   ----------------------------------- --- 243.2/265.6 MB 16.4 MB/s eta 0:00:02\n",
      "   ----------------------------------- --- 244.1/265.6 MB 16.4 MB/s eta 0:00:02\n",
      "   ----------------------------------- --- 244.9/265.6 MB 16.4 MB/s eta 0:00:02\n",
      "   ------------------------------------ -- 245.8/265.6 MB 16.4 MB/s eta 0:00:02\n",
      "   ------------------------------------ -- 246.4/265.6 MB 16.4 MB/s eta 0:00:02\n",
      "   ------------------------------------ -- 247.3/265.6 MB 16.4 MB/s eta 0:00:02\n",
      "   ------------------------------------ -- 248.1/265.6 MB 16.0 MB/s eta 0:00:02\n",
      "   ------------------------------------ -- 248.8/265.6 MB 16.4 MB/s eta 0:00:02\n",
      "   ------------------------------------ -- 249.8/265.6 MB 16.8 MB/s eta 0:00:01\n",
      "   ------------------------------------ -- 250.6/265.6 MB 16.8 MB/s eta 0:00:01\n",
      "   ------------------------------------ -- 251.5/265.6 MB 16.8 MB/s eta 0:00:01\n",
      "   ------------------------------------- - 252.3/265.6 MB 16.8 MB/s eta 0:00:01\n",
      "   ------------------------------------- - 253.2/265.6 MB 17.7 MB/s eta 0:00:01\n",
      "   ------------------------------------- - 254.0/265.6 MB 17.7 MB/s eta 0:00:01\n",
      "   ------------------------------------- - 254.9/265.6 MB 18.2 MB/s eta 0:00:01\n",
      "   ------------------------------------- - 255.5/265.6 MB 17.7 MB/s eta 0:00:01\n",
      "   ------------------------------------- - 256.0/265.6 MB 16.8 MB/s eta 0:00:01\n",
      "   ------------------------------------- - 256.8/265.6 MB 17.2 MB/s eta 0:00:01\n",
      "   ------------------------------------- - 257.7/265.6 MB 16.8 MB/s eta 0:00:01\n",
      "   ------------------------------------- - 258.6/265.6 MB 17.2 MB/s eta 0:00:01\n",
      "   --------------------------------------  259.4/265.6 MB 17.7 MB/s eta 0:00:01\n",
      "   --------------------------------------  260.2/265.6 MB 17.7 MB/s eta 0:00:01\n",
      "   --------------------------------------  261.1/265.6 MB 17.2 MB/s eta 0:00:01\n",
      "   --------------------------------------  261.7/265.6 MB 17.3 MB/s eta 0:00:01\n",
      "   --------------------------------------  262.6/265.6 MB 17.3 MB/s eta 0:00:01\n",
      "   --------------------------------------  263.4/265.6 MB 17.2 MB/s eta 0:00:01\n",
      "   --------------------------------------  264.2/265.6 MB 17.2 MB/s eta 0:00:01\n",
      "   --------------------------------------  265.1/265.6 MB 16.8 MB/s eta 0:00:01\n",
      "   --------------------------------------  265.6/265.6 MB 16.8 MB/s eta 0:00:01\n",
      "   --------------------------------------  265.6/265.6 MB 16.8 MB/s eta 0:00:01\n",
      "   --------------------------------------  265.6/265.6 MB 16.8 MB/s eta 0:00:01\n",
      "   --------------------------------------  265.6/265.6 MB 16.8 MB/s eta 0:00:01\n",
      "   --------------------------------------  265.6/265.6 MB 16.8 MB/s eta 0:00:01\n",
      "   --------------------------------------  265.6/265.6 MB 16.8 MB/s eta 0:00:01\n",
      "   --------------------------------------  265.6/265.6 MB 16.8 MB/s eta 0:00:01\n",
      "   --------------------------------------  265.6/265.6 MB 16.8 MB/s eta 0:00:01\n",
      "   --------------------------------------  265.6/265.6 MB 16.8 MB/s eta 0:00:01\n",
      "   --------------------------------------  265.6/265.6 MB 16.8 MB/s eta 0:00:01\n",
      "   --------------------------------------  265.6/265.6 MB 16.8 MB/s eta 0:00:01\n",
      "   --------------------------------------  265.6/265.6 MB 16.8 MB/s eta 0:00:01\n",
      "   --------------------------------------  265.6/265.6 MB 16.8 MB/s eta 0:00:01\n",
      "   --------------------------------------  265.6/265.6 MB 16.8 MB/s eta 0:00:01\n",
      "   --------------------------------------  265.6/265.6 MB 16.8 MB/s eta 0:00:01\n",
      "   --------------------------------------  265.6/265.6 MB 16.8 MB/s eta 0:00:01\n",
      "   --------------------------------------  265.6/265.6 MB 16.8 MB/s eta 0:00:01\n",
      "   --------------------------------------  265.6/265.6 MB 16.8 MB/s eta 0:00:01\n",
      "   ---------------------------------------- 265.6/265.6 MB 6.3 MB/s eta 0:00:00\n",
      "Installing collected packages: h2o\n",
      "Successfully installed h2o-3.46.0.1\n"
     ]
    }
   ],
   "source": [
    "# installing h2o\n",
    "#!pip install h2o"
   ],
   "metadata": {
    "collapsed": false,
    "ExecuteTime": {
     "end_time": "2024-04-16T21:30:14.086132Z",
     "start_time": "2024-04-16T21:29:50.600071Z"
    }
   },
   "id": "cb34762d550cf841",
   "execution_count": 10
  },
  {
   "cell_type": "code",
   "outputs": [
    {
     "name": "stdout",
     "output_type": "stream",
     "text": [
      "Checking whether there is an H2O instance running at http://localhost:54321..... not found.\n",
      "Attempting to start a local H2O server...\n",
      "; Java HotSpot(TM) 64-Bit Server VM (build 17.0.8+9-LTS-211, mixed mode, sharing)\n",
      "  Starting server from C:\\Users\\domin\\anaconda3\\Lib\\site-packages\\h2o\\backend\\bin\\h2o.jar\n",
      "  Ice root: C:\\Users\\domin\\AppData\\Local\\Temp\\tmp69o0qzm9\n",
      "  JVM stdout: C:\\Users\\domin\\AppData\\Local\\Temp\\tmp69o0qzm9\\h2o_domin_started_from_python.out\n",
      "  JVM stderr: C:\\Users\\domin\\AppData\\Local\\Temp\\tmp69o0qzm9\\h2o_domin_started_from_python.err\n",
      "  Server is running at http://127.0.0.1:54321\n",
      "Connecting to H2O server at http://127.0.0.1:54321 ... successful.\n"
     ]
    },
    {
     "data": {
      "text/plain": "--------------------------  -----------------------------\nH2O_cluster_uptime:         01 secs\nH2O_cluster_timezone:       Europe/Warsaw\nH2O_data_parsing_timezone:  UTC\nH2O_cluster_version:        3.46.0.1\nH2O_cluster_version_age:    1 month and 3 days\nH2O_cluster_name:           H2O_from_python_domin_jyfv7f\nH2O_cluster_total_nodes:    1\nH2O_cluster_free_memory:    3.465 Gb\nH2O_cluster_total_cores:    16\nH2O_cluster_allowed_cores:  16\nH2O_cluster_status:         locked, healthy\nH2O_connection_url:         http://127.0.0.1:54321\nH2O_connection_proxy:       {\"http\": null, \"https\": null}\nH2O_internal_security:      False\nPython_version:             3.11.4 final\n--------------------------  -----------------------------",
      "text/html": "\n<style>\n\n#h2o-table-1.h2o-container {\n  overflow-x: auto;\n}\n#h2o-table-1 .h2o-table {\n  /* width: 100%; */\n  margin-top: 1em;\n  margin-bottom: 1em;\n}\n#h2o-table-1 .h2o-table caption {\n  white-space: nowrap;\n  caption-side: top;\n  text-align: left;\n  /* margin-left: 1em; */\n  margin: 0;\n  font-size: larger;\n}\n#h2o-table-1 .h2o-table thead {\n  white-space: nowrap; \n  position: sticky;\n  top: 0;\n  box-shadow: 0 -1px inset;\n}\n#h2o-table-1 .h2o-table tbody {\n  overflow: auto;\n}\n#h2o-table-1 .h2o-table th,\n#h2o-table-1 .h2o-table td {\n  text-align: right;\n  /* border: 1px solid; */\n}\n#h2o-table-1 .h2o-table tr:nth-child(even) {\n  /* background: #F5F5F5 */\n}\n\n</style>      \n<div id=\"h2o-table-1\" class=\"h2o-container\">\n  <table class=\"h2o-table\">\n    <caption></caption>\n    <thead></thead>\n    <tbody><tr><td>H2O_cluster_uptime:</td>\n<td>01 secs</td></tr>\n<tr><td>H2O_cluster_timezone:</td>\n<td>Europe/Warsaw</td></tr>\n<tr><td>H2O_data_parsing_timezone:</td>\n<td>UTC</td></tr>\n<tr><td>H2O_cluster_version:</td>\n<td>3.46.0.1</td></tr>\n<tr><td>H2O_cluster_version_age:</td>\n<td>1 month and 3 days</td></tr>\n<tr><td>H2O_cluster_name:</td>\n<td>H2O_from_python_domin_jyfv7f</td></tr>\n<tr><td>H2O_cluster_total_nodes:</td>\n<td>1</td></tr>\n<tr><td>H2O_cluster_free_memory:</td>\n<td>3.465 Gb</td></tr>\n<tr><td>H2O_cluster_total_cores:</td>\n<td>16</td></tr>\n<tr><td>H2O_cluster_allowed_cores:</td>\n<td>16</td></tr>\n<tr><td>H2O_cluster_status:</td>\n<td>locked, healthy</td></tr>\n<tr><td>H2O_connection_url:</td>\n<td>http://127.0.0.1:54321</td></tr>\n<tr><td>H2O_connection_proxy:</td>\n<td>{\"http\": null, \"https\": null}</td></tr>\n<tr><td>H2O_internal_security:</td>\n<td>False</td></tr>\n<tr><td>Python_version:</td>\n<td>3.11.4 final</td></tr></tbody>\n  </table>\n</div>\n"
     },
     "metadata": {},
     "output_type": "display_data"
    }
   ],
   "source": [
    "import h2o\n",
    "h2o.init()"
   ],
   "metadata": {
    "collapsed": false,
    "ExecuteTime": {
     "end_time": "2024-04-16T21:34:13.998013Z",
     "start_time": "2024-04-16T21:33:49.329409Z"
    }
   },
   "id": "964de21d95fb4458",
   "execution_count": 12
  },
  {
   "cell_type": "markdown",
   "source": [
    "for h2o we need to have a dataset with our target column - it's a lot of work so I will skip this model"
   ],
   "metadata": {
    "collapsed": false
   },
   "id": "ad1adfa0d7d6adb7"
  },
  {
   "cell_type": "code",
   "outputs": [
    {
     "name": "stdout",
     "output_type": "stream",
     "text": [
      "Parse progress: |████████████████████████████████████████████████████████████████| (done) 100%\n"
     ]
    },
    {
     "ename": "H2OTypeError",
     "evalue": "Argument `y` should be an integer | string, got Series 0      0\n1      0\n2      0\n3      0\n4      0\n      ..\n465    0\n466    0\n467    0\n468    0\n469    0\nName: DEFAULT, Length: 470, dtype: int64",
     "output_type": "error",
     "traceback": [
      "\u001B[1;31m---------------------------------------------------------------------------\u001B[0m",
      "\u001B[1;31mH2OTypeError\u001B[0m                              Traceback (most recent call last)",
      "Cell \u001B[1;32mIn[21], line 5\u001B[0m\n\u001B[0;32m      3\u001B[0m h2o_train \u001B[38;5;241m=\u001B[39m h2o\u001B[38;5;241m.\u001B[39mH2OFrame(df_train)\n\u001B[0;32m      4\u001B[0m h20_automl \u001B[38;5;241m=\u001B[39m H2OAutoML(max_runtime_secs\u001B[38;5;241m=\u001B[39m\u001B[38;5;241m3600\u001B[39m, max_models\u001B[38;5;241m=\u001B[39m\u001B[38;5;241m20\u001B[39m, seed\u001B[38;5;241m=\u001B[39m\u001B[38;5;241m1\u001B[39m)\n\u001B[1;32m----> 5\u001B[0m h20_automl\u001B[38;5;241m.\u001B[39mtrain(x\u001B[38;5;241m=\u001B[39mX, y\u001B[38;5;241m=\u001B[39my, training_frame\u001B[38;5;241m=\u001B[39mh2o_train)\n",
      "File \u001B[1;32m~\\anaconda3\\Lib\\site-packages\\h2o\\automl\\_estimator.py:624\u001B[0m, in \u001B[0;36mH2OAutoML.train\u001B[1;34m(self, x, y, training_frame, fold_column, weights_column, validation_frame, leaderboard_frame, blending_frame)\u001B[0m\n\u001B[0;32m    622\u001B[0m     \u001B[38;5;28;01mraise\u001B[39;00m H2OValueError(\u001B[38;5;124m'\u001B[39m\u001B[38;5;124mThe response column (y) is not set; please set it to the name of the column that you are trying to predict in your data.\u001B[39m\u001B[38;5;124m'\u001B[39m)\n\u001B[0;32m    623\u001B[0m \u001B[38;5;28;01melif\u001B[39;00m y \u001B[38;5;129;01mis\u001B[39;00m \u001B[38;5;129;01mnot\u001B[39;00m \u001B[38;5;28;01mNone\u001B[39;00m:\n\u001B[1;32m--> 624\u001B[0m     assert_is_type(y, \u001B[38;5;28mint\u001B[39m, \u001B[38;5;28mstr\u001B[39m)\n\u001B[0;32m    625\u001B[0m     \u001B[38;5;28;01mif\u001B[39;00m is_type(y, \u001B[38;5;28mint\u001B[39m):\n\u001B[0;32m    626\u001B[0m         \u001B[38;5;28;01mif\u001B[39;00m \u001B[38;5;129;01mnot\u001B[39;00m (\u001B[38;5;241m-\u001B[39mncols \u001B[38;5;241m<\u001B[39m\u001B[38;5;241m=\u001B[39m y \u001B[38;5;241m<\u001B[39m ncols):\n",
      "File \u001B[1;32m~\\anaconda3\\Lib\\site-packages\\h2o\\utils\\typechecks.py:444\u001B[0m, in \u001B[0;36massert_is_type\u001B[1;34m(var, *types, **kwargs)\u001B[0m\n\u001B[0;32m    442\u001B[0m etn \u001B[38;5;241m=\u001B[39m _get_type_name(expected_type, dump\u001B[38;5;241m=\u001B[39m\u001B[38;5;124m\"\u001B[39m\u001B[38;5;124m, \u001B[39m\u001B[38;5;124m\"\u001B[39m\u001B[38;5;241m.\u001B[39mjoin(args[\u001B[38;5;241m1\u001B[39m:]))\n\u001B[0;32m    443\u001B[0m vtn \u001B[38;5;241m=\u001B[39m _get_type_name(\u001B[38;5;28mtype\u001B[39m(var))\n\u001B[1;32m--> 444\u001B[0m \u001B[38;5;28;01mraise\u001B[39;00m H2OTypeError(var_name\u001B[38;5;241m=\u001B[39mvname, var_value\u001B[38;5;241m=\u001B[39mvar, var_type_name\u001B[38;5;241m=\u001B[39mvtn, exp_type_name\u001B[38;5;241m=\u001B[39metn, message\u001B[38;5;241m=\u001B[39mmessage,\n\u001B[0;32m    445\u001B[0m                    skip_frames\u001B[38;5;241m=\u001B[39mskip_frames)\n",
      "\u001B[1;31mH2OTypeError\u001B[0m: Argument `y` should be an integer | string, got Series 0      0\n1      0\n2      0\n3      0\n4      0\n      ..\n465    0\n466    0\n467    0\n468    0\n469    0\nName: DEFAULT, Length: 470, dtype: int64"
     ]
    }
   ],
   "source": [
    "#setting up h2o\n",
    "from h2o.automl import H2OAutoML\n",
    "h2o_train = h2o.H2OFrame(df_train_h2o)\n",
    "h20_automl = H2OAutoML(max_runtime_secs=3600, max_models=20, seed=1)\n",
    "h20_automl.train(x=X_h2o, y=y_h2o, training_frame=h2o_train)"
   ],
   "metadata": {
    "collapsed": false,
    "ExecuteTime": {
     "end_time": "2024-04-16T21:35:35.869258Z",
     "start_time": "2024-04-16T21:35:35.535256Z"
    }
   },
   "id": "46c10a185c178033",
   "execution_count": 21
  },
  {
   "cell_type": "code",
   "outputs": [],
   "source": [
    "# evaluating h2o\n"
   ],
   "metadata": {
    "collapsed": false
   },
   "id": "dd9ee78b08d4ab61"
  },
  {
   "cell_type": "markdown",
   "source": [],
   "metadata": {
    "collapsed": false
   },
   "id": "e3a5c653de46372f"
  },
  {
   "cell_type": "markdown",
   "source": [
    "# XGBoost"
   ],
   "metadata": {
    "collapsed": false
   },
   "id": "aac0907bddf1c315"
  },
  {
   "cell_type": "code",
   "outputs": [
    {
     "name": "stdout",
     "output_type": "stream",
     "text": [
      "Requirement already satisfied: xgboost in c:\\users\\domin\\anaconda3\\lib\\site-packages (2.0.3)\n",
      "Requirement already satisfied: numpy in c:\\users\\domin\\anaconda3\\lib\\site-packages (from xgboost) (1.24.3)\n",
      "Requirement already satisfied: scipy in c:\\users\\domin\\anaconda3\\lib\\site-packages (from xgboost) (1.10.1)\n"
     ]
    }
   ],
   "source": [
    "# installing xgboost\n",
    "#!pip install xgboost"
   ],
   "metadata": {
    "collapsed": false,
    "ExecuteTime": {
     "end_time": "2024-04-16T21:48:53.003795Z",
     "start_time": "2024-04-16T21:48:46.386412Z"
    }
   },
   "id": "78527af62e6add34",
   "execution_count": 23
  },
  {
   "cell_type": "code",
   "outputs": [],
   "source": [
    "import xgboost as xgb"
   ],
   "metadata": {
    "collapsed": false,
    "ExecuteTime": {
     "end_time": "2024-04-16T21:50:43.342869Z",
     "start_time": "2024-04-16T21:50:43.264102Z"
    }
   },
   "id": "a0e25abc44226844",
   "execution_count": 30
  },
  {
   "cell_type": "code",
   "outputs": [
    {
     "data": {
      "text/plain": "XGBClassifier(base_score=None, booster=None, callbacks=None,\n              colsample_bylevel=None, colsample_bynode=None,\n              colsample_bytree=0.8, device=None, early_stopping_rounds=None,\n              enable_categorical=False, eval_metric=None, feature_types=None,\n              gamma=0, grow_policy=None, importance_type=None,\n              interaction_constraints=None, learning_rate=0.05, max_bin=None,\n              max_cat_threshold=None, max_cat_to_onehot=None,\n              max_delta_step=None, max_depth=5, max_leaves=None,\n              min_child_weight=1, missing=nan, monotone_constraints=None,\n              multi_strategy=None, n_estimators=100, n_jobs=None, nthread=1,\n              num_parallel_tree=None, ...)",
      "text/html": "<style>#sk-container-id-9 {\n  /* Definition of color scheme common for light and dark mode */\n  --sklearn-color-text: black;\n  --sklearn-color-line: gray;\n  /* Definition of color scheme for unfitted estimators */\n  --sklearn-color-unfitted-level-0: #fff5e6;\n  --sklearn-color-unfitted-level-1: #f6e4d2;\n  --sklearn-color-unfitted-level-2: #ffe0b3;\n  --sklearn-color-unfitted-level-3: chocolate;\n  /* Definition of color scheme for fitted estimators */\n  --sklearn-color-fitted-level-0: #f0f8ff;\n  --sklearn-color-fitted-level-1: #d4ebff;\n  --sklearn-color-fitted-level-2: #b3dbfd;\n  --sklearn-color-fitted-level-3: cornflowerblue;\n\n  /* Specific color for light theme */\n  --sklearn-color-text-on-default-background: var(--sg-text-color, var(--theme-code-foreground, var(--jp-content-font-color1, black)));\n  --sklearn-color-background: var(--sg-background-color, var(--theme-background, var(--jp-layout-color0, white)));\n  --sklearn-color-border-box: var(--sg-text-color, var(--theme-code-foreground, var(--jp-content-font-color1, black)));\n  --sklearn-color-icon: #696969;\n\n  @media (prefers-color-scheme: dark) {\n    /* Redefinition of color scheme for dark theme */\n    --sklearn-color-text-on-default-background: var(--sg-text-color, var(--theme-code-foreground, var(--jp-content-font-color1, white)));\n    --sklearn-color-background: var(--sg-background-color, var(--theme-background, var(--jp-layout-color0, #111)));\n    --sklearn-color-border-box: var(--sg-text-color, var(--theme-code-foreground, var(--jp-content-font-color1, white)));\n    --sklearn-color-icon: #878787;\n  }\n}\n\n#sk-container-id-9 {\n  color: var(--sklearn-color-text);\n}\n\n#sk-container-id-9 pre {\n  padding: 0;\n}\n\n#sk-container-id-9 input.sk-hidden--visually {\n  border: 0;\n  clip: rect(1px 1px 1px 1px);\n  clip: rect(1px, 1px, 1px, 1px);\n  height: 1px;\n  margin: -1px;\n  overflow: hidden;\n  padding: 0;\n  position: absolute;\n  width: 1px;\n}\n\n#sk-container-id-9 div.sk-dashed-wrapped {\n  border: 1px dashed var(--sklearn-color-line);\n  margin: 0 0.4em 0.5em 0.4em;\n  box-sizing: border-box;\n  padding-bottom: 0.4em;\n  background-color: var(--sklearn-color-background);\n}\n\n#sk-container-id-9 div.sk-container {\n  /* jupyter's `normalize.less` sets `[hidden] { display: none; }`\n     but bootstrap.min.css set `[hidden] { display: none !important; }`\n     so we also need the `!important` here to be able to override the\n     default hidden behavior on the sphinx rendered scikit-learn.org.\n     See: https://github.com/scikit-learn/scikit-learn/issues/21755 */\n  display: inline-block !important;\n  position: relative;\n}\n\n#sk-container-id-9 div.sk-text-repr-fallback {\n  display: none;\n}\n\ndiv.sk-parallel-item,\ndiv.sk-serial,\ndiv.sk-item {\n  /* draw centered vertical line to link estimators */\n  background-image: linear-gradient(var(--sklearn-color-text-on-default-background), var(--sklearn-color-text-on-default-background));\n  background-size: 2px 100%;\n  background-repeat: no-repeat;\n  background-position: center center;\n}\n\n/* Parallel-specific style estimator block */\n\n#sk-container-id-9 div.sk-parallel-item::after {\n  content: \"\";\n  width: 100%;\n  border-bottom: 2px solid var(--sklearn-color-text-on-default-background);\n  flex-grow: 1;\n}\n\n#sk-container-id-9 div.sk-parallel {\n  display: flex;\n  align-items: stretch;\n  justify-content: center;\n  background-color: var(--sklearn-color-background);\n  position: relative;\n}\n\n#sk-container-id-9 div.sk-parallel-item {\n  display: flex;\n  flex-direction: column;\n}\n\n#sk-container-id-9 div.sk-parallel-item:first-child::after {\n  align-self: flex-end;\n  width: 50%;\n}\n\n#sk-container-id-9 div.sk-parallel-item:last-child::after {\n  align-self: flex-start;\n  width: 50%;\n}\n\n#sk-container-id-9 div.sk-parallel-item:only-child::after {\n  width: 0;\n}\n\n/* Serial-specific style estimator block */\n\n#sk-container-id-9 div.sk-serial {\n  display: flex;\n  flex-direction: column;\n  align-items: center;\n  background-color: var(--sklearn-color-background);\n  padding-right: 1em;\n  padding-left: 1em;\n}\n\n\n/* Toggleable style: style used for estimator/Pipeline/ColumnTransformer box that is\nclickable and can be expanded/collapsed.\n- Pipeline and ColumnTransformer use this feature and define the default style\n- Estimators will overwrite some part of the style using the `sk-estimator` class\n*/\n\n/* Pipeline and ColumnTransformer style (default) */\n\n#sk-container-id-9 div.sk-toggleable {\n  /* Default theme specific background. It is overwritten whether we have a\n  specific estimator or a Pipeline/ColumnTransformer */\n  background-color: var(--sklearn-color-background);\n}\n\n/* Toggleable label */\n#sk-container-id-9 label.sk-toggleable__label {\n  cursor: pointer;\n  display: block;\n  width: 100%;\n  margin-bottom: 0;\n  padding: 0.5em;\n  box-sizing: border-box;\n  text-align: center;\n}\n\n#sk-container-id-9 label.sk-toggleable__label-arrow:before {\n  /* Arrow on the left of the label */\n  content: \"▸\";\n  float: left;\n  margin-right: 0.25em;\n  color: var(--sklearn-color-icon);\n}\n\n#sk-container-id-9 label.sk-toggleable__label-arrow:hover:before {\n  color: var(--sklearn-color-text);\n}\n\n/* Toggleable content - dropdown */\n\n#sk-container-id-9 div.sk-toggleable__content {\n  max-height: 0;\n  max-width: 0;\n  overflow: hidden;\n  text-align: left;\n  /* unfitted */\n  background-color: var(--sklearn-color-unfitted-level-0);\n}\n\n#sk-container-id-9 div.sk-toggleable__content.fitted {\n  /* fitted */\n  background-color: var(--sklearn-color-fitted-level-0);\n}\n\n#sk-container-id-9 div.sk-toggleable__content pre {\n  margin: 0.2em;\n  border-radius: 0.25em;\n  color: var(--sklearn-color-text);\n  /* unfitted */\n  background-color: var(--sklearn-color-unfitted-level-0);\n}\n\n#sk-container-id-9 div.sk-toggleable__content.fitted pre {\n  /* unfitted */\n  background-color: var(--sklearn-color-fitted-level-0);\n}\n\n#sk-container-id-9 input.sk-toggleable__control:checked~div.sk-toggleable__content {\n  /* Expand drop-down */\n  max-height: 200px;\n  max-width: 100%;\n  overflow: auto;\n}\n\n#sk-container-id-9 input.sk-toggleable__control:checked~label.sk-toggleable__label-arrow:before {\n  content: \"▾\";\n}\n\n/* Pipeline/ColumnTransformer-specific style */\n\n#sk-container-id-9 div.sk-label input.sk-toggleable__control:checked~label.sk-toggleable__label {\n  color: var(--sklearn-color-text);\n  background-color: var(--sklearn-color-unfitted-level-2);\n}\n\n#sk-container-id-9 div.sk-label.fitted input.sk-toggleable__control:checked~label.sk-toggleable__label {\n  background-color: var(--sklearn-color-fitted-level-2);\n}\n\n/* Estimator-specific style */\n\n/* Colorize estimator box */\n#sk-container-id-9 div.sk-estimator input.sk-toggleable__control:checked~label.sk-toggleable__label {\n  /* unfitted */\n  background-color: var(--sklearn-color-unfitted-level-2);\n}\n\n#sk-container-id-9 div.sk-estimator.fitted input.sk-toggleable__control:checked~label.sk-toggleable__label {\n  /* fitted */\n  background-color: var(--sklearn-color-fitted-level-2);\n}\n\n#sk-container-id-9 div.sk-label label.sk-toggleable__label,\n#sk-container-id-9 div.sk-label label {\n  /* The background is the default theme color */\n  color: var(--sklearn-color-text-on-default-background);\n}\n\n/* On hover, darken the color of the background */\n#sk-container-id-9 div.sk-label:hover label.sk-toggleable__label {\n  color: var(--sklearn-color-text);\n  background-color: var(--sklearn-color-unfitted-level-2);\n}\n\n/* Label box, darken color on hover, fitted */\n#sk-container-id-9 div.sk-label.fitted:hover label.sk-toggleable__label.fitted {\n  color: var(--sklearn-color-text);\n  background-color: var(--sklearn-color-fitted-level-2);\n}\n\n/* Estimator label */\n\n#sk-container-id-9 div.sk-label label {\n  font-family: monospace;\n  font-weight: bold;\n  display: inline-block;\n  line-height: 1.2em;\n}\n\n#sk-container-id-9 div.sk-label-container {\n  text-align: center;\n}\n\n/* Estimator-specific */\n#sk-container-id-9 div.sk-estimator {\n  font-family: monospace;\n  border: 1px dotted var(--sklearn-color-border-box);\n  border-radius: 0.25em;\n  box-sizing: border-box;\n  margin-bottom: 0.5em;\n  /* unfitted */\n  background-color: var(--sklearn-color-unfitted-level-0);\n}\n\n#sk-container-id-9 div.sk-estimator.fitted {\n  /* fitted */\n  background-color: var(--sklearn-color-fitted-level-0);\n}\n\n/* on hover */\n#sk-container-id-9 div.sk-estimator:hover {\n  /* unfitted */\n  background-color: var(--sklearn-color-unfitted-level-2);\n}\n\n#sk-container-id-9 div.sk-estimator.fitted:hover {\n  /* fitted */\n  background-color: var(--sklearn-color-fitted-level-2);\n}\n\n/* Specification for estimator info (e.g. \"i\" and \"?\") */\n\n/* Common style for \"i\" and \"?\" */\n\n.sk-estimator-doc-link,\na:link.sk-estimator-doc-link,\na:visited.sk-estimator-doc-link {\n  float: right;\n  font-size: smaller;\n  line-height: 1em;\n  font-family: monospace;\n  background-color: var(--sklearn-color-background);\n  border-radius: 1em;\n  height: 1em;\n  width: 1em;\n  text-decoration: none !important;\n  margin-left: 1ex;\n  /* unfitted */\n  border: var(--sklearn-color-unfitted-level-1) 1pt solid;\n  color: var(--sklearn-color-unfitted-level-1);\n}\n\n.sk-estimator-doc-link.fitted,\na:link.sk-estimator-doc-link.fitted,\na:visited.sk-estimator-doc-link.fitted {\n  /* fitted */\n  border: var(--sklearn-color-fitted-level-1) 1pt solid;\n  color: var(--sklearn-color-fitted-level-1);\n}\n\n/* On hover */\ndiv.sk-estimator:hover .sk-estimator-doc-link:hover,\n.sk-estimator-doc-link:hover,\ndiv.sk-label-container:hover .sk-estimator-doc-link:hover,\n.sk-estimator-doc-link:hover {\n  /* unfitted */\n  background-color: var(--sklearn-color-unfitted-level-3);\n  color: var(--sklearn-color-background);\n  text-decoration: none;\n}\n\ndiv.sk-estimator.fitted:hover .sk-estimator-doc-link.fitted:hover,\n.sk-estimator-doc-link.fitted:hover,\ndiv.sk-label-container:hover .sk-estimator-doc-link.fitted:hover,\n.sk-estimator-doc-link.fitted:hover {\n  /* fitted */\n  background-color: var(--sklearn-color-fitted-level-3);\n  color: var(--sklearn-color-background);\n  text-decoration: none;\n}\n\n/* Span, style for the box shown on hovering the info icon */\n.sk-estimator-doc-link span {\n  display: none;\n  z-index: 9999;\n  position: relative;\n  font-weight: normal;\n  right: .2ex;\n  padding: .5ex;\n  margin: .5ex;\n  width: min-content;\n  min-width: 20ex;\n  max-width: 50ex;\n  color: var(--sklearn-color-text);\n  box-shadow: 2pt 2pt 4pt #999;\n  /* unfitted */\n  background: var(--sklearn-color-unfitted-level-0);\n  border: .5pt solid var(--sklearn-color-unfitted-level-3);\n}\n\n.sk-estimator-doc-link.fitted span {\n  /* fitted */\n  background: var(--sklearn-color-fitted-level-0);\n  border: var(--sklearn-color-fitted-level-3);\n}\n\n.sk-estimator-doc-link:hover span {\n  display: block;\n}\n\n/* \"?\"-specific style due to the `<a>` HTML tag */\n\n#sk-container-id-9 a.estimator_doc_link {\n  float: right;\n  font-size: 1rem;\n  line-height: 1em;\n  font-family: monospace;\n  background-color: var(--sklearn-color-background);\n  border-radius: 1rem;\n  height: 1rem;\n  width: 1rem;\n  text-decoration: none;\n  /* unfitted */\n  color: var(--sklearn-color-unfitted-level-1);\n  border: var(--sklearn-color-unfitted-level-1) 1pt solid;\n}\n\n#sk-container-id-9 a.estimator_doc_link.fitted {\n  /* fitted */\n  border: var(--sklearn-color-fitted-level-1) 1pt solid;\n  color: var(--sklearn-color-fitted-level-1);\n}\n\n/* On hover */\n#sk-container-id-9 a.estimator_doc_link:hover {\n  /* unfitted */\n  background-color: var(--sklearn-color-unfitted-level-3);\n  color: var(--sklearn-color-background);\n  text-decoration: none;\n}\n\n#sk-container-id-9 a.estimator_doc_link.fitted:hover {\n  /* fitted */\n  background-color: var(--sklearn-color-fitted-level-3);\n}\n</style><div id=\"sk-container-id-9\" class=\"sk-top-container\"><div class=\"sk-text-repr-fallback\"><pre>XGBClassifier(base_score=None, booster=None, callbacks=None,\n              colsample_bylevel=None, colsample_bynode=None,\n              colsample_bytree=0.8, device=None, early_stopping_rounds=None,\n              enable_categorical=False, eval_metric=None, feature_types=None,\n              gamma=0, grow_policy=None, importance_type=None,\n              interaction_constraints=None, learning_rate=0.05, max_bin=None,\n              max_cat_threshold=None, max_cat_to_onehot=None,\n              max_delta_step=None, max_depth=5, max_leaves=None,\n              min_child_weight=1, missing=nan, monotone_constraints=None,\n              multi_strategy=None, n_estimators=100, n_jobs=None, nthread=1,\n              num_parallel_tree=None, ...)</pre><b>In a Jupyter environment, please rerun this cell to show the HTML representation or trust the notebook. <br />On GitHub, the HTML representation is unable to render, please try loading this page with nbviewer.org.</b></div><div class=\"sk-container\" hidden><div class=\"sk-item\"><div class=\"sk-estimator fitted sk-toggleable\"><input class=\"sk-toggleable__control sk-hidden--visually\" id=\"sk-estimator-id-9\" type=\"checkbox\" checked><label for=\"sk-estimator-id-9\" class=\"sk-toggleable__label fitted sk-toggleable__label-arrow fitted\">&nbsp;XGBClassifier<span class=\"sk-estimator-doc-link fitted\">i<span>Fitted</span></span></label><div class=\"sk-toggleable__content fitted\"><pre>XGBClassifier(base_score=None, booster=None, callbacks=None,\n              colsample_bylevel=None, colsample_bynode=None,\n              colsample_bytree=0.8, device=None, early_stopping_rounds=None,\n              enable_categorical=False, eval_metric=None, feature_types=None,\n              gamma=0, grow_policy=None, importance_type=None,\n              interaction_constraints=None, learning_rate=0.05, max_bin=None,\n              max_cat_threshold=None, max_cat_to_onehot=None,\n              max_delta_step=None, max_depth=5, max_leaves=None,\n              min_child_weight=1, missing=nan, monotone_constraints=None,\n              multi_strategy=None, n_estimators=100, n_jobs=None, nthread=1,\n              num_parallel_tree=None, ...)</pre></div> </div></div></div></div>"
     },
     "execution_count": 47,
     "metadata": {},
     "output_type": "execute_result"
    }
   ],
   "source": [
    "#setting up xgboost\n",
    "model_xgb = xgb.XGBClassifier(objective='binary:logistic', n_estimators=100, learning_rate=0.05, max_depth=5, min_child_weight=1, gamma=0, subsample=0.8, colsample_bytree=0.8, scale_pos_weight=1, seed=27, nthread=1)\n",
    "model_xgb.fit(X, y)"
   ],
   "metadata": {
    "collapsed": false,
    "ExecuteTime": {
     "end_time": "2024-04-16T21:57:12.966750Z",
     "start_time": "2024-04-16T21:57:12.637897Z"
    }
   },
   "id": "9c4bcb374a0c8650",
   "execution_count": 47
  },
  {
   "cell_type": "code",
   "outputs": [
    {
     "name": "stdout",
     "output_type": "stream",
     "text": [
      "Accuracy: 0.6304347826086957\n"
     ]
    }
   ],
   "source": [
    "# evaluating xgboost\n",
    "from sklearn.metrics import accuracy_score\n",
    "predictions = model_xgb.predict(X_val)\n",
    "print(\"Accuracy:\", accuracy_score(y_val, predictions))"
   ],
   "metadata": {
    "collapsed": false,
    "ExecuteTime": {
     "end_time": "2024-04-16T21:57:15.438911Z",
     "start_time": "2024-04-16T21:57:15.427487Z"
    }
   },
   "id": "cdb6a5c509b7d80c",
   "execution_count": 48
  },
  {
   "cell_type": "code",
   "outputs": [],
   "source": [],
   "metadata": {
    "collapsed": false
   },
   "id": "420defda51f1204e"
  },
  {
   "cell_type": "markdown",
   "source": [
    "# Stacking"
   ],
   "metadata": {
    "collapsed": false
   },
   "id": "c74b6915399eff4d"
  },
  {
   "cell_type": "code",
   "outputs": [
    {
     "name": "stdout",
     "output_type": "stream",
     "text": [
      "Requirement already satisfied: scikit-learn in c:\\users\\domin\\anaconda3\\lib\\site-packages (1.4.2)\n",
      "Requirement already satisfied: numpy>=1.19.5 in c:\\users\\domin\\anaconda3\\lib\\site-packages (from scikit-learn) (1.24.3)\n",
      "Requirement already satisfied: scipy>=1.6.0 in c:\\users\\domin\\anaconda3\\lib\\site-packages (from scikit-learn) (1.10.1)\n",
      "Requirement already satisfied: joblib>=1.2.0 in c:\\users\\domin\\anaconda3\\lib\\site-packages (from scikit-learn) (1.2.0)\n",
      "Requirement already satisfied: threadpoolctl>=2.0.0 in c:\\users\\domin\\anaconda3\\lib\\site-packages (from scikit-learn) (2.2.0)\n"
     ]
    }
   ],
   "source": [
    "# installing scikit-learn\n",
    "!pip install scikit-learn"
   ],
   "metadata": {
    "collapsed": false,
    "ExecuteTime": {
     "end_time": "2024-04-16T21:58:41.881899Z",
     "start_time": "2024-04-16T21:58:37.743199Z"
    }
   },
   "id": "f38468d056c3d723",
   "execution_count": 49
  },
  {
   "cell_type": "code",
   "outputs": [],
   "source": [
    "#importing models for stacking and setting up\n",
    "from sklearn.ensemble import StackingClassifier\n",
    "from sklearn.linear_model import LogisticRegression\n",
    "from sklearn.svm import SVC\n",
    "from sklearn.tree import DecisionTreeClassifier\n",
    "level0 = [\n",
    "    ('lr', LogisticRegression()),\n",
    "    ('svc', SVC()),\n",
    "    ('dt', DecisionTreeClassifier())\n",
    "]\n",
    "# Meta-model, który podsumowuje przewidywania bazowych modeli\n",
    "level1 = LogisticRegression()\n",
    "\n",
    "# Defining the stacking model\n",
    "model_stacking = StackingClassifier(estimators=level0, final_estimator=level1, cv=5)"
   ],
   "metadata": {
    "collapsed": false,
    "ExecuteTime": {
     "end_time": "2024-04-16T22:00:28.865042Z",
     "start_time": "2024-04-16T22:00:28.771290Z"
    }
   },
   "id": "4800f30abca298af",
   "execution_count": 50
  },
  {
   "cell_type": "code",
   "outputs": [
    {
     "name": "stdout",
     "output_type": "stream",
     "text": [
      "Accuracy: 0.5217391304347826\n"
     ]
    }
   ],
   "source": [
    "# fitting stacking and evaluating\n",
    "model_stacking.fit(X, y)\n",
    "predictions = model.predict(X_val)\n",
    "print(\"Accuracy:\", accuracy_score(y_val, predictions))"
   ],
   "metadata": {
    "collapsed": false,
    "ExecuteTime": {
     "end_time": "2024-04-16T22:00:38.548748Z",
     "start_time": "2024-04-16T22:00:38.299878Z"
    }
   },
   "id": "3f150b7ead7f2469",
   "execution_count": 51
  },
  {
   "cell_type": "code",
   "outputs": [],
   "source": [],
   "metadata": {
    "collapsed": false
   },
   "id": "25d33fbdf7537030"
  }
 ],
 "metadata": {
  "kernelspec": {
   "display_name": "Python 3",
   "language": "python",
   "name": "python3"
  },
  "language_info": {
   "codemirror_mode": {
    "name": "ipython",
    "version": 2
   },
   "file_extension": ".py",
   "mimetype": "text/x-python",
   "name": "python",
   "nbconvert_exporter": "python",
   "pygments_lexer": "ipython2",
   "version": "2.7.6"
  }
 },
 "nbformat": 4,
 "nbformat_minor": 5
}
